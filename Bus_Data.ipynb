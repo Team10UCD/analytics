{
 "cells": [
  {
   "cell_type": "markdown",
   "id": "4315215a",
   "metadata": {},
   "source": [
    "# Data Analytics - Bus Data Understanding and Prep\n",
    "\n",
    "## Audit\n",
    "\n",
    "Author: Danning\n",
    "\n",
    "Last Modified By: Adam\n",
    "\n",
    "Module: COMP47630\n",
    "\n",
    "DC:     2021-06-20\n",
    "\n",
    "DLM:    2021-06-23\n",
    "\n",
    "Desc:   This file contains an analysis of the historic bus data\n",
    "\n",
    "Dict:   The Data Dictionary for the Data Set is available in Brightspace\n",
    "\n",
    "## Table of Contents\n",
    "\n",
    "00. Introduction\n",
    "\n",
    "01. Exec Summary and Results\n",
    "\n",
    "02. Modules\n",
    "\n",
    "03. Constants\n",
    "\n",
    "04. Ingestion\n",
    "\n",
    "05. Cleansing\n",
    "\n",
    "\n",
    "## 00. Introduction\n",
    "\n",
    "### 00.01 Background\n",
    "(here)\n",
    "\n",
    "### 00.02 Problem Scope\n",
    "(here)\n",
    "\n",
    "### 00.03 Data\n",
    "(here)\n",
    "\n",
    "### 00.04 Approach\n",
    "(here)\n",
    "\n",
    "## 01. Exec Summary\n",
    "\n",
    "(here)"
   ]
  },
  {
   "cell_type": "markdown",
   "id": "c5af5762",
   "metadata": {},
   "source": [
    "---\n",
    "# ------BEGIN---------- #"
   ]
  },
  {
   "cell_type": "markdown",
   "id": "938aa386",
   "metadata": {},
   "source": [
    "## 01. Static"
   ]
  },
  {
   "cell_type": "markdown",
   "id": "7a550327",
   "metadata": {},
   "source": [
    "### 01.01 Modules\n",
    "Import all modules here"
   ]
  },
  {
   "cell_type": "code",
   "execution_count": 1,
   "id": "90ab67fd",
   "metadata": {},
   "outputs": [
    {
     "name": "stdout",
     "output_type": "stream",
     "text": [
      "/home/team10/comp47360/bin/python3\n"
     ]
    }
   ],
   "source": [
    "import sys\n",
    "print(sys.executable)"
   ]
  },
  {
   "cell_type": "code",
   "execution_count": 2,
   "id": "1a01e5a4",
   "metadata": {},
   "outputs": [],
   "source": [
    "####--------------------------------------\n",
    "#00.Import Modules\n",
    "####--------------------------------------\n",
    "\n",
    "######---------BEGIN\n",
    "#      SUPPRESS DEPRECIATION WARNINGS: Applicable to datetime_is_numeric=True\n",
    "######--------END\n",
    "\n",
    "import warnings\n",
    "warnings.simplefilter(action='ignore', category=FutureWarning)\n",
    "\n",
    "######---------BEGIN\n",
    "#      ML\n",
    "######--------END\n",
    "\n",
    "#import nltk as nl\n",
    "import sklearn as sk\n",
    "import matplotlib as mp\n",
    "#import xgboost as xg\n",
    "#import pymc3 as pymc\n",
    "#import sympy as sym\n",
    "\n",
    "\n",
    "\n",
    "######---------BEGIN\n",
    "#      SQL/API\n",
    "######--------END\n",
    "\n",
    "\n",
    "#import requests as rq\n",
    "#import sqlalchemy as sqla\n",
    "#import pyodbc\n",
    "#import cx_oracle as cx\n",
    "\n",
    "\n",
    "######---------BEGIN\n",
    "#     GENERAL\n",
    "######--------END\n",
    "\n",
    "import pandas as pd\n",
    "import datetime as dt\n",
    "import numpy as np\n",
    "import sys\n",
    "import os\n",
    "from dask import dataframe as dask_df\n",
    "#import pyspark as spk\n",
    "#import json\n",
    "#import time\n",
    "#import socket\n",
    "#import traceback as tb\n",
    "#import platform\n",
    "#from psutil import virtual_memory\n",
    "import pickle as pck\n",
    "\n",
    "\n",
    "######---------BEGIN\n",
    "#     VISUALISATIONS\n",
    "######--------END\n",
    "\n",
    "\n",
    "import matplotlib.pyplot as plt\n",
    "from matplotlib.backends.backend_pdf import PdfPages\n",
    "import matplotlib.dates as mdates\n",
    "\n",
    "\n",
    "#For showing plots directly in the notebook run the command below\n",
    "#%matplotlib inline\n",
    "\n",
    "\n",
    "###HTML Output Hiding\n",
    "#Install hide input extension\n",
    "#!pip install jupyter_contrib_nbextensions\n",
    "#!jupyter contrib nbextension install --user\n",
    "#!jupyter nbextension enable hide_input_all/main\n",
    "#!jupyter nbextension enable hide_input/main\n",
    "#!jupyter nbextension enable codefolding/main\n",
    "\n",
    "#!jupyter nbextension disable hide_input_all/main\n",
    "#!jupyter nbextension disable hide_input/main\n",
    "#!jupyter nbextension disable codefolding/main\n",
    "\n",
    "#Update with Filename: Run in Terminal, post completion, after hiding all cells for report\n",
    "#!jupyter nbconvert --to=html bus_Data.ipynb\n"
   ]
  },
  {
   "cell_type": "markdown",
   "id": "c83f2d97",
   "metadata": {},
   "source": [
    "### 01.02 Constants\n",
    "Import all Constants here"
   ]
  },
  {
   "cell_type": "code",
   "execution_count": 3,
   "id": "31f50cdd",
   "metadata": {},
   "outputs": [],
   "source": [
    "data_year='2018'\n",
    "bus_leavetimes_filepath=\"./data/rt_leavetimes_DB_{}.txt\".format(data_year)\n",
    "bus_trips_filepath=\"./data/rt_trips_DB_{}.txt\".format(data_year)\n",
    "\n",
    "bus_leavetimes_sep=\";\"\n",
    "bus_trips_sep=\";\"\n",
    "\n",
    "bus_leavetimes_data_dictionary={\n",
    "        'DATASOURCE':['Description','category']\n",
    "        ,'DAYOFSERVICE':['Description','datetime']\n",
    "        ,'TRIPID':['Description','category']\n",
    "        ,'PROGRNUMBER':['Description','category']\n",
    "        ,'STOPPOINTID':['Description','category']\n",
    "        ,'PLANNEDTIME_ARR':['Description','int64']\n",
    "        ,'PLANNEDTIME_DEP':['Description','int64']\n",
    "        ,'ACTUALTIME_ARR':['Description','int64']\n",
    "        ,'ACTUALTIME_DEP':['Description','int64']\n",
    "        ,'VEHICLEID':['Description','category']\n",
    "        ,'PASSENGERS':['Description','float64']\n",
    "        ,'PASSENGERSIN':['Description','float64']\n",
    "        ,'PASSENGERSOUT':['Description','float64']\n",
    "        ,'DISTANCE': ['Description','float64']\n",
    "        ,'SUPPRESSED':['Description','category']\n",
    "        ,'JUSTIFICATIONID':['Description','category']\n",
    "        ,'LASTUPDATE':['Description','datetime']\n",
    "        ,'NOTE': ['Description','string']\n",
    "                        }\n",
    "\n",
    "\n",
    "lt_datetime_columns=[column_headers for column_headers, column_desc_array in bus_leavetimes_data_dictionary.items() if column_desc_array[1] == 'datetime']\n",
    "lt_categorical_columns=[column_headers for column_headers, column_desc_array in bus_leavetimes_data_dictionary.items() if column_desc_array[1] == 'category']\n",
    "lt_num_columns=[column_headers for column_headers, column_desc_array in bus_leavetimes_data_dictionary.items() if column_desc_array[1] in ('numeric','int64','float64')]\n",
    "\n",
    "\n",
    "\n",
    "bus_leavetimes_metadata_dictionary={}\n",
    "\n",
    "for column_headers, column_desc_array in bus_leavetimes_data_dictionary.items():\n",
    "    bus_leavetimes_metadata_dictionary[column_headers]=column_desc_array[1]\n",
    "    \n",
    "    \n",
    "bus_trips_data_dictionary={\n",
    "        'DATASOURCE':['Description','category']\n",
    "        ,'DAYOFSERVICE':['Description','datetime']\n",
    "        ,'TRIPID':['Description','category']\n",
    "        ,'LINEID':['Description','category']\n",
    "        ,'ROUTEID':['Description','category']\n",
    "    \n",
    "        ,'DIRECTION':['Description','category']\n",
    "        \n",
    "        ,'PLANNEDTIME_ARR':['Description','int64']\n",
    "        ,'PLANNEDTIME_DEP':['Description','int64']\n",
    "        ,'ACTUALTIME_ARR':['Description','int64']\n",
    "        ,'ACTUALTIME_DEP':['Description','int64']\n",
    "    \n",
    "        ,'BASIN':['Description','category']\n",
    "        ,'TENDERLOT':['Description','float64']\n",
    "    \n",
    "        ,'SUPPRESSED':['Description','category']\n",
    "        ,'JUSTIFICATIONID':['Description','category']\n",
    "        ,'LASTUPDATE':['Description','datetime']\n",
    "        ,'NOTE': ['Description','string']\n",
    "                        }\n",
    "\n",
    "bus_trips_metadata_dictionary={}\n",
    "\n",
    "for column_headers, column_desc_array in bus_trips_data_dictionary.items():\n",
    "    bus_trips_metadata_dictionary[column_headers]=column_desc_array[1]\n",
    "\n",
    "    \n",
    "tp_datetime_columns=[column_headers for column_headers, column_desc_array in bus_trips_data_dictionary.items() if column_desc_array[1] == 'datetime']\n",
    "tp_categorical_columns=[column_headers for column_headers, column_desc_array in bus_trips_data_dictionary.items() if column_desc_array[1] == 'category']\n",
    "tp_num_columns=[column_headers for column_headers, column_desc_array in bus_trips_data_dictionary.items() if column_desc_array[1] in ('numeric','int64','float64')]\n",
    "\n",
    "\n",
    "\n",
    "\n",
    "    \n",
    "\n",
    "#Dates for File Additions if needed\n",
    "today_date=dt.datetime.now()\n",
    "\n",
    "#DateTime objects\n",
    "today_year=today_date.year\n",
    "today_month=today_date.month\n",
    "today_day=today_date.day\n",
    "\n",
    "#Convert to ISO Standard for Filename\n",
    "str_year=str(today_date.year)\n",
    "\n",
    "#Month should have two digits\n",
    "str_month=str(today_date.month)\n",
    "if len(str_month)==1:\n",
    "    str_month=\"0{}\".format(str_month)\n",
    "\n",
    "#Day should have two digits\n",
    "str_day=str(today_date.day)\n",
    "if len(str_day)==1:\n",
    "    str_day=\"0{}\".format(str_day)\n",
    "\n",
    "\n",
    "str_today_date=\"{}-{}-{}\".format(str_year,str_month,str_day)\n",
    "\n",
    "datetime_format='%d-%b-%Y %H:%M:%S'"
   ]
  },
  {
   "cell_type": "markdown",
   "id": "a3066bd4",
   "metadata": {},
   "source": [
    "## 02. Exploration"
   ]
  },
  {
   "cell_type": "code",
   "execution_count": 1,
   "id": "18d54223",
   "metadata": {},
   "outputs": [],
   "source": [
    "def ingest_data(fp,delim,data_dictionary,chunks=10000000,pandas=False):\n",
    "    \"\"\"A function to read in CSV Data and Validate.\n",
    "    \n",
    "    Memory error after 50M rows\"\"\"\n",
    "\n",
    "    print(\"Inside ingest_data({},dictionary)\".format(fp))\n",
    "    \n",
    "    def print_shape(raw_df):\n",
    "        \"\"\"A function to print the shape of a dataframe\"\"\"\n",
    "        #row_column data\n",
    "        shape_of_df=raw_df.shape\n",
    "        row_count=shape_of_df[0]\n",
    "        column_count=shape_of_df[1]\n",
    "\n",
    "        #print info to user\n",
    "        row_column_print_statement='Your file contains: \\n{} rows x {} columns.\\n\\n'\n",
    "        row_column_print_statement=row_column_print_statement.format(row_count,column_count)\n",
    "        print(row_column_print_statement)\n",
    "        header_statement='The following columns are present:\\n'\n",
    "\n",
    "        #print the headers\n",
    "        for header in raw_df.columns:\n",
    "            header_statement+='\"{}\"\\n'.format(header)\n",
    "\n",
    "        print(header_statement)\n",
    "        return\n",
    "        \n",
    "    def verify_schema(raw_df,data_dictionary):\n",
    "        \"\"\"A function to validate the schema of a dataframe\"\"\"\n",
    "        \n",
    "        match=False\n",
    "        #check if the schema is correct\n",
    "        if set(raw_df.columns)==set(data_dictionary.keys()) and len(raw_df.columns)==len(data_dictionary.keys()):\n",
    "            print('The columns in this data sample match the schema')\n",
    "            match=True\n",
    "\n",
    "        else:\n",
    "            print('The columns in this data sample do not match the schema')\n",
    "            \n",
    "        return match\n",
    "\n",
    "        \n",
    "\n",
    "    if pandas==True:\n",
    "        #Valid Filepath\n",
    "        if os.path.isfile(fp):\n",
    "\n",
    "            raw_df = pd.DataFrame()\n",
    "            chunk_count=0\n",
    "            \n",
    "            for chunk in pd.read_csv(fp,sep=delim,dtype=str,chunksize=chunks):\n",
    "                chunk_count+=1\n",
    "                print('On Chunk: {}'.format(chunk_count))\n",
    "                raw_df = pd.concat([raw_df,chunk])\n",
    "                \n",
    "            display(raw_df)\n",
    "\n",
    "            print_shape(raw_df)\n",
    "\n",
    "            verify_schema(raw_df,data_dictionary)\n",
    "\n",
    "            print(\"\\n\\n\\nSample Data:\\n\\n\\n\")\n",
    "            display(raw_df.head())\n",
    "            \n",
    "            return raw_df\n",
    "\n",
    "        #Not Valid Filepath\n",
    "        else:\n",
    "            print(\"Invalid filepath - Correct the filepath and re-ingest\")\n",
    "\n",
    "            return\n",
    "        \n",
    "    elif pandas==False:\n",
    "        \n",
    "        #Valid Filepath\n",
    "        if os.path.isfile(fp):\n",
    "\n",
    "            #read_csv - Do Not Let Pandas Manipulate the Data First - Auto-assign is more memory intensive.\n",
    "            raw_df=dask_df.read_csv(fp, sep=delim)\n",
    "            display(raw_df)\n",
    "\n",
    "            print_shape(raw_df)\n",
    "\n",
    "\n",
    "            verify_schema(raw_df,data_dictionary)\n",
    "            \n",
    "            print(\"\\n\\n\\nSample Data:\\n\\n\\n\")\n",
    "            display(raw_df.head())\n",
    "\n",
    "            return raw_df\n",
    "\n",
    "        #Not Valid Filepath\n",
    "        else:\n",
    "            print(\"Invalid filepath - Correct the filepath and re-ingest\")\n",
    "\n",
    "            return\n",
    "        \n",
    "    else:\n",
    "        print('No opinion on using Dask or Pandas - Defaulting to Dask')\n",
    "        \n",
    "        #Valid Filepath\n",
    "        if os.path.isfile(fp):\n",
    "\n",
    "            #read_csv - Do Not Let Pandas Manipulate the Data First - Auto-assign is more memory intensive.\n",
    "            raw_df=dask_df.read_csv(fp, sep=delim)\n",
    "            display(raw_df)\n",
    "\n",
    "            print_shape(raw_df)\n",
    "\n",
    "\n",
    "            verify_schema(raw_df,data_dictionary)\n",
    "\n",
    "            print(\"\\n\\n\\nSample Data:\\n\\n\\n\")\n",
    "            display(raw_df.head())\n",
    "            \n",
    "            return raw_df\n",
    "        \n",
    "        #Not Valid Filepath\n",
    "        else:\n",
    "            print(\"Invalid filepath - Correct the filepath and re-ingest\")\n",
    "\n",
    "            return"
   ]
  },
  {
   "cell_type": "code",
   "execution_count": 5,
   "id": "d63f47b6",
   "metadata": {},
   "outputs": [],
   "source": [
    "def data_convert(df,types,columnlist,dt_format):\n",
    "    \"\"\"A function to convert all columns in a list into the appropriate type\"\"\"\n",
    "    \n",
    "    print(\"Inside data_convert()\")\n",
    "    \n",
    "    ###Check if empty\n",
    "    if len(df.index) != 0:\n",
    "        \n",
    "        ##Check if datetime or other\n",
    "        if types=='datetime':\n",
    "       \n",
    "            ###Check if 0\n",
    "            if len(columnlist)>0:\n",
    "                print('Converting to {}'.format(types))\n",
    "                \n",
    "                for column in columnlist:\n",
    "                    df[column]=df[column].apply(pd.to_datetime,format=dt_format,errors='ignore')\n",
    "                \n",
    "            else:\n",
    "                print('No need to convert to: {}'.format(types))\n",
    "              \n",
    "        ###Numeric type\n",
    "        elif types=='category':\n",
    "            ###Check if 0\n",
    "            if len(categorical_columns)>0:\n",
    "                print('Converting to {}'.format(types))\n",
    "                \n",
    "                for column in columnlist:\n",
    "                    df[column]=df[column].astype('category')\n",
    "                \n",
    "            ###Nothing to convert\n",
    "            else:\n",
    "                print('No need to convert')\n",
    "                \n",
    "        ###Numeric type\n",
    "        elif types=='numeric':\n",
    "            \n",
    "            ###Check if 0\n",
    "            if len(num_columns)>0:\n",
    "                print('Converting to Numerical')\n",
    "                \n",
    "                for column in columnlist:\n",
    "                    df[column]=df[column].apply(pd.to_numeric, errors='ignore')\n",
    "                \n",
    "            else:\n",
    "                print('No need to convert')\n",
    "                \n",
    "        ###Other type - e.g. Boolean, string - Dont do anything - force the above types.\n",
    "        else:\n",
    "            print('Unknown type')\n",
    "                \n",
    "    ###Empty data set          \n",
    "    else:\n",
    "        print(\"Empty dataframe\")"
   ]
  },
  {
   "cell_type": "code",
   "execution_count": 6,
   "id": "af2005ac",
   "metadata": {},
   "outputs": [],
   "source": [
    "\n",
    "def missing_check(row):\n",
    "    \"\"\"Highlight rows with potential missing_values\"\"\"\n",
    "\n",
    "    #Configuration Values\n",
    "    col_to_check=10\n",
    "    default_colour = 'white'\n",
    "    flag_colour=''\n",
    "    high_flag_colour_val='red'\n",
    "    med_flag_colour_val='orange'\n",
    "    low_flag_colour_val='yellow'\n",
    "    val_to_check=0\n",
    "\n",
    "    #Row length valid\n",
    "    if len(row)>=col_to_check:\n",
    "\n",
    "        #\n",
    "        if row.values[col_to_check] == 'High':\n",
    "            flag_colour = high_flag_colour_val\n",
    "            \n",
    "        elif row.values[col_to_check] == 'Medium':\n",
    "            flag_colour = med_flag_colour_val\n",
    "            \n",
    "        elif row.values[col_to_check] == 'Low':\n",
    "            flag_colour = low_flag_colour_val\n",
    "\n",
    "        if flag_colour=='':\n",
    "            colour=default_colour\n",
    "        else:\n",
    "            colour=flag_colour\n",
    "\n",
    "        return ['background-color: {}'.format(colour)]*len(row.values)\n",
    "\n",
    "    else:\n",
    "        print('Row too short - Reconfigure Column Number')\n",
    "        return ['background-color: {}'.format(default_colour)]*len(row.values)\n",
    "    \n",
    "def dt_missing_check(row):\n",
    "    \"\"\"Highlight rows with potential missing_values\"\"\"\n",
    "\n",
    "    #Configuration Values\n",
    "    col_to_check=9\n",
    "    default_colour = 'white'\n",
    "    flag_colour=''\n",
    "    high_flag_colour_val='red'\n",
    "    med_flag_colour_val='orange'\n",
    "    low_flag_colour_val='yellow'\n",
    "    val_to_check=0\n",
    "\n",
    "    #Row length valid\n",
    "    if len(row)>=col_to_check:\n",
    "\n",
    "        #\n",
    "        if row.values[col_to_check] == 'High':\n",
    "            flag_colour = high_flag_colour_val\n",
    "            \n",
    "        elif row.values[col_to_check] == 'Medium':\n",
    "            flag_colour = med_flag_colour_val\n",
    "            \n",
    "        elif row.values[col_to_check] == 'Low':\n",
    "            flag_colour = low_flag_colour_val\n",
    "\n",
    "        if flag_colour=='':\n",
    "            colour=default_colour\n",
    "        else:\n",
    "            colour=flag_colour\n",
    "\n",
    "        return ['background-color: {}'.format(colour)]*len(row.values)\n",
    "\n",
    "    else:\n",
    "        print('Row too short - Reconfigure Column Number')\n",
    "        return ['background-color: {}'.format(default_colour)]*len(row.values)\n",
    "    \n",
    "def group_over_single_categories(df,categorical_columns,pdf_fn, save_fig=True):\n",
    "    \"\"\"A function to group over the categories\"\"\"\n",
    "    \n",
    "    print(\"Inside group_over_single_categories()\")\n",
    "    row_count=len(df)\n",
    "\n",
    "    grouping_type={}\n",
    "    timestamp_now=dt.datetime.timestamp(dt.datetime.now())\n",
    "    \n",
    "    #Dataframe is not empty, and there are categorical columns to group over:\n",
    "    if df.empty==False and len(categorical_columns)>0:\n",
    "        with PdfPages(pdf_fn) as pp: #lab\n",
    "            column=''\n",
    "\n",
    "            #Let's go through the category column type\n",
    "            for column in categorical_columns:\n",
    "\n",
    "                #Separator\n",
    "                print('\\n\\n----------------------\\n\\n')\n",
    "                agg_df=df.groupby([column]).agg({df.columns[0]:\"count\"})\n",
    "                print(agg_df)\n",
    "                agg_df=agg_df.reset_index()\n",
    "                agg_df=agg_df.rename(columns={df.columns[0]:'Rows'})\n",
    "\n",
    "                #Note: Could also do value_counts but I prefer that for graphing.\n",
    "                agg_df['% Frequency']=100*(agg_df['Rows']/row_count)\n",
    "\n",
    "                #Be explicit over what we're displaying\n",
    "                print('Grouping over {} results in:\\n'.format(column))\n",
    "\n",
    "                #Display the result\n",
    "                display(agg_df)\n",
    "                #Graphing Section:\n",
    "\n",
    "                figure = (\n",
    "                            df[column]\n",
    "                              .value_counts(dropna=True, normalize=True)\n",
    "                              .plot(kind='bar'\n",
    "                                    ,title='Count of values for {}'.format(column)\n",
    "                                    , xlabel='Field Values'\n",
    "                                    , ylabel='Count of Values'\n",
    "                                    , figsize=(35,35)\n",
    "                                   )\n",
    "                 )\n",
    "                #This grid style is from the sample Lab5 as I like how it looks\n",
    "                plt.ylim([0,1])\n",
    "                plt.grid(b=True, which='major', color='#666666', linestyle='-')\n",
    "                plt.setp(figure.get_xticklabels(), ha=\"right\", rotation=0)\n",
    "                plt.minorticks_on()\n",
    "                plt.grid(b=True, which='minor', color='#999999', linestyle='-', alpha=0.2)\n",
    "                plt.legend(loc='upper left', bbox_to_anchor=(1,1), ncol=1)\n",
    "                plt.show()\n",
    "                grouping_type[column]=agg_df\n",
    "\n",
    "                if save_fig:\n",
    "                    pp.savefig(figure.get_figure())\n",
    "\n",
    "\n",
    "                \n",
    "\n",
    "\n",
    "\n",
    "\n",
    "\n",
    "    \n",
    "    return grouping_type\n",
    "\n",
    "def group_over_multi_categories(df,categorical_columns,pdf_fn,save_output=False,save_fig=False):\n",
    "    \"\"\"A function to group over all pairs of categories\n",
    "    \n",
    "    Warning: This can be memory intensive as we have (columnCount)C(2) pairings, so only run this if your device is able!\"\"\"\n",
    "    \n",
    "    print(\"Inside group_over_multi_categories()\")\n",
    "    row_count=len(df)\n",
    "    grouping_type={}\n",
    "    timestamp_now=dt.datetime.timestamp(dt.datetime.now())\n",
    "    \n",
    "    #Try run this\n",
    "    try:\n",
    "    \n",
    "        #Dataframe is not empty, and there are categorical columns to group over:\n",
    "        if df.empty==False and len(categorical_columns)>0:\n",
    "            with PdfPages(pdf_fn) as pp:\n",
    "                column=''\n",
    "                second_column=''\n",
    "                \n",
    "                #Let's go through the category column type\n",
    "                for column in categorical_columns:\n",
    "\n",
    "                    #Second index, n^2\n",
    "                    for second_column in categorical_columns:\n",
    "                        multi_column=[column]\n",
    "\n",
    "\n",
    "                        #Create a key to access - pipe delimited as columns contain _\n",
    "                        grouping_key=\"{}|{}\"\n",
    "\n",
    "                        #No point in grouping the same column twice\n",
    "                        if second_column!=column:\n",
    "                            multi_column+=[second_column]\n",
    "                            grouping_key=grouping_key.format(column,second_column)\n",
    "\n",
    "                            #Separator\n",
    "                            print('\\n\\n----------------------\\n\\n')\n",
    "                            agg_df=df.groupby(multi_column).agg({df.columns[0]:\"count\"})\n",
    "                            agg_df=agg_df.reset_index()\n",
    "                            agg_df=agg_df.rename(columns={df.columns[0]:'Rows'})\n",
    "                            agg_df['% Frequency']=100*(agg_df['Rows']/row_count)\n",
    "\n",
    "                            #Be explicit over what we're displaying\n",
    "                            print('Grouping over {} results in:\\n'.format(grouping_key))\n",
    "\n",
    "                            #Display the result\n",
    "                            display(agg_df)\n",
    "                            \n",
    "                            #Graph\n",
    "                            figure = (\n",
    "                                        (df[multi_column]\n",
    "                                              .dropna()\n",
    "                                              .value_counts(normalize=True)\n",
    "                                              .reset_index()\n",
    "                                              .pivot_table(index=column,columns=second_column)\n",
    "                                              .fillna(0))[0]\n",
    "                                                      .plot(kind='bar'\n",
    "                                                        , stacked=True\n",
    "                                                        , title='Count of values for {} vs {}'.format(second_column,column)\n",
    "                                                        , xlabel='Field Values'\n",
    "                                                        , ylabel='Count of Values'\n",
    "                                                        , figsize=(35,35)\n",
    "\n",
    "                                                            \n",
    "                                                           )\n",
    "                                     )\n",
    "                \n",
    "                            #This grid style is from the sample Lab5 as I like how it looks\n",
    "                            plt.ylim([0,1])\n",
    "                            plt.grid(b=True, which='major', color='#666666', linestyle='-')\n",
    "                            plt.setp(figure.get_xticklabels(), ha=\"right\", rotation=0)\n",
    "                            plt.minorticks_on()\n",
    "                            plt.grid(b=True, which='minor', color='#999999', linestyle='-', alpha=0.2)\n",
    "                            plt.legend(loc='upper left', bbox_to_anchor=(1,1), ncol=1)\n",
    "                            plt.show()\n",
    "\n",
    "                            \n",
    "\n",
    "                            if save_fig:\n",
    "                                pp.savefig(figure.get_figure())\n",
    "\n",
    "                            #Only save if explicitly passed - This could kill your memory.\n",
    "                            if save_output:\n",
    "                                grouping_type[grouping_key]=agg_df\n",
    "\n",
    "                        \n",
    "    #Catch exceptions\n",
    "    except Exception as exc:\n",
    "        print(\"Function exception:\\n\")\n",
    "        #check exception is memory error\n",
    "        if exc==MemoryError:\n",
    "            print(\"Sorry, your device is not able to run this function as you have hit a memory limit\")\n",
    "            \n",
    "        print(exc)\n",
    "        \n",
    "\n",
    "    return grouping_type\n",
    "\n",
    "\n",
    "def cat_missing_check_cleanse(row):\n",
    "    \"\"\"Highlight rows with potential missing_values\"\"\"\n",
    "\n",
    "    #Configuration Values\n",
    "    col_to_check=8\n",
    "    default_colour = 'green'\n",
    "    flag_colour=''\n",
    "    high_flag_colour_val='red'\n",
    "    med_flag_colour_val='orange'\n",
    "    low_flag_colour_val='yellow'\n",
    "    val_to_check=0\n",
    "\n",
    "    #Row length valid\n",
    "    if len(row)>=col_to_check:\n",
    "\n",
    "        #\n",
    "        if row.values[col_to_check] == 'High':\n",
    "            flag_colour = high_flag_colour_val\n",
    "            \n",
    "        elif row.values[col_to_check] == 'Medium':\n",
    "            flag_colour = med_flag_colour_val\n",
    "            \n",
    "        elif row.values[col_to_check] == 'Low':\n",
    "            flag_colour = low_flag_colour_val\n",
    "\n",
    "        if flag_colour=='':\n",
    "            colour=default_colour\n",
    "        else:\n",
    "            colour=flag_colour\n",
    "\n",
    "        return ['background-color: {}'.format(colour)]*len(row.values)\n",
    "\n",
    "    else:\n",
    "        print('Row too short - Reconfigure Column Number')\n",
    "        return ['background-color: {}'.format(default_colour)]*len(row.values)\n",
    "    \n",
    "def stacked_group_over_multi_categories(df,categorical_columns,pdf_fn,save_output=False,save_fig=False):\n",
    "    \"\"\"A function to group over all pairs of categories\n",
    "    \n",
    "    Warning: This can be memory intensive as we have (columnCount)C(2) pairings, so only run this if your device is able!\"\"\"\n",
    "    \n",
    "    print(\"Inside group_over_multi_categories()\")\n",
    "    row_count=len(df)\n",
    "    grouping_type={}\n",
    "    timestamp_now=dt.datetime.timestamp(dt.datetime.now())\n",
    "    \n",
    "    #Try run this\n",
    "    try:\n",
    "    \n",
    "        #Dataframe is not empty, and there are categorical columns to group over:\n",
    "        if df.empty==False and len(categorical_columns)>0:\n",
    "            with PdfPages(pdf_fn) as pp:\n",
    "                column=''\n",
    "                second_column=''\n",
    "                \n",
    "                #Let's go through the category column type\n",
    "                for column in categorical_columns:\n",
    "\n",
    "                    #Second index, n^2\n",
    "                    for second_column in categorical_columns:\n",
    "                        multi_column=[column]\n",
    "\n",
    "\n",
    "                        #Create a key to access - pipe delimited as columns contain _\n",
    "                        grouping_key=\"{}|{}\"\n",
    "\n",
    "                        #No point in grouping the same column twice\n",
    "                        if second_column!=column:\n",
    "                            multi_column+=[second_column]\n",
    "                            grouping_key=grouping_key.format(column,second_column)\n",
    "\n",
    "                            #Separator\n",
    "                            print('\\n\\n----------------------\\n\\n')\n",
    "                            agg_df=df.groupby(multi_column).agg({df.columns[0]:\"count\"})\n",
    "                            agg_df=agg_df.reset_index()\n",
    "                            agg_df=agg_df.rename(columns={df.columns[0]:'Rows'})\n",
    "                            agg_df['% Frequency']=100*(agg_df['Rows']/row_count)\n",
    "\n",
    "                            #Be explicit over what we're displaying\n",
    "                            print('Grouping over {} results in:\\n'.format(grouping_key))\n",
    "\n",
    "                            #Display the result\n",
    "                            display(agg_df)\n",
    "                            agg_df=agg_df.reset_index()\n",
    "\n",
    "                            sagg_df=(\n",
    "                                    df\n",
    "                                    .groupby([column])\n",
    "                                    .agg({df.columns[0]:\"count\"})\n",
    "                                    .reset_index()\n",
    "                                    .rename(columns={df.columns[0]:'TotalRows'})\n",
    "                                    )\n",
    "\n",
    "                            join_df=agg_df.merge(sagg_df,left_on=column,right_on=column,suffixes=('_subbed','_group'))\n",
    "                            join_df['% Stacked']=join_df['Rows']/join_df['TotalRows']\n",
    "\n",
    "                            figure=((join_df\n",
    "                                  .pivot_table(index=column,columns=second_column,values='% Stacked')\n",
    "                                  .fillna(0))\n",
    "\n",
    "                                          .plot(kind='bar'\n",
    "                                            , stacked=True\n",
    "                                            , title='Distribution of values for {} vs {}'.format(second_column,column)\n",
    "                                            , xlabel='Field Values'\n",
    "                                            , ylabel='Makeup of Values'\n",
    "                                            , figsize=(35,35)\n",
    "\n",
    "                            ))\n",
    "\n",
    "                            #This grid style is from the sample Lab5 as I like how it looks\n",
    "                            plt.ylim([0,1])\n",
    "                            plt.grid(b=True, which='major', color='#666666', linestyle='-')\n",
    "                            plt.setp(figure.get_xticklabels(), ha=\"right\", rotation=0)\n",
    "                            plt.minorticks_on()\n",
    "                            plt.grid(b=True, which='minor', color='#999999', linestyle='-', alpha=0.2)\n",
    "                            plt.legend(loc='upper left', bbox_to_anchor=(1,1), ncol=1)\n",
    "                            plt.show()\n",
    "\n",
    "                            \n",
    "\n",
    "                            if save_fig:\n",
    "                                pp.savefig(figure.get_figure())\n",
    "\n",
    "                            #Only save if explicitly passed - This could kill your memory.\n",
    "                            if save_output:\n",
    "                                grouping_type[grouping_key]=agg_df\n",
    "\n",
    "                        \n",
    "    #Catch exceptions\n",
    "    except Exception as exc:\n",
    "        print(\"Function exception:\\n\")\n",
    "        #check exception is memory error\n",
    "        if exc==MemoryError:\n",
    "            print(\"Sorry, your device is not able to run this function as you have hit a memory limit\")\n",
    "            \n",
    "        print(exc)\n",
    "        \n",
    "\n",
    "    return grouping_type\n",
    "\n",
    "\n",
    "def stacked_group_over_target_categories(df,categorical_columns,pdf_fn,save_output=False,save_fig=False):\n",
    "    \"\"\"A function to group over all pairs of categories and the target death_yn\n",
    "    \n",
    "    Warning: This can be memory intensive as we have so only run this if your device is able!\"\"\"\n",
    "    \n",
    "    print(\"Inside group_over_multi_categories()\")\n",
    "    row_count=len(df)\n",
    "    grouping_type={}\n",
    "    timestamp_now=dt.datetime.timestamp(dt.datetime.now())\n",
    "    \n",
    "    #Try run this\n",
    "    try:\n",
    "    \n",
    "        #Dataframe is not empty, and there are categorical columns to group over:\n",
    "        if df.empty==False and len(categorical_columns)>0:\n",
    "            with PdfPages(pdf_fn) as pp:\n",
    "                column=''\n",
    "                second_column=''\n",
    "                \n",
    "                #Let's go through the category column type\n",
    "                for column in categorical_columns:\n",
    "\n",
    "                    #Second index, n^2\n",
    "                    for second_column in ['death_yn']:\n",
    "                        multi_column=[column]\n",
    "\n",
    "\n",
    "                        #Create a key to access - pipe delimited as columns contain _\n",
    "                        grouping_key=\"{}|{}\"\n",
    "\n",
    "                        #No point in grouping the same column twice\n",
    "                        if second_column!=column:\n",
    "                            multi_column+=[second_column]\n",
    "                            grouping_key=grouping_key.format(column,second_column)\n",
    "\n",
    "                            #Separator\n",
    "                            print('\\n\\n----------------------\\n\\n')\n",
    "                            agg_df=df.groupby(multi_column).agg({df.columns[0]:\"count\"})\n",
    "                            agg_df=agg_df.reset_index()\n",
    "                            agg_df=agg_df.rename(columns={df.columns[0]:'Rows'})\n",
    "                            agg_df['% Frequency']=100*(agg_df['Rows']/row_count)\n",
    "\n",
    "                            #Be explicit over what we're displaying\n",
    "                            print('Grouping over {} results in:\\n'.format(grouping_key))\n",
    "\n",
    "                            #Display the result\n",
    "                            display(agg_df)\n",
    "                            agg_df=agg_df.reset_index()\n",
    "\n",
    "                            sagg_df=(\n",
    "                                    df\n",
    "                                    .groupby([column])\n",
    "                                    .agg({df.columns[0]:\"count\"})\n",
    "                                    .reset_index()\n",
    "                                    .rename(columns={df.columns[0]:'TotalRows'})\n",
    "                                    )\n",
    "\n",
    "                            join_df=agg_df.merge(sagg_df,left_on=column,right_on=column,suffixes=('_subbed','_group'))\n",
    "                            join_df['% Stacked']=join_df['Rows']/join_df['TotalRows']\n",
    "\n",
    "                            figure=((join_df\n",
    "                                  .pivot_table(index=column,columns=second_column,values='% Stacked')\n",
    "                                  .fillna(0))\n",
    "\n",
    "                                          .plot(kind='bar'\n",
    "                                            , stacked=True\n",
    "                                            , title='Distribution of values for {} vs {}'.format(second_column,column)\n",
    "                                            , xlabel='Field Values'\n",
    "                                            , ylabel='Makeup of Values'\n",
    "                                            , figsize=(35,35)\n",
    "\n",
    "                            ))\n",
    "\n",
    "                            #This grid style is from the sample Lab5 as I like how it looks\n",
    "                            plt.ylim([0,1])\n",
    "                            plt.grid(b=True, which='major', color='#666666', linestyle='-')\n",
    "                            plt.setp(figure.get_xticklabels(), ha=\"right\", rotation=0)\n",
    "                            plt.minorticks_on()\n",
    "                            plt.grid(b=True, which='minor', color='#999999', linestyle='-', alpha=0.2)\n",
    "                            plt.legend(loc='upper left', bbox_to_anchor=(1,1), ncol=1)\n",
    "                            plt.show()\n",
    "\n",
    "                            \n",
    "\n",
    "                            if save_fig:\n",
    "                                pp.savefig(figure.get_figure())\n",
    "\n",
    "                            #Only save if explicitly passed - This could kill your memory.\n",
    "                            if save_output:\n",
    "                                grouping_type[grouping_key]=agg_df\n",
    "\n",
    "                        \n",
    "    #Catch exceptions\n",
    "    except Exception as exc:\n",
    "        print(\"Function exception:\\n\")\n",
    "        #check exception is memory error\n",
    "        if exc==MemoryError:\n",
    "            print(\"Sorry, your device is not able to run this function as you have hit a memory limit\")\n",
    "            \n",
    "        print(exc)\n",
    "        \n",
    "\n",
    "    return grouping_type"
   ]
  },
  {
   "cell_type": "code",
   "execution_count": 25,
   "id": "8d41c3c8",
   "metadata": {},
   "outputs": [],
   "source": [
    "def group_by_column(df,groupby_columns,agg_dict):\n",
    "    \"\"\"A function to group by columns given and aggregate according to a dictionary.\n",
    "    \n",
    "    Input: df, columns to group by, agg_dictionary\n",
    "    \"\"\"\n",
    "    \n",
    "    print(\"inside group_by_column(df,{},{})\".format(groupby_columns,agg_dict))\n",
    "    \n",
    "    #Possible Errors\n",
    "    error_dictionary={0:'No Error'\n",
    "                     ,1:'The dataframe is empty'\n",
    "                     ,2:\"The columns to group by is empty or not a list\"\n",
    "                     ,3: 'The dictionary is empty'\n",
    "                     ,4: 'The dataframe does not contain the required columns'\n",
    "                      ,999: 'Uncaught exception'\n",
    "                     }\n",
    "    \n",
    "    #Set as empty\n",
    "    summary_df=pd.DataFrame()\n",
    "    required_columns=[]\n",
    "    \n",
    "    error_code=0\n",
    "    \n",
    "    try:\n",
    "\n",
    "        #Dictionary is non-empty\n",
    "        if len(agg_dict)>0 and type(agg_dict)==dict:\n",
    "\n",
    "            #df not empty\n",
    "            if len(df)>0:\n",
    "\n",
    "                #List and non-empty\n",
    "                if type(groupby_columns)==list and len(groupby_columns)>0:\n",
    "                    required_columns=list(df.columns)+list(agg_dict.keys())\n",
    "\n",
    "                    #Required columns found\n",
    "                    if set(required_columns).issubset(set(df.columns)):\n",
    "\n",
    "                        #begin groupby - note: not catching summary issues as they are plentiful\n",
    "                        summary_df=(df\n",
    "                                        .groupby(groupby_columns)\n",
    "                                        .agg(agg_dict)\n",
    "                                        .reset_index()\n",
    "                                    )\n",
    "\n",
    "\n",
    "                    #Required columns not found    \n",
    "                    else:\n",
    "                        error_code=4\n",
    "                        error_message=error_dictionary[error_code]\n",
    "                        print(error_message)\n",
    "\n",
    "                #Not a list or empty\n",
    "                else:\n",
    "                    error_code=2\n",
    "                    error_message=error_dictionary[error_code]\n",
    "                    print(error_message)\n",
    "\n",
    "            #df is not empty\n",
    "            else:\n",
    "                error_code=1\n",
    "                error_message=error_dictionary[error_code]\n",
    "                print(error_message)\n",
    "\n",
    "        #empty Dictionary\n",
    "        else:\n",
    "            error_code=3\n",
    "            error_message=error_dictionary[error_code]\n",
    "            print(error_message)\n",
    "            \n",
    "    except Exception as e:\n",
    "        error_code=999\n",
    "        print(\"Uncaught exception: {}\".format(e))\n",
    "        \n",
    "    return [error_code,summary_df]"
   ]
  },
  {
   "cell_type": "markdown",
   "id": "33ef1dd1",
   "metadata": {},
   "source": [
    "### 02.02 Begin Looking at the Trips dataset\n",
    "\n",
    "Using Pandas to ingest the dataset and display some summary statistics\n",
    "\n",
    "The features of the trips dataset are:"
   ]
  },
  {
   "cell_type": "markdown",
   "id": "58c335b4",
   "metadata": {},
   "source": [
    "From a brief look it looks as if the the columns Ternderlot, Suppressed, justification might be all empty. Empty columns can be removed from the dataset.\n",
    "\n",
    "The datasource feature could be a constant column so will not include any valuable information for our task, so i suggest it be removed.\n",
    "\n",
    "There are some missing values in the feature actual departure time, which will raise some issues in the future, this feature might be important depending on what we choose to do, so we may want to find a way to repair the feature.\n",
    "\n",
    "The feature \"basin\" could be a constant feature as well, using a similar argument to datasource , we can remove the column.\n",
    "\n",
    "This would mean that form the \"trips\" dataset,\n",
    "\n",
    "[DayOfService\n",
    "\n",
    "TripID\n",
    "\n",
    "LineID\n",
    "\n",
    "ROuteID\n",
    "\n",
    "Direction\n",
    "\n",
    "PLannedTime_arr\n",
    "\n",
    "PlannedTime_DEP\n",
    "\n",
    "ActualTime_arr\n",
    "\n",
    "actualtime_dep\n",
    "\n",
    "last_update\n",
    "\n",
    "note]\n",
    "\n",
    " would be the only columns remaining."
   ]
  },
  {
   "cell_type": "markdown",
   "id": "dd1a020a",
   "metadata": {},
   "source": [
    "### 02.02 Looking at the Leavetime dataset\n",
    "\n",
    "I will use dask to look at the dataset as it can load more things and is supposed to be faster for larger datasets."
   ]
  },
  {
   "cell_type": "markdown",
   "metadata": {},
   "source": [
    "# opening everything with dask\n",
    "\n",
    "because using pandas crashes my connection with the server"
   ]
  },
  {
   "cell_type": "markdown",
   "metadata": {},
   "source": [
    "## Reading and cehcking the data for irregularities"
   ]
  },
  {
   "cell_type": "code",
   "execution_count": 2,
   "metadata": {},
   "outputs": [],
   "source": [
    "import dask.dataframe as dd"
   ]
  },
  {
   "cell_type": "code",
   "execution_count": 3,
   "metadata": {},
   "outputs": [],
   "source": [
    "bus_leavetimes_df = dd.read_csv(\"./data/rt_leavetimes_DB_2018.txt\", sep=\";\")"
   ]
  },
  {
   "cell_type": "code",
   "execution_count": 3,
   "metadata": {},
   "outputs": [
    {
     "data": {
      "text/html": [
       "<div><strong>Dask DataFrame Structure:</strong></div>\n",
       "<div>\n",
       "<style scoped>\n",
       "    .dataframe tbody tr th:only-of-type {\n",
       "        vertical-align: middle;\n",
       "    }\n",
       "\n",
       "    .dataframe tbody tr th {\n",
       "        vertical-align: top;\n",
       "    }\n",
       "\n",
       "    .dataframe thead th {\n",
       "        text-align: right;\n",
       "    }\n",
       "</style>\n",
       "<table border=\"1\" class=\"dataframe\">\n",
       "  <thead>\n",
       "    <tr style=\"text-align: right;\">\n",
       "      <th></th>\n",
       "      <th>DATASOURCE</th>\n",
       "      <th>DAYOFSERVICE</th>\n",
       "      <th>TRIPID</th>\n",
       "      <th>PROGRNUMBER</th>\n",
       "      <th>STOPPOINTID</th>\n",
       "      <th>PLANNEDTIME_ARR</th>\n",
       "      <th>PLANNEDTIME_DEP</th>\n",
       "      <th>ACTUALTIME_ARR</th>\n",
       "      <th>ACTUALTIME_DEP</th>\n",
       "      <th>VEHICLEID</th>\n",
       "      <th>PASSENGERS</th>\n",
       "      <th>PASSENGERSIN</th>\n",
       "      <th>PASSENGERSOUT</th>\n",
       "      <th>DISTANCE</th>\n",
       "      <th>SUPPRESSED</th>\n",
       "      <th>JUSTIFICATIONID</th>\n",
       "      <th>LASTUPDATE</th>\n",
       "      <th>NOTE</th>\n",
       "    </tr>\n",
       "    <tr>\n",
       "      <th>npartitions=337</th>\n",
       "      <th></th>\n",
       "      <th></th>\n",
       "      <th></th>\n",
       "      <th></th>\n",
       "      <th></th>\n",
       "      <th></th>\n",
       "      <th></th>\n",
       "      <th></th>\n",
       "      <th></th>\n",
       "      <th></th>\n",
       "      <th></th>\n",
       "      <th></th>\n",
       "      <th></th>\n",
       "      <th></th>\n",
       "      <th></th>\n",
       "      <th></th>\n",
       "      <th></th>\n",
       "      <th></th>\n",
       "    </tr>\n",
       "  </thead>\n",
       "  <tbody>\n",
       "    <tr>\n",
       "      <th></th>\n",
       "      <td>object</td>\n",
       "      <td>object</td>\n",
       "      <td>int64</td>\n",
       "      <td>int64</td>\n",
       "      <td>int64</td>\n",
       "      <td>int64</td>\n",
       "      <td>int64</td>\n",
       "      <td>int64</td>\n",
       "      <td>int64</td>\n",
       "      <td>int64</td>\n",
       "      <td>float64</td>\n",
       "      <td>float64</td>\n",
       "      <td>float64</td>\n",
       "      <td>float64</td>\n",
       "      <td>float64</td>\n",
       "      <td>float64</td>\n",
       "      <td>object</td>\n",
       "      <td>float64</td>\n",
       "    </tr>\n",
       "    <tr>\n",
       "      <th></th>\n",
       "      <td>...</td>\n",
       "      <td>...</td>\n",
       "      <td>...</td>\n",
       "      <td>...</td>\n",
       "      <td>...</td>\n",
       "      <td>...</td>\n",
       "      <td>...</td>\n",
       "      <td>...</td>\n",
       "      <td>...</td>\n",
       "      <td>...</td>\n",
       "      <td>...</td>\n",
       "      <td>...</td>\n",
       "      <td>...</td>\n",
       "      <td>...</td>\n",
       "      <td>...</td>\n",
       "      <td>...</td>\n",
       "      <td>...</td>\n",
       "      <td>...</td>\n",
       "    </tr>\n",
       "    <tr>\n",
       "      <th>...</th>\n",
       "      <td>...</td>\n",
       "      <td>...</td>\n",
       "      <td>...</td>\n",
       "      <td>...</td>\n",
       "      <td>...</td>\n",
       "      <td>...</td>\n",
       "      <td>...</td>\n",
       "      <td>...</td>\n",
       "      <td>...</td>\n",
       "      <td>...</td>\n",
       "      <td>...</td>\n",
       "      <td>...</td>\n",
       "      <td>...</td>\n",
       "      <td>...</td>\n",
       "      <td>...</td>\n",
       "      <td>...</td>\n",
       "      <td>...</td>\n",
       "      <td>...</td>\n",
       "    </tr>\n",
       "    <tr>\n",
       "      <th></th>\n",
       "      <td>...</td>\n",
       "      <td>...</td>\n",
       "      <td>...</td>\n",
       "      <td>...</td>\n",
       "      <td>...</td>\n",
       "      <td>...</td>\n",
       "      <td>...</td>\n",
       "      <td>...</td>\n",
       "      <td>...</td>\n",
       "      <td>...</td>\n",
       "      <td>...</td>\n",
       "      <td>...</td>\n",
       "      <td>...</td>\n",
       "      <td>...</td>\n",
       "      <td>...</td>\n",
       "      <td>...</td>\n",
       "      <td>...</td>\n",
       "      <td>...</td>\n",
       "    </tr>\n",
       "    <tr>\n",
       "      <th></th>\n",
       "      <td>...</td>\n",
       "      <td>...</td>\n",
       "      <td>...</td>\n",
       "      <td>...</td>\n",
       "      <td>...</td>\n",
       "      <td>...</td>\n",
       "      <td>...</td>\n",
       "      <td>...</td>\n",
       "      <td>...</td>\n",
       "      <td>...</td>\n",
       "      <td>...</td>\n",
       "      <td>...</td>\n",
       "      <td>...</td>\n",
       "      <td>...</td>\n",
       "      <td>...</td>\n",
       "      <td>...</td>\n",
       "      <td>...</td>\n",
       "      <td>...</td>\n",
       "    </tr>\n",
       "  </tbody>\n",
       "</table>\n",
       "</div>\n",
       "<div>Dask Name: read-csv, 337 tasks</div>"
      ],
      "text/plain": [
       "Dask DataFrame Structure:\n",
       "                DATASOURCE DAYOFSERVICE TRIPID PROGRNUMBER STOPPOINTID PLANNEDTIME_ARR PLANNEDTIME_DEP ACTUALTIME_ARR ACTUALTIME_DEP VEHICLEID PASSENGERS PASSENGERSIN PASSENGERSOUT DISTANCE SUPPRESSED JUSTIFICATIONID LASTUPDATE     NOTE\n",
       "npartitions=337                                                                                                                                                                                                                             \n",
       "                    object       object  int64       int64       int64           int64           int64          int64          int64     int64    float64      float64       float64  float64    float64         float64     object  float64\n",
       "                       ...          ...    ...         ...         ...             ...             ...            ...            ...       ...        ...          ...           ...      ...        ...             ...        ...      ...\n",
       "...                    ...          ...    ...         ...         ...             ...             ...            ...            ...       ...        ...          ...           ...      ...        ...             ...        ...      ...\n",
       "                       ...          ...    ...         ...         ...             ...             ...            ...            ...       ...        ...          ...           ...      ...        ...             ...        ...      ...\n",
       "                       ...          ...    ...         ...         ...             ...             ...            ...            ...       ...        ...          ...           ...      ...        ...             ...        ...      ...\n",
       "Dask Name: read-csv, 337 tasks"
      ]
     },
     "execution_count": 3,
     "metadata": {},
     "output_type": "execute_result"
    }
   ],
   "source": [
    "bus_leavetimes_df"
   ]
  },
  {
   "cell_type": "code",
   "execution_count": 4,
   "metadata": {},
   "outputs": [],
   "source": [
    "bus_trip_df = dd.read_csv(\"./data/rt_trips_DB_2018.txt\", sep=\";\")"
   ]
  },
  {
   "cell_type": "code",
   "execution_count": 5,
   "metadata": {
    "scrolled": true
   },
   "outputs": [
    {
     "data": {
      "text/html": [
       "<div><strong>Dask DataFrame Structure:</strong></div>\n",
       "<div>\n",
       "<style scoped>\n",
       "    .dataframe tbody tr th:only-of-type {\n",
       "        vertical-align: middle;\n",
       "    }\n",
       "\n",
       "    .dataframe tbody tr th {\n",
       "        vertical-align: top;\n",
       "    }\n",
       "\n",
       "    .dataframe thead th {\n",
       "        text-align: right;\n",
       "    }\n",
       "</style>\n",
       "<table border=\"1\" class=\"dataframe\">\n",
       "  <thead>\n",
       "    <tr style=\"text-align: right;\">\n",
       "      <th></th>\n",
       "      <th>DATASOURCE</th>\n",
       "      <th>DAYOFSERVICE</th>\n",
       "      <th>TRIPID</th>\n",
       "      <th>LINEID</th>\n",
       "      <th>ROUTEID</th>\n",
       "      <th>DIRECTION</th>\n",
       "      <th>PLANNEDTIME_ARR</th>\n",
       "      <th>PLANNEDTIME_DEP</th>\n",
       "      <th>ACTUALTIME_ARR</th>\n",
       "      <th>ACTUALTIME_DEP</th>\n",
       "      <th>BASIN</th>\n",
       "      <th>TENDERLOT</th>\n",
       "      <th>SUPPRESSED</th>\n",
       "      <th>JUSTIFICATIONID</th>\n",
       "      <th>LASTUPDATE</th>\n",
       "      <th>NOTE</th>\n",
       "    </tr>\n",
       "    <tr>\n",
       "      <th>npartitions=7</th>\n",
       "      <th></th>\n",
       "      <th></th>\n",
       "      <th></th>\n",
       "      <th></th>\n",
       "      <th></th>\n",
       "      <th></th>\n",
       "      <th></th>\n",
       "      <th></th>\n",
       "      <th></th>\n",
       "      <th></th>\n",
       "      <th></th>\n",
       "      <th></th>\n",
       "      <th></th>\n",
       "      <th></th>\n",
       "      <th></th>\n",
       "      <th></th>\n",
       "    </tr>\n",
       "  </thead>\n",
       "  <tbody>\n",
       "    <tr>\n",
       "      <th></th>\n",
       "      <td>object</td>\n",
       "      <td>object</td>\n",
       "      <td>int64</td>\n",
       "      <td>object</td>\n",
       "      <td>object</td>\n",
       "      <td>int64</td>\n",
       "      <td>int64</td>\n",
       "      <td>int64</td>\n",
       "      <td>float64</td>\n",
       "      <td>float64</td>\n",
       "      <td>object</td>\n",
       "      <td>float64</td>\n",
       "      <td>float64</td>\n",
       "      <td>float64</td>\n",
       "      <td>object</td>\n",
       "      <td>object</td>\n",
       "    </tr>\n",
       "    <tr>\n",
       "      <th></th>\n",
       "      <td>...</td>\n",
       "      <td>...</td>\n",
       "      <td>...</td>\n",
       "      <td>...</td>\n",
       "      <td>...</td>\n",
       "      <td>...</td>\n",
       "      <td>...</td>\n",
       "      <td>...</td>\n",
       "      <td>...</td>\n",
       "      <td>...</td>\n",
       "      <td>...</td>\n",
       "      <td>...</td>\n",
       "      <td>...</td>\n",
       "      <td>...</td>\n",
       "      <td>...</td>\n",
       "      <td>...</td>\n",
       "    </tr>\n",
       "    <tr>\n",
       "      <th>...</th>\n",
       "      <td>...</td>\n",
       "      <td>...</td>\n",
       "      <td>...</td>\n",
       "      <td>...</td>\n",
       "      <td>...</td>\n",
       "      <td>...</td>\n",
       "      <td>...</td>\n",
       "      <td>...</td>\n",
       "      <td>...</td>\n",
       "      <td>...</td>\n",
       "      <td>...</td>\n",
       "      <td>...</td>\n",
       "      <td>...</td>\n",
       "      <td>...</td>\n",
       "      <td>...</td>\n",
       "      <td>...</td>\n",
       "    </tr>\n",
       "    <tr>\n",
       "      <th></th>\n",
       "      <td>...</td>\n",
       "      <td>...</td>\n",
       "      <td>...</td>\n",
       "      <td>...</td>\n",
       "      <td>...</td>\n",
       "      <td>...</td>\n",
       "      <td>...</td>\n",
       "      <td>...</td>\n",
       "      <td>...</td>\n",
       "      <td>...</td>\n",
       "      <td>...</td>\n",
       "      <td>...</td>\n",
       "      <td>...</td>\n",
       "      <td>...</td>\n",
       "      <td>...</td>\n",
       "      <td>...</td>\n",
       "    </tr>\n",
       "    <tr>\n",
       "      <th></th>\n",
       "      <td>...</td>\n",
       "      <td>...</td>\n",
       "      <td>...</td>\n",
       "      <td>...</td>\n",
       "      <td>...</td>\n",
       "      <td>...</td>\n",
       "      <td>...</td>\n",
       "      <td>...</td>\n",
       "      <td>...</td>\n",
       "      <td>...</td>\n",
       "      <td>...</td>\n",
       "      <td>...</td>\n",
       "      <td>...</td>\n",
       "      <td>...</td>\n",
       "      <td>...</td>\n",
       "      <td>...</td>\n",
       "    </tr>\n",
       "  </tbody>\n",
       "</table>\n",
       "</div>\n",
       "<div>Dask Name: read-csv, 7 tasks</div>"
      ],
      "text/plain": [
       "Dask DataFrame Structure:\n",
       "              DATASOURCE DAYOFSERVICE TRIPID  LINEID ROUTEID DIRECTION PLANNEDTIME_ARR PLANNEDTIME_DEP ACTUALTIME_ARR ACTUALTIME_DEP   BASIN TENDERLOT SUPPRESSED JUSTIFICATIONID LASTUPDATE    NOTE\n",
       "npartitions=7                                                                                                                                                                                       \n",
       "                  object       object  int64  object  object     int64           int64           int64        float64        float64  object   float64    float64         float64     object  object\n",
       "                     ...          ...    ...     ...     ...       ...             ...             ...            ...            ...     ...       ...        ...             ...        ...     ...\n",
       "...                  ...          ...    ...     ...     ...       ...             ...             ...            ...            ...     ...       ...        ...             ...        ...     ...\n",
       "                     ...          ...    ...     ...     ...       ...             ...             ...            ...            ...     ...       ...        ...             ...        ...     ...\n",
       "                     ...          ...    ...     ...     ...       ...             ...             ...            ...            ...     ...       ...        ...             ...        ...     ...\n",
       "Dask Name: read-csv, 7 tasks"
      ]
     },
     "execution_count": 5,
     "metadata": {},
     "output_type": "execute_result"
    }
   ],
   "source": [
    "bus_trip_df"
   ]
  },
  {
   "cell_type": "code",
   "execution_count": 6,
   "metadata": {},
   "outputs": [],
   "source": [
    "LIST_CATEGORIES = []\n",
    "\n",
    "bus_trip_df[\"DATASOURCE\"] = bus_trip_df[\"DATASOURCE\"].astype(\"category\")\n",
    "bus_trip_df[\"DIRECTION\"] = bus_trip_df[\"DIRECTION\"].astype(\"category\")\n",
    "bus_trip_df[\"BASIN\"] = bus_trip_df[\"BASIN\"].astype(\"category\")\n",
    "bus_trip_df[\"LINEID\"] = bus_trip_df[\"LINEID\"].astype(\"category\")\n",
    "bus_trip_df[\"ROUTEID\"] = bus_trip_df[\"ROUTEID\"].astype(\"category\")\n",
    "\n",
    "#float data\n",
    "bus_trip_df[\"TRIPID\"] = bus_trip_df[\"TRIPID\"].astype(\"int64\")\n",
    "bus_trip_df[\"PLANNEDTIME_ARR\"] = bus_trip_df[\"PLANNEDTIME_ARR\"].astype(\"int64\")\n",
    "bus_trip_df[\"PLANNEDTIME_DEP\"] = bus_trip_df[\"PLANNEDTIME_DEP\"].astype(\"int64\")\n",
    "#bus_trip_df[\"NOTE\"] = bus_trip_df[\"NOTE\"].astype(\"int64\")\n",
    "\n",
    "#bus_trip_df[\"ACTUALTIME_ARR\"] = bus_trip_df[\"ACTUALTIME_ARR\"].astype(\"int64\")\n",
    "#bus_trip_df[\"ACTUALTIME_DEP\"] = bus_trip_df[\"ACTUALTIME_DEP\"].astype(\"int64\")\n",
    "\n"
   ]
  },
  {
   "cell_type": "markdown",
   "metadata": {},
   "source": [
    "From looking at the historical data after looking at the realtime, current data, we see that the tripid is formatted differently, "
   ]
  },
  {
   "cell_type": "code",
   "execution_count": 7,
   "metadata": {},
   "outputs": [
    {
     "data": {
      "text/html": [
       "<div>\n",
       "<style scoped>\n",
       "    .dataframe tbody tr th:only-of-type {\n",
       "        vertical-align: middle;\n",
       "    }\n",
       "\n",
       "    .dataframe tbody tr th {\n",
       "        vertical-align: top;\n",
       "    }\n",
       "\n",
       "    .dataframe thead th {\n",
       "        text-align: right;\n",
       "    }\n",
       "</style>\n",
       "<table border=\"1\" class=\"dataframe\">\n",
       "  <thead>\n",
       "    <tr style=\"text-align: right;\">\n",
       "      <th></th>\n",
       "      <th>DATASOURCE</th>\n",
       "      <th>DAYOFSERVICE</th>\n",
       "      <th>TRIPID</th>\n",
       "      <th>LINEID</th>\n",
       "      <th>ROUTEID</th>\n",
       "      <th>DIRECTION</th>\n",
       "      <th>PLANNEDTIME_ARR</th>\n",
       "      <th>PLANNEDTIME_DEP</th>\n",
       "      <th>ACTUALTIME_ARR</th>\n",
       "      <th>ACTUALTIME_DEP</th>\n",
       "      <th>BASIN</th>\n",
       "      <th>TENDERLOT</th>\n",
       "      <th>SUPPRESSED</th>\n",
       "      <th>JUSTIFICATIONID</th>\n",
       "      <th>LASTUPDATE</th>\n",
       "      <th>NOTE</th>\n",
       "    </tr>\n",
       "  </thead>\n",
       "  <tbody>\n",
       "    <tr>\n",
       "      <th>0</th>\n",
       "      <td>DB</td>\n",
       "      <td>07-FEB-18 00:00:00</td>\n",
       "      <td>6253783</td>\n",
       "      <td>68</td>\n",
       "      <td>68_80</td>\n",
       "      <td>1</td>\n",
       "      <td>87245</td>\n",
       "      <td>84600</td>\n",
       "      <td>87524.0</td>\n",
       "      <td>84600.0</td>\n",
       "      <td>BasDef</td>\n",
       "      <td>NaN</td>\n",
       "      <td>NaN</td>\n",
       "      <td>NaN</td>\n",
       "      <td>28-FEB-18 12:05:11</td>\n",
       "      <td>,2967409,</td>\n",
       "    </tr>\n",
       "    <tr>\n",
       "      <th>1</th>\n",
       "      <td>DB</td>\n",
       "      <td>07-FEB-18 00:00:00</td>\n",
       "      <td>6262138</td>\n",
       "      <td>25B</td>\n",
       "      <td>25B_271</td>\n",
       "      <td>2</td>\n",
       "      <td>30517</td>\n",
       "      <td>26460</td>\n",
       "      <td>32752.0</td>\n",
       "      <td>NaN</td>\n",
       "      <td>BasDef</td>\n",
       "      <td>NaN</td>\n",
       "      <td>NaN</td>\n",
       "      <td>NaN</td>\n",
       "      <td>28-FEB-18 12:05:11</td>\n",
       "      <td>,2580260,</td>\n",
       "    </tr>\n",
       "    <tr>\n",
       "      <th>2</th>\n",
       "      <td>DB</td>\n",
       "      <td>07-FEB-18 00:00:00</td>\n",
       "      <td>6254942</td>\n",
       "      <td>45A</td>\n",
       "      <td>45A_70</td>\n",
       "      <td>2</td>\n",
       "      <td>35512</td>\n",
       "      <td>32100</td>\n",
       "      <td>36329.0</td>\n",
       "      <td>32082.0</td>\n",
       "      <td>BasDef</td>\n",
       "      <td>NaN</td>\n",
       "      <td>NaN</td>\n",
       "      <td>NaN</td>\n",
       "      <td>28-FEB-18 12:05:11</td>\n",
       "      <td>,2448968,</td>\n",
       "    </tr>\n",
       "    <tr>\n",
       "      <th>3</th>\n",
       "      <td>DB</td>\n",
       "      <td>07-FEB-18 00:00:00</td>\n",
       "      <td>6259460</td>\n",
       "      <td>25A</td>\n",
       "      <td>25A_273</td>\n",
       "      <td>1</td>\n",
       "      <td>57261</td>\n",
       "      <td>54420</td>\n",
       "      <td>58463.0</td>\n",
       "      <td>54443.0</td>\n",
       "      <td>BasDef</td>\n",
       "      <td>NaN</td>\n",
       "      <td>NaN</td>\n",
       "      <td>NaN</td>\n",
       "      <td>28-FEB-18 12:05:11</td>\n",
       "      <td>,3094242,</td>\n",
       "    </tr>\n",
       "    <tr>\n",
       "      <th>4</th>\n",
       "      <td>DB</td>\n",
       "      <td>07-FEB-18 00:00:00</td>\n",
       "      <td>6253175</td>\n",
       "      <td>14</td>\n",
       "      <td>14_15</td>\n",
       "      <td>1</td>\n",
       "      <td>85383</td>\n",
       "      <td>81600</td>\n",
       "      <td>84682.0</td>\n",
       "      <td>81608.0</td>\n",
       "      <td>BasDef</td>\n",
       "      <td>NaN</td>\n",
       "      <td>NaN</td>\n",
       "      <td>NaN</td>\n",
       "      <td>28-FEB-18 12:05:11</td>\n",
       "      <td>,2526331,</td>\n",
       "    </tr>\n",
       "    <tr>\n",
       "      <th>5</th>\n",
       "      <td>DB</td>\n",
       "      <td>07-FEB-18 00:00:00</td>\n",
       "      <td>6248240</td>\n",
       "      <td>77A</td>\n",
       "      <td>77A_28</td>\n",
       "      <td>2</td>\n",
       "      <td>41648</td>\n",
       "      <td>37200</td>\n",
       "      <td>42019.0</td>\n",
       "      <td>37538.0</td>\n",
       "      <td>BasDef</td>\n",
       "      <td>NaN</td>\n",
       "      <td>NaN</td>\n",
       "      <td>NaN</td>\n",
       "      <td>28-FEB-18 12:05:11</td>\n",
       "      <td>,2966500,</td>\n",
       "    </tr>\n",
       "    <tr>\n",
       "      <th>6</th>\n",
       "      <td>DB</td>\n",
       "      <td>07-FEB-18 00:00:00</td>\n",
       "      <td>6251760</td>\n",
       "      <td>39</td>\n",
       "      <td>39_21</td>\n",
       "      <td>2</td>\n",
       "      <td>34768</td>\n",
       "      <td>28920</td>\n",
       "      <td>35709.0</td>\n",
       "      <td>28929.0</td>\n",
       "      <td>BasDef</td>\n",
       "      <td>NaN</td>\n",
       "      <td>NaN</td>\n",
       "      <td>NaN</td>\n",
       "      <td>28-FEB-18 12:05:11</td>\n",
       "      <td>,2422850,</td>\n",
       "    </tr>\n",
       "    <tr>\n",
       "      <th>7</th>\n",
       "      <td>DB</td>\n",
       "      <td>07-FEB-18 00:00:00</td>\n",
       "      <td>6262909</td>\n",
       "      <td>16</td>\n",
       "      <td>16_20</td>\n",
       "      <td>1</td>\n",
       "      <td>43936</td>\n",
       "      <td>38880</td>\n",
       "      <td>43721.0</td>\n",
       "      <td>38955.0</td>\n",
       "      <td>BasDef</td>\n",
       "      <td>NaN</td>\n",
       "      <td>NaN</td>\n",
       "      <td>NaN</td>\n",
       "      <td>28-FEB-18 12:05:11</td>\n",
       "      <td>,3045261,</td>\n",
       "    </tr>\n",
       "    <tr>\n",
       "      <th>8</th>\n",
       "      <td>DB</td>\n",
       "      <td>07-FEB-18 00:00:00</td>\n",
       "      <td>6251147</td>\n",
       "      <td>40D</td>\n",
       "      <td>40D_102</td>\n",
       "      <td>1</td>\n",
       "      <td>33558</td>\n",
       "      <td>30600</td>\n",
       "      <td>34540.0</td>\n",
       "      <td>31185.0</td>\n",
       "      <td>BasDef</td>\n",
       "      <td>NaN</td>\n",
       "      <td>NaN</td>\n",
       "      <td>NaN</td>\n",
       "      <td>28-FEB-18 12:05:11</td>\n",
       "      <td>,2837123,</td>\n",
       "    </tr>\n",
       "    <tr>\n",
       "      <th>9</th>\n",
       "      <td>DB</td>\n",
       "      <td>07-FEB-18 00:00:00</td>\n",
       "      <td>6249435</td>\n",
       "      <td>27B</td>\n",
       "      <td>27B_34</td>\n",
       "      <td>2</td>\n",
       "      <td>52682</td>\n",
       "      <td>49800</td>\n",
       "      <td>53281.0</td>\n",
       "      <td>49974.0</td>\n",
       "      <td>BasDef</td>\n",
       "      <td>NaN</td>\n",
       "      <td>NaN</td>\n",
       "      <td>NaN</td>\n",
       "      <td>28-FEB-18 12:05:11</td>\n",
       "      <td>,2329338,</td>\n",
       "    </tr>\n",
       "  </tbody>\n",
       "</table>\n",
       "</div>"
      ],
      "text/plain": [
       "  DATASOURCE        DAYOFSERVICE   TRIPID LINEID  ROUTEID DIRECTION  \\\n",
       "0         DB  07-FEB-18 00:00:00  6253783     68    68_80         1   \n",
       "1         DB  07-FEB-18 00:00:00  6262138    25B  25B_271         2   \n",
       "2         DB  07-FEB-18 00:00:00  6254942    45A   45A_70         2   \n",
       "3         DB  07-FEB-18 00:00:00  6259460    25A  25A_273         1   \n",
       "4         DB  07-FEB-18 00:00:00  6253175     14    14_15         1   \n",
       "5         DB  07-FEB-18 00:00:00  6248240    77A   77A_28         2   \n",
       "6         DB  07-FEB-18 00:00:00  6251760     39    39_21         2   \n",
       "7         DB  07-FEB-18 00:00:00  6262909     16    16_20         1   \n",
       "8         DB  07-FEB-18 00:00:00  6251147    40D  40D_102         1   \n",
       "9         DB  07-FEB-18 00:00:00  6249435    27B   27B_34         2   \n",
       "\n",
       "   PLANNEDTIME_ARR  PLANNEDTIME_DEP  ACTUALTIME_ARR  ACTUALTIME_DEP   BASIN  \\\n",
       "0            87245            84600         87524.0         84600.0  BasDef   \n",
       "1            30517            26460         32752.0             NaN  BasDef   \n",
       "2            35512            32100         36329.0         32082.0  BasDef   \n",
       "3            57261            54420         58463.0         54443.0  BasDef   \n",
       "4            85383            81600         84682.0         81608.0  BasDef   \n",
       "5            41648            37200         42019.0         37538.0  BasDef   \n",
       "6            34768            28920         35709.0         28929.0  BasDef   \n",
       "7            43936            38880         43721.0         38955.0  BasDef   \n",
       "8            33558            30600         34540.0         31185.0  BasDef   \n",
       "9            52682            49800         53281.0         49974.0  BasDef   \n",
       "\n",
       "   TENDERLOT  SUPPRESSED  JUSTIFICATIONID          LASTUPDATE       NOTE  \n",
       "0        NaN         NaN              NaN  28-FEB-18 12:05:11  ,2967409,  \n",
       "1        NaN         NaN              NaN  28-FEB-18 12:05:11  ,2580260,  \n",
       "2        NaN         NaN              NaN  28-FEB-18 12:05:11  ,2448968,  \n",
       "3        NaN         NaN              NaN  28-FEB-18 12:05:11  ,3094242,  \n",
       "4        NaN         NaN              NaN  28-FEB-18 12:05:11  ,2526331,  \n",
       "5        NaN         NaN              NaN  28-FEB-18 12:05:11  ,2966500,  \n",
       "6        NaN         NaN              NaN  28-FEB-18 12:05:11  ,2422850,  \n",
       "7        NaN         NaN              NaN  28-FEB-18 12:05:11  ,3045261,  \n",
       "8        NaN         NaN              NaN  28-FEB-18 12:05:11  ,2837123,  \n",
       "9        NaN         NaN              NaN  28-FEB-18 12:05:11  ,2329338,  "
      ]
     },
     "execution_count": 7,
     "metadata": {},
     "output_type": "execute_result"
    }
   ],
   "source": [
    "# check the data is imported correctly\n",
    "bus_trip_df.head(10)"
   ]
  },
  {
   "cell_type": "code",
   "execution_count": 8,
   "metadata": {},
   "outputs": [
    {
     "data": {
      "text/plain": [
       "130"
      ]
     },
     "execution_count": 8,
     "metadata": {},
     "output_type": "execute_result"
    }
   ],
   "source": [
    "# che k number of unique lines in the trips dataset\n",
    "bus_trip_df[\"LINEID\"].nunique().compute()"
   ]
  },
  {
   "cell_type": "code",
   "execution_count": 9,
   "metadata": {},
   "outputs": [
    {
     "data": {
      "text/plain": [
       "116949113"
      ]
     },
     "execution_count": 9,
     "metadata": {},
     "output_type": "execute_result"
    }
   ],
   "source": [
    "len(bus_leavetimes_df)"
   ]
  },
  {
   "cell_type": "code",
   "execution_count": 10,
   "metadata": {},
   "outputs": [
    {
     "data": {
      "text/plain": [
       "588"
      ]
     },
     "execution_count": 10,
     "metadata": {},
     "output_type": "execute_result"
    }
   ],
   "source": [
    "# the number of routes,\n",
    "# contaisn different versions of the same line as the \n",
    "bus_trip_df[\"ROUTEID\"].nunique().compute()"
   ]
  },
  {
   "cell_type": "code",
   "execution_count": 5,
   "metadata": {},
   "outputs": [
    {
     "name": "stderr",
     "output_type": "stream",
     "text": [
      "<ipython-input-5-183d341f903f>:2: UserWarning: `meta` is not specified, inferred from partial data. Please provide `meta` if the result is unexpected.\n",
      "  Before: .apply(func)\n",
      "  After:  .apply(func, meta={'x': 'f8', 'y': 'f8'}) for dataframe result\n",
      "  or:     .apply(func, meta=('x', 'f8'))            for series result\n",
      "  filter_result = bus_trip_df.groupby('LINEID')['TRIPID'].apply(list).reset_index()\n"
     ]
    }
   ],
   "source": [
    "# collecting the trips dataset with respect to the Line and collecting all of the tripids in a list\n",
    "filter_result = bus_trip_df.groupby('LINEID')['TRIPID'].apply(list).reset_index()"
   ]
  },
  {
   "cell_type": "code",
   "execution_count": 25,
   "metadata": {},
   "outputs": [
    {
     "data": {
      "text/html": [
       "<div>\n",
       "<style scoped>\n",
       "    .dataframe tbody tr th:only-of-type {\n",
       "        vertical-align: middle;\n",
       "    }\n",
       "\n",
       "    .dataframe tbody tr th {\n",
       "        vertical-align: top;\n",
       "    }\n",
       "\n",
       "    .dataframe thead th {\n",
       "        text-align: right;\n",
       "    }\n",
       "</style>\n",
       "<table border=\"1\" class=\"dataframe\">\n",
       "  <thead>\n",
       "    <tr style=\"text-align: right;\">\n",
       "      <th></th>\n",
       "      <th>LINEID</th>\n",
       "      <th>TRIPID</th>\n",
       "    </tr>\n",
       "  </thead>\n",
       "  <tbody>\n",
       "    <tr>\n",
       "      <th>0</th>\n",
       "      <td>111</td>\n",
       "      <td>[7321397, 6736637, 6736639, 6736647, 6736630, ...</td>\n",
       "    </tr>\n",
       "    <tr>\n",
       "      <th>1</th>\n",
       "      <td>145</td>\n",
       "      <td>[6636273, 6631234, 6641668, 6643671, 6643699, ...</td>\n",
       "    </tr>\n",
       "    <tr>\n",
       "      <th>2</th>\n",
       "      <td>15D</td>\n",
       "      <td>[7175345, 8070285, 8052192, 7168575, 8050929, ...</td>\n",
       "    </tr>\n",
       "    <tr>\n",
       "      <th>3</th>\n",
       "      <td>238</td>\n",
       "      <td>[7146929, 8098733, 7328510, 7328508, 7319958, ...</td>\n",
       "    </tr>\n",
       "    <tr>\n",
       "      <th>4</th>\n",
       "      <td>25X</td>\n",
       "      <td>[8068486, 8104083, 8052715, 8124060, 6737359, ...</td>\n",
       "    </tr>\n",
       "  </tbody>\n",
       "</table>\n",
       "</div>"
      ],
      "text/plain": [
       "  LINEID                                             TRIPID\n",
       "0    111  [7321397, 6736637, 6736639, 6736647, 6736630, ...\n",
       "1    145  [6636273, 6631234, 6641668, 6643671, 6643699, ...\n",
       "2    15D  [7175345, 8070285, 8052192, 7168575, 8050929, ...\n",
       "3    238  [7146929, 8098733, 7328510, 7328508, 7319958, ...\n",
       "4    25X  [8068486, 8104083, 8052715, 8124060, 6737359, ..."
      ]
     },
     "execution_count": 25,
     "metadata": {},
     "output_type": "execute_result"
    }
   ],
   "source": [
    "filter_result[\"LINEID\"]"
   ]
  },
  {
   "cell_type": "code",
   "execution_count": 12,
   "metadata": {},
   "outputs": [
    {
     "name": "stderr",
     "output_type": "stream",
     "text": [
      "<ipython-input-12-81d12947e224>:2: UserWarning: `meta` is not specified, inferred from partial data. Please provide `meta` if the result is unexpected.\n",
      "  Before: .apply(func)\n",
      "  After:  .apply(func, meta={'x': 'f8', 'y': 'f8'}) for dataframe result\n",
      "  or:     .apply(func, meta=('x', 'f8'))            for series result\n",
      "  filter_route_line_result = bus_trip_df.groupby('LINEID')['ROUTEID'].apply(list).reset_index()\n"
     ]
    }
   ],
   "source": [
    "# list the routes associated with the line\n",
    "filter_route_line_result = bus_trip_df.groupby('LINEID')['ROUTEID'].apply(list).reset_index()"
   ]
  },
  {
   "cell_type": "code",
   "execution_count": 13,
   "metadata": {},
   "outputs": [
    {
     "data": {
      "text/html": [
       "<div>\n",
       "<style scoped>\n",
       "    .dataframe tbody tr th:only-of-type {\n",
       "        vertical-align: middle;\n",
       "    }\n",
       "\n",
       "    .dataframe tbody tr th {\n",
       "        vertical-align: top;\n",
       "    }\n",
       "\n",
       "    .dataframe thead th {\n",
       "        text-align: right;\n",
       "    }\n",
       "</style>\n",
       "<table border=\"1\" class=\"dataframe\">\n",
       "  <thead>\n",
       "    <tr style=\"text-align: right;\">\n",
       "      <th></th>\n",
       "      <th>LINEID</th>\n",
       "      <th>ROUTEID</th>\n",
       "    </tr>\n",
       "  </thead>\n",
       "  <tbody>\n",
       "    <tr>\n",
       "      <th>0</th>\n",
       "      <td>111</td>\n",
       "      <td>[111_8, 111_8, 111_9, 111_10, 111_7, 111_8, 11...</td>\n",
       "    </tr>\n",
       "    <tr>\n",
       "      <th>1</th>\n",
       "      <td>145</td>\n",
       "      <td>[145_105, 145_105, 145_105, 145_102, 145_105, ...</td>\n",
       "    </tr>\n",
       "    <tr>\n",
       "      <th>2</th>\n",
       "      <td>15D</td>\n",
       "      <td>[15D_63, 15D_62, 15D_65, 15D_62, 15D_62, 15D_6...</td>\n",
       "    </tr>\n",
       "    <tr>\n",
       "      <th>3</th>\n",
       "      <td>238</td>\n",
       "      <td>[238_11, 238_15, 238_15, 238_15, 238_11, 238_1...</td>\n",
       "    </tr>\n",
       "    <tr>\n",
       "      <th>4</th>\n",
       "      <td>25X</td>\n",
       "      <td>[25X_10, 25X_11, 25X_11, 25X_11, 25X_12, 25X_1...</td>\n",
       "    </tr>\n",
       "    <tr>\n",
       "      <th>...</th>\n",
       "      <td>...</td>\n",
       "      <td>...</td>\n",
       "    </tr>\n",
       "    <tr>\n",
       "      <th>17</th>\n",
       "      <td>66</td>\n",
       "      <td>[66_11, 66_13, 66_13, 66_11, 66_11, 66_13, 66_...</td>\n",
       "    </tr>\n",
       "    <tr>\n",
       "      <th>18</th>\n",
       "      <td>75</td>\n",
       "      <td>[75_18, 75_19, 75_17, 75_17, 75_17, 75_19, 75_...</td>\n",
       "    </tr>\n",
       "    <tr>\n",
       "      <th>19</th>\n",
       "      <td>79A</td>\n",
       "      <td>[79A_27, 79A_27, 79A_27, 79A_27, 79A_27, 79A_2...</td>\n",
       "    </tr>\n",
       "    <tr>\n",
       "      <th>20</th>\n",
       "      <td>7A</td>\n",
       "      <td>[7A_85, 7A_85, 7A_88, 7A_86, 7A_87, 7A_87, 7A_...</td>\n",
       "    </tr>\n",
       "    <tr>\n",
       "      <th>21</th>\n",
       "      <td>84</td>\n",
       "      <td>[84_29, 84_30, 84_27, 84_30, 84_30, 84_30, 84_...</td>\n",
       "    </tr>\n",
       "  </tbody>\n",
       "</table>\n",
       "<p>130 rows × 2 columns</p>\n",
       "</div>"
      ],
      "text/plain": [
       "   LINEID                                            ROUTEID\n",
       "0     111  [111_8, 111_8, 111_9, 111_10, 111_7, 111_8, 11...\n",
       "1     145  [145_105, 145_105, 145_105, 145_102, 145_105, ...\n",
       "2     15D  [15D_63, 15D_62, 15D_65, 15D_62, 15D_62, 15D_6...\n",
       "3     238  [238_11, 238_15, 238_15, 238_15, 238_11, 238_1...\n",
       "4     25X  [25X_10, 25X_11, 25X_11, 25X_11, 25X_12, 25X_1...\n",
       "..    ...                                                ...\n",
       "17     66  [66_11, 66_13, 66_13, 66_11, 66_11, 66_13, 66_...\n",
       "18     75  [75_18, 75_19, 75_17, 75_17, 75_17, 75_19, 75_...\n",
       "19    79A  [79A_27, 79A_27, 79A_27, 79A_27, 79A_27, 79A_2...\n",
       "20     7A  [7A_85, 7A_85, 7A_88, 7A_86, 7A_87, 7A_87, 7A_...\n",
       "21     84  [84_29, 84_30, 84_27, 84_30, 84_30, 84_30, 84_...\n",
       "\n",
       "[130 rows x 2 columns]"
      ]
     },
     "execution_count": 13,
     "metadata": {},
     "output_type": "execute_result"
    }
   ],
   "source": [
    "filter_route_line_result.compute()"
   ]
  },
  {
   "cell_type": "code",
   "execution_count": 14,
   "metadata": {},
   "outputs": [
    {
     "data": {
      "text/plain": [
       "130"
      ]
     },
     "execution_count": 14,
     "metadata": {},
     "output_type": "execute_result"
    }
   ],
   "source": [
    "len(filter_route_line_result)"
   ]
  },
  {
   "cell_type": "code",
   "execution_count": 15,
   "metadata": {},
   "outputs": [],
   "source": [
    "list_routes = list(filter_route_line_result[\"ROUTEID\"].compute())"
   ]
  },
  {
   "cell_type": "code",
   "execution_count": 16,
   "metadata": {},
   "outputs": [],
   "source": [
    "from collections import Counter"
   ]
  },
  {
   "cell_type": "markdown",
   "metadata": {},
   "source": [
    "Of the 102 lines it has this number of routes, and the frequencies"
   ]
  },
  {
   "cell_type": "code",
   "execution_count": 17,
   "metadata": {},
   "outputs": [
    {
     "name": "stdout",
     "output_type": "stream",
     "text": [
      "Counter({'111_7': 4005, '111_8': 2886, '111_9': 719, '111_10': 238})\n"
     ]
    }
   ],
   "source": [
    "print(Counter(list_routes[0]))"
   ]
  },
  {
   "cell_type": "code",
   "execution_count": 18,
   "metadata": {},
   "outputs": [
    {
     "name": "stdout",
     "output_type": "stream",
     "text": [
      "CPU times: user 14.6 s, sys: 1.69 s, total: 16.3 s\n",
      "Wall time: 10.5 s\n"
     ]
    },
    {
     "data": {
      "text/plain": [
       "130"
      ]
     },
     "execution_count": 18,
     "metadata": {},
     "output_type": "execute_result"
    }
   ],
   "source": [
    "%time len(filter_result)"
   ]
  },
  {
   "cell_type": "markdown",
   "metadata": {},
   "source": [
    "Tells us that there are 130 unique lines, these include their own routes , the routes differ by the different starting points or different ending points"
   ]
  },
  {
   "cell_type": "code",
   "execution_count": 7,
   "metadata": {},
   "outputs": [
    {
     "name": "stdout",
     "output_type": "stream",
     "text": [
      "CPU times: user 8.62 s, sys: 2.08 s, total: 10.7 s\n",
      "Wall time: 8.73 s\n"
     ]
    },
    {
     "data": {
      "text/html": [
       "<div>\n",
       "<style scoped>\n",
       "    .dataframe tbody tr th:only-of-type {\n",
       "        vertical-align: middle;\n",
       "    }\n",
       "\n",
       "    .dataframe tbody tr th {\n",
       "        vertical-align: top;\n",
       "    }\n",
       "\n",
       "    .dataframe thead th {\n",
       "        text-align: right;\n",
       "    }\n",
       "</style>\n",
       "<table border=\"1\" class=\"dataframe\">\n",
       "  <thead>\n",
       "    <tr style=\"text-align: right;\">\n",
       "      <th></th>\n",
       "      <th>LINEID</th>\n",
       "      <th>TRIPID</th>\n",
       "    </tr>\n",
       "  </thead>\n",
       "  <tbody>\n",
       "    <tr>\n",
       "      <th>0</th>\n",
       "      <td>102</td>\n",
       "      <td>[6121819, 6858629, 6855177, 6855178, 6646206, ...</td>\n",
       "    </tr>\n",
       "    <tr>\n",
       "      <th>1</th>\n",
       "      <td>104</td>\n",
       "      <td>[6856598, 6647566, 6647571, 6276763, 6759749, ...</td>\n",
       "    </tr>\n",
       "    <tr>\n",
       "      <th>2</th>\n",
       "      <td>116</td>\n",
       "      <td>[7159266, 6291853, 6099533, 6088623, 6291512, ...</td>\n",
       "    </tr>\n",
       "    <tr>\n",
       "      <th>3</th>\n",
       "      <td>118</td>\n",
       "      <td>[6752981, 6118699, 6665591, 7147145, 6242604, ...</td>\n",
       "    </tr>\n",
       "    <tr>\n",
       "      <th>4</th>\n",
       "      <td>120</td>\n",
       "      <td>[6115001, 6115928, 6852405, 6860169, 6853319, ...</td>\n",
       "    </tr>\n",
       "  </tbody>\n",
       "</table>\n",
       "</div>"
      ],
      "text/plain": [
       "  LINEID                                             TRIPID\n",
       "0    102  [6121819, 6858629, 6855177, 6855178, 6646206, ...\n",
       "1    104  [6856598, 6647566, 6647571, 6276763, 6759749, ...\n",
       "2    116  [7159266, 6291853, 6099533, 6088623, 6291512, ...\n",
       "3    118  [6752981, 6118699, 6665591, 7147145, 6242604, ...\n",
       "4    120  [6115001, 6115928, 6852405, 6860169, 6853319, ..."
      ]
     },
     "execution_count": 7,
     "metadata": {},
     "output_type": "execute_result"
    }
   ],
   "source": [
    "%time filter_result.head()"
   ]
  },
  {
   "cell_type": "code",
   "execution_count": 31,
   "metadata": {},
   "outputs": [],
   "source": [
    "# get the list of bus routes\n",
    "bus_routes = list(filter_result.LINEID.compute())"
   ]
  },
  {
   "cell_type": "code",
   "execution_count": 29,
   "metadata": {},
   "outputs": [
    {
     "data": {
      "text/plain": [
       "0     111\n",
       "1     145\n",
       "2     15D\n",
       "3     238\n",
       "4     25X\n",
       "     ... \n",
       "17     66\n",
       "18     75\n",
       "19    79A\n",
       "20     7A\n",
       "21     84\n",
       "Name: LINEID, Length: 130, dtype: object"
      ]
     },
     "execution_count": 29,
     "metadata": {},
     "output_type": "execute_result"
    }
   ],
   "source": [
    "filter_result.LINEID.compute()"
   ]
  },
  {
   "cell_type": "code",
   "execution_count": 32,
   "metadata": {},
   "outputs": [
    {
     "name": "stdout",
     "output_type": "stream",
     "text": [
      "['111', '145', '15D', '238', '25X', '27A', '27X', '46E', '49', '51D', '65', '65B', '67', '7', '76A', '77X', '114', '14', '15A', '16C', '185', '25', '27', '270', '33', '39', '39A', '40', '40E', '41', '41B', '45A', '68X', '76', '77A', '83', '104', '116', '120', '220', '236', '31', '31D', '33B', '4', '40B', '42D', '46A', '53', '54A', '66X', '68', '70D', '118', '122', '123', '18', '184', '25B', '31B', '40D', '41A', '42', '43', '56A', '61', '67X', '84X', '1', '13', '150', '151', '161', '25A', '29A', '31A', '33A', '33X', '37', '47', '66A', '66B', '69X', '7D', '9', '102', '130', '142', '14C', '15', '16', '17A', '26', '32', '33D', '33E', '38B', '38D', '44', '44B', '51X', '68A', '69', '70', '79', '7B', '83A', '84A', '11', '140', '15B', '16D', '17', '239', '25D', '27B', '32X', '38', '38A', '39X', '41C', '41D', '41X', '59', '63', '66', '75', '79A', '7A', '84']\n"
     ]
    }
   ],
   "source": [
    "# we have the unique bus routes\n",
    "print(bus_routes)"
   ]
  },
  {
   "cell_type": "code",
   "execution_count": 6,
   "metadata": {},
   "outputs": [
    {
     "name": "stdout",
     "output_type": "stream",
     "text": [
      "CPU times: user 6.37 s, sys: 959 ms, total: 7.33 s\n",
      "Wall time: 5.29 s\n"
     ]
    }
   ],
   "source": [
    "#list the trips that are associated iwth route 102, route chosen randomly\n",
    "# testing for the first line in the list\n",
    "%time line_102 = list(bus_trip_df[\"TRIPID\"][bus_trip_df[\"LINEID\"] == \"102\"].compute())"
   ]
  },
  {
   "cell_type": "code",
   "execution_count": 23,
   "metadata": {
    "collapsed": true
   },
   "outputs": [
    {
     "data": {
      "text/plain": [
       "[7764193,\n",
       " 7761736,\n",
       " 7762172,\n",
       " 6277493,\n",
       " 6277492,\n",
       " 6266653,\n",
       " 7761744,\n",
       " 7100366,\n",
       " 7100367,\n",
       " 7101507,\n",
       " 6278971,\n",
       " 6266657,\n",
       " 6266656,\n",
       " 6266658,\n",
       " 6278972,\n",
       " 6620297,\n",
       " 6617210,\n",
       " 6623766,\n",
       " 6620258,\n",
       " 6389409,\n",
       " 6387381,\n",
       " 6387383,\n",
       " 7099681,\n",
       " 7101512,\n",
       " 6613665,\n",
       " 6617208,\n",
       " 6617209,\n",
       " 6620257,\n",
       " 6620294,\n",
       " 6387380,\n",
       " 8024207,\n",
       " 8024212,\n",
       " 6389406,\n",
       " 7101518,\n",
       " 7110511,\n",
       " 7110509,\n",
       " 7110513,\n",
       " 7025238,\n",
       " 7025241,\n",
       " 6266654,\n",
       " 6266652,\n",
       " 6277494,\n",
       " 6278969,\n",
       " 8017278,\n",
       " 8016530,\n",
       " 8017981,\n",
       " 8027705,\n",
       " 8017277,\n",
       " 8017980,\n",
       " 8017651,\n",
       " 6401158,\n",
       " 6401168,\n",
       " 8093343,\n",
       " 6266649,\n",
       " 8085867,\n",
       " 8082702,\n",
       " 8090455,\n",
       " 8090453,\n",
       " 8093348,\n",
       " 8091211,\n",
       " 8086416,\n",
       " 7025103,\n",
       " 7025120,\n",
       " 7025109,\n",
       " 6266648,\n",
       " 8016526,\n",
       " 8017979,\n",
       " 7161974,\n",
       " 6620306,\n",
       " 6625125,\n",
       " 6620304,\n",
       " 8093353,\n",
       " 8091214,\n",
       " 8086419,\n",
       " 8086410,\n",
       " 8091204,\n",
       " 8082697,\n",
       " 7025094,\n",
       " 7025147,\n",
       " 7025105,\n",
       " 7025123,\n",
       " 7025111,\n",
       " 7025154,\n",
       " 8024211,\n",
       " 8017653,\n",
       " 8016529,\n",
       " 8027703,\n",
       " 8027712,\n",
       " 6389450,\n",
       " 6389451,\n",
       " 6389411,\n",
       " 6387385,\n",
       " 7769069,\n",
       " 7772164,\n",
       " 7772170,\n",
       " 7761743,\n",
       " 8090447,\n",
       " 8091202,\n",
       " 8093342,\n",
       " 7025226,\n",
       " 7025216,\n",
       " 6620305,\n",
       " 6625124,\n",
       " 6625126,\n",
       " 6620295,\n",
       " 6613664,\n",
       " 6625113,\n",
       " 6620295,\n",
       " 6620306,\n",
       " 6620296,\n",
       " 6620299,\n",
       " 6389416,\n",
       " 6389414,\n",
       " 6387389,\n",
       " 6266655,\n",
       " 6277491,\n",
       " 6266650,\n",
       " 7141569,\n",
       " 7148431,\n",
       " 6390169,\n",
       " 6403108,\n",
       " 6278963,\n",
       " 6613668,\n",
       " 7757444,\n",
       " 6625122,\n",
       " 6625116,\n",
       " 6625121,\n",
       " 6389413,\n",
       " 6390167,\n",
       " 6389415,\n",
       " 6387388,\n",
       " 7148436,\n",
       " 7145592,\n",
       " 7135163,\n",
       " 7148434,\n",
       " 7145594,\n",
       " 6617209,\n",
       " 6389407,\n",
       " 8093345,\n",
       " 8086412,\n",
       " 8085862,\n",
       " 7135164,\n",
       " 6623768,\n",
       " 6623772,\n",
       " 7761740,\n",
       " 8085866,\n",
       " 8082701,\n",
       " 8093347,\n",
       " 8090454,\n",
       " 8086415,\n",
       " 8093349,\n",
       " 6266651,\n",
       " 6278964,\n",
       " 6278970,\n",
       " 6277495,\n",
       " 6625125,\n",
       " 6623765,\n",
       " 8082699,\n",
       " 7764018,\n",
       " 7025155,\n",
       " 7025112,\n",
       " 7025095,\n",
       " 8024207,\n",
       " 8017275,\n",
       " 8016527,\n",
       " 7135160,\n",
       " 7148432,\n",
       " 7145590,\n",
       " 6613666,\n",
       " 8017658,\n",
       " 8027713,\n",
       " 7148438,\n",
       " 7145597,\n",
       " 7148440,\n",
       " 6389453,\n",
       " 6387387,\n",
       " 6253343,\n",
       " 6250441,\n",
       " 6250434,\n",
       " 6253906,\n",
       " 6252656,\n",
       " 6253910,\n",
       " 6252659,\n",
       " 6260559,\n",
       " 6253908,\n",
       " 6259511,\n",
       " 6250437,\n",
       " 8017987,\n",
       " 7025169,\n",
       " 7025184,\n",
       " 7025215,\n",
       " 6230672,\n",
       " 6244655,\n",
       " 6230505,\n",
       " 8017652,\n",
       " 8017276,\n",
       " 8016528,\n",
       " 8027704,\n",
       " 7148437,\n",
       " 6623773,\n",
       " 6389412,\n",
       " 6387384,\n",
       " 6389410,\n",
       " 6389452,\n",
       " 6387386,\n",
       " 6388416,\n",
       " 6236035,\n",
       " 6229367,\n",
       " 6239419,\n",
       " 6230504,\n",
       " 6229364,\n",
       " 8017984,\n",
       " 8016534,\n",
       " 8027710,\n",
       " 8017282,\n",
       " 8017986,\n",
       " 8024214,\n",
       " 8027712,\n",
       " 8017657,\n",
       " 6620259,\n",
       " 6620303,\n",
       " 7773579,\n",
       " 8093341,\n",
       " 8082695,\n",
       " 8085860,\n",
       " 6229357,\n",
       " 6236028,\n",
       " 7145589,\n",
       " 7148433,\n",
       " 7145588,\n",
       " 6392252,\n",
       " 8082698,\n",
       " 7764016,\n",
       " 7025185,\n",
       " 7025225,\n",
       " 7025179,\n",
       " 7025196,\n",
       " 7025237,\n",
       " 6230673,\n",
       " 8027703,\n",
       " 8024208,\n",
       " 8017978,\n",
       " 8017284,\n",
       " 8024216,\n",
       " 8017988,\n",
       " 8017659,\n",
       " 8017654,\n",
       " 8016531,\n",
       " 8027709,\n",
       " 8017983,\n",
       " 8017279,\n",
       " 8027707,\n",
       " 8027714,\n",
       " 8024218,\n",
       " 7145593,\n",
       " 7135161,\n",
       " 7148435,\n",
       " 7135162,\n",
       " 8091208,\n",
       " 8086413,\n",
       " 8085864,\n",
       " 8090452,\n",
       " 7161981,\n",
       " 7164438,\n",
       " 7158037,\n",
       " 7154593,\n",
       " 8085859,\n",
       " 8090448,\n",
       " 7025181,\n",
       " 7025227,\n",
       " 7025180,\n",
       " 7025186,\n",
       " 7025217,\n",
       " 7025143,\n",
       " 6253004,\n",
       " 6253008,\n",
       " 6254152,\n",
       " 6254158,\n",
       " 8024209,\n",
       " 6617211,\n",
       " 7025187,\n",
       " 7025171,\n",
       " 7025188,\n",
       " 7025182,\n",
       " 7025198,\n",
       " 7025228,\n",
       " 7025183,\n",
       " 7025229,\n",
       " 7025199,\n",
       " 8024217,\n",
       " 8027715,\n",
       " 8017660,\n",
       " 8024219,\n",
       " 6620263,\n",
       " 6620266,\n",
       " 6620305,\n",
       " 6625119,\n",
       " 6393678,\n",
       " 6388570,\n",
       " 6392248,\n",
       " 6392246,\n",
       " 6403107,\n",
       " 6390164,\n",
       " 6253007,\n",
       " 6253009,\n",
       " 6253011,\n",
       " 6254156,\n",
       " 6254160,\n",
       " 7164047,\n",
       " 7158027,\n",
       " 7161973,\n",
       " 6620262,\n",
       " 7025146,\n",
       " 7025153,\n",
       " 7025093,\n",
       " 7025104,\n",
       " 7025110,\n",
       " 7025172,\n",
       " 7025171,\n",
       " 7025188,\n",
       " 7025182,\n",
       " 7025218,\n",
       " 7025198,\n",
       " 6253005,\n",
       " 6254157,\n",
       " 6620294,\n",
       " 6388406,\n",
       " 6393674,\n",
       " 7769064,\n",
       " 7764191,\n",
       " 7161979,\n",
       " 7156124,\n",
       " 7164056,\n",
       " 7164436,\n",
       " 7158033,\n",
       " 7158035,\n",
       " 7164054,\n",
       " 7154591,\n",
       " 7025153,\n",
       " 7025121,\n",
       " 7025104,\n",
       " 7025110,\n",
       " 7025237,\n",
       " 6251379,\n",
       " 6253002,\n",
       " 8016533,\n",
       " 8017985,\n",
       " 8017283,\n",
       " 8027711,\n",
       " 8024213,\n",
       " 8017281,\n",
       " 8024215,\n",
       " 8017656,\n",
       " 6388566,\n",
       " 6393673,\n",
       " 7164060,\n",
       " 7164058,\n",
       " 7161974,\n",
       " 6641747,\n",
       " 7025197,\n",
       " 7025181,\n",
       " 7025227,\n",
       " 7025180,\n",
       " 7025217,\n",
       " 7025143,\n",
       " 7025183,\n",
       " 7025229,\n",
       " 8017278,\n",
       " 8016530,\n",
       " 8017981,\n",
       " 6641734,\n",
       " 6637451,\n",
       " 7769061,\n",
       " 7757439,\n",
       " 7761732,\n",
       " 8027705,\n",
       " 8017277,\n",
       " 8017980,\n",
       " 8017651,\n",
       " 6251376,\n",
       " 6253012,\n",
       " 8072984,\n",
       " 8072987,\n",
       " 8054181,\n",
       " 6390168,\n",
       " 6392252,\n",
       " 6388574,\n",
       " 7769066,\n",
       " 6254153,\n",
       " 6254159,\n",
       " 6254161,\n",
       " 6251378,\n",
       " 8057774,\n",
       " 6388407,\n",
       " 6392242,\n",
       " 6388565,\n",
       " 7761742,\n",
       " 6251377,\n",
       " 6254155,\n",
       " 6637454,\n",
       " 6641737,\n",
       " 6646200,\n",
       " 6390166,\n",
       " 6388414,\n",
       " 6403111,\n",
       " 6388412,\n",
       " 6392250,\n",
       " 6388572,\n",
       " 6393680,\n",
       " 6388411,\n",
       " 6393679,\n",
       " 6392247,\n",
       " 6403108,\n",
       " 6388569,\n",
       " 6390165,\n",
       " 7025238,\n",
       " 7025241,\n",
       " 6254154,\n",
       " 6251375,\n",
       " 8017658,\n",
       " 8027713,\n",
       " 8017987,\n",
       " 8017982,\n",
       " 8016532,\n",
       " 8017280,\n",
       " 8017655,\n",
       " 8027708,\n",
       " 6637459,\n",
       " 6641741,\n",
       " 6635081,\n",
       " 6646205,\n",
       " 6637457,\n",
       " 6642309,\n",
       " 6640822,\n",
       " 6388408,\n",
       " 7762177,\n",
       " 7772172,\n",
       " 7757449,\n",
       " 8024207,\n",
       " 8017275,\n",
       " 8016527,\n",
       " 6392254,\n",
       " 6390170,\n",
       " 6388418,\n",
       " 6388416,\n",
       " 7757445,\n",
       " 7761739,\n",
       " 7769067,\n",
       " 7762175,\n",
       " 7761741,\n",
       " 7757447,\n",
       " 7764196,\n",
       " 7762173,\n",
       " 7769065,\n",
       " 7764194,\n",
       " 7761737,\n",
       " 7757443,\n",
       " 7772168,\n",
       " 7025103,\n",
       " 6253006,\n",
       " 6234819,\n",
       " 7164053,\n",
       " 7154588,\n",
       " 7164433,\n",
       " 7164051,\n",
       " 7158032,\n",
       " 7156121,\n",
       " 6640823,\n",
       " 6641744,\n",
       " 6637460,\n",
       " 7025120,\n",
       " 7025145,\n",
       " 7025094,\n",
       " 7025147,\n",
       " 7025105,\n",
       " 7025123,\n",
       " 7025106,\n",
       " 7025122,\n",
       " 7025154,\n",
       " 8017984,\n",
       " 8016534,\n",
       " 8027710,\n",
       " 8017282,\n",
       " 8017986,\n",
       " 8017657,\n",
       " 7772167,\n",
       " 7761738,\n",
       " 7764195,\n",
       " 7772169,\n",
       " 7772171,\n",
       " 7757446,\n",
       " 7762174,\n",
       " 6234555,\n",
       " 6234561,\n",
       " 7164048,\n",
       " 7164051,\n",
       " 7164054,\n",
       " 6642308,\n",
       " 6646206,\n",
       " 6637458,\n",
       " 6635080,\n",
       " 6646204,\n",
       " 6641742,\n",
       " 6409682,\n",
       " 6419921,\n",
       " 6419919,\n",
       " 7025226,\n",
       " 7025216,\n",
       " 6239875,\n",
       " 6239881,\n",
       " 8027703,\n",
       " 8024208,\n",
       " 8017978,\n",
       " 8017284,\n",
       " 8024216,\n",
       " 8017988,\n",
       " 8017659,\n",
       " 8017654,\n",
       " 8016531,\n",
       " 8027709,\n",
       " 8017983,\n",
       " 8017279,\n",
       " 8027714,\n",
       " 8027716,\n",
       " 8024218,\n",
       " 7156121,\n",
       " 7154588,\n",
       " 6409671,\n",
       " 6407179,\n",
       " 6404380,\n",
       " 7769060,\n",
       " 7764189,\n",
       " 7772163,\n",
       " 6230424,\n",
       " 6234823,\n",
       " 6230416,\n",
       " 7161972,\n",
       " 6230422,\n",
       " 6239883,\n",
       " 6245298,\n",
       " 7164058,\n",
       " 6642303,\n",
       " 6646201,\n",
       " 6635075,\n",
       " 6641735,\n",
       " 6637452,\n",
       " 6635073,\n",
       " 7761735,\n",
       " 7772166,\n",
       " 7764192,\n",
       " 7757442,\n",
       " 8024212,\n",
       " 8024214,\n",
       " 7158031,\n",
       " 7164429,\n",
       " 6419371,\n",
       " 6419918,\n",
       " 7757448,\n",
       " 7762176,\n",
       " 7025169,\n",
       " 7025184,\n",
       " 7025215,\n",
       " 7164438,\n",
       " 6404381,\n",
       " 8016526,\n",
       " 8017979,\n",
       " 7769072,\n",
       " 7761744,\n",
       " 7769070,\n",
       " 7762178,\n",
       " 7025112,\n",
       " 7025095,\n",
       " 7025124,\n",
       " 7156119,\n",
       " 6407180,\n",
       " 6409674,\n",
       " 6419365,\n",
       " 6419909,\n",
       " 6419908,\n",
       " 6409672,\n",
       " 7025185,\n",
       " 7025225,\n",
       " 7025196,\n",
       " 6100684,\n",
       " 6101032,\n",
       " 7156120,\n",
       " 7158033,\n",
       " 7158027,\n",
       " 6646208,\n",
       " 6641746,\n",
       " 6640825,\n",
       " 6101035,\n",
       " 8024211,\n",
       " 8017653,\n",
       " 8016529,\n",
       " 7156122,\n",
       " 6392244,\n",
       " 6388567,\n",
       " 6403105,\n",
       " 6390161,\n",
       " 7164433,\n",
       " 7164435,\n",
       " 8016533,\n",
       " 8017985,\n",
       " 8017283,\n",
       " 8027711,\n",
       " 8024213,\n",
       " 8017281,\n",
       " 8024215,\n",
       " 8017656,\n",
       " 7164060,\n",
       " 7158029,\n",
       " 7158037,\n",
       " 7158034,\n",
       " 7779178,\n",
       " 7778218,\n",
       " 6100680,\n",
       " 6102165,\n",
       " 6091427,\n",
       " 6101036,\n",
       " 6100678,\n",
       " 6102938,\n",
       " 6097007,\n",
       " 6102940,\n",
       " 7154594,\n",
       " 6419366,\n",
       " 6409675,\n",
       " 6404382,\n",
       " 7779179,\n",
       " 7789532,\n",
       " 6646198,\n",
       " 6642302,\n",
       " 6635074,\n",
       " 6388417,\n",
       " 6392255,\n",
       " 6392253,\n",
       " 7025154,\n",
       " 7025196,\n",
       " 7025199,\n",
       " 7025217,\n",
       " 7164053,\n",
       " 7161974,\n",
       " 7154589,\n",
       " 6657814,\n",
       " 7025218,\n",
       " 7025092,\n",
       " 6121601,\n",
       " 6108908,\n",
       " 6115824,\n",
       " 7158032,\n",
       " 6403106,\n",
       " 6407187,\n",
       " 6404386,\n",
       " 6407185,\n",
       " 6409677,\n",
       " 6409679,\n",
       " 6419369,\n",
       " 6419916,\n",
       " 6115827,\n",
       " 6108335,\n",
       " 6121605,\n",
       " 6111836,\n",
       " 6115828,\n",
       " 6108912,\n",
       " 6121607,\n",
       " 6121825,\n",
       " 8027706,\n",
       " 8027707,\n",
       " 8027712,\n",
       " 7158028,\n",
       " 7161978,\n",
       " 7164057,\n",
       " 7154590,\n",
       " 7154593,\n",
       " 6663520,\n",
       " 6409673,\n",
       " 7154591,\n",
       " 7779180,\n",
       " 7789531,\n",
       " 7789533,\n",
       " 7025106,\n",
       " 7025123,\n",
       " 6115822,\n",
       " 6108904,\n",
       " 6101035,\n",
       " 7154587,\n",
       " 6660684,\n",
       " 6657811,\n",
       " 6663524,\n",
       " 6404384,\n",
       " 6419914,\n",
       " 6419912,\n",
       " 6407183,\n",
       " 6419367,\n",
       " 6409683,\n",
       " 6419373,\n",
       " 6419920,\n",
       " 7772164,\n",
       " 7764190,\n",
       " 7769063,\n",
       " 7762170,\n",
       " 7761733,\n",
       " 7025112,\n",
       " 7025144,\n",
       " 7025155,\n",
       " 7025169,\n",
       " 7025181,\n",
       " 7025188,\n",
       " 6102167,\n",
       " 6097007,\n",
       " 6409681,\n",
       " 6101034,\n",
       " 6101037,\n",
       " 6108330,\n",
       " 6253345,\n",
       " 7789525,\n",
       " 6250432,\n",
       " 6259675,\n",
       " 6420355,\n",
       " 6388575,\n",
       " 6388415,\n",
       " 6403112,\n",
       " 6390169,\n",
       " 7025104,\n",
       " 7025186,\n",
       " 6253906,\n",
       " 7025170,\n",
       " 7025182,\n",
       " 6259510,\n",
       " 6260558,\n",
       " 6121599,\n",
       " 6111831,\n",
       " 6108906,\n",
       " 6121819,\n",
       " 6108331,\n",
       " 8024209,\n",
       " 8024217,\n",
       " 8017660,\n",
       " 8027715,\n",
       " 8024219,\n",
       " 6259508,\n",
       " 6250442,\n",
       " 6660685,\n",
       " 6388414,\n",
       " 6388572,\n",
       " 6390166,\n",
       " 6393680,\n",
       " 6403109,\n",
       " 6392250,\n",
       " 6388412,\n",
       " 6403111,\n",
       " 7789523,\n",
       " 7789524,\n",
       " 6100675,\n",
       " 6102932,\n",
       " 6250433,\n",
       " 6253912,\n",
       " 6388570,\n",
       " 6393678,\n",
       " 6390164,\n",
       " 6392248,\n",
       " 6392246,\n",
       " 6403107,\n",
       " 7789527,\n",
       " 7779171,\n",
       " 6100676,\n",
       " 6100677,\n",
       " 6100684,\n",
       " 6101030,\n",
       " 6388411,\n",
       " 6392247,\n",
       " 6390165,\n",
       " 6388569,\n",
       " 6393679,\n",
       " 7025096,\n",
       " 7025152,\n",
       " 7025216,\n",
       " 6091421,\n",
       " 6663528,\n",
       " 7761737,\n",
       " 7757443,\n",
       " 7772168,\n",
       " 7764194,\n",
       " 7769065,\n",
       " 7762173,\n",
       " 7025113,\n",
       " 7025143,\n",
       " 7025173,\n",
       " 6259511,\n",
       " 6253917,\n",
       " 6253913,\n",
       " 6253916,\n",
       " 6260559,\n",
       " 6642304,\n",
       " 6637453,\n",
       " 6640816,\n",
       " 7025145,\n",
       " 7025180,\n",
       " 7025230,\n",
       " 6097002,\n",
       " 6102163,\n",
       " 6102164,\n",
       " 6102168,\n",
       " 6657806,\n",
       " 7789530,\n",
       " 7025105,\n",
       " 6260564,\n",
       " 6657809,\n",
       " 6663522,\n",
       " 6657807,\n",
       " 7761741,\n",
       " 7762175,\n",
       " 7772170,\n",
       " 7764196,\n",
       " 7761739,\n",
       " 7769067,\n",
       " 7757445,\n",
       " 7025228,\n",
       " 7025241,\n",
       " 7025111,\n",
       " 7025179,\n",
       " 7025198,\n",
       " 6102934,\n",
       " 6102939,\n",
       " 8017656,\n",
       " 8017281,\n",
       " 8017985,\n",
       " 8017283,\n",
       " 6250441,\n",
       " 6259673,\n",
       " 6642306,\n",
       " 6635078,\n",
       " 6637456,\n",
       " 6640819,\n",
       " 6641738,\n",
       " 7779173,\n",
       " 7778214,\n",
       " 7025109,\n",
       " 7025110,\n",
       " 8027711,\n",
       " 8016533,\n",
       " 8024213,\n",
       " 8017277,\n",
       " 8017980,\n",
       " 8017651,\n",
       " 8027705,\n",
       " 6253915,\n",
       " 6640818,\n",
       " 6646202,\n",
       " 6642307,\n",
       " 6637455,\n",
       " 6640820,\n",
       " 6641739,\n",
       " 6635079,\n",
       " 6646207,\n",
       " 6637461,\n",
       " 6642311,\n",
       " 7778217,\n",
       " 7779177,\n",
       " 7779175,\n",
       " 7789529,\n",
       " 7025171,\n",
       " 7025185,\n",
       " 6259668,\n",
       " 6403106,\n",
       " 6393677,\n",
       " 6388568,\n",
       " 6392245,\n",
       " 7779174,\n",
       " 7779172,\n",
       " 7789526,\n",
       " 7778215,\n",
       " 7778216,\n",
       " 7789528,\n",
       " 7779176,\n",
       " 6108337,\n",
       " 6111838,\n",
       " 6115830,\n",
       " 6121827,\n",
       " 8016530,\n",
       " 8017278,\n",
       " 8027706,\n",
       " 8017981,\n",
       " 6657808,\n",
       " 6388410,\n",
       " 6390163,\n",
       " 6393676,\n",
       " 6388571,\n",
       " 6388413,\n",
       " 6393681,\n",
       " 6390167,\n",
       " 6388573,\n",
       " 6392251,\n",
       " 6403110,\n",
       " 6259675,\n",
       " 6252659,\n",
       " 6108907,\n",
       " 6111832,\n",
       " 6108332,\n",
       " 6253344,\n",
       " 6663521,\n",
       " 6660683,\n",
       " 6102936,\n",
       " 6259671,\n",
       " 6259510,\n",
       " 6660687,\n",
       " 6657813,\n",
       " 6657812,\n",
       " 6660686,\n",
       " 6663525,\n",
       " 6663523,\n",
       " 6657810,\n",
       " 7025153,\n",
       " 7025184,\n",
       " 7025225,\n",
       " 8093343,\n",
       " 7025095,\n",
       " 7025093,\n",
       " 7025215,\n",
       " 7025227,\n",
       " 7025238,\n",
       " 6663526,\n",
       " 6663519,\n",
       " 6393674,\n",
       " 6403103,\n",
       " 6388406,\n",
       " 6388408,\n",
       " 8085867,\n",
       " 8082702,\n",
       " 8091209,\n",
       " 8090455,\n",
       " 8090453,\n",
       " 8093348,\n",
       " 8091211,\n",
       " 8086416,\n",
       " 6877174,\n",
       " 6866058,\n",
       " 6878860,\n",
       " 6875660,\n",
       " 6107308,\n",
       " 6107309,\n",
       " 6107310,\n",
       " 6107389,\n",
       " 6253911,\n",
       " 6252656,\n",
       " 6875664,\n",
       " 6878861,\n",
       " 6875351,\n",
       " 6866062,\n",
       " 6882143,\n",
       " 8016527,\n",
       " 8024207,\n",
       " 8017275,\n",
       " 6390170,\n",
       " 6392254,\n",
       " 6388416,\n",
       " 6388418,\n",
       " 6393673,\n",
       " 6388566,\n",
       " 8085861,\n",
       " 8091203,\n",
       " 8093344,\n",
       " 8086411,\n",
       " 8091212,\n",
       " 8086417,\n",
       " 8090456,\n",
       " 8027713,\n",
       " 8017987,\n",
       " 8017658,\n",
       " 6259678,\n",
       " 6663529,\n",
       " 6657815,\n",
       " 6663527,\n",
       " 8086410,\n",
       " 8091204,\n",
       " 6107385,\n",
       " 6107387,\n",
       " 6107312,\n",
       " 6107384,\n",
       " 6107311,\n",
       " 6252660,\n",
       " 6253911,\n",
       " 6253917,\n",
       " 6253916,\n",
       " 6259670,\n",
       " 8082697,\n",
       " 6882140,\n",
       " 6107390,\n",
       " 6259507,\n",
       " 6388574,\n",
       " 6390168,\n",
       " 6392252,\n",
       " 8093352,\n",
       " 6875659,\n",
       " 6250434,\n",
       " 6260564,\n",
       " 8090447,\n",
       " 8091202,\n",
       " 8093342,\n",
       " 6875348,\n",
       " ...]"
      ]
     },
     "execution_count": 23,
     "metadata": {},
     "output_type": "execute_result"
    }
   ],
   "source": [
    "line_102"
   ]
  },
  {
   "cell_type": "code",
   "execution_count": 14,
   "metadata": {},
   "outputs": [],
   "source": [
    "#dataframe is the datframe from which the selection is chosen from\n",
    "# route is the string representaztion of the route\n",
    "def route_selection(dataframe, route):\n",
    "    route_leavetimes = dataframe.map_partitions(lambda x: x[x.TRIPID.isin(route)])\n",
    "    return route_leavetimes"
   ]
  },
  {
   "cell_type": "code",
   "execution_count": 8,
   "metadata": {},
   "outputs": [
    {
     "name": "stdout",
     "output_type": "stream",
     "text": [
      "CPU times: user 7.07 s, sys: 1.15 s, total: 8.22 s\n",
      "Wall time: 4.58 s\n"
     ]
    }
   ],
   "source": [
    "%time line_102 = list(bus_trip_df[\"TRIPID\"][bus_trip_df[\"LINEID\"] == \"102\"].compute())"
   ]
  },
  {
   "cell_type": "code",
   "execution_count": null,
   "metadata": {},
   "outputs": [],
   "source": []
  },
  {
   "cell_type": "code",
   "execution_count": 26,
   "metadata": {},
   "outputs": [
    {
     "name": "stdout",
     "output_type": "stream",
     "text": [
      "[6277493, 6277492, 6266653, 7100366, 7101507, 6266656, 6266658, 6278972, 6620297, 6617210, 6623766, 6620258, 6389409, 6387381, 6387383, 6613665, 6617208, 8024212, 8017278, 8016530, 8017981, 6401158, 6401168, 6266649, 8085867, 8082702, 8090455, 8090453, 8093348, 8091211, 8086416, 7025103, 7025120, 7025109, 8016526, 8017979, 7025094, 7025147, 7025105, 7025123, 7025111, 7025154, 8027712, 6389450, 6389451, 6389411, 6387385, 7769069, 7772164, 7772170, 7761743, 6620305, 6625124, 6625126, 6620299, 6389416, 6389414, 6387389, 7148431, 6390169, 6403108, 6613668, 6625122, 6625116, 6390167, 6389407, 7135164, 6266651, 6278964, 6278970, 6277495, 7025155, 7025112, 7025095, 7148438, 7145597, 7148440, 6389453, 6387387, 6230505, 8017652, 8017276, 8016528, 8027704, 6623773, 6236035, 6229364, 8017984, 8016534, 8027710, 8017282, 8017986, 8024214, 8027712, 8017657, 6620303, 7773579, 7145589, 7148433, 8082698, 6230673, 8017284, 8024216, 8017988, 8017659, 8027714, 8024218, 7145593, 7135161, 7148435, 7135162, 7161981, 7164438, 7158037, 7154593, 8085859, 8090448, 7025143, 6620266, 6620305, 6253007, 6620262, 7025146, 7025153, 7025093, 7025104, 7025110, 6253005, 6254157, 7161979, 7156124, 7164056, 7164436, 7158033, 7158035, 7164054, 7154591, 7025153, 7025121, 7025104, 7025110, 6251379, 6388566, 6393673, 7164060, 7164058, 6641747, 7025143, 8017278, 8016530, 8017981, 6251376, 6253012, 6254153, 6254159, 6254161, 8057774, 6251377, 6254155, 6637454, 6641737, 6388411, 6393679, 6392247, 6403108, 6388569, 6390165, 8017982, 8016532, 8017280, 8017655, 8027708, 6637459, 6641741, 6635081, 6646205, 6637457, 6642309, 6640822, 7762177, 7772172, 7757449, 7757445, 7761739, 7769067, 7762175, 7761741, 7757447, 7764196, 7762173, 7769065, 7764194, 7761737, 7757443, 7772168, 7025103, 6234819, 7025120, 7025145, 7025094, 7025147, 7025105, 7025123, 7025106, 7025122, 7025154, 8017984, 8016534, 8027710, 8017282, 8017986, 8017657, 7164048, 7164054, 6409682, 6419921, 6419919, 8017284, 8024216, 8017988, 8017659, 8027714, 8027716, 8024218, 6230424, 6234823, 6230416, 6230422, 7164058, 6642303, 6646201, 6635075, 6641735, 6637452, 6635073, 7761735, 7772166, 7764192, 7757442, 8024212, 8024214, 7158031, 7164438, 6404381, 8016526, 8017979, 7025112, 7025095, 7025124, 6407180, 6409674, 6419365, 6419909, 7156120, 7158033, 6101035, 7156122, 7164060, 7158037, 7779178, 7778218, 6388417, 6392255, 6392253, 7025154, 7154589, 7025092, 6121601, 6108908, 6115824, 6403106, 6115827, 6108335, 6121605, 6111836, 6115828, 6108912, 6121607, 6121825, 8027706, 8027712, 7158028, 7154593, 6663520, 7154591, 7779180, 7789531, 7789533, 7025106, 7025123, 6115822, 6108904, 6101035, 6660684, 6657811, 6663524, 7772164, 7764190, 7769063, 7762170, 7761733, 7025112, 7025144, 7025155, 6101037, 6259675, 6388575, 6388415, 6403112, 6390169, 7025104, 6259510, 6260558, 6121599, 6111831, 6108906, 6121819, 6108331, 6259508, 6250442, 6660685, 7789524, 6100675, 6250433, 6100677, 6388411, 6392247, 6390165, 6388569, 6393679, 7025096, 7025152, 7761737, 7757443, 7772168, 7764194, 7769065, 7762173, 7025113, 7025143, 6253917, 6253913, 7025145, 6102164, 6102168, 7025105, 6260564, 6657809, 6663522, 6657807, 7761741, 7762175, 7772170, 7764196, 7761739, 7769067, 7757445, 7025111, 6102939, 6259673, 7025109, 7025110, 6253915, 6642307, 6637455, 6640820, 6641739, 6635079, 6646207, 6637461, 6642311, 6403106, 6393677, 6388568, 6392245, 7779174, 7779172, 7789526, 7778215, 7778216, 7789528, 7779176, 6108337, 6111838, 6115830, 6121827, 8016530, 8017278, 8027706, 8017981, 6388571, 6388413, 6393681, 6390167, 6388573, 6392251, 6403110, 6259675, 6253344, 6259671, 6259510, 6660687, 6657813, 7025153, 7025095, 7025093, 8085867, 8082702, 8091209, 8090455, 8090453, 8093348, 8091211, 8086416, 6877174, 6866058, 6878860, 6875660, 6107309, 6253911, 6875664, 6878861, 6875351, 6866062, 6882143, 6393673, 6388566, 8085861, 8091203, 8093344, 8086411, 6663529, 6657815, 6663527, 6107384, 6107311, 6252660, 6253911, 6253917, 6107390, 8093352, 6260564, 8017657, 8017282, 8027712, 8017984, 8016534, 8027710, 8017986, 8024214, 6250436, 8082700, 8017659, 8017284, 8017988, 8024216, 8027716, 8024218, 6252662, 6259506, 6388415, 6388575, 6390169, 6253907, 8093350, 6259508, 6253905, 6253909, 8082704, 8086418, 8090457, 8024210, 8017276, 8016528, 8027704, 8017652, 6840753, 6832877, 6838244, 6835291, 6838256, 6836455, 6250433, 6403108, 6403112, 6259512, 8085865, 8090451, 8086414, 6866064, 6875353, 6878865, 6882145, 6875666, 6877179, 6840759, 6836463, 6836461, 6875345, 6091424, 6097006, 6101035, 6102162, 6100677, 6260564, 8091213, 8091215, 8090450, 8085863, 6100681, 6097010, 6102941, 6102168, 8082696, 6259673, 6260556, 8085859, 8090448, 6253915, 6620262, 6613668, 6620299, 6623769, 6617214, 6625118, 7772166, 7764192, 7757442, 6776957, 6781186, 6781098, 6773337, 6772724, 6875672, 6875670, 6882149, 6620266, 6620303, 6613674, 6877181, 6882147, 6866066, 6878867, 6091422, 6101033, 6102935, 6286766, 6286867, 6875662, 6875349, 6866060, 6091428, 6102939, 6091426, 6100679, 6102164, 6097008, 6101037, 6102166, 6259514, 6293808, 6286669, 6620297, 6617210, 6623766, 6620258, 6625114, 6613665, 6617208, 6286865, 6286871, 6293806, 6091432, 6091430, 6100683, 6252662, 7025092, 6101029, 6252657, 6250438, 6284145, 7025106, 7025121, 7025123, 6286869, 6781100, 6776959, 6772726, 6773906, 6293804, 6294420, 7025107, 7025112, 7025144, 6101031, 6100675, 6091420, 6097003, 6294424, 6286764, 6286768, 6294418, 6260560, 6260562, 6259512, 6286863, 6259677, 6293810, 6294422, 6284149, 7025104, 7025122, 7316806, 7327185, 7327187, 6776961, 6781102, 6772728, 6773339, 6781189, 6259679, 7327179, 7324208, 7322758, 7316800, 6250436, 6286671, 6096171, 6773345, 6781108, 6781110, 6620305, 6625124, 6625126, 6392253, 7761745, 7769071, 7761743, 7316798, 6101076, 7025096, 7025152, 7329827, 7322762, 7322760, 7327181, 7327183, 7324205, 7322523, 7327175, 6259675, 6250435, 7025105, 6250442, 6259671, 6617212, 6620260, 6625116, 6613667, 7757445, 7761739, 7769067, 7762175, 7761741, 7772170, 7764196, 7025143, 7025124, 7322531, 7324212, 7316804, 7322764, 6250433, 6393675, 7762177, 7769069, 7025111, 6388415, 6388573, 6250440, 6625122, 6620264, 6613672, 6617216, 6623771, 6620301, 6625120, 6613670, 7329821, 6624420, 6618902, 6630665, 6625731, 7762173, 7769065, 7764194, 7761737, 7772168, 7025109, 7025110, 6392255, 7025102, 6776955, 6773904, 6253911, 6253917, 6253913, 7324210, 7316802, 6250433, 7025153, 6840751, 6832873, 6259510, 6260558, 6393673, 6388566, 6100382, 6101074, 6253911, 6253917, 6253913, 7025095, 7025093, 7025120, 7327177, 7327185, 6260564, 6253344, 8090450, 6260556, 7025154, 7098987, 6838252, 6840751, 6832873, 6836451, 6838241, 6613672, 7100372, 6390165, 6393679, 6403108, 6392247, 6388411, 6388569, 8093344, 8093348, 8093350, 7110512, 8091205, 8091211, 7102150, 7101509, 7101515, 6252660, 6626442, 6623656, 7108015, 7108017, 6252657, 6620262, 6613668, 6620299, 6623769, 6625118, 6620266, 6620303, 6613674, 6623773, 6836453, 6835290, 6832875, 6838254, 7137127, 6840757, 6835297, 6838248, 6832881, 6617214, 7101519, 7137134, 6091424, 6097006, 6102162, 6100677, 7136352, 7136358, 6259677, 6259506, 6259679, 6100681, 6097010, 6102941, 6102168, 6840753, 6832877, 6838244, 6835291, 6838256, 6836455, 6259508, 8097179, 8097177, 8081993, 7101513, 7143769, 7141572, 6832879, 6835293, 6840755, 6835295, 6836459, 6838258, 6838246, 6836457, 6253907, 7143775, 7143779, 7147715, 6393681, 7100364, 7100370, 6388413, 7143974, 7143976, 5969125, 6253905, 6253909, 6620299, 6613668, 7147713, 7143773, 5956213, 6259675, 6403110, 7025087, 5956217, 5970138, 6259671, 6259510, 6260558, 6620264, 6392245, 7332292, 5965763, 6840757, 6835297, 6832881, 6776963, 6773911, 6781191, 6781106, 6773341, 6772730, 6625116, 6625122, 6390167, 7025091, 7025090, 6773343, 7147717, 7141566, 5964751, 5972147, 5972145, 7510670, 7511389, 7498450, 7143767, 7143771, 6781110, 6253909, 6252660, 6250436, 6259512, 6259673, 6620303, 6388571, 6392253, 5970526, 5961425, 6253344, 6259677, 6260564, 6250442, 7147721, 7141570, 5964746, 5972135, 5958486, 5970528, 5970842, 6832879, 6835293, 6840755, 6835295, 6836459, 6838258, 6838246, 6836457, 6253907, 6260558, 6250435, 6620297, 6392243, 6392249, 6403108, 6390162, 7025088, 7025125, 7136354, 7147719, 7143972, 6773909, 7025084, 7025085, 7025089, 6620266, 6620305, 6388566, 6388569, 6620262, 6781186, 7318803, 7145595, 7148435, 7321668, 7025126, 7025127, 7025129, 7136352, 7136358, 6625114, 6625120, 6625126, 6393673, 6388566, 7145591, 7135161, 6617212, 7025086, 7025128, 7145589, 7145593, 6617214, 6620258, 6617210, 6620301, 6390165, 6393679, 6392247, 6388411, 6388569, 7329825, 6781104, 7327175, 5970845, 5972139, 5970532, 5958490, 5964932, 5961428, 6773913, 6781193, 6772732, 6253917, 6253915, 7327185, 7147713, 6623771, 6620264, 7148431, 6781098, 6259506, 6250433, 6613667, 6623773, 6617208, 7316800, 7322758, 7324208, 7327179, 7322527, 5958494, 5970849, 5961434, 5964749, 6785207, 6777593, 6774594, 6769314, 6775126, 6776296, 7322764, 6880922, 6880930, 6625124, 7327181, 7025119, 6623766, 6623769, 6403106, 7148433, 7148440, 6620260, 6393673, 6253905, 6259508, 6252657, 6260556, 5970530, 5961427, 5958488, 5961430, 5958492, 5970847, 5972141, 5972143, 5964934, 5961432, 6403108, 6613670, 6393677, 6392245, 7145597, 6769318, 6785213, 6777598, 6777596, 6774600, 6775131, 6785215, 6776302, 6785209, 6776298, 6774596, 6230418, 6620297, 6388575, 6403104, 6390162, 7025103, 7025120, 7025109, 7141570, 6388409, 7135162, 7135164, 6777600, 6769320, 6775133, 6774602, 6388566, 6388569, 7143972, 6388411, 7148438, 6234821, 6617216, 6101033, 6101035, 6239880, 6613665, 6613672, 6102162, 6243671, 6230422, 6239876, 6625118, 6388568, 6243662, 6243667, 6234560, 6230424, 6613674, 7025094, 7025147, 7025105, 7025123, 7025106, 7025122, 7025154, 7137125, 7137128, 7137134, 6777591, 6776294, 6234816, 6390165, 6245293, 6392243, 7329819, 7136360, 7137130, 6392251, 6403112, 7316800, 7324208, 7327179, 7322527, 7025155, 7025095, 7025124, 6234823, 6234562, 6101037, 6239882, 6245295, 6392247, 6388413, 6107314, 6107382, 6403110, 7322525, 7327177, 7329823, 6646209, 6390167, 6117671, 6117673, 6239884, 6774598, 6775129, 6769316, 6776300, 6777594, 6388417, 6392249, 7137132, 6785219, 6769322, 6390169, 6107386, 6107316, 6393681, 6107307, 6107388, 6642305, 6635073, 7025092, 7025093, 7025109, 7025111, 7025113, 7025119, 7025146, 7025152, 7025155, 7143969, 6234566, 6635079, 6646201, 6388571, 7141568, 7136356, 6781106, 6239878, 6243669, 6642309, 6393679, 6393675, 7025102, 7025144, 7025108, 7143767, 6234819, 7025107, 7025096, 6637457, 6388568, 7141564, 6773339, 6234564, 7143773, 7137127, 6772724, 6772730, 6260556, 6392243, 6390165, 6250440, 6646203, 7498450, 7506642, 7511389, 6117670, 6781104, 6641745, 6637454, 7098987, 6773337, 6259506, 7100368, 7100372, 7141566, 7147717, 6773345, 6637455, 6640822, 6403112, 7316798, 7327175, 7329821, 7322523, 7324205, 7327187, 7327185, 7316806, 7110512, 7111203, 7137127, 6091432, 6091430, 6100683, 6641741, 6388413, 6403110, 7322764, 7316804, 7324212, 7322531, 7316802, 7324210, 7322760, 7322762, 7329827, 7322529, 7327183, 7327181, 7108023, 7143771, 7143769, 6773904, 6773906, 6773913, 6637461, 6392247, 6390167, 7147721, 6635081, 6635077, 7143777, 6252657, 6637452, 6640824, 6388417, 6392249, 7102150, 7147719, 7136354, 6252660, 7507518, 7513546, 7510666, 7506639, 7507516, 7513544, 7498446, 7498452, 7513550, 7507522, 7507524, 7511389, 7510670, 7511391, 7506644, 7513548, 7498450, 7506642, 7510668, 7511387, 7099678, 7101509, 7101515, 7143974, 7143976, 6640817, 6641737, 6393681, 6250435, 6642307, 6390169, 7108015, 7108017, 6773907, 6250436, 7100366, 7101507, 7143769, 7141572, 7143773, 6773341, 6773343, 6772728, 6781098, 7099680, 6393679, 7102152, 6772726, 6642311, 6388571, 7102147, 7143974, 7143976, 6781102, 6637459, 6403106, 7102156, 6772732, 6656798, 6635075, 6393673, 6403108, 7101519, 7141566, 6781108, 6781186, 6781191, 6781193, 6635077, 6392245, 6388575, 6403104, 6390162, 7101513, 6781110, 6781189, 6641735, 6393677, 7147721, 7143775, 7143779, 6760258, 6640824, 6388566, 6388569, 6737269, 6642305, 6641739, 6641747, 6388409, 7147719, 6864720, 6850358, 6864718, 6755290, 6751446, 6388411, 7147719, 6764433, 6641743, 6646205, 7143777, 8097172, 6760976, 7513542, 7510674, 7136354, 8081991, 8081950, 6759228, 7511384, 7507520, 8081985, 8081987, 6751450, 6369156, 7513542, 7511384, 7510672, 7511393, 7506646, 7507526, 7507528, 7510674, 7511386, 6751454, 8024214, 6364665, 7514513, 7512489, 6759221, 8016526, 8017979, 6642309, 7143769, 7147715, 6764431, 6635081, 6646205, 6646207, 6371759, 6759222, 6371763, 7143775, 7143779, 7147715, 8082698, 6640817, 6364328, 6364333, 6364329, 6376225, 7143974, 8097170, 6641737, 7143773, 6760260, 6760262, 8027706, 8027708, 6642307, 6364673, 6635073, 6759226, 6640820, 6364335, 7141566, 7137127, 6736442, 6646201, 7512313, 7512485, 7512306, 7512483, 6850814, 6849252, 6855321, 6864710, 7147717, 6641739, 6641741, 6369148, 6369150, 7143771, 7147721, 6364331, 8017982, 8024212, 8016532, 8017280, 8017655, 8017984, 8016534, 8027710, 8017282, 8017986, 8027712, 8017657, 6374048, 6850812, 6855317, 6736448, 6734348, 6369152, 7514511, 7512308, 7141564, 6374046, 7512304, 7512491, 7512311, 7137130, 8081948, 8097174, 8081947, 8081989, 6641745, 6850815, 6856070, 6850352, 6855323, 6849250, 6850350, 6856067, 6864708, 7147713, 6642311, 6635079, 6364667, 6364671, 7136360, 7514510, 7512487, 6646201, 6646207, 6641741, 6635075, 6374055, 6393677, 6403106, 6388568, 6392245, 8091205, 6781496, 7790663, 7780989, 7785667, 7776741, 7782310, 6642303, 6642311, 6760217, 6760219, 7786945, 7776743, 7780991, 6642305, 6392251, 6403110, 6393681, 6390167, 6388413, 6392249, 6388571, 6388573, 8085865, 8090451, 8086414, 8082704, 8086418, 8090457, 6781498, 6769227, 6769229, 6641739, 6641747, 6664804, 6849258, 6850356, 6850821, 8089649, 8088385, 8088388, 6374053, 6849258, 6856074, 6850356, 6850821, 7176472, 7171534, 6637457, 7321664, 7318443, 7170513, 7331714, 7316782, 7332289, 7331712, 8091213, 8091215, 6646203, 7331451, 7323343, 7321668, 7318801, 6850814, 6849252, 6855321, 6864710, 8091205, 8090450, 8085863, 6641743, 6364874, 6864712, 6855319, 8082696, 6781193, 6772732, 6773343, 6637454, 6363105, 7170519, 6781503, 7786952, 7776749, 7782316, 7785674, 6637455, 6640820, 6640822, 7331710, 7332287, 6850815, 6856070, 6849254, 6850352, 6864712, 6855323, 7177715, 7177719, 8085867, 8082702, 8091209, 8090455, 8090453, 8093348, 8086416, 6864708, 6776963, 6773911, 6781104, 6781106, 6773341, 6773909, 6772730, 7776747, 7790669, 7780995, 7782314, 7786948, 7786950, 7790671, 6637461, 7177129, 7181714, 7181722, 8085861, 8091203, 8093344, 8086411, 6637452, 6640824, 6751675, 6760216, 6754659, 6763053, 6646209, 6364873, 6364876, 7181712, 7790675, 7782318, 6637459, 6363101, 8093352, 7171536, 6635075, 6374057, 6374062, 6363103, 6849256, 6864716, 6864714, 6856072, 6850819, 6855325, 6850817, 8091207, 8082700, 6763059, 6751681, 6756457, 6756459, 6754664, 6752662, 6760221, 7331445, 7318803, 7319196, 7319194, 7323341, 7331449, 7177129, 7177131, 7176465, 6635077, 6374060, 7177127, 7776745, 7785670, 7782312, 7786946, 7790667, 7780993, 7171528, 7171532, 6754666, 6752664, 6751683, 6760223, 6751677, 6763055, 6756453, 8091213, 8091215, 7170511, 8090450, 8085863, 6760214, 6763051, 6646209, 7177717, 8085859, 8090448, 8082696, 6646205, 7318441, 7319186, 7321662, 7322531, 7324212, 7316804, 7322764, 7176468, 7177712, 7181710, 7177131, 7785672, 6858629, 7782318, 7790675, 7790673, 7790671, 7786950, 7786948, 7780995, 7790669, 7785672, 7776747, 6641735, 6860440, 6860444, 6855177, 6855178, 7177133, 7177721, 6635073, 8085867, 8082702, 8090455, 8090453, 8091211, 8086416, 6642303, 6642305, 7183467, 7177717, 8085861, 8091203, 8093344, 6641747, 7327179, 7327181, 7327187, 6642309, 6845020, 6842321, 6834571, 6834799, 7183042, 7167817, 7184520, 7181379, 7167638, 7184522, 7167636, 8093352, 7776743, 6637457, 8091207, 8082700, 8093346, 6641745, 7782310, 7776741, 7785667, 6646203, 7329821, 7323339, 7319188, 7318797, 6834569, 6834884, 6842328, 6834574, 6834892, 6834805, 6838304, 6845026, 6834576, 6834807, 6637454, 8093350, 6225908, 6217608, 6217040, 6834578, 6838306, 6845028, 6842330, 6637455, 6640822, 7331442, 7318437, 6838299, 6637461, 6635081, 6858631, 6855180, 8086418, 8090457, 8085865, 8090451, 8086414, 6635077, 6637452, 6834886, 7790665, 7786945, 7776743, 7780991, 6640824, 6222466, 6217036, 6217604, 6225904, 6212588, 6637459, 6834572, 6842323, 6838302, 6845024, 6834803, 6834890, 6858633, 6860449, 7181377, 7184518, 7167815, 6842332, 6834809, 6834811, 6641737, 8091209, 7324205, 7322523, 7327175, 7176472, 6855321, 6850814, 6849252, 6864710, 6855321, 8082698, 7784873, 7780975, 7788432, 7780986, 6850814, 6849252, 7181722, 8085859, 8090448, 7784875, 6637519, 7181714, 7177129, 7171528, 7177712, 8089329, 8085075, 6637430, 7324205, 7322523, 7177719, 7176470, 7171536, 7181718, 7170515, 7177131, 7181716, 6640091, 6637977, 7171534, 8093344, 7329827, 7322762, 6645880, 7177715, 7170513, 7176468, 8017278, 8016530, 7170517, 7176472, 7782314, 8027706, 8017981, 6637422, 6645872, 7332292, 7332294, 7331716, 6645882, 6637424, 6637514, 6225906, 6222866, 6217038, 6217606, 6222868, 6222468, 6222470, 7322755, 7329819, 7331714, 7316782, 7332289, 7331712, 7785672, 6637515, 6637517, 6646860, 6646862, 6212582, 6222861, 7790625, 7790627, 7316806, 7327187, 7177125, 7176465, 8093352, 6637428, 6640087, 6640089, 6222863, 6217034, 6212586, 6222464, 7786943, 7786950, 6637969, 7171530, 7181710, 7170511, 6646856, 6640084, 6637973, 7025136, 7025135, 7025118, 6645870, 6645876, 7025151, 7025160, 7025142, 7025099, 7025157, 7025131, 8093350, 6637512, 7181720, 7170519, 7181722, 8017652, 8024210, 8017276, 8016528, 8027704, 7327181, 7327183, 7322529, 7025138, 7025148, 7025156, 7025130, 7025098, 7025100, 7025115, 7025149, 7025139, 7025158, 6646858, 6646864, 6225908, 6217608, 6217040, 6226048, 7323341, 7318799, 7318445, 7331447, 7319190, 7171530, 7181710, 7170511, 6637975, 8085865, 8086414, 8017278, 8016530, 8027706, 8017981, 6645878, 6637971, 6217036, 6217604, 6225904, 6212588, 6222864, 7331442, 7318437, 7318441, 7321662, 7319186, 8090448, 6388029, 8090451, 8090457, 6402623, 8082698, 8091205, 8014380, 6637426, 6637521, 7025114, 7025117, 7025132, 7025137, 7025140, 8085859, 6760256, 6595849, 6751454, 6637461, 6635081, 6759221, 8014389, 8019870, 8014387, 7025101, 7025159, 7025133, 7025141, 7025134, 7025150, 7025116, 6595834, 6759222, 7025097, 8085867, 8082702, 8119854, 8129154, 8122827, 8121593, 8123581, 6595882, 8091209, 8090455, 8090453, 8093348, 8091211, 8086416, 8017652, 8017276, 8016528, 7098987, 7108017, 7101507, 7110510, 7100364, 6225906, 6222866, 6217038, 6212590, 6217606, 6222868, 6222470, 6760978, 6595894, 6595836, 6595839, 6595846, 6595851, 6595852, 6595875, 6595881, 8119864, 8119866, 8129162, 6212582, 6222861, 6760262, 6595880, 6595878, 6595855, 8093352, 8019030, 8014384, 8019029, 8019866, 6222863, 6217034, 6212586, 6222464, 6759226, 6595840, 6760254, 8093346, 8019864, 8014382, 8019862, 6115822, 6115827, 6111836, 6755283, 7110512, 7101509, 7108019, 7102149, 6759219, 8093350, 6121827, 7177715, 7170513, 7176468, 7177129, 7181714, 8019032, 8019868, 6121601, 6755290, 6121825, 6751446, 6764421, 7101667, 7113065, 7113063, 7113069, 6108912, 6108339, 6764433, 6595834, 6595846, 6595847, 6595848, 6595854, 8082704, 8086418, 8090457, 7111201, 6595855, 6595898, 6111838, 6760976, 7110571, 6595882, 6595876, 6595839, 8085865, 8090451, 8086414, 7170517, 6751448, 7171532, 7177714, 7177127, 7181712, 7181720, 7170519, 8129160, 8121601, 8123588, 6595836, 6595851, 6595874, 6595852, 6595896, 6595837, 7171536, 8128812, 8119858, 8119856, 8121595, 8128811, 7110510, 8091213, 8091215, 8091205, 8085863, 8121597, 8122831, 8123584, 8129156, 6111831, 6121599, 6595879, 6595850, 6595895, 8085859, 8090448, 8082696, 8122829, 7100364, 7100370, 8128814, 8119860, 8119862, 8121599, 8123586, 8122833, 6108331, 7171528, 7177712, 8119854, 8122827, 8121593, 8123581, 7177719, 7176470, 7171536, 7181718, 7170515, 7177131, 7181716, 8054628, 8057354, 8052929, 8056166, 8053443, 8054624, 8059792, 8057348, 8059794, 6108908, 6759228, 6751450, 8053435, 8059787, 7102149, 7101511, 8057344, 8053439, 8085867, 8082702, 8091209, 8090455, 8090453, 8093348, 8086416, 7177125, 7176465, 6115828, 6108906, 8085861, 8091203, 8093344, 8086411, 6115830, 6108904, 7319192, 7321666, 7110510, 7108021, 8128812, 8119858, 8121597, 8122831, 8123584, 8129156, 8129154, 7111203, 7171534, 6121607, 7324205, 7322523, 7102154, 7108019, 7322531, 7324212, 7316804, 7329823, 7322757, 7322525, 8093352, 8109029, 6108333, 6108335, 7111201, 7101517, 8091207, 8082700, 8053441, 8052927, 6111834, 6115822, 6115827, 8056164, 7329825, 7322527, 7324208, 7322758, 7316800, 8057350, 8057352, 8111336, 8111357, 8111560, 7176465, 7177127, 8056168, 8059796, 8093350, 7177125, 6111836, 7110512, 7101509, 7108019, 7102149, 6121611, 7170517, 6111831, 7098987, 7108017, 7101507, 7100364, 7170511, 8054622, 8057346, 8059790, 6108339, 7322755, 7329819, 7177717, 8056162, 8111332, 8111349, 8102739, 6115824, 6115828, 6297682, 7176468, 7177712, 7316806, 7327187, 8053437, 8054620, 8052924, 8057342, 8056160, 8059789, 8052931, 8054626, 7099676, 6108910, 6121605, 6288641, 6288643, 6295734, 6283052, 6111838, 6121599, 6595905, 6595867, 6595862, 6595893, 6595833, 6295732, 7181718, 8128152, 8128156, 6295736, 7176472, 7171534, 6260560, 6260562, 7170513, 8129783, 6111834, 6253344, 8057780, 8057519, 8049816, 8049814, 8054182, 8057778, 6115830, 6250440, 6595873, 6595868, 7181720, 7170515, 6259675, 7170519, 8131204, 8128154, 8076284, 8080199, 8076454, 8076930, 8067075, 8080876, 6595889, 6595863, 6595859, 6595830, 6259673, 7177719, 6121603, 6121609, 6108904, 6259512, 6108337, 8080871, 8080195, 8076278, 8076924, 8067069, 7181714, 7181722, 6108333, 6108335, 6595866, 6595861, 6595891, 6595870, 7181712, 7177714, 7177721, 7321664, 7323339, 7331445, 7319188, 7318797, 7318443, 6250435, 6595899, 6595900, 7181716, 8057515, 8057517, 8057521, 8057782, 8067077, 8131206, 8129782, 7324210, 7316802, 6253907, 8058278, 6222864, 7329821, 7327175, 7316798, 6250433, 6259510, 6259671, 7176470, 7171530, 7177133, 8076456, 8059567, 8049809, 6260556, 8057776, 8054180, 8129785, 8128158, 8131202, 7331712, 6595871, 6595892, 6595904, 7183471, 7167811, 7167628, 8059573, 8059575, 8128160, 8131211, 8131209, 7183040, 7167632, 7183475, 7167634, 8076449, 8076922, 7327181, 7327183, 7322529, 6252662, 6250442, 6259514, 8057519, 8049816, 8049814, 8059575, 8054182, 8057778, 8119856, 8121595, 8128811, 8122829, 6259506, 6297684, 7183033, 7332289, 7316779, 7316780, 6595860, 6595864, 6595865, 6595890, 6595902, 6595901, 6297682, 7181372, 7184514, 7183035, 7167809, 7167626, 7331716, 7332292, 7332294, 7183036, 6595836, 8129160, 8128818, 8121601, 8123588, 7167813, 7183038, 8119856, 8121595, 8128811, 8122829, 8093344, 8093350, 8093352, 7331710, 7331708, 7332287, 6402627, 6595880, 6595855, 6291026, 8058272, 8049812, 8082698, 7322762, 7331714, 7316782, 6292719, 7183469, 7167630, 7184516, 7183473, 7181375, 7322760, 6595840, 6401160, 6595846, 6595850, 6595875, 6595878, 6595882, 6288641, 6288643, 8057780, 8128814, 8119860, 8119862, 8121599, 8123586, 8129158, 8128816, 8122833, 7332285, 6390508, 8058274, 8058276, 6397450, 6397446, 6388024, 6397452, 6394134, 6401156, 6401162, 6401166, 8049809, 8059567, 8059573, 8057784, 8057782, 8058278, 6283052, 6283057, 6295730, 6295734, 8057776, 8057517, 8054180, 7757440, 7764188, 6394141, 7177133, 7177721, 6295732, 7769071, 7761745, 6295736, 6291018, 6291024, 6402629, 6292709, 7757449, 7772172, 7769069, 7762177, 7329827, 7322762, 7322760, 7327177, 7327179, 7327181, 7327185, 6595834, 7329827, 7322762, 6291020, 6291026, 7171532, 7177127, 7181712, 8030250, 8025639, 8014916, 8027181, 8020148, 7322760, 6394139, 6295730, 8027182, 8017982, 8027708, 8017655, 8017280, 8016532, 8024212, 8017988, 8017284, 6402621, 6288637, 7177714, 8111332, 8111355, 8111357, 6292715, 8111563, 8111565, 7329821, 6390506, 6390504, 8027710, 6291022, 7316806, 7327187, 6292707, 7764192, 7757442, 7772166, 6404387, 6419766, 6407186, 6419917, 6409678, 6419915, 6419370, 6292713, 8030254, 8016028, 7324210, 7316802, 6297677, 6288639, 8111349, 8111560, 8102739, 7329821, 7316798, 7177717, 6419761, 6404379, 8076282, 6409680, 6407188, 6419372, 6297680, 8111349, 8111560, 8102739, 8109029, 7761735, 6419368, 6292711, 6283055, 8027706, 8017278, 8016530, 8017981, 8085865, 8090451, 8086414, 7761743, 6283050, 6100681, 6097010, 6102941, 6102168, 8016526, 8017979, 6269776, 6274369, 6268403, 6277235, 6263544, 6269778, 8122825, 8128809, 6277229, 6273071, 6274365, 6263538, 6268397, 8091205, 8090450, 8085863, 6409676, 6404385, 6419913, 6419764, 6407184, 8016024, 8082696, 6273076, 6283052, 6291022, 6091422, 6102935, 6091428, 6091426, 6100679, 6097008, 6101037, 6102166, 8014918, 8016026, 8030252, 8111332, 8111349, 8109029, 8102739, 7764188, 7757440, 6091432, 6091430, 6263536, 6269771, 6102159, 6101029, 7332294, 7331716, 6646203, 6646207, 6642311, 8109033, 8085861, 8091203, 8086411, 7331714, 7316782, 7332289, 7331712, 6277239, 6274373, 6277241, 6637452, 6640824, 8091213, 8091215, 6407182, 6404383, 6419763, 6419911, 7331710, 7331708, 7332287, 6637459, 6635075, 8111330, 8111357, 8111560, 8111565, 7322529, 7329827, 7322762, 7322760, 7327181, 7327183, 6277237, 8091207, 8082700, 8093346, 7757447, 7316806, 7327185, 7327187, 6297680, 6292711, 6283053, 6291024, 6295732, 6288641, 7772172, 6653310, 5970136, 6641735, 7316798, 6653308, 6653312, 6595897, 6595853, 6595875, 6595838, 8086418, 8090457, 6288639, 6641743, 6641739, 6641747, 8109031, 8111334, 8100629, 8102741, 7324210, 7316802, 6664806, 6664812, 7761735, 7772166, 7764192, 7757442, 6663441, 5956221, 5970134, 8109037, 8111567, 8111355, 8100636, 8111330, 8100627, 7769063, 7762170, 7761733, 7764190, 7772164, 5965402, 5969132, 6653954, 8049811, 8059573, 5969126, 6653960, 8058272, 8059573, 8049812, 7322755, 8058270, 8057513, 5969128, 6641741, 6646201, 7329823, 7322757, 7327177, 7322525, 6641743, 6642311, 8111565, 8111353, 8111338, 8102747, 8102745, 8100634, 8109035, 8100632, 6595835, 5965766, 6637454, 6637461, 7762177, 7769069, 7772172, 7757449, 7327179, 7324208, 7322758, 7316800, 8057521, 8049818, 5956215, 8057784, 8057782, 8058278, 8102751, 8102749, 7769059, 7760600, 7760602, 6595840, 6595883, 6595877, 6595849, 7329825, 7322527, 6595878, 5956209, 5956219, 5965398, 6640817, 7760595, 5970534, 5961474, 6635077, 8111563, 8111351, 8109033, 8102743, 8100630, 7322755, 7329819, 7329823, 7322757, 7322525, 5970132, 6646203, 7653459, 5970140, 5972137, 8058270, 8059569, 8054177, 6635081, 5972137, 6635073, 7327179, 7322758, 7316800, 5970534, 7329825, 7322527, 5970845, 5970526, 5970530, 7656588, 7656598, 5958492, 6637459, 6640824, 6641737, 6646209, 6640822, 7757527, 7760597, 7757526, 7769054, 7322529, 7329827, 7322762, 7322760, 7327183, 6595835, 6595894, 6595834, 6646205, 6646207, 6277229, 6635075, 8057772, 5972147, 6642303, 6642305, 7658892, 7658898, 7316806, 7327185, 8057515, 8057774, 8049811, 6637452, 6641735, 7769052, 7769050, 6595883, 6595898, 6595877, 6595849, 6595855, 5964751, 6642311, 6263536, 6269771, 6277229, 6274365, 6263538, 6268397, 7659836, 7659840, 5972135, 6253907, 6269774, 5961430, 5958494, 6641739, 6641747, 6259508, 7316798, 6250433, 7324210, 7316802, 6637459, 6253905, 6253909, 6635075, 6642305, 6635075, 6274365, 5964746, 6259677, 5972139, 7769063, 7762170, 7761733, 7764190, 7772164, 5961427, 6642303, 6595897, 6595875, 6595848, 6595853, 6595881, 6595838, 5965768, 5956211, 6640820, 6646209, 6640820, 8027188, 8020838, 8025645, 8016032, 8016024, 8020148, 8027181, 8014916, 8025639, 8030250, 5961470, 6641735, 5961472, 6642309, 6642311, 6260558, 5965396, 6253344, 7324205, 7322523, 7329821, 8014914, 8027179, 6641739, 6641747, 6637459, 7322531, 7324212, 7316804, 7322764, 7316798, 8030252, 8016026, 8014918, 5961468, 6252657, 8020836, 8030258, 8014922, 8016030, 8027184, 8025643, 8030256, 5958488, 6392253, 6388417, 6392255, 5970528, 5970847, 5961434, 6641743, 6252660, 6393675, 5961432, 6641743, 6403104, 6390162, 6388409, 6392243, 6277233, 6263542, 6259679, 6250436, 7322755, 7329819, 8020151, 8030254, 8025641, 8014920, 8016028, 8027182, 7656594, 7327175, 6393673, 8030262, 8030260, 8025647, 6388566, 5961425, 5961428, 5972143, 5958486, 6259506, 6619310, 7659838, 7329819, 6388411, 6392247, 6390165, 6403108, 6388569, 6393679, 5970849, 6263536, 6269771, 5970842, 5964749, 6613631, 6626175, 6277233, 6273074, 6274367, 6268401, 6263542, 6269774, 5964932, 5964934, 7761745, 7769071, 7761743, 7769067, 7316806, 7327185, 6277231, 6263540, 6268399, 6269773, 5970530, 5970849, 6619312, 8017278, 8016530, 8027706, 8017981, 6613636, 6619316, 7764188, 7757440, 7332294, 5972141, 7762177, 5972143, 7762173, 7769065, 7764194, 7761737, 7757443, 7772168, 6403106, 6393677, 6388568, 6392245, 6613638, 7761745, 7769071, 7332285, 6388571, 6393681, 6390167, 6388573, 6403110, 6392249, 6091428, 6102939, 6091426, 6100679, 6102164, 6097008, 6101037, 6102166, 6619318, 6735819, 6737346, 6737344, 6101033, 6102161, 6613633, 7316779, 7316780, 6613629, 6619314, 7331716, 6609851, 6268405, 6273078, 6274371, 6269780, 6102159, 6101029, 8017984, 8027710, 8017282, 8017986, 8024214, 8027712, 8017657, 6609857, 6601367, 6734067, 6601799, 6605544, 7101519, 8017284, 8024216, 8017988, 8017659, 8027714, 8027716, 8024218, 8017652, 8024210, 6737341, 6734064, 6734065, 8017276, 8016528, 8027704, 7764188, 7757440, 7101513, 6601791, 6601795, 6091422, 6601793, 6388411, 6392247, 6390165, 6388569, 6393679, 8059571, 8057515, 6598241, 7100368, 6737337, 7098987, 7111203, 6737339, 6735813, 6735811, 8125462, 6601365, 6255119, 6254637, 6255265, 6261094, 6260177, 6256569, 6254635, 6261092, 7100372, 7110512, 6601797, 7108023, 8058278, 8057782, 8119382, 7110514, 8057784, 8054180, 8057517, 8057776, 8049812, 8058272, 8125456, 8129126, 8126109, 8122657, 6612589, 6612593, 6612591, 7108017, 7099678, 7102150, 6255127, 6255271, 6254644, 6256576, 7101509, 7101515, 6403106, 6393677, 6388568, 6392245, 8122660, 8125460, 8125665, 8129130, 8119386, 6253913, 6253911, 6259675, 6252662, 6259514, 6250440, 6260562, 6250438, 7110510, 7108015, 7176472, 7171534, 6597551, 6609855, 7099680, 6388571, 6388413, 6393681, 6390167, 6388573, 6392251, 6403110, 6392249, 7170513, 8125454, 8125662, 6605542, 7102152, 7181710, 7102147, 7170515, 6601360, 6255121, 6255269, 7181720, 6597545, 6256574, 7100426, 7111430, 7170519, 8057513, 8059569, 8054177, 6605546, 6597549, 6605550, 6393675, 6403104, 6390162, 6388409, 6392243, 7112117, 7108612, 7104709, 7101180, 7100428, 7181716, 7177131, 7177719, 7181718, 7171536, 7170515, 7176470, 7176472, 7170517, 7177133, 6601358, 6601363, 7115398, 7101188, 7100435, 7104716, 6605548, 6260179, 6613670, 6260863, 6260865, 6261096, 6261098, 6393673, 6388566, 6613674, 6243667, 8057772, 6245301, 8125669, 8129132, 8126113, 8119388, 6239884, 6239882, 6392245, 6393677, 6403106, 6388568, 6393681, 6388413, 6392249, 6388573, 6392251, 6390167, 6403110, 8057515, 8059571, 8049811, 8122662, 8125667, 8129134, 8126117, 8129136, 8129138, 6609859, 8125671, 8119390, 8122664, 8126115, 6230418, 6234816, 6408358, 6420357, 7177129, 7176468, 7170513, 7177715, 7171534, 8119384, 8129128, 8125458, 6420356, 6417716, 6245297, 8119860, 8119862, 8121599, 8123586, 8128814, 8129158, 8122833, 6230424, 6234558, 7170519, 7181722, 6597547, 6243662, 6243665, 6243671, 6239874, 6844528, 6625114, 6625120, 6625126, 6609853, 6230420, 6844532, 6839574, 6845529, 6244656, 6245299, 6239872, 6655875, 6656798, 6655880, 6839575, 6605544, 6230499, 6229362, 8119864, 8119866, 6617214, 6239420, 6236039, 6236041, 6245301, 7171528, 7177712, 6620301, 6243665, 6417718, 6420359, 6417712, 6598239, 6239884, 6417714, 6408356, 6613667, 6623773, 6229366, 7170511, 7176465, 7177125, 7181710, 7171530, 7181712, 7171532, 7177127, 7177714, 6617208, 6244661, 6230501, 6230503, 6230416, 6408354, 6408361, 6417720, 6408363, 6776955, 6785217, 6625124, 6601361, 6239447, 6838250, 6835288, 8128809, 8122825, 6620260, 6229358, 6388415, 6388575, 6390169, 6403112, 6602563, 6602565, 6244663, 6838252, 6836451, 6838241, 6605306, 6239445, 6244659, 7171530, 7181710, 7177125, 7170511, 7176465, 7177714, 7181712, 7177127, 7171532, 6597547, 6244657, 6230671, 7110568, 7110569, 7113067, 7101669, 6609853, 6601361, 6236029, 6236033, 6236031, 6392253, 6388417, 6392255, 8123588, 8121601, 8129160, 6244654, 7101665, 6393675, 6403104, 6390162, 6388409, 6392243, 8128811, 8122829, 6230665, 7113071, 7101674, 7101672, 7177133, 7170517, 7177721, 7176472, 6229360, 6236037, 6239449, 6836453, 6835290, 6832875, 6838254, 8119856, 8121595, 6230667, 6785211, 6598239, 6609859, 6612586, 7170519, 6840753, 6832877, 6838244, 6835291, 6838256, 6836455, 8129162, 6230669, 6230507, 6840759, 6836463, 6836461, 8128812, 8119858, 8121597, 8122831, 8123584, 8129156, 6605308, 6598821, 6260867, 6255273, 6609857, 8129154, 8122827, 8121593, 8123581, 6781102, 6773907, 6772728, 6773339, 6781189, 7115396, 6598818, 6260861, 6254640, 6254642, 6255125, 6261100, 6773345, 6781108, 8128814, 8129160, 6612591, 6598816, 6598823, 6598825, 7108624, 7108622, 7115400, 7101182, 7108614, 8119860, 8119862, 8121599, 8123586, 8128814, 8129158, 8122833, 6602561, 6608807, 6603213, 7507329, 7509287, 7511691, 7514298, 7500517, 7507331, 7509289, 7500527, 7500529, 7514354, 7509291, 7511693, 7514352, 7507338, 7511703, 7514305, 7500523, 7509295, 7500525, 7507334, 7514303, 7514350, 7511697, 7509293, 7511695, 7514301, 7514348, 7507332, 7500521, 7170517, 6278966, 6278968, 7176472, 7171534, 6601365, 6598239, 6255123, 6260859, 6255267, 6254638, 6256572, 7181710, 7181712, 7181718, 7181720, 7181722, 6601797, 7181716, 8119864, 8119866, 6612589, 6612593, 6598237, 7108620, 6776955, 6773904, 7177719, 6601361, 6253003, 6253010, 7112119, 6776957, 6781098, 6773337, 6772724, 8128809, 8122825, 6597551, 7181714, 7181722, 7181712, 6605542, 6390510, 6390512, 6597545, 6601360, 7181720, 7181710, 7170515, 6401168, 6605546, 6609859, 6397444, 6397448, 7115392, 6597549, 6605550, 6401158, 7108616, 7112121, 7100429, 7115394, 7104712, 7101184, 7104714, 7100433, 7101186, 7100431, 7112123, 8128811, 8122829, 8119856, 8123588, 8121601, 8129160, 8128818, 6401164, 6781100, 6776959, 6772726, 6773906, 8121595, 6601358, 6601363, 6605548, 6402625, 6388026, 6388027, 7507336, 7500519, 7177714, 7177721, 7177715, 6609851, 7176468, 6776957, 6776963, 7177712, 6609857, 6601367, 6601799, 7181716, 7176470, 7171530, 7177133, 6776959, 6776961, 6597547, 6609853, 7514346, 7177125, 7099680, 7111203, 7102156, 7100370, 6781100, 6601791, 6601795, 7101513, 7101515, 7102152, 7099678, 7108023, 7100368, 7102154, 6776955, 7176470, 6838250, 6835288, 6617212, 7327177, 7327179, 7171530, 7177133, 8129156, 6617210, 6595898, 7100372, 7101519, 7101517, 7171528, 7171532, 6773911, 6620258, 6623771, 6595896, 6623766, 6623769, 6773909, 6617216, 6613665, 6613672, 6595847, 7171536, 7177125, 7177131, 6595838, 6595837, 7761735, 7772166, 7764192, 7757442, 7322755, 7329819, 7329823, 7329827, 7177714, 7177715, 8128809, 8122825, 7102150, 7110514, 7100366, 7101511, 7108021, 7099676, 6595854, 6595835, 7108015, 7102147, 8122833, 8128816, 8129158, 8123586, 8121599, 8119862, 8128814, 6595883, 6595879, 7181722, 8129162, 8122829, 8128811, 8121595, 8119856, 7184764, 6840759, 6836463, 6595849, 6595848, 6595877, 7757443, 6664806, 8132754, 8136232, 8132321, 8143775, 7780991, 7786945, 7790665, 7769069, 7772172, 7757449, 7757445, 7761739, 7762175, 7761741, 7757447, 7772170, 7764196, 7761735, 7322531, 7316804, 7322764, 7324205, 7322523, 7329821, 7327175, 7785674, 7782316, 7776749, 7786952, 6595874, 7329823, 7322757, 7322525, 7322531, 7324212, 7316804, 7322764, 6655875, 6656798, 6655880, 8146021, 8146027, 8143768, 8136230, 8132319, 8146019, 8132468, 6655873, 7769063, 7762170, 7761733, 7764190, 7772164, 7329825, 7322527, 7327179, 7324208, 7322758, 7316800, 6653956, 6656802, 6595895, 7099680, 7102156, 7100370, 7764188, 7757440, 7790671, 7786950, 7786948, 7782314, 7790669, 7776747, 6595853, 6595876, 7101513, 7101515, 7102152, 7099678, 7108023, 7100368, 7111201, 7102154, 7322531, 7316804, 7322764, 7329823, 7322757, 7327177, 7322525, 7327179, 7324208, 7322758, 7316800, 7769065, 7327183, 7322529, 7782318, 7790675, 7790673, 6595897, 6595848, 7100372, 7101519, 7101517, 6653316, 6653948, 7780987, 7786943, 6595877, 7329827, 7322762, 7322529, 7329827, 7322762, 7322760, 7327181, 7327183, 6663437, 8139684, 8146507, 7327181, 7322760, 6656800, 6595852, 8135582, 7769071, 7761743, 7322755, 7329819, 7322757, 7327177, 7322525, 7780989, 7790663, 8133721, 8148351, 7782310, 7776741, 7785667, 6595874, 7108015, 7102147, 7329827, 7322762, 7322760, 8139679, 8135578, 8148343, 8133711, 6595839, 7757445, 7761739, 7769067, 7762175, 7761741, 7757447, 7772170, 7764196, 7762173, 7764194, 7761737, 7757443, 7772168, 6663443, 6653952, 8145956, 6595895, 7102150, 7110514, 7100366, 7101511, 7108021, 7099676, 7329825, 6656795, 7782310, 7776741, 7785667, 7761745, 6595851, 7324210, 7316802, 6595853, 7329825, 7322527, 6664810, 8133723, 6595876, 6595896, 6653958, 7324210, 7316802, 7329821, 7327175, 7316798, 6653950, 8145960, 8148345, 8139682, 8133715, 8139686, 8146509, 6595897, 6595898, 6663439, 6653314, 8135584, 8148347, 8133717, 8133719, 7769063, 7762170, 7761733, 7764190, 6655876, 6655882, 7324210, 7316802, 7327181, 7327183, 7322529, 6663443, 6653960, 6595847, 7329821, 7327175, 7316798, 6656795, 8145954, 8146500, 6595835, 6655878, 6595881, 6655878, 6595838, 6595837, 7773404, 7773394, 6653958, 7785670, 7770743, 7766434, 7773392, 7766364, 7764019, 7772066, 6595854, 6595883, 6595879, 7790671, 7786950, 7786948, 7782314, 7780995, 7790669, 7785672, 7776747, 7764023, 7773390, 7770739, 7773400, 7773402, 7770741, 7766432, 7772070, 6664804, 7782318, 7790673, 6838254, 7332289, 7331712, 7316779, 7316780, 7773388, 7770737, 7772068, 7766430, 7331716, 7332294, 7331710, 7331708, 7332287, 6855323, 6850815, 6849254, 6856070, 6850352, 6664808, 6664812, 6653310, 6856067, 7773406, 7772064, 7773386, 7764017, 7770736, 7766427, 7766362, 7332285, 7770734, 7772062, 7331714, 7316782, 6653308, 6653312, 6653316, 7790665, 6259677, 6259679, 6838248, 6864708, 6864710, 6864712, 6864718, 8129160, 8128818, 8121601, 8123588, 8119858, 8121597, 8122831, 6663437, 6835295, 7780977, 7790619, 8123584, 8129156, 6663441, 6259508, 6259675, 7790623, 7779573, 7780969, 6259671, 6259510, 6253907, 6260558, 8128814, 8119860, 8119862, 8121599, 8123586, 8129158, 8128816, 8122833, 6849258, 6850356, 6850821, 6856074, 6250433, 6253905, 6253909, 7322527, 7327179, 7324208, 7322758, 7316800, 7784871, 7779579, 7780984, 7779577, 7788430, 7780973, 7780982, 6253917, 6253913, 6253911, 6260564, 6838250, 6835288, 6251377, 7779575, 7780971, 7784869, 7780980, 7780967, 7784867, 7788425, 7790621, 7780979, 7779571, 6254157, 6838250, 6835288, 6838252, 6840751, 6832873, 6836451, 6838241, 8119864, 8129162, 6838252, 6832873, 6836451, 6838241, 6254155, 6253012, 6261092, 6251379, 6251376, 6250435, 6253007, 8122825, 8128809, 7779581, 7779583, 6254161, 6253003, 6836453, 6835290, 6832875, 6838254, 6836453, 6832875, 6838254, 7324205, 7322523, 7322531, 7324212, 7316804, 7322764, 7322757, 7327177, 7322525, 6253010, 6254153, 6254159, 8119856, 8121595, 8122829, 8129160, 8128818, 8121601, 8123588, 6102170, 6102172, 6092075, 6840753, 6832877, 6838244, 6835291, 6838256, 6836455, 7322527, 7327179, 7324208, 7322758, 7316800, 6840759, 6836463, 6836461, 6255127, 8128814, 8119860, 8119862, 8121599, 8123586, 8129158, 8122833, 7780987, 6096293, 6096299, 6096291, 6096295, 6260865, 7786952, 7776749, 7785674, 7322755, 7329819, 8128152, 8128154, 8076452, 8076454, 6096167, 8125664, 7776747, 7790669, 7780995, 7790671, 7653454, 7659832, 7653463, 7652025, 7653096, 7656600, 7652027, 7653456, 7656590, 7653089, 7652019, 7659834, 7658890, 7653461, 7656596, 7656594, 7652023, 7653094, 7656592, 7653457, 7652021, 7658894, 7659838, 7653092, 6253005, 6097678, 6261098, 6254635, 6101072, 6097674, 6097676, 6097680, 7316806, 7327187, 6102177, 6100386, 7790673, 7790675, 7782318, 7757529, 7769057, 6259673, 6260564, 7327181, 7322529, 8080871, 6102159, 6102161, 6100380, 7780993, 7790667, 7782312, 7776745, 6253915, 6096169, 6260556, 8131206, 8129783, 8129782, 8128156, 6102933, 6102937, 6850812, 6855317, 8126111, 6100384, 6259514, 7329827, 7322762, 7322760, 8128160, 8131211, 6092067, 6092069, 6855325, 6850817, 6864714, 6856072, 6850819, 6850354, 6864716, 6252662, 6250438, 6403108, 6858625, 6860442, 7760593, 6252657, 7790663, 7780989, 7785667, 7776741, 7782310, 6858627, 6860444, 6097682, 6260560, 6260562, 6259512, 8131202, 8129785, 8128158, 6096297, 8091205, 8091207, 6259677, 6259679, 6388566, 6393673, 8016526, 8017979, 6250436, 6850350, 6855319, 6849250, 6259675, 6388411, 6393679, 6392247, 6403108, 6388569, 6390165, 6250442, 8093346, 6597549, 6605550, 6259671, 6259510, 6260558, 6250435, 6222466, 6222468, 6222462, 6217032, 6225901, 6212584, 6217602, 6250433, 6850358, 6864720, 6605548, 6250440, 8119864, 8119866, 8129162, 8131204, 8131209, 6253911, 6253917, 6253913, 6255267, 8119860, 8119862, 8121599, 8123586, 8129158, 8128816, 8122833, 6867111, 6877010, 6597547, 6255123, 6259671, 6389416, 6601799, 6605544, 6609853, 6605546, 6260177, 6250440, 8145962, 6261096, 8146502, 8146503, 8017982, 8024212, 8016532, 8017280, 8017655, 8027708, 6261100, 8122825, 8128809, 6222472, 6217610, 6222474, 6601791, 6601795, 6256574, 6256572, 6256576, 6255125, 6387383, 6387387, 6387389, 6387385, 6217608, 6217040, 6226048, 6864712, 6855323, 6850815, 6849254, 6856070, 6850352, 6254640, 8017984, 8016534, 8027710, 8017282, 8017986, 8017657, 6598239, 6261094, 6121605, 6115822, 6115827, 8017284, 8017988, 8017659, 6867569, 6867113, 6867568, 6254638, 6260861, 6111836, 6601365, 6612589, 6254644, 6121823, 8027714, 8027716, 6864718, 6612593, 6601797, 6255121, 6121601, 6121603, 6121821, 6121825, 8128818, 8121601, 8123588, 6121827, 6598237, 6260867, 6601361, 6260859, 8119856, 8121595, 8128811, 8122829, 6108339, 6108912, 6597551, 6609855, 6255265, 6255269, 6255271, 6254642, 6111838, 6877018, 6867116, 6867118, 6605542, 6389451, 6389407, 6389414, 6389453, 8123586, 6849258, 6850356, 6850821, 6856074, 8119854, 8129154, 8121593, 8123581, 8122827, 6597545, 6609859, 6873224, 6115824, 6111831, 6256569, 6121599, 7161979, 7161983, 7164052, 7164060, 7164436, 6866933, 6866939, 6605542, 6390162, 6392243, 6388409, 6393675, 6403104, 8129162, 7162195, 6880922, 6108331, 6254637, 6388417, 6392255, 6392253, 7159101, 6867896, 6597545, 6601360, 6260863, 6260179, 6255119, 6255273, 6108908, 7158035, 7154586, 7162199, 6252660, 6605546, 6115828, 7162983, 6392245, 6393677, 6388568, 6108906, 7152313, 7156118, 6597549, 6605550, 6605548, 7162978, 7162203, 6250435, 6250442, 6388413, 6388571, 6392249, 6388573, 6392251, 6390167, 6403110, 6115830, 6601358, 6601363, 6250436, 6393681, 6121607, 6121819, 6115825, 7150533, 6609851, 6108333, 6108335, 6111834, 6737391, 6737387, 6609857, 6250440, 6388575, 6388415, 6403112, 6390169, 6734348, 6601367, 6601799, 6259506, 6390162, 6217036, 6217604, 6225904, 6212588, 6222864, 7161983, 6259508, 6392243, 6388409, 6393675, 6403104, 6108337, 7154746, 7150529, 7150535, 6736444, 6736263, 6253905, 6253909, 7658898, 7162205, 6601791, 6601795, 6601793, 6253915, 7653457, 7162981, 7154744, 7164434, 7164060, 7164430, 7154748, 7154750, 6744030, 6598241, 6759224, 6601365, 6736265, 6253907, 7159097, 6601797, 6392253, 6388417, 6392255, 8128812, 8119858, 8121597, 8122831, 8123584, 8129156, 6121611, 6737389, 6760974, 6755286, 6612586, 6612589, 6612593, 6250438, 6880922, 6115824, 6115825, 6598237, 6612591, 6865274, 6751452, 6250438, 6867896, 6225906, 6222866, 6217038, 6212590, 6217606, 6222868, 6222470, 7150531, 6736554, 6253344, 6259514, 7164050, 6609855, 6260560, 6260562, 6259510, 6388415, 6388575, 6390169, 6403112, 6866937, 6212582, 6222861, 6744032, 6734343, 6597551, 6260560, 6873220, 6873224, 7659840, 6734350, 6736556, 6744022, 6259671, 6259679, 6867900, 6866929, 6108910, 6217034, 6212586, 6222464, 7161979, 6865278, 6865280, 6736270, 6605302, 6250442, 6392251, 6605296, 6605304, 6603211, 6873217, 6867898, 7161983, 6744034, 6872883, 6605298, 6250440, 6872888, 7164436, 6598819, 6602558, 6253344, 6880928, 6866935, 6734343, 6734350, 6866931, 6121603, 6736268, 6603215, 6603480, 6603484, 6603209, 6252660, 6121605, 6121609, 6121819, 6121821, 6121823, 7164432, 7158030, 6737389, 6608805, 6608809, 6259673, 7161975, 7154586, 7164430, 7164048, 7156118, 6219151, 6223561, 6223563, 7161975, 7164056, 7158030, 7164050, 7156120, 6736270, 6737383, 6603217, 6866937, 6866941, 6225054, 7658892, 7659840, 7161977, 7161981, 6605300, 6595876, 6595839, 6595882, 6595854, 7156116, 7158028, 6737383, 6737385, 6603482, 6603486, 6880930, 6737385, 6603488, 6259514, 6253915, 6595878, 7164052, 7161977, 7154589, 7158031, 7156122, 7164434, 6736446, 6608801, 6253913, 6260556, 6250435, 7164052, 6595840, 6873215, 6867900, 6219149, 6225056, 6736266, 6734346, 6595874, 6595852, 6595880, 6595896, 6595836, 6595847, 6595837, 6595851, 6865282, 6598241, 6595829, 6595831, 6595832, 6595869, 6595872, 6595903, 7156124, 6734348, 6595846, 6595895, 6595850, 6595879, 6867904, 6873222, 6736558, 6736560, 6744028, 6260560, 6259506, 6867902, 6219145, 6219143, 6223556, 6736444, 6612586, 6253907, 6250438, 6865276, 6873218, 6223558, 6225053, 6219147, 7156116, 6736450, 6259508, 6744030, 7786943, 7780987, 6253905, 6253909, 6872890, 7154593, 7154591, 7780993, 7790667, 7786946, 6744026, 7782312, 7776745, 6880926, 6223554, 7156124, 7156118, 8024210, 8024214, 8024216, 8024218, 6882141, 7156116, 6253915, 6234558, 6243664, 7025094, 7025103, 7025146, 6259514, 6736268, 6736272, 8017652, 8024210, 8017276, 8016528, 8027704, 6252662, 6239872, 6737389, 8017284, 8024216, 8017988, 8017659, 8027714, 8027716, 8024218, 7158031, 7164432, 6736270, 6239874, 6245299, 6250438, 8146023, 7161979, 7164438, 8027704, 8027712, 7161983, 6245297, 6259512, 6230420, 6875347, 6875668, 7164434, 7158033, 6260560, 6260562, 6736446, 6877177, 7164050, 7164436, 6736558, 8082704, 8086418, 8090457, 6736266, 6734346, 8132755, 8146023, 8132323, 6878858, 6878863, 7332285, 7332292, 7324208, 6736442, 8132752, 8132317, 8085865, 8090451, 8086414, 7158030, 6736448, 6734348, 6230416, 7329823, 7322757, 7322525, 6736560, 6744028, 7025102, 7025107, 7025108, 7025119, 7025120, 7025121, 7025122, 7025147, 7161975, 7164056, 7161981, 6736444, 8132755, 8132470, 8132323, 6736450, 6744026, 8017278, 8016530, 8017981, 8132468, 8143768, 8136230, 8091213, 8091215, 8091205, 8085863, 6744030, 8085859, 8090448, 7158028, 7158035, 7154586, 8082696, 7327179, 7322758, 7316800, 7164052, 6736554, 7025096, 7025119, 7025121, 7025122, 7025124, 7025144, 7025145, 7329825, 7322527, 8136240, 8136242, 8132476, 7025102, 7025092, 7025108, 7025152, 6663443, 6663445, 7322529, 7158031, 6744034, 7025113, 7025107, 7322762, 7322760, 7327181, 7327183, 7161979, 7164438, 8146019, 8085867, 8082702, 8091209, 8090455, 8090453, 8093348, 8091211, 8086416, 7785674, 7782316, 7776749, 7786952, 8085861, 8091203, 8093344, 8086411, 7776743, 7786945, 7790665, 6734343, 8146021, 8136232, 8132754, 8132321, 7158033, 7156120, 7156122, 7164436, 8082700, 8093346, 7164060, 7324210, 7316802, 7158030, 6245301, 6234560, 7025146, 7025153, 7025093, 7025104, 7025110, 7161975, 8136234, 7164056, 7161977, 7161981, 6243665, 7780987, 7786943, 8132757, 7154589, 6234819, 8143773, 8132759, 8136238, 8136236, 8146025, 8132472, 8132325, 8093348, 7158028, 6243662, 6243667, 6245297, 6245299, 8146027, 8132761, 8132474, 8143775, 8082698, 7780991, 7316798, 7156118, 7164052, 8091207, 8082700, 8093346, 7324210, 7316802, 7154593, 6239884, 6230424, 7780989, 7790663, 8091209, 7154591, 6230422, 6239882, 7782314, 7025092, 7025111, 7025112, 7025121, 7025143, 7025145, 8090451, 7156124, 8143768, 8143771, 8017284, 8024216, 8017988, 8017659, 8146027, 8132761, 8132474, 8143775, 8091213, 8091215, 7161983, 7164048, 7164054, 7776745, 7785670, 7782312, 7786946, 7790667, 7780993, 8027714, 8027716, 8024218, 7156116, 6230418, 6234816, 8136232, 8132752, 8082704, 8086418, 8090457, 7025102, 7025144, 7025152, 6234562, 8085865, 8086414, 7322755, 7329819, 7329823, 7322757, 7327177, 7322525, 7164058, 8146021, 8132321, 8132754, 6234566, 7776745, 7785670, 7782312, 7786946, 7790667, 7780993, 7025113, 7025107, 7025096, 6239876, 7111203, 6243671, 8091205, 8090450, 8085863, 7159095, 7108023, 8082696, 7324208, 7322758, 7316800, 7329825, 7322527, 7159099, 7162985, 7782316, 7776749, 7110514, 7099676, 7780991, 7776743, 7786945, 7790665, 7152318, 7162201, 7162976, 8125667, 8126115, 7110510, 7176149, 7162193, 8113219, 8111552, 8102279, 7099678, 7322529, 7329827, 7322762, 7322760, 7327183, 8085867, 8082702, 8090455, 8090453, 8093348, 8091211, 8086416, 6230420, 7100364, 7100370, 8085861, 8091203, 8086411, 7316806, 7327185, 7327179, 7324208, 7322758, 7316800, 6243664, 6239880, 8102285, 8098583, 8098581, 7100366, 7101507, 8081565, 8085078, 8088390, 6234564, 7790675, 7099680, 7102149, 7329825, 7322527, 6234558, 7780987, 7786943, 8111711, 7101511, 7102152, 8088388, 8089649, 8089333, 6245295, 8081649, 8088396, 8088398, 8088394, 8081567, 7322762, 7322760, 7327181, 7327183, 7154752, 6245293, 8098577, 8102281, 7102147, 7322529, 7108021, 8088392, 8085080, 8081645, 8089337, 8089653, 8085082, 7324205, 7322523, 7329821, 7327175, 7102156, 7102154, 7108019, 7322531, 7318799, 7318445, 7331447, 7319190, 7319192, 7321666, 7318439, 7321660, 7323336, 7318795, 7331444, 7319184, 6239878, 6231591, 6240262, 7780989, 7790663, 8081562, 8081641, 7316804, 7322764, 6243665, 6250435, 7786952, 7111201, 7101517, 6250442, 7324212, 7324210, 7316802, 8111549, 8111551, 8111554, 8111715, 8111717, 8143771, 7327177, 7327187, 6245301, 6240259, 7100368, 8081948, 8097174, 8081947, 8081989, 8098575, 8109536, 8014389, 8019870, 8014387, 8109538, 8113215, 8098571, 8102277, 8111713, 8109533, 6259673, 6260564, 6231585, 6231587, 6243371, 7102156, 8097179, 8081993, 6243369, 6243378, 7108019, 8081991, 8081950, 8081985, 8081987, 8097172, 6259673, 6260556, 6231593, 6243376, 8126109, 8122657, 8129126, 8125664, 8119382, 8125456, 7102149, 7101511, 6250438, 7111201, 7101517, 7329819, 7329827, 7329823, 7322757, 7322525, 8019030, 8014384, 8019029, 8019866, 7108021, 8119386, 8125460, 8126111, 6260560, 6260562, 6259514, 8019864, 8019862, 8125665, 8129130, 8122660, 7102154, 8081647, 8085084, 8081569, 8089655, 6243373, 6240260, 6231589, 8125454, 8125662, 7316798, 6252662, 6252657, 6218359, 6225427, 6216292, 6219407, 6227513, 6223702, 6234823, 8019032, 8019868, 6230416, 7025108, 7025113, 7025119, 7025145, 7025147, 7025155, 8090450, 6234821, 8091207, 6259512, 6239874, 6243669, 8081643, 8089651, 8089335, 6259677, 6250435, 6260560, 6259679, 8082698, 8085077, 8089331, 8089647, 8088385, 7025094, 7025103, 7025146, 8093350, 7322755, 8129134, 8125462, 8119388, 8122662, 7324205, 7322523, 6259675, 8017652, 8024210, 8017276, 8016528, 8027704, 8125669, 8129132, 8126113, 8129136, 8129138, 8126117, 8125671, 8119390, 8122664, 7322531, 7324212, 7316804, 7322764, 6250442, 6259671, 6259510, 6260558, 6250433, 6253915, 8017982, 8016532, 8017280, 8017655, 8027708, 7329821, 6223704, 6218361, 6216294, 8129128, 8125458, 8119384, 7324208, 6250440, 8017984, 8016534, 8027710, 8017282, 8017986, 8024214, 8017657, 6253911, 6253913, 6223708, 6223710, 6403104, 6403108, 7316806, 6218357, 6216304, 6216302, 6219415, 6388415, 6403112, 6388575, 6390169, 7327175, 7327177, 7327181, 7327187, 8113217, 8113221, 6388409, 8132317, 8146019, 6239872, 8136230, 8077931, 8077930, 8072981, 8136234, 8132470, 6277231, 6263540, 6268399, 6269773, 6268405, 6273078, 6274371, 6269780, 6388413, 6392245, 8085867, 8082702, 8091209, 8090455, 8090453, 8091211, 8086416, 8065089, 8085861, 8091203, 8086411, 8065081, 8065083, 8072983, 6388571, 6390162, 6225908, 8072990, 8072988, 8072985, 6393681, 8093352, 7316779, 7316780, 6867902, 6866933, 6880926, 6872886, 6865276, 6393679, 6403110, 8091207, 8082700, 8093346, 6867904, 6873222, 6866935, 6865278, 6872888, 6880928, 6873220, 6403112, 6273074, 6274367, 6268401, 6263542, 6269774, 8076451, 8076280, 6389409, 6387381, 6873218, 6393673, 6865276, 6389450, 6866933, 6389411, 8082704, 8086418, 8090457, 6269776, 6274369, 6268403, 6277235, 6263544, 6269778, 8067079, 8080203, 8067081, 8132757, 8143773, 8132759, 8136236, 8136238, 8146025, 8132472, 8132325, 8136240, 8136242, 8132476, 8132319, 8132468, 6388573, 6620262, 6613668, 6620299, 6623769, 6617214, 6866939, 6392249, 8085865, 8090451, 8086414, 6620266, 6620303, 6613674, 6623773, 6274373, 6277241, 6880922, 6388415, 6625114, 6625118, 8132319, 6389416, 6392243, 8091213, 8091215, 6273071, 6273076, 8065087, 8077933, 6867896, 6865274, 8091205, 8085863, 8085859, 8090448, 6263536, 6393675, 6388417, 8082696, 8027704, 8016528, 8017276, 8024210, 6387385, 6392251, 6268403, 6873220, 6873224, 8027712, 8136234, 6274367, 6273071, 8017652, 6277239, 6263540, 8132757, 8132759, 8136238, 8136236, 8146025, 8132472, 8132325, 6388026, 6402623, 6401156, 6394134, 6390504, 6397444, 6268399, 6268401, 6623658, 8146027, 8132761, 8132474, 8143775, 8024214, 8017657, 8017986, 8016534, 8017984, 8017282, 8017659, 6625730, 6277231, 6277235, 6277241, 6854966, 6850167, 6852590, 6858785, 6269776, 8132755, 8143771, 8132470, 8132323, 6269771, 8091211, 8082698, 6273074, 8132468, 8136230, 8082698, 6274369, 6274371, 6388024, 6402621, 6624418, 6623652, 6630661, 6626439, 6618898, 6625728, 6618896, 6858787, 6857930, 8027714, 8024218, 8027716, 8085859, 8090448, 6625737, 6624424, 6630669, 6626446, 6623654, 6630663, 6618900, 6263544, 8132319, 8093346, 8093350, 6624426, 6618904, 6623660, 6625733, 6630667, 6624422, 6625735, 6263538, 8136240, 8136242, 8132476, 6274373, 6853202, 6850165, 6858783, 6857926, 6852588, 6852586, 6854964, 6858779, 6854958, 6850160, 6853196, 6857920, 6852583, 6853200, 6857924, 6852584, 6854962, 6850163, 6620305, 6625124, 6625126, 6853194, 6852581, 8146019, 8024216, 8146021, 8136232, 8132754, 8132321, 6268397, 6390512, 6397450, 6394141, 6388033, 6390506, 6268405, 8057513, 8058270, 8059569, 8054177, 6617212, 6620260, 6625116, 6613667, 6268405, 6857922, 6853198, 6854960, 6625122, 6620264, 6617216, 6623771, 6620301, 6625120, 6613670, 6392251, 6268403, 6865274, 6277233, 6388575, 8057772, 6277239, 6263540, 6781189, 6403104, 6403112, 6268399, 6873220, 6873224, 6780016, 8059571, 8057774, 8049811, 6388409, 6390165, 6393677, 6268401, 8058272, 8049812, 6620297, 6617210, 6623766, 6620258, 6625114, 6613665, 6617208, 6865278, 6865280, 6273074, 6269776, 6274369, 6268403, 6273076, 6277235, 6263544, 6269778, 6873217, 6872883, 6392243, 6392249, 6392253, 6866933, 6277229, 6273071, 6274365, 6263538, 6268397, 6880928, 8054184, 8058276, 8049818, 6780019, 6769233, 6403104, 6403108, 6390162, 8128812, 8128816, 8129162, 6269780, 6867896, 6781505, 6769235, 6780017, 6781500, 6769231, 6388566, 6388569, 6880924, 8057784, 8121593, 8123581, 8119854, 8122827, 8129154, 6866939, 6773913, 6781193, 6772732, 6773343, 8122831, 6269773, 6880922, 6776963, 6773911, 6781104, 6781191, 6781106, 6773341, 6773909, 6772730, 6403106, 6393679, 6617212, 6620260, 6625116, 6613667, 8121593, 8123581, 8119854, 8122827, 8129154, 6880930, 6403112, 6388573, 8119858, 8123584, 8121597, 8129156, 8025641, 8020151, 6625122, 6620264, 6613672, 6617216, 6623771, 6620301, 6625120, 6613670, 6873215, 6390169, 6865282, 6867900, 6393673, 6392255, 6867904, 6873222, 6393675, 6388417, 6392247, 6873218, 6867902, 8128811, 8014920, 6388568, 6872890, 6393681, 6108910, 6121823, 6111834, 6115825, 6121603, 6108333, 6880926, 8030258, 8027179, 8014914, 6388413, 8128812, 8119858, 8121597, 8122831, 8123584, 8129156, 6283050, 6292717, 6392245, 8128816, 6866929, 6388411, 6390167, 8119854, 8129154, 8122827, 8121593, 8123581, 6867898, 6866931, 8027186, 8030256, 8025643, 8016030, 8014922, 8027184, 8020836, 6872888, 8030260, 8025647, 8030262, 8016032, 8027188, 8025645, 8020838, 6270081, 6271832, 6265584, 6269319, 6266178, 6121611, 6121609, 6108339, 6866935, 7513542, 7511384, 7510672, 7511393, 7506646, 7498454, 7507526, 7507528, 7510674, 7511386, 7498448, 7507518, 6866937, 6866941, 6266182, 6270087, 6269323, 6271836, 7513546, 7510666, 7506639, 7507516, 7513544, 7498446, 7498452, 7513550, 7507522, 7507524, 7511391, 7506644, 7513548, 7507520, 7506642, 7510668, 7511387, 6388571, 6865278, 6865280, 6403106, 6393679, 8119866, 6873217, 6388415, 6388573, 8128814, 8119860, 8119862, 8121599, 8129158, 8128816, 8122833, 6866933, 6880928, 6222472, 6217610, 6222474, 6117998, 6112935, 6111049, 6120671, 6120669, 6112532, 6110352, 6112534, 6110348, 6117994, 6112528, 6112536, 6111053, 6112538, 6866939, 6640824, 6880924, 6641745, 6641747, 6390169, 6873220, 6120664, 6117990, 6120673, 6111051, 6110354, 6112937, 6393673, 6392255, 8119864, 8119866, 6393675, 6388417, 6392247, 6643855, 6633425, 6388568, 6269321, 6266180, 6270083, 6265586, 6270085, 6271834, 6277066, 6388575, 6645119, 6403110, 6392253, 6269325, 6277072, 6277070, 7318437, 7331442, 6633427, 6645128, 6645126, 6403106, 8122825, 8128809, 6265578, 6270078, 6277060, 6270080, 6265580, 6266174, 6269317, 6120667, 6110350, 6112530, 6111047, 6112933, 6645123, 6117996, 7318801, 7323343, 7331451, 6388566, 6388569, 6112526, 6112930, 6111045, 6110346, 6117992, 8146505, 6388409, 6643852, 6633423, 6643853, 7319190, 7331447, 7318445, 7318799, 7331449, 7323341, 7321666, 7319192, 6392255, 6266176, 6277062, 6265582, 8148349, 8135586, 6388568, 6120666, 7319184, 7318795, 7323336, 7321660, 7318439, 7331444, 8119856, 8121595, 8128811, 8122829, 8129160, 8128818, 8121601, 8123588, 8135580, 8133713, 8145958, 6390165, 6637454, 6641737, 6635077, 6392247, 6111836, 6108912, 6115828, 6121825, 6115827, 6121605, 6108335, 6121607, 6637457, 6642309, 6635081, 6641741, 6646205, 6637459, 6641743, 6640822, 7319186, 7321662, 7318441, 6873215, 6867896, 6121821, 6121601, 6108908, 6115824, 6108337, 6392251, 6866941, 6866939, 6115822, 6108904, 7319194, 7319196, 7318443, 7318797, 7319188, 7331445, 7323339, 7321664, 6735817, 6734067, 6121609, 7653454, 7659832, 7653463, 7658898, 7652025, 7653096, 7656600, 7652027, 7656598, 7659836, 7658892, 7653456, 7656590, 7653089, 7652019, 7656588, 7659834, 7658890, 7659840, 7653461, 7658896, 7653459, 7656596, 7652023, 7653094, 7656592, 7653457, 7652021, 7658894, 7653092, 6873215, 6872890, 6865280, 6389450, 6873224, 6737341, 6735815, 6734065, 6645121, 6633421, 6633419, 6389411, 6108904, 6108906, 6121819, 6121599, 6108331, 6111831, 7322525, 7327177, 7322757, 7329823, 6867898, 6866929, 6865274, 6872883, 6121611, 6387383, 6387387, 6387389, 8123584, 8122831, 8121597, 8119858, 8128812, 6243669, 6239876, 6737337, 6737339, 6735813, 6735811, 8119866, 8119864, 6234562, 6245293, 6646858, 6640087, 6645874, 6637515, 6637975, 8123588, 8121601, 8128818, 8129160, 8122827, 8123581, 8121593, 8129154, 8119854, 6637426, 6866931, 6867900, 6880924, 6873217, 6245299, 6234566, 6734064, 7316798, 7329821, 6108910, 6239878, 7322523, 7324205, 7327187, 7316806, 6389451, 6389414, 6389453, 6389409, 7316804, 7324212, 7322531, 6387381, 6389407, 6735819, 6737346, 6737344, 7316802, 7324210, 7322760, 7322762, 7329827, 7322529, 7327183, 8122831, 8119858, 8123584, 8121597, 8129156, 8128812, 6108337, 6115830, 6121827, 6111838, 6637422, 6637971, 6637514, 6640084, 6646856, 6645870, 6865274, 6230420, 6239872, 6637512, 6637969, 6243664, 6646862, 6637430, 6640091, 6637521, 6645872, 6637424, 6637973, 6645882, 6646864, 6865282, 6239880, 6872886, 6234564, 6645880, 6637977, 6646860, 6645878, 6637428, 6640089, 6637519, 6637517, 6645876, 6867900, 6867904, 6873222, 6657841, 6658063, 6658065, 6873218, 6234558, 6245295, 6234821, 6388575, 6390169, 6403112, 6388415, 6234560, 8091213, 8091215, 8090450, 8085863, 6867902, 6239874, 8085859, 8090448, 6222864, 8082696, 6222462, 6217032, 6225901, 6212584, 6217602, 7329819, 7322755, 6393681, 6872890, 6880926, 6252662, 6393677, 6403106, 6388568, 6392245, 6260562, 6653199, 6648957, 6658061, 6657837, 6651325, 6658059, 6648955, 6660523, 6392251, 6403110, 6390167, 6388413, 6392249, 6388571, 6388573, 6865278, 6865280, 6259512, 6259506, 6253907, 8085867, 8082702, 8091209, 8090455, 8090453, 8093348, 8086416, 6226048, 6646203, 6646209, 8085861, 8091203, 8093344, 8086411, 6872883, 6866929, 6253905, 6388409, 6390162, 6403104, 6392243, 6393675, 6880928, 6392253, 6392255, 6388417, 6637455, 6642307, 6635079, 6646203, 6640820, 8093352, 6867898, 8102751, 8111357, 6250442, 6660521, 6653197, 6651323, 6657835, 6658237, 6648953, 6646207, 6637461, 6642311, 8091207, 8082700, 6866931, 6880924, 6872888, 6250440, 6866937, 6866941, 8111336, 8111351, 8109033, 8100630, 8102743, 6253344, 6393673, 6388566, 6866935, 6259673, 6260556, 6640817, 6640824, 8093350, 6880930, 6253915, 6653195, 6660519, 6657534, 6651320, 6657532, 6648952, 6657833, 6653193, 6660517, 6641743, 6641745, 6642305, 6648959, 6657839, 6651327, 6660525, 6653191, 6648950, 6252660, 6393679, 6390165, 6388569, 6392247, 6388411, 8082704, 8086418, 8090457, 8085865, 8090451, 8086414, 6877012, 6877014, 6259514, 7184762, 8109031, 8111334, 8100629, 8102741, 6252662, 7178797, 7150527, 6867571, 6877016, 6867109, 6252657, 7178799, 8111567, 8111355, 8100636, 8100627, 6735815, 8097170, 6259512, 7159103, 6880926, 7152320, 7162979, 6259677, 6259679, 8090450, 6393677, 8097177, 6252660, 7152316, 8091211, 6872883, 8111353, 8102747, 8102745, 8100632, 8100634, 8111565, 8109035, 6253344, 7162197, 6392245, 6403106, 6388568, 6393677, 6858781, 7164434, 7178801, 8076284, 8067077, 8080199, 8076930, 8067075, 8076456, 8080876, 6259675, 6259671, 6259510, 6250436, 6388571, 6392249, 6388573, 6393681, 6388413, 6392251, 6403110, 6390167, 8082704, 8086418, 6866931, 6260558, 7178803, 7178805, 6403104, 8085861, 8091203, 8093344, 8086411, 6867902, 7164050, 6388411, 8093346, 8110096, 7164430, 7164432, 6259506, 6225906, 6222866, 6217038, 6212590, 6217606, 6222868, 6222468, 6222470, 6866941, 6253917, 6253913, 6259508, 6222462, 6217032, 6225901, 6212584, 6217602, 6390162, 6393675, 6392243, 6388409, 8091207, 8082700, 8093346, 6253907, 6212582, 6222861, 8091213, 8091215, 8090450, 8085863, 6880930, 8110105, 8076449, 8076922, 6222863, 6217034, 6212586, 6222464, 7164050, 6388417, 6392253, 6392255, 8076280, 6259673, 7176151, 7184761, 8082696, 6873215, 6253905, 6253909, 7176144, 6866929, 8076282, 8076458, 8076924, 8076928, 6260556, 7158035, 7154586, 6253917, 6872886, 6865282, 7184764, 6867898, 6867904, 6873222, 7176142, 6865276, 6873218, 6259514, 6252662, 6225908, 6217608, 6217040, 6226048, 6637452, 6872888, 7176146, 6640817, 6866935, 7158037, 6641737, 6250438, 6642307, 8086411, 6872890, 8080197, 8111338, 8102747, 8102745, 8100632, 8100634, 8109035, 6222466, 6217036, 6217604, 6225904, 6212588, 8082704, 8080195, 8076278, 8076924, 8067069, 6259512, 7177133, 8085075, 8089329, 8081641, 8081562, 8089647, 8089331, 8085077, 8088398, 8088396, 8081649, 8089333, 8089655, 8081569, 8085084, 8081647, 8085082, 8089653, 8089337, 8081645, 8088392, 8081567, 8088394, 8088390, 8089335, 8089651, 8081643, 6260560, 6260562, 6646209, 6259677, 6222472, 6217610, 6222474, 6230424, 6646207, 6388409, 6392255, 6234823, 6390162, 6392243, 6393675, 6259679, 6250436, 6230416, 8065569, 8066404, 8073053, 8077230, 8081008, 8070528, 6243669, 6239876, 7171536, 6635073, 6245293, 6642303, 6635079, 6646201, 8065570, 8073055, 8066408, 8077234, 8081012, 8070531, 6234562, 7170511, 7176465, 7171532, 8065567, 8066402, 6234566, 6642309, 6392253, 6392251, 6637457, 6243671, 6641745, 6646203, 7324205, 7322523, 6388415, 6388573, 7322531, 7324212, 7316804, 7322764, 7329823, 7322757, 7322525, 6230420, 6239872, 7171530, 7181710, 7177125, 6637454, 6243664, 6239880, 7177714, 7181712, 7177127, 6641741, 6637455, 6640820, 6640822, 7322527, 7327179, 7324208, 7322758, 7316800, 6234564, 6635081, 6637455, 8070533, 8065574, 8066410, 8073057, 8081014, 8077236, 8065572, 6640820, 6640822, 6234558, 6234821, 7171536, 7176470, 7170515, 7181718, 7181716, 7177719, 7177717, 7177131, 6253915, 8081018, 8081020, 8073061, 8065576, 8077238, 8073059, 8070535, 6234560, 7177133, 7170517, 7177721, 7176472, 6637461, 6641737, 6253913, 6369156, 7322755, 7329819, 6635077, 6640817, 6234819, 6641739, 6364669, 6642307, 8066406, 8081010, 8077232, 6259508, 7316806, 7327187, 6646209, 6374044, 8109037, 6371759, 6646205, 8111330, 8111332, 8111338, 7171534, 7176468, 7181714, 7177715, 7170513, 6364673, 8111563, 8109029, 8109035, 6225908, 6217608, 6217040, 6226048, 6364335, 6635073, 6371765, 6646201, 6252660, 6250438, 6260564, 6250436, 6253905, 6253909, 6222466, 6217036, 6217604, 6225904, 6212588, 6222864, 6252657, 6369154, 7181720, 7181722, 7170519, 6642303, 6642305, 6260558, 6259679, 6253911, 6253917, 6376221, 6364331, 6642309, 6369152, 6376218, 6374046, 6637457, 6371755, 6371757, 6371761, 7177715, 6641745, 6374042, 6371767, 7177129, 7654502, 7647303, 7654504, 7644888, 7646611, 7647305, 7655277, 7655279, 7646619, 7653536, 7644890, 7647307, 7644896, 7654511, 7644894, 7654774, 7654507, 7654509, 7646615, 7647311, 7655273, 7655275, 7647309, 7654505, 7646613, 7642947, 7644892, 7654772, 6374050, 7324205, 7322523, 7176465, 6641741, 7322531, 7324212, 7316804, 7322764, 7329823, 7322757, 7327177, 7322525, 7171528, 7171532, 6637454, 6364326, 7170511, 6277241, 6371763, 6364328, 6364333, 6364329, 7177717, 7322527, 7327179, 7324208, 7322758, 7316800, 6225906, 6222866, 6217038, 6212590, 6217606, 6222868, 6222470, 7177131, 6376221, 6277231, 6263540, 6268399, 6269773, 6364667, 6364671, 6212582, 6222861, 6641735, 6268405, 6273078, 6274371, 6269780, 7170513, 6641747, 6642303, 6642305, 7322755, 7329819, 6364665, 6392253, 6392255, 6388417, 6222863, 6217034, 6212586, 6222464, 7170519, 6641739, 7177719, 6635079, 7316806, 7327185, 7327187, 7177129, 7181714, 7177721, 7181712, 7181716, 6637457, 7659832, 7653454, 7653096, 7652025, 7653463, 7658898, 7652027, 7656598, 7656600, 7653456, 7656590, 7656588, 7659834, 7658890, 7653089, 7652019, 7656594, 7653094, 7652023, 7653461, 7658896, 7653459, 7656596, 7652021, 7658894, 7653092, 7659838, 7656592, 7653457, 6646203, 6388575, 6390169, 6403112, 6388415, 7653459, 6646201, 6646207, 6277233, 6273074, 6274367, 6268401, 6263542, 6269774, 6856067, 6864708, 6850350, 6855319, 6849250, 7656588, 7656592, 7171528, 7171532, 6637454, 7176465, 7177127, 6640820, 6640822, 7324210, 7316802, 7329821, 7316798, 7170517, 6637455, 6637461, 6403104, 6403108, 7658890, 7324210, 7316802, 7329821, 7316798, 7327175, 7327183, 7327185, 6642311, 6394137, 6388027, 6390508, 6402627, 6397446, 7659838, 7170511, 6637452, 6640824, 6277237, 6277239, 6397452, 6401166, 6388029, 6394139, 6390510, 6401162, 6402629, 6388031, 6397448, 6401164, 6850358, 6864720, 6635077, 7177717, 7176468, 6637459, 6640817, 7177712, 7327181, 7322529, 6102175, 6096164, 6635075, 6642307, 6369154, 7329825, 7322527, 7324208, 7322758, 7316800, 7329823, 7329825, 6092073, 7181718, 6369148, 6369150, 6364669, 7327175, 7327177, 6376218, 6376223, 7654130, 7657460, 7650913, 7654128, 7657451, 7654122, 7654124, 7657455, 7650910, 7650911, 7327185, 6371755, 6371757, 6371761, 6655873, 6277233, 6277237, 6277239, 6374042, 6102179, 6849256, 6855325, 6850817, 6864714, 6856072, 6850819, 6850354, 6864716, 6655875, 6655880, 6664808, 6371767, 6374050, 6092071, 6102173, 6371765, 6364326, 7329827, 7322762, 6656802, 7322531, 7324212, 7316804, 7322764, 7322757, 7327177, 7322525, 7322760, 7329823, 6269774, 6269778, 7654126, 6653316, 6653948, 6263536, 6273078, 7657453, 7657458, 6274365, 6374048, 6663445, 6663437, 7318799, 7156122, 7161981, 7164438, 7158037, 6274367, 6273071, 6121821, 6656800, 6850812, 6855317, 6121823, 7164432, 7158030, 7156120, 6663443, 6656795, 6277231, 6277235, 6277241, 7324210, 7316802, 6653952, 7329821, 7327175, 7316798, 6655878, 6269776, 6269771, 6849256, 6850354, 6864716, 6864714, 6856072, 6850819, 6855325, 6850817, 6664810, 6277229, 6751450, 6760978, 7327183, 7322760, 6108333, 6111834, 6108910, 6115825, 6121603, 6653958, 6274369, 6274371, 6760254, 7156124, 7164056, 7158033, 7158035, 7164054, 7154591, 7164058, 6653950, 6273076, 6764429, 6655876, 6655882, 6663439, 6263544, 6653314, 6263538, 6274373, 6759219, 7659832, 7653454, 7653096, 7652025, 7653463, 7652027, 7656598, 7656600, 7658892, 7653456, 7656590, 7659836, 7656588, 7659834, 7658890, 7653089, 7652019, 7656594, 7653094, 7652023, 7653461, 7658896, 7653459, 7656596, 7652021, 7658894, 7653092, 7659838, 7656592, 6760256, 6751446, 6263542, 6764421, 6764433, 6108339, 6121611, 6121609, 6755283, 6091430, 6760976, 6751448, 6102164, 6268397, 6277237, 6755288, 6850812, 6855317, 6641739, 6641747, 6269778, 6091424, 6273076, 6269780, 6641745, 6102937, 6101031, 6097006, 6097008, 6849250, 6850350, 6856067, 6855319, 6277237, 6091426, 6637457, 6102161, 6102935, 6102941, 6642307, 6640820, 6641735, 6637455, 6269773, 6297677, 7176465, 7170511, 7170517, 6642309, 6635079, 6288639, 6102939, 6102166, 6102168, 6091428, 6864720, 6850358, 6864718, 6283059, 7177712, 6835290, 7646617, 7654776, 6102933, 7171530, 6297680, 7653534, 7654769, 6642303, 6292711, 6283055, 6635073, 6288645, 7177131, 6635079, 6097003, 6845022, 6834801, 6834888, 6646201, 6291024, 6100681, 7171534, 6292709, 7176472, 7177714, 7177721, 7171536, 7170513, 7176470, 6637457, 6102159, 6101029, 6100679, 7170519, 7177719, 6291020, 6646203, 6100677, 6100683, 6641745, 6288637, 7170515, 7177125, 6295738, 6292715, 6091420, 6091422, 6100675, 6091432, 7176468, 7177127, 6637454, 6751454, 6640822, 6291022, 6121823, 6641741, 6637455, 6292707, 6759221, 6121827, 6108912, 7181714, 6637461, 6635081, 6292713, 6764431, 7177129, 6637452, 6640824, 6283053, 6759222, 6840757, 6835297, 6832881, 6115825, 6635077, 6640817, 7177717, 6641737, 6108331, 6108908, 6642307, 6760978, 7171528, 7171532, 6271829, 6760260, 6760262, 7510672, 7511393, 7506646, 7498454, 7507526, 7507528, 7511386, 7498448, 7507518, 6121821, 6121825, 6832879, 6835293, 6836459, 6838258, 6838246, 6836457, 6764423, 6764425, 7158037, 6835295, 7513546, 7510666, 7506639, 7507516, 7513544, 7498446, 7498452, 7513550, 7507522, 7507524, 7511389, 7510670, 7511391, 7506644, 7513548, 7498450, 7506642, 7510668, 7511387, 7154589, 6646209, 6646205, 6646207, 6278964, 6266651, 6278966, 6277495, 6108906, 6121601, 6121607, 6266653, 6277493, 6277492, 6121819, 6858629, 6855177, 6855178, 6760258, 7164048, 7164054, 6860440, 6266656, 6266658, 6278972, 7164058, 7659832, 7653454, 7653463, 7658898, 7652025, 7653096, 7656600, 7652027, 7656598, 7659836, 7658892, 7653456, 7656590, 7653089, 7652019, 7659834, 7652023, 7653094, 7659840, 7653461, 7658896, 7656596, 7656594, 7653457, 7652021, 7658894, 7653092, 6091426, 7161975, 7154586, 7164430, 7164048, 7156118, 6097006, 6097008, 6097010, 7156116, 7158028, 7161977, 7154589, 7158031, 7156122, 7164434, 6277064, 6277068, 6755290, 6102161, 6102935, 6102941, 6760256, 6760972, 6760980, 6751446, 6764433, 6755283, 6764427, 6102162, 6102166, 6091428, 6858627, 6860442, 6759228, 6760976, 7510674, 7506644, 6751448, 7498448, 7511389, 6266649, 6278968, 6860447, 6664808, 6756818, 6102933, 6765251, 6663441, 6767163, 6097003, 6100681, 6858625, 6653954, 6858631, 6855180, 6643855, 6633425, 7143767, 7143771, 6653960, 6102159, 6860447, 6858633, 6860449, 6653950, 6656798, 8076280, 8067071, 8076926, 6101029, 7141570, 6633427, 6645128, 6645126, 6297677, 6288637, 6291020, 8076458, 8080201, 7507520, 7322755, 7322758, 6100679, 7136354, 6288645, 6283059, 6295736, 6297684, 7498454, 6091420, 6091422, 6100683, 7143972, 6292715, 6283055, 6297682, 6295734, 6283057, 6288643, 7498448, 7322757, 6091432, 7137132, 6645119, 6645121, 6645123, 6760254, 6664804, 8067079, 8067081, 6091430, 6291026, 6764429, 6101033, 6091424, 7137125, 7137128, 7137134, 6291018, 6283050, 6643852, 6633423, 8067073, 8080197, 8080874, 8076928, 8076452, 6102937, 6101031, 7136352, 7136358, 8119864, 8119866, 8129162, 6292719, 6759219, 6653310, 8065089, 8072990, 8072988, 7143775, 6292707, 6292709, 6292713, 6292717, 6767168, 7143969, 6234566, 7143779, 7147715, 7141568, 7136356, 6764421, 6767166, 6234819, 7137130, 6653308, 6653312, 6243664, 6239878, 6243669, 7147713, 7141568, 7136356, 8122825, 8128809, 6234564, 7136360, 6737391, 6737387, 6635075, 6640817, 6641735, 6646201, 6642303, 6637452, 6635073, 6295730, 6295738, 6737391, 6737387, 6744024, 6744024, 6633421, 6633419, 6736263, 6230418, 7143767, 6736263, 6234821, 7513542, 7511384, 7510672, 7511393, 7506646, 7498454, 7507526, 7507528, 7510674, 7511386, 7498448, 7141570, 8122825, 8128809, 8076284, 8067077, 8076454, 8076930, 8067075, 8076456, 8080876, 7507518, 7513546, 7510666, 7506639, 7507516, 7513544, 7498446, 7498452, 7513550, 7507522, 7507524, 7510670, 7511391, 7506644, 7513548, 7507520, 7510668, 7511387, 6230422, 6239876, 6641741, 6736265, 6736265, 6239880, 6243671, 7137128, 7143972, 6635081, 6737383, 8076458, 8080878, 8076286, 6234816, 6243662, 6243667, 6234560, 7137125, 6760978, 6245293, 7143969, 6641737, 6640817, 6734350, 6744032, 8076449, 8076924, 7137125, 7137128, 7137134, 6642307, 6744032, 8076922, 6239882, 6245295, 6646209, 6736556, 6234823, 6234562, 7136352, 7136358, 7137132, 6646205, 8016526, 8017979, 6736556, 7143777, 8109031, 8111334, 8100629, 8102741, 6744022, 6744022, 7143969, 8080199, 6635073, 8027714, 6736552, 6736552, 8109037, 8111567, 8111355, 8100636, 8100627, 6635079, 6642309, 8027708, 8017982, 8016532, 8017280, 8024212, 7141564, 6765254, 6767159, 8111353, 8111338, 8102745, 8100634, 8109035, 8100632, 6641745, 6736554, 7141229, 7136278, 6744032, 8080871, 8080195, 8076278, 8067069, 6646205, 6646207, 6736556, 6744022, 6765252, 8080201, 7137842, 7134044, 7138998, 7141236, 7134046, 7141234, 7136286, 6756822, 6756824, 8102751, 8102749, 7144872, 7139000, 7141238, 7137844, 6736552, 8067073, 8080197, 8080874, 8076928, 8076452, 8076282, 7138994, 7134040, 7136282, 8111563, 8111336, 8111351, 8102743, 8100630, 8067071, 6245297, 7181718, 7134042, 7138996, 7136284, 7144868, 7137840, 7141232, 8119860, 8121599, 7331442, 7318437, 8058272, 8059573, 8049812, 7134048, 7134050, 7144874, 6737387, 6736272, 8122829, 7318441, 7321662, 7319186, 7321664, 6744024, 7181710, 7170515, 7323339, 7331445, 7319188, 7318797, 7318443, 7331451, 7323343, 7321668, 7318801, 8057517, 8057774, 8057778, 8057784, 7513542, 7511384, 7510672, 7511393, 7506646, 7498454, 7507526, 7507528, 7511386, 7507518, 8058270, 8058276, 8057782, 8058278, 7138992, 7137837, 7134038, 7141231, 7136280, 6736263, 7513546, 7510666, 7506639, 7507516, 7513544, 7498446, 7498452, 7513550, 7507522, 7507524, 7510670, 7511391, 7513548, 7498450, 7507520, 7506642, 7510668, 7511387, 7177125, 7177133, 7177721, 7331444, 7318439, 7321660, 7323336, 7318795, 7319184, 8049809, 8057776, 8054180, 6756826, 7177714, 8059567, 6737391, 6767161, 7181716, 7176470, 7318803, 6736442, 7171530, 7319196, 7319194, 6736265, 8027714, 8024216, 6756820, 7170517, 8057780, 8057519, 8049816, 8049814, 8058274, 8059575, 8054182, 6759219, 7143972, 6760256, 7137132, 6755288, 8129160, 8128818, 8121601, 8123588, 6760972, 6760980, 6764421, 8128812, 8119858, 8121597, 8122831, 8123584, 8129156, 7319192, 8076451, 8049814, 6755283, 8057521, 8054184, 8049818, 8128814, 8119862, 8123586, 8129158, 8128816, 8122833, 6764427, 8146023, 7316806, 7327187, 7322529, 7137125, 7137128, 7137134, 6751448, 8102283, 7136352, 7136358, 8119854, 8054177, 8111719, 8111556, 8098579, 8129154, 8122827, 8121593, 8123581, 7323341, 7331449, 7318445, 7331447, 7319190, 6759224, 8057521, 8054184, 8049818, 7143969, 7141568, 7136356, 7327181, 7322529, 8111558, 8109540, 8113223, 7143775, 7143779, 7147715, 7324210, 7316802, 8049818, 8058276, 8054184, 8057521, 6760974, 6755286, 7177715, 8057513, 8057780, 8122825, 8128809, 7329821, 7327175, 7316798, 6760980, 6751452, 7141564, 8058276, 8059567, 8049809, 8143768, 8143773, 7136360, 7137130, 7147713, 7327177, 7327183, 7327185, 8057778, 8054182, 8059575, 8058274, 8049816, 8057519, 8057780, 8057776, 8057517, 8054180, 7322755, 7329819, 6760258, 8059571, 8059575, 7329823, 7322757, 7322525, 8119856, 8121595, 8128811, 7322762, 7322760, 6760976, 6760978, 8057513, 8058270, 8059569, 8054177, 8098573, 7327179, 7329825, 7329827, 6764423, 6764425, 8132752, 8132317, 6760254, 7147717, 6764429, 7143767, 7143771, 8057772, 8059569, 6751452, 6759221, 7329823, 8119864, 8119866, 8129162, 8119854, 8129154, 8122827, 8121593, 8123581, 8057519, 8049816, 8049814, 8058274, 8054182, 8057778, 7143777, 8129158, 7324210, 7316802, 8017282, 8057772, 7141570, 7136354, 7329821, 7327175, 7316798, 8017284, 8017988, 8017659, 8027716, 8024218, 6664806, 7143974, 8119864, 8119866, 6655873, 6655875, 6656798, 8057515, 8059571, 8057774, 8049811, 8132752, 8132317, 8132476, 8136242, 8136240, 7329825, 7322527, 6655880, 6664808, 7143773, 6653956, 6656802, 8128812, 8132759, 8132325, 8132472, 8143773, 8136238, 8146025, 8136236, 8132757, 8129162, 7141566, 8017982, 8024212, 8016532, 8017655, 8027708, 8016526, 8017979, 8017655, 6653948, 6222472, 6217610, 6222474, 7324205, 7322523, 7322531, 7324212, 7316804, 7322764, 7147721, 7329823, 7322757, 7327177, 7322525, 7137132, 8017278, 8016530, 8017981, 8027706, 7147719, 7147717, 7324210, 7316802, 7329825, 7322527, 7327179, 7324208, 7322758, 7316800, 6222466, 6222468, 6222863, 7327175, 7316798, 7327183, 7322529, 6656795, 6653952, 8132474, 8132761, 7137127, 7322755, 7329819, 6222462, 6217032, 6225901, 6212584, 6217602, 7327183, 7322529, 8027716, 8017988, 6655878, 8017982, 8024212, 8016532, 8017280, 8027708, 7143777, 7141568, 7136356, 6219409, 6225430, 6223706, 6218363, 6216296, 6227514, 6653958, 8017984, 8016534, 8027710, 8017282, 8017986, 8024214, 8017657, 7316806, 7327185, 7327187, 6664810, 8146023, 8132755, 8132470, 8143771, 8136234, 8132323, 7141564, 7143769, 7141572, 6653950, 6655876, 6655882, 7136360, 7324205, 7322523, 8017652, 8024210, 8017276, 8016528, 8027704, 6664812, 6663439, 6653314, 8016532, 8016526, 8017979, 7137130, 7324205, 7322523, 7329821, 6736552, 8141087, 8141505, 8141512, 8134448, 8141510, 7145591, 7145595, 7322531, 7324212, 7316804, 7322764, 7327175, 7327177, 7327187, 8027186, 8134442, 8134440, 6219413, 6227520, 6225434, 6216298, 6216300, 6219411, 6225432, 6227516, 6218365, 6227518, 7144866, 7144870, 7329827, 8016534, 7324212, 7181375, 6239882, 7167634, 8132752, 8132317, 6239884, 7331444, 7318439, 7321660, 7323336, 7322531, 7324212, 7316804, 7322764, 7181377, 7329823, 7322757, 7322525, 7318795, 7319184, 7167817, 7167626, 7167809, 7183038, 8017982, 8024212, 8017280, 8017655, 8027708, 7318803, 7319196, 7183469, 6230418, 6234816, 7329825, 7322527, 7327179, 7324208, 7322758, 7316800, 7319194, 7327181, 7327183, 7322529, 7183035, 8134446, 8141090, 6239874, 6239878, 6222472, 6217610, 6222474, 8016528, 8141503, 6245295, 6245299, 7183033, 8050921, 7167811, 8100286, 8110098, 8100284, 6245297, 7324205, 7322523, 7167638, 7184516, 8050913, 8060894, 8050915, 7167628, 6222468, 7322762, 7322760, 7167632, 7184514, 7184520, 7183040, 7183042, 8134444, 8141088, 8141507, 6243662, 6243665, 8017652, 8024210, 8017276, 8027704, 7183475, 6245301, 7331449, 6222462, 6217032, 6225901, 6212584, 6217602, 8099800, 8099799, 8100288, 8110100, 7324212, 7167813, 7322755, 7329819, 7183467, 8100292, 8110103, 7184522, 7183036, 8049809, 8059567, 6243667, 7183473, 8050917, 8060896, 8064061, 8064060, 8132755, 8146023, 8132470, 8100290, 8099802, 7327185, 7327187, 7183471, 7167815, 8132323, 8132468, 8143768, 8136230, 7331451, 7323343, 7321668, 7318801, 7167630, 7181379, 8017984, 8016534, 8027710, 8017986, 8024214, 8027712, 8017657, 8060901, 8060899, 8050919, 8017284, 8024216, 8017659, 8027714, 8024218, 8060892, 8081016, 8064063, 7329825, 7322527, 7324208, 7322758, 7316800, 8136240, 8136242, 8132476, 7181714, 7181720, 8132319, 7324205, 7322523, 7322755, 7329819, 8065085, 8146019, 7171534, 7176468, 7181714, 7177129, 7177715, 7170513, 6601358, 6601363, 8067081, 8080203, 8067079, 8016526, 8017979, 8077931, 8077930, 8072985, 6609851, 7322755, 7329819, 6601367, 7316806, 7327185, 7327187, 7316806, 7327185, 7327187, 7171536, 7181720, 7181722, 8146021, 8136232, 8132754, 8132321, 8076922, 8076449, 8072981, 6612586, 6612591, 8065087, 8077933, 6595845, 8017278, 8016530, 8027706, 8017981, 6595842, 6595841, 8067069, 8076278, 8080195, 8080871, 5964932, 5964934, 8065083, 8065081, 8136234, 5970849, 8017982, 8024212, 8016532, 8017280, 8017655, 8027708, 7177712, 7171528, 8072983, 5972145, 7177717, 7177721, 8132757, 8143773, 8132759, 8076452, 8080874, 8067073, 8136238, 8136236, 8146025, 8132472, 8132325, 8146027, 8132761, 8132474, 8143775, 8017979, 6595858, 5972141, 5958488, 8016526, 8024210, 6595843, 6595857, 6595884, 6595885, 6595887, 6595886, 5970532, 8027706, 7176470, 7170515, 7181718, 7181716, 7177719, 7177717, 7177131, 5970528, 8076286, 8080878, 8080201, 7324205, 7322523, 7322531, 7316804, 7322764, 7322757, 7322525, 5961434, 8027716, 5961432, 8076926, 7327175, 7327177, 7327181, 7327185, 5970847, 7177712, 7171528, 8067071, 8076451, 8080876, 8076456, 8067075, 8076930, 8076454, 8080199, 8067077, 8076284, 5961425, 5961428, 7167636, 5972143, 5958486, 6760972, 6760980, 6755290, 8111330, 8100627, 5958490, 6601793, 7178799, 6764427, 7176149, 6598241, 5970842, 5964749, 7178803, 6759228, 6759224, 6595856, 6595888, 6595844, 6102939, 6744028, 6736444, 5956828, 5956825, 6736558, 6736450, 8102751, 8102749, 8111357, 6760974, 6755286, 5968218, 7176142, 7176146, 7184761, 6751454, 6751452, 6609855, 8111336, 8109033, 8111563, 8100630, 8102743, 6744030, 7184518, 6759221, 6764431, 6759222, 6736554, 6744026, 6625118, 5957728, 5957731, 7176151, 8111334, 8100629, 8102741, 5957726, 5968222, 7178801, 7178805, 6764423, 6764425, 6760260, 6760262, 6605544, 6595843, 5968220, 5957733, 7184762, 7176144, 6760258, 6759226, 6595844, 6763057, 6752660, 6754662, 6751679, 6756455, 5957724, 6744034, 6760258, 8076451, 8076280, 8067071, 8076926, 6756461, 6752666, 6756463, 6734343, 6781186, 6653954, 8076458, 8080201, 8080878, 8076286, 6734350, 7181372, 6595841, 6626174, 6626177, 7178797, 7177129, 6653960, 6595884, 6595857, 6737389, 6736268, 6736272, 6595845, 5968214, 5956826, 5968216, 6736270, 6752658, 6756451, 6595858, 5970534, 8067081, 8067079, 8080203, 8067073, 8080197, 5970845, 6664804, 5970526, 6737385, 8080874, 8076928, 8076282, 5970530, 5958492, 6664810, 6595888, 6776955, 6773904, 6736446, 6653310, 6736266, 6734346, 6776957, 6781098, 6773337, 6772724, 7331708, 7332287, 6653308, 6653312, 6595842, 5972147, 6655873, 6655873, 6655875, 6655880, 6595886, 6663441, 6653956, 6656802, 6653316, 6656800, 5964751, 6608803, 6595885, 6595887, 5972135, 6653316, 6664808, 6595856, 5961430, 6653948, 7332285, 7331710, 8111353, 8111338, 8102747, 8102745, 8100632, 8100634, 6781100, 6776959, 6772726, 6773906, 5972145, 6653956, 6656802, 5958494, 6663445, 6663437, 7316779, 7316780, 6776961, 6781102, 6773907, 6772728, 6773339, 6656800, 7316798, 5964746, 6773345, 6781108, 6781110, 5972139, 8102751, 8102749, 5970532, 6663443, 5961427, 6656795, 6773913, 6781193, 6772732, 6773343, 8111336, 8111351, 8109033, 8100630, 8102743, 5972137, 6653952, 5961466, 6655878, 6781106, 6653948, 6664810, 6773909, 6653958, 6663445, 6776963, 6773911, 6781104, 6781191, 6773341, 6772730, 5969123, 5969130, 6776961, 6781102, 6773907, 6772728, 6773339, 6781189, 6101031, 6100675, 6091420, 6097003, 6102933, 6773907, 6655876, 6655882, 6664812, 6663439, 6653314, 8109031, 8111334, 8100629, 8102741, 6773345, 6781108, 6781110, 6664806, 6653950, 6653308, 6653312, 6664812, 6744026, 6663439, 6653314, 6664806, 8111567, 8109037, 8100636, 8111330, 8100627, 6100683, 5965400, 5965404, 5965770, 6736266, 6734346, 6089523, 6102161, 6102164, 6089530, 6663441, 6836461, 6736442, 6736448, 6095300, 6653954, 6736560, 6744028, 6835297, 6089532, 6744034, 6773904, 6091008, 6089527, 6736450, 6736268, 6736272, 6653960, 6776957, 6781186, 6773337, 6772724, 6095304, 8111560, 8102739, 8109029, 8111332, 6656800, 6737383, 6737385, 8109031, 6736446, 6095296, 6095298, 6095302, 6102937, 6091009, 6664804, 8111349, 8111351, 8111355, 8111567, 8109037, 8100636, 6781100, 6776959, 6772726, 6773906, 8111565, 6089525, 6091011, 6736558, 6840757, 6835297, 6838248, 6832881, 6101031, 6100675, 6091420, 6097003, 6653310, 6663437, 6840757, 6838248, 5964751, 5972145, 5972147, 6744716, 6744714, 6737277, 5961425, 5970526, 6741554, 6741558, 6832879, 6835293, 6840755, 6836459, 6838258, 6838246, 5964746, 5970842, 5970528, 5972135, 6832879, 6835293, 6840755, 6835295, 6836459, 6838258, 6838246, 6836457, 6741552, 6737265, 6737275, 6747306, 6744712, 6736660, 6736669, 6747309, 6747600, 6747602, 6736665, 6736667, 6838250, 6835288, 6736662, 6747606, 6741550, 6838252, 6840751, 6832873, 6836451, 6838241, 6737273, 6736663, 5970845, 5970532, 5972139, 5961428, 5964932, 5958490, 6744710, 6744708, 5964749, 5958494, 5961434, 6741556, 6747608, 6737267, 6836453, 6835290, 6832875, 5961427, 5972137, 6747604, 5964934, 5958492, 5970847, 5961432, 5961430, 5970534, 6747311, 6747313, 6737271, 6840753, 6832877, 6838244, 6835291, 6838256, 6836455, 6840759, 6836463, 6836461, 6764431, 6755288, 6760972, 6760980, 6091424, 6097006, 6101035, 6102162, 6100677, 6764427, 6760260, 6759224, 6760254, 6764429, 6844530, 6845527, 6845525, 6760974, 6755286, 6759219, 6751452, 6653952, 6764421, 6839577, 6845531, 6845533, 6844537, 6844535, 6755283, 6764423, 6764425, 6751448, 6760256, 6655876, 6655882, 6755288, 6760972, 6755290, 6751446, 6764427, 6764433, 6759228, 6759224, 6751450, 6755286, 6751454, 6764431, 6759222, 6755288, 6764423, 6764425, 6760260, 6760262, 6759226, 6759226, 6751450]\n"
     ]
    }
   ],
   "source": [
    "print(route_102_8)"
   ]
  },
  {
   "cell_type": "code",
   "execution_count": 15,
   "metadata": {},
   "outputs": [
    {
     "name": "stdout",
     "output_type": "stream",
     "text": [
      "CPU times: user 24.2 ms, sys: 40 µs, total: 24.3 ms\n",
      "Wall time: 22.6 ms\n"
     ]
    }
   ],
   "source": [
    "# testing if above function works\n",
    "%time route_102_df = route_selection(bus_leavetimes_df, line_102)\n"
   ]
  },
  {
   "cell_type": "code",
   "execution_count": 17,
   "metadata": {},
   "outputs": [
    {
     "name": "stdout",
     "output_type": "stream",
     "text": [
      "CPU times: user 747 ms, sys: 99.3 ms, total: 846 ms\n",
      "Wall time: 948 ms\n"
     ]
    },
    {
     "data": {
      "text/html": [
       "<div>\n",
       "<style scoped>\n",
       "    .dataframe tbody tr th:only-of-type {\n",
       "        vertical-align: middle;\n",
       "    }\n",
       "\n",
       "    .dataframe tbody tr th {\n",
       "        vertical-align: top;\n",
       "    }\n",
       "\n",
       "    .dataframe thead th {\n",
       "        text-align: right;\n",
       "    }\n",
       "</style>\n",
       "<table border=\"1\" class=\"dataframe\">\n",
       "  <thead>\n",
       "    <tr style=\"text-align: right;\">\n",
       "      <th></th>\n",
       "      <th>DAYOFSERVICE</th>\n",
       "      <th>TRIPID</th>\n",
       "      <th>PROGRNUMBER</th>\n",
       "      <th>STOPPOINTID</th>\n",
       "      <th>PLANNEDTIME_ARR</th>\n",
       "      <th>PLANNEDTIME_DEP</th>\n",
       "      <th>ACTUALTIME_ARR</th>\n",
       "      <th>ACTUALTIME_DEP</th>\n",
       "      <th>VEHICLEID</th>\n",
       "      <th>SUPPRESSED</th>\n",
       "      <th>JUSTIFICATIONID</th>\n",
       "      <th>LASTUPDATE</th>\n",
       "    </tr>\n",
       "  </thead>\n",
       "  <tbody>\n",
       "    <tr>\n",
       "      <th>3755</th>\n",
       "      <td>01-JAN-18 00:00:00</td>\n",
       "      <td>5957731</td>\n",
       "      <td>2</td>\n",
       "      <td>935</td>\n",
       "      <td>77743</td>\n",
       "      <td>77743</td>\n",
       "      <td>77715</td>\n",
       "      <td>77715</td>\n",
       "      <td>2868314</td>\n",
       "      <td>NaN</td>\n",
       "      <td>NaN</td>\n",
       "      <td>08-JAN-18 17:21:10</td>\n",
       "    </tr>\n",
       "    <tr>\n",
       "      <th>3756</th>\n",
       "      <td>01-JAN-18 00:00:00</td>\n",
       "      <td>5968222</td>\n",
       "      <td>2</td>\n",
       "      <td>935</td>\n",
       "      <td>82843</td>\n",
       "      <td>82843</td>\n",
       "      <td>82844</td>\n",
       "      <td>82844</td>\n",
       "      <td>2534829</td>\n",
       "      <td>NaN</td>\n",
       "      <td>NaN</td>\n",
       "      <td>08-JAN-18 17:21:10</td>\n",
       "    </tr>\n",
       "    <tr>\n",
       "      <th>3757</th>\n",
       "      <td>01-JAN-18 00:00:00</td>\n",
       "      <td>5957733</td>\n",
       "      <td>2</td>\n",
       "      <td>935</td>\n",
       "      <td>84643</td>\n",
       "      <td>84643</td>\n",
       "      <td>84643</td>\n",
       "      <td>84643</td>\n",
       "      <td>2868314</td>\n",
       "      <td>NaN</td>\n",
       "      <td>NaN</td>\n",
       "      <td>08-JAN-18 17:21:10</td>\n",
       "    </tr>\n",
       "    <tr>\n",
       "      <th>3758</th>\n",
       "      <td>01-JAN-18 00:00:00</td>\n",
       "      <td>5968214</td>\n",
       "      <td>1</td>\n",
       "      <td>4381</td>\n",
       "      <td>42300</td>\n",
       "      <td>42300</td>\n",
       "      <td>42326</td>\n",
       "      <td>42326</td>\n",
       "      <td>1001151</td>\n",
       "      <td>NaN</td>\n",
       "      <td>NaN</td>\n",
       "      <td>08-JAN-18 17:21:10</td>\n",
       "    </tr>\n",
       "    <tr>\n",
       "      <th>3759</th>\n",
       "      <td>01-JAN-18 00:00:00</td>\n",
       "      <td>5957726</td>\n",
       "      <td>1</td>\n",
       "      <td>4381</td>\n",
       "      <td>48300</td>\n",
       "      <td>48300</td>\n",
       "      <td>48298</td>\n",
       "      <td>48298</td>\n",
       "      <td>1000198</td>\n",
       "      <td>NaN</td>\n",
       "      <td>NaN</td>\n",
       "      <td>08-JAN-18 17:21:10</td>\n",
       "    </tr>\n",
       "  </tbody>\n",
       "</table>\n",
       "</div>"
      ],
      "text/plain": [
       "            DAYOFSERVICE   TRIPID  PROGRNUMBER  STOPPOINTID  PLANNEDTIME_ARR  \\\n",
       "3755  01-JAN-18 00:00:00  5957731            2          935            77743   \n",
       "3756  01-JAN-18 00:00:00  5968222            2          935            82843   \n",
       "3757  01-JAN-18 00:00:00  5957733            2          935            84643   \n",
       "3758  01-JAN-18 00:00:00  5968214            1         4381            42300   \n",
       "3759  01-JAN-18 00:00:00  5957726            1         4381            48300   \n",
       "\n",
       "      PLANNEDTIME_DEP  ACTUALTIME_ARR  ACTUALTIME_DEP  VEHICLEID  SUPPRESSED  \\\n",
       "3755            77743           77715           77715    2868314         NaN   \n",
       "3756            82843           82844           82844    2534829         NaN   \n",
       "3757            84643           84643           84643    2868314         NaN   \n",
       "3758            42300           42326           42326    1001151         NaN   \n",
       "3759            48300           48298           48298    1000198         NaN   \n",
       "\n",
       "      JUSTIFICATIONID          LASTUPDATE  \n",
       "3755              NaN  08-JAN-18 17:21:10  \n",
       "3756              NaN  08-JAN-18 17:21:10  \n",
       "3757              NaN  08-JAN-18 17:21:10  \n",
       "3758              NaN  08-JAN-18 17:21:10  \n",
       "3759              NaN  08-JAN-18 17:21:10  "
      ]
     },
     "execution_count": 17,
     "metadata": {},
     "output_type": "execute_result"
    }
   ],
   "source": [
    "%time route_102_df.head()"
   ]
  },
  {
   "cell_type": "code",
   "execution_count": 18,
   "metadata": {},
   "outputs": [
    {
     "name": "stdout",
     "output_type": "stream",
     "text": [
      "CPU times: user 5min 51s, sys: 47.7 s, total: 6min 39s\n",
      "Wall time: 2min 38s\n"
     ]
    },
    {
     "data": {
      "text/plain": [
       "998739"
      ]
     },
     "execution_count": 18,
     "metadata": {},
     "output_type": "execute_result"
    }
   ],
   "source": [
    "%time len(route_102_df)"
   ]
  },
  {
   "cell_type": "code",
   "execution_count": null,
   "metadata": {},
   "outputs": [],
   "source": [
    "stations_list_102_8 = list(route_102_8_df.STOPPOINTID.compute())\n"
   ]
  },
  {
   "cell_type": "code",
   "execution_count": null,
   "metadata": {},
   "outputs": [],
   "source": [
    "list_route_102_8_stops = list(Counter(stations_list_102_8).keys())\n",
    "for stop in list_route_102_8_stops:\n",
    "    print(stop)"
   ]
  },
  {
   "cell_type": "code",
   "execution_count": null,
   "metadata": {},
   "outputs": [],
   "source": [
    "#checking if the lines were pulled correctly\n",
    "print(line_102)"
   ]
  },
  {
   "cell_type": "code",
   "execution_count": 10,
   "metadata": {},
   "outputs": [],
   "source": [
    "# change datatypes of the leavetimes dataset\n",
    "bus_leavetimes_df[\"DATASOURCE\"] = bus_leavetimes_df[\"DATASOURCE\"].astype(\"category\")\n",
    "bus_leavetimes_df[\"DAYOFSERVICE\"] = dd.to_datetime(bus_leavetimes_df[\"DAYOFSERVICE\"])\n",
    "bus_leavetimes_df[\"LASTUPDATE\"] = dd.to_datetime(bus_leavetimes_df[\"LASTUPDATE\"])\n"
   ]
  },
  {
   "cell_type": "code",
   "execution_count": 11,
   "metadata": {},
   "outputs": [
    {
     "data": {
      "text/plain": [
       "DATASOURCE               category\n",
       "DAYOFSERVICE       datetime64[ns]\n",
       "TRIPID                      int64\n",
       "PROGRNUMBER                 int64\n",
       "STOPPOINTID                 int64\n",
       "PLANNEDTIME_ARR             int64\n",
       "PLANNEDTIME_DEP             int64\n",
       "ACTUALTIME_ARR              int64\n",
       "ACTUALTIME_DEP              int64\n",
       "VEHICLEID                   int64\n",
       "PASSENGERS                float64\n",
       "PASSENGERSIN              float64\n",
       "PASSENGERSOUT             float64\n",
       "DISTANCE                  float64\n",
       "SUPPRESSED                float64\n",
       "JUSTIFICATIONID           float64\n",
       "LASTUPDATE         datetime64[ns]\n",
       "NOTE                      float64\n",
       "dtype: object"
      ]
     },
     "execution_count": 11,
     "metadata": {},
     "output_type": "execute_result"
    }
   ],
   "source": [
    "#the datatypes of the features should be correct\n",
    "bus_leavetimes_df.dtypes"
   ]
  },
  {
   "cell_type": "markdown",
   "metadata": {},
   "source": [
    "# looking at the data and cleaning it accordingly\n",
    "\n",
    "performing the min and max of the features can give us insight into the features themselves, so since the dataypes should all be correct it will point us towards outliers or irregular data"
   ]
  },
  {
   "cell_type": "code",
   "execution_count": 36,
   "id": "bb62ba1e",
   "metadata": {},
   "outputs": [
    {
     "name": "stdout",
     "output_type": "stream",
     "text": [
      "CPU times: user 7min 44s, sys: 1min 18s, total: 9min 2s\n",
      "Wall time: 2min 55s\n"
     ]
    },
    {
     "data": {
      "text/plain": [
       "DAYOFSERVICE       2018-12-31 00:00:00\n",
       "TRIPID                         8592207\n",
       "PROGRNUMBER                        109\n",
       "STOPPOINTID                       7692\n",
       "PLANNEDTIME_ARR                  91680\n",
       "PLANNEDTIME_DEP                  91680\n",
       "ACTUALTIME_ARR                   97177\n",
       "ACTUALTIME_DEP                   97177\n",
       "VEHICLEID                      3394131\n",
       "PASSENGERS                         NaN\n",
       "PASSENGERSIN                       NaN\n",
       "PASSENGERSOUT                      NaN\n",
       "DISTANCE                           NaN\n",
       "SUPPRESSED                           1\n",
       "JUSTIFICATIONID            4.84981e+17\n",
       "LASTUPDATE         2019-01-16 18:27:21\n",
       "NOTE                               NaN\n",
       "dtype: object"
      ]
     },
     "execution_count": 36,
     "metadata": {},
     "output_type": "execute_result"
    }
   ],
   "source": [
    "%time bus_leavetimes_df.max().compute()"
   ]
  },
  {
   "cell_type": "code",
   "execution_count": 37,
   "metadata": {},
   "outputs": [
    {
     "name": "stdout",
     "output_type": "stream",
     "text": [
      "CPU times: user 7min 32s, sys: 1min 30s, total: 9min 2s\n",
      "Wall time: 2min 58s\n"
     ]
    },
    {
     "data": {
      "text/plain": [
       "DAYOFSERVICE       2018-01-01 00:00:00\n",
       "TRIPID                         5955221\n",
       "PROGRNUMBER                          1\n",
       "STOPPOINTID                          2\n",
       "PLANNEDTIME_ARR                  16200\n",
       "PLANNEDTIME_DEP                  16200\n",
       "ACTUALTIME_ARR                   15974\n",
       "ACTUALTIME_DEP                   15974\n",
       "VEHICLEID                      1000110\n",
       "PASSENGERS                         NaN\n",
       "PASSENGERSIN                       NaN\n",
       "PASSENGERSOUT                      NaN\n",
       "DISTANCE                           NaN\n",
       "SUPPRESSED                           0\n",
       "JUSTIFICATIONID                 177856\n",
       "LASTUPDATE         2018-01-08 17:21:10\n",
       "NOTE                               NaN\n",
       "dtype: object"
      ]
     },
     "execution_count": 37,
     "metadata": {},
     "output_type": "execute_result"
    }
   ],
   "source": [
    "%time bus_leavetimes_df.min().compute()"
   ]
  },
  {
   "cell_type": "code",
   "execution_count": 11,
   "metadata": {},
   "outputs": [
    {
     "ename": "ValueError",
     "evalue": "Metadata inference failed in `drop_by_shallow_copy`.\n\nYou have supplied a custom function and Dask is unable to \ndetermine the type of output that that function returns. \n\nTo resolve this please provide a meta= keyword.\nThe docstring of the Dask function you ran should have more information.\n\nOriginal error is below:\n------------------------\nKeyError(\"['DATASOURCE' 'PASSENGERS' 'PASSENGERSIN' 'PASSENGERSOUT' 'DISTANCE'\\n 'NOTE'] not found in axis\")\n\nTraceback:\n---------\n  File \"/home/team10/miniconda3/lib/python3.9/site-packages/dask/dataframe/utils.py\", line 176, in raise_on_meta_error\n    yield\n  File \"/home/team10/miniconda3/lib/python3.9/site-packages/dask/dataframe/core.py\", line 5612, in _emulate\n    return func(*_extract_meta(args, True), **_extract_meta(kwargs, True))\n  File \"/home/team10/miniconda3/lib/python3.9/site-packages/dask/dataframe/utils.py\", line 710, in drop_by_shallow_copy\n    df2.drop(columns=columns, inplace=True, errors=errors)\n  File \"/home/team10/miniconda3/lib/python3.9/site-packages/pandas/core/frame.py\", line 4308, in drop\n    return super().drop(\n  File \"/home/team10/miniconda3/lib/python3.9/site-packages/pandas/core/generic.py\", line 4153, in drop\n    obj = obj._drop_axis(labels, axis, level=level, errors=errors)\n  File \"/home/team10/miniconda3/lib/python3.9/site-packages/pandas/core/generic.py\", line 4188, in _drop_axis\n    new_axis = axis.drop(labels, errors=errors)\n  File \"/home/team10/miniconda3/lib/python3.9/site-packages/pandas/core/indexes/base.py\", line 5592, in drop\n    raise KeyError(f\"{labels[mask]} not found in axis\")\n",
     "output_type": "error",
     "traceback": [
      "\u001b[0;31m---------------------------------------------------------------------------\u001b[0m",
      "\u001b[0;31mKeyError\u001b[0m                                  Traceback (most recent call last)",
      "\u001b[0;32m~/miniconda3/lib/python3.9/site-packages/dask/dataframe/utils.py\u001b[0m in \u001b[0;36mraise_on_meta_error\u001b[0;34m(funcname, udf)\u001b[0m\n\u001b[1;32m    175\u001b[0m     \u001b[0;32mtry\u001b[0m\u001b[0;34m:\u001b[0m\u001b[0;34m\u001b[0m\u001b[0;34m\u001b[0m\u001b[0m\n\u001b[0;32m--> 176\u001b[0;31m         \u001b[0;32myield\u001b[0m\u001b[0;34m\u001b[0m\u001b[0;34m\u001b[0m\u001b[0m\n\u001b[0m\u001b[1;32m    177\u001b[0m     \u001b[0;32mexcept\u001b[0m \u001b[0mException\u001b[0m \u001b[0;32mas\u001b[0m \u001b[0me\u001b[0m\u001b[0;34m:\u001b[0m\u001b[0;34m\u001b[0m\u001b[0;34m\u001b[0m\u001b[0m\n",
      "\u001b[0;32m~/miniconda3/lib/python3.9/site-packages/dask/dataframe/core.py\u001b[0m in \u001b[0;36m_emulate\u001b[0;34m(func, *args, **kwargs)\u001b[0m\n\u001b[1;32m   5611\u001b[0m     \u001b[0;32mwith\u001b[0m \u001b[0mraise_on_meta_error\u001b[0m\u001b[0;34m(\u001b[0m\u001b[0mfuncname\u001b[0m\u001b[0;34m(\u001b[0m\u001b[0mfunc\u001b[0m\u001b[0;34m)\u001b[0m\u001b[0;34m,\u001b[0m \u001b[0mudf\u001b[0m\u001b[0;34m=\u001b[0m\u001b[0mkwargs\u001b[0m\u001b[0;34m.\u001b[0m\u001b[0mpop\u001b[0m\u001b[0;34m(\u001b[0m\u001b[0;34m\"udf\"\u001b[0m\u001b[0;34m,\u001b[0m \u001b[0;32mFalse\u001b[0m\u001b[0;34m)\u001b[0m\u001b[0;34m)\u001b[0m\u001b[0;34m:\u001b[0m\u001b[0;34m\u001b[0m\u001b[0;34m\u001b[0m\u001b[0m\n\u001b[0;32m-> 5612\u001b[0;31m         \u001b[0;32mreturn\u001b[0m \u001b[0mfunc\u001b[0m\u001b[0;34m(\u001b[0m\u001b[0;34m*\u001b[0m\u001b[0m_extract_meta\u001b[0m\u001b[0;34m(\u001b[0m\u001b[0margs\u001b[0m\u001b[0;34m,\u001b[0m \u001b[0;32mTrue\u001b[0m\u001b[0;34m)\u001b[0m\u001b[0;34m,\u001b[0m \u001b[0;34m**\u001b[0m\u001b[0m_extract_meta\u001b[0m\u001b[0;34m(\u001b[0m\u001b[0mkwargs\u001b[0m\u001b[0;34m,\u001b[0m \u001b[0;32mTrue\u001b[0m\u001b[0;34m)\u001b[0m\u001b[0;34m)\u001b[0m\u001b[0;34m\u001b[0m\u001b[0;34m\u001b[0m\u001b[0m\n\u001b[0m\u001b[1;32m   5613\u001b[0m \u001b[0;34m\u001b[0m\u001b[0m\n",
      "\u001b[0;32m~/miniconda3/lib/python3.9/site-packages/dask/dataframe/utils.py\u001b[0m in \u001b[0;36mdrop_by_shallow_copy\u001b[0;34m(df, columns, errors)\u001b[0m\n\u001b[1;32m    709\u001b[0m         \u001b[0mcolumns\u001b[0m \u001b[0;34m=\u001b[0m \u001b[0;34m[\u001b[0m\u001b[0mcolumns\u001b[0m\u001b[0;34m]\u001b[0m\u001b[0;34m\u001b[0m\u001b[0;34m\u001b[0m\u001b[0m\n\u001b[0;32m--> 710\u001b[0;31m     \u001b[0mdf2\u001b[0m\u001b[0;34m.\u001b[0m\u001b[0mdrop\u001b[0m\u001b[0;34m(\u001b[0m\u001b[0mcolumns\u001b[0m\u001b[0;34m=\u001b[0m\u001b[0mcolumns\u001b[0m\u001b[0;34m,\u001b[0m \u001b[0minplace\u001b[0m\u001b[0;34m=\u001b[0m\u001b[0;32mTrue\u001b[0m\u001b[0;34m,\u001b[0m \u001b[0merrors\u001b[0m\u001b[0;34m=\u001b[0m\u001b[0merrors\u001b[0m\u001b[0;34m)\u001b[0m\u001b[0;34m\u001b[0m\u001b[0;34m\u001b[0m\u001b[0m\n\u001b[0m\u001b[1;32m    711\u001b[0m     \u001b[0;32mreturn\u001b[0m \u001b[0mdf2\u001b[0m\u001b[0;34m\u001b[0m\u001b[0;34m\u001b[0m\u001b[0m\n",
      "\u001b[0;32m~/miniconda3/lib/python3.9/site-packages/pandas/core/frame.py\u001b[0m in \u001b[0;36mdrop\u001b[0;34m(self, labels, axis, index, columns, level, inplace, errors)\u001b[0m\n\u001b[1;32m   4307\u001b[0m         \"\"\"\n\u001b[0;32m-> 4308\u001b[0;31m         return super().drop(\n\u001b[0m\u001b[1;32m   4309\u001b[0m             \u001b[0mlabels\u001b[0m\u001b[0;34m=\u001b[0m\u001b[0mlabels\u001b[0m\u001b[0;34m,\u001b[0m\u001b[0;34m\u001b[0m\u001b[0;34m\u001b[0m\u001b[0m\n",
      "\u001b[0;32m~/miniconda3/lib/python3.9/site-packages/pandas/core/generic.py\u001b[0m in \u001b[0;36mdrop\u001b[0;34m(self, labels, axis, index, columns, level, inplace, errors)\u001b[0m\n\u001b[1;32m   4152\u001b[0m             \u001b[0;32mif\u001b[0m \u001b[0mlabels\u001b[0m \u001b[0;32mis\u001b[0m \u001b[0;32mnot\u001b[0m \u001b[0;32mNone\u001b[0m\u001b[0;34m:\u001b[0m\u001b[0;34m\u001b[0m\u001b[0;34m\u001b[0m\u001b[0m\n\u001b[0;32m-> 4153\u001b[0;31m                 \u001b[0mobj\u001b[0m \u001b[0;34m=\u001b[0m \u001b[0mobj\u001b[0m\u001b[0;34m.\u001b[0m\u001b[0m_drop_axis\u001b[0m\u001b[0;34m(\u001b[0m\u001b[0mlabels\u001b[0m\u001b[0;34m,\u001b[0m \u001b[0maxis\u001b[0m\u001b[0;34m,\u001b[0m \u001b[0mlevel\u001b[0m\u001b[0;34m=\u001b[0m\u001b[0mlevel\u001b[0m\u001b[0;34m,\u001b[0m \u001b[0merrors\u001b[0m\u001b[0;34m=\u001b[0m\u001b[0merrors\u001b[0m\u001b[0;34m)\u001b[0m\u001b[0;34m\u001b[0m\u001b[0;34m\u001b[0m\u001b[0m\n\u001b[0m\u001b[1;32m   4154\u001b[0m \u001b[0;34m\u001b[0m\u001b[0m\n",
      "\u001b[0;32m~/miniconda3/lib/python3.9/site-packages/pandas/core/generic.py\u001b[0m in \u001b[0;36m_drop_axis\u001b[0;34m(self, labels, axis, level, errors)\u001b[0m\n\u001b[1;32m   4187\u001b[0m             \u001b[0;32melse\u001b[0m\u001b[0;34m:\u001b[0m\u001b[0;34m\u001b[0m\u001b[0;34m\u001b[0m\u001b[0m\n\u001b[0;32m-> 4188\u001b[0;31m                 \u001b[0mnew_axis\u001b[0m \u001b[0;34m=\u001b[0m \u001b[0maxis\u001b[0m\u001b[0;34m.\u001b[0m\u001b[0mdrop\u001b[0m\u001b[0;34m(\u001b[0m\u001b[0mlabels\u001b[0m\u001b[0;34m,\u001b[0m \u001b[0merrors\u001b[0m\u001b[0;34m=\u001b[0m\u001b[0merrors\u001b[0m\u001b[0;34m)\u001b[0m\u001b[0;34m\u001b[0m\u001b[0;34m\u001b[0m\u001b[0m\n\u001b[0m\u001b[1;32m   4189\u001b[0m             \u001b[0mresult\u001b[0m \u001b[0;34m=\u001b[0m \u001b[0mself\u001b[0m\u001b[0;34m.\u001b[0m\u001b[0mreindex\u001b[0m\u001b[0;34m(\u001b[0m\u001b[0;34m**\u001b[0m\u001b[0;34m{\u001b[0m\u001b[0maxis_name\u001b[0m\u001b[0;34m:\u001b[0m \u001b[0mnew_axis\u001b[0m\u001b[0;34m}\u001b[0m\u001b[0;34m)\u001b[0m\u001b[0;34m\u001b[0m\u001b[0;34m\u001b[0m\u001b[0m\n",
      "\u001b[0;32m~/miniconda3/lib/python3.9/site-packages/pandas/core/indexes/base.py\u001b[0m in \u001b[0;36mdrop\u001b[0;34m(self, labels, errors)\u001b[0m\n\u001b[1;32m   5591\u001b[0m             \u001b[0;32mif\u001b[0m \u001b[0merrors\u001b[0m \u001b[0;34m!=\u001b[0m \u001b[0;34m\"ignore\"\u001b[0m\u001b[0;34m:\u001b[0m\u001b[0;34m\u001b[0m\u001b[0;34m\u001b[0m\u001b[0m\n\u001b[0;32m-> 5592\u001b[0;31m                 \u001b[0;32mraise\u001b[0m \u001b[0mKeyError\u001b[0m\u001b[0;34m(\u001b[0m\u001b[0;34mf\"{labels[mask]} not found in axis\"\u001b[0m\u001b[0;34m)\u001b[0m\u001b[0;34m\u001b[0m\u001b[0;34m\u001b[0m\u001b[0m\n\u001b[0m\u001b[1;32m   5593\u001b[0m             \u001b[0mindexer\u001b[0m \u001b[0;34m=\u001b[0m \u001b[0mindexer\u001b[0m\u001b[0;34m[\u001b[0m\u001b[0;34m~\u001b[0m\u001b[0mmask\u001b[0m\u001b[0;34m]\u001b[0m\u001b[0;34m\u001b[0m\u001b[0;34m\u001b[0m\u001b[0m\n",
      "\u001b[0;31mKeyError\u001b[0m: \"['DATASOURCE' 'PASSENGERS' 'PASSENGERSIN' 'PASSENGERSOUT' 'DISTANCE'\\n 'NOTE'] not found in axis\"",
      "\nThe above exception was the direct cause of the following exception:\n",
      "\u001b[0;31mValueError\u001b[0m                                Traceback (most recent call last)",
      "\u001b[0;32m<ipython-input-11-9070c9ec9f6d>\u001b[0m in \u001b[0;36m<module>\u001b[0;34m\u001b[0m\n\u001b[1;32m      1\u001b[0m \u001b[0;31m# these items are all empty or constant\u001b[0m\u001b[0;34m\u001b[0m\u001b[0;34m\u001b[0m\u001b[0;34m\u001b[0m\u001b[0m\n\u001b[0;32m----> 2\u001b[0;31m \u001b[0mbus_leavetimes_df\u001b[0m \u001b[0;34m=\u001b[0m \u001b[0mbus_leavetimes_df\u001b[0m\u001b[0;34m.\u001b[0m\u001b[0mdrop\u001b[0m\u001b[0;34m(\u001b[0m\u001b[0;34m[\u001b[0m\u001b[0;34m\"DATASOURCE\"\u001b[0m\u001b[0;34m,\u001b[0m \u001b[0;34m\"PASSENGERS\"\u001b[0m\u001b[0;34m,\u001b[0m \u001b[0;34m\"PASSENGERSIN\"\u001b[0m\u001b[0;34m,\u001b[0m \u001b[0;34m\"PASSENGERSOUT\"\u001b[0m\u001b[0;34m,\u001b[0m \u001b[0;34m\"DISTANCE\"\u001b[0m\u001b[0;34m,\u001b[0m \u001b[0;34m\"NOTE\"\u001b[0m\u001b[0;34m]\u001b[0m\u001b[0;34m,\u001b[0m \u001b[0maxis\u001b[0m\u001b[0;34m=\u001b[0m\u001b[0;36m1\u001b[0m\u001b[0;34m)\u001b[0m\u001b[0;34m\u001b[0m\u001b[0;34m\u001b[0m\u001b[0m\n\u001b[0m",
      "\u001b[0;32m~/miniconda3/lib/python3.9/site-packages/dask/dataframe/core.py\u001b[0m in \u001b[0;36mdrop\u001b[0;34m(self, labels, axis, columns, errors)\u001b[0m\n\u001b[1;32m   4419\u001b[0m             \u001b[0;32mreturn\u001b[0m \u001b[0mself\u001b[0m\u001b[0;34m.\u001b[0m\u001b[0mmap_partitions\u001b[0m\u001b[0;34m(\u001b[0m\u001b[0mdrop_by_shallow_copy\u001b[0m\u001b[0;34m,\u001b[0m \u001b[0mcolumns\u001b[0m\u001b[0;34m,\u001b[0m \u001b[0merrors\u001b[0m\u001b[0;34m=\u001b[0m\u001b[0merrors\u001b[0m\u001b[0;34m)\u001b[0m\u001b[0;34m\u001b[0m\u001b[0;34m\u001b[0m\u001b[0m\n\u001b[1;32m   4420\u001b[0m         \u001b[0;32melif\u001b[0m \u001b[0maxis\u001b[0m \u001b[0;34m==\u001b[0m \u001b[0;36m1\u001b[0m\u001b[0;34m:\u001b[0m\u001b[0;34m\u001b[0m\u001b[0;34m\u001b[0m\u001b[0m\n\u001b[0;32m-> 4421\u001b[0;31m             \u001b[0;32mreturn\u001b[0m \u001b[0mself\u001b[0m\u001b[0;34m.\u001b[0m\u001b[0mmap_partitions\u001b[0m\u001b[0;34m(\u001b[0m\u001b[0mdrop_by_shallow_copy\u001b[0m\u001b[0;34m,\u001b[0m \u001b[0mlabels\u001b[0m\u001b[0;34m,\u001b[0m \u001b[0merrors\u001b[0m\u001b[0;34m=\u001b[0m\u001b[0merrors\u001b[0m\u001b[0;34m)\u001b[0m\u001b[0;34m\u001b[0m\u001b[0;34m\u001b[0m\u001b[0m\n\u001b[0m\u001b[1;32m   4422\u001b[0m         raise NotImplementedError(\n\u001b[1;32m   4423\u001b[0m             \u001b[0;34m\"Drop currently only works for axis=1 or when columns is not None\"\u001b[0m\u001b[0;34m\u001b[0m\u001b[0;34m\u001b[0m\u001b[0m\n",
      "\u001b[0;32m~/miniconda3/lib/python3.9/site-packages/dask/dataframe/core.py\u001b[0m in \u001b[0;36mmap_partitions\u001b[0;34m(self, func, *args, **kwargs)\u001b[0m\n\u001b[1;32m    689\u001b[0m         \u001b[0;32mNone\u001b[0m \u001b[0;32mas\u001b[0m \u001b[0mthe\u001b[0m \u001b[0mdivision\u001b[0m\u001b[0;34m.\u001b[0m\u001b[0;34m\u001b[0m\u001b[0;34m\u001b[0m\u001b[0m\n\u001b[1;32m    690\u001b[0m         \"\"\"\n\u001b[0;32m--> 691\u001b[0;31m         \u001b[0;32mreturn\u001b[0m \u001b[0mmap_partitions\u001b[0m\u001b[0;34m(\u001b[0m\u001b[0mfunc\u001b[0m\u001b[0;34m,\u001b[0m \u001b[0mself\u001b[0m\u001b[0;34m,\u001b[0m \u001b[0;34m*\u001b[0m\u001b[0margs\u001b[0m\u001b[0;34m,\u001b[0m \u001b[0;34m**\u001b[0m\u001b[0mkwargs\u001b[0m\u001b[0;34m)\u001b[0m\u001b[0;34m\u001b[0m\u001b[0;34m\u001b[0m\u001b[0m\n\u001b[0m\u001b[1;32m    692\u001b[0m \u001b[0;34m\u001b[0m\u001b[0m\n\u001b[1;32m    693\u001b[0m     \u001b[0;34m@\u001b[0m\u001b[0minsert_meta_param_description\u001b[0m\u001b[0;34m(\u001b[0m\u001b[0mpad\u001b[0m\u001b[0;34m=\u001b[0m\u001b[0;36m12\u001b[0m\u001b[0;34m)\u001b[0m\u001b[0;34m\u001b[0m\u001b[0;34m\u001b[0m\u001b[0m\n",
      "\u001b[0;32m~/miniconda3/lib/python3.9/site-packages/dask/dataframe/core.py\u001b[0m in \u001b[0;36mmap_partitions\u001b[0;34m(func, meta, enforce_metadata, transform_divisions, *args, **kwargs)\u001b[0m\n\u001b[1;32m   5666\u001b[0m         \u001b[0;31m# Use non-normalized kwargs here, as we want the real values (not\u001b[0m\u001b[0;34m\u001b[0m\u001b[0;34m\u001b[0m\u001b[0;34m\u001b[0m\u001b[0m\n\u001b[1;32m   5667\u001b[0m         \u001b[0;31m# delayed values)\u001b[0m\u001b[0;34m\u001b[0m\u001b[0;34m\u001b[0m\u001b[0;34m\u001b[0m\u001b[0m\n\u001b[0;32m-> 5668\u001b[0;31m         \u001b[0mmeta\u001b[0m \u001b[0;34m=\u001b[0m \u001b[0m_emulate\u001b[0m\u001b[0;34m(\u001b[0m\u001b[0mfunc\u001b[0m\u001b[0;34m,\u001b[0m \u001b[0;34m*\u001b[0m\u001b[0margs\u001b[0m\u001b[0;34m,\u001b[0m \u001b[0mudf\u001b[0m\u001b[0;34m=\u001b[0m\u001b[0;32mTrue\u001b[0m\u001b[0;34m,\u001b[0m \u001b[0;34m**\u001b[0m\u001b[0mkwargs\u001b[0m\u001b[0;34m)\u001b[0m\u001b[0;34m\u001b[0m\u001b[0;34m\u001b[0m\u001b[0m\n\u001b[0m\u001b[1;32m   5669\u001b[0m     \u001b[0;32melse\u001b[0m\u001b[0;34m:\u001b[0m\u001b[0;34m\u001b[0m\u001b[0;34m\u001b[0m\u001b[0m\n\u001b[1;32m   5670\u001b[0m         \u001b[0mmeta\u001b[0m \u001b[0;34m=\u001b[0m \u001b[0mmake_meta\u001b[0m\u001b[0;34m(\u001b[0m\u001b[0mmeta\u001b[0m\u001b[0;34m,\u001b[0m \u001b[0mindex\u001b[0m\u001b[0;34m=\u001b[0m\u001b[0mmeta_index\u001b[0m\u001b[0;34m,\u001b[0m \u001b[0mparent_meta\u001b[0m\u001b[0;34m=\u001b[0m\u001b[0mparent_meta\u001b[0m\u001b[0;34m)\u001b[0m\u001b[0;34m\u001b[0m\u001b[0;34m\u001b[0m\u001b[0m\n",
      "\u001b[0;32m~/miniconda3/lib/python3.9/site-packages/dask/dataframe/core.py\u001b[0m in \u001b[0;36m_emulate\u001b[0;34m(func, *args, **kwargs)\u001b[0m\n\u001b[1;32m   5610\u001b[0m     \"\"\"\n\u001b[1;32m   5611\u001b[0m     \u001b[0;32mwith\u001b[0m \u001b[0mraise_on_meta_error\u001b[0m\u001b[0;34m(\u001b[0m\u001b[0mfuncname\u001b[0m\u001b[0;34m(\u001b[0m\u001b[0mfunc\u001b[0m\u001b[0;34m)\u001b[0m\u001b[0;34m,\u001b[0m \u001b[0mudf\u001b[0m\u001b[0;34m=\u001b[0m\u001b[0mkwargs\u001b[0m\u001b[0;34m.\u001b[0m\u001b[0mpop\u001b[0m\u001b[0;34m(\u001b[0m\u001b[0;34m\"udf\"\u001b[0m\u001b[0;34m,\u001b[0m \u001b[0;32mFalse\u001b[0m\u001b[0;34m)\u001b[0m\u001b[0;34m)\u001b[0m\u001b[0;34m:\u001b[0m\u001b[0;34m\u001b[0m\u001b[0;34m\u001b[0m\u001b[0m\n\u001b[0;32m-> 5612\u001b[0;31m         \u001b[0;32mreturn\u001b[0m \u001b[0mfunc\u001b[0m\u001b[0;34m(\u001b[0m\u001b[0;34m*\u001b[0m\u001b[0m_extract_meta\u001b[0m\u001b[0;34m(\u001b[0m\u001b[0margs\u001b[0m\u001b[0;34m,\u001b[0m \u001b[0;32mTrue\u001b[0m\u001b[0;34m)\u001b[0m\u001b[0;34m,\u001b[0m \u001b[0;34m**\u001b[0m\u001b[0m_extract_meta\u001b[0m\u001b[0;34m(\u001b[0m\u001b[0mkwargs\u001b[0m\u001b[0;34m,\u001b[0m \u001b[0;32mTrue\u001b[0m\u001b[0;34m)\u001b[0m\u001b[0;34m)\u001b[0m\u001b[0;34m\u001b[0m\u001b[0;34m\u001b[0m\u001b[0m\n\u001b[0m\u001b[1;32m   5613\u001b[0m \u001b[0;34m\u001b[0m\u001b[0m\n\u001b[1;32m   5614\u001b[0m \u001b[0;34m\u001b[0m\u001b[0m\n",
      "\u001b[0;32m~/miniconda3/lib/python3.9/contextlib.py\u001b[0m in \u001b[0;36m__exit__\u001b[0;34m(self, type, value, traceback)\u001b[0m\n\u001b[1;32m    133\u001b[0m                 \u001b[0mvalue\u001b[0m \u001b[0;34m=\u001b[0m \u001b[0mtype\u001b[0m\u001b[0;34m(\u001b[0m\u001b[0;34m)\u001b[0m\u001b[0;34m\u001b[0m\u001b[0;34m\u001b[0m\u001b[0m\n\u001b[1;32m    134\u001b[0m             \u001b[0;32mtry\u001b[0m\u001b[0;34m:\u001b[0m\u001b[0;34m\u001b[0m\u001b[0;34m\u001b[0m\u001b[0m\n\u001b[0;32m--> 135\u001b[0;31m                 \u001b[0mself\u001b[0m\u001b[0;34m.\u001b[0m\u001b[0mgen\u001b[0m\u001b[0;34m.\u001b[0m\u001b[0mthrow\u001b[0m\u001b[0;34m(\u001b[0m\u001b[0mtype\u001b[0m\u001b[0;34m,\u001b[0m \u001b[0mvalue\u001b[0m\u001b[0;34m,\u001b[0m \u001b[0mtraceback\u001b[0m\u001b[0;34m)\u001b[0m\u001b[0;34m\u001b[0m\u001b[0;34m\u001b[0m\u001b[0m\n\u001b[0m\u001b[1;32m    136\u001b[0m             \u001b[0;32mexcept\u001b[0m \u001b[0mStopIteration\u001b[0m \u001b[0;32mas\u001b[0m \u001b[0mexc\u001b[0m\u001b[0;34m:\u001b[0m\u001b[0;34m\u001b[0m\u001b[0;34m\u001b[0m\u001b[0m\n\u001b[1;32m    137\u001b[0m                 \u001b[0;31m# Suppress StopIteration *unless* it's the same exception that\u001b[0m\u001b[0;34m\u001b[0m\u001b[0;34m\u001b[0m\u001b[0;34m\u001b[0m\u001b[0m\n",
      "\u001b[0;32m~/miniconda3/lib/python3.9/site-packages/dask/dataframe/utils.py\u001b[0m in \u001b[0;36mraise_on_meta_error\u001b[0;34m(funcname, udf)\u001b[0m\n\u001b[1;32m    195\u001b[0m         )\n\u001b[1;32m    196\u001b[0m         \u001b[0mmsg\u001b[0m \u001b[0;34m=\u001b[0m \u001b[0mmsg\u001b[0m\u001b[0;34m.\u001b[0m\u001b[0mformat\u001b[0m\u001b[0;34m(\u001b[0m\u001b[0;34m\" in `{0}`\"\u001b[0m\u001b[0;34m.\u001b[0m\u001b[0mformat\u001b[0m\u001b[0;34m(\u001b[0m\u001b[0mfuncname\u001b[0m\u001b[0;34m)\u001b[0m \u001b[0;32mif\u001b[0m \u001b[0mfuncname\u001b[0m \u001b[0;32melse\u001b[0m \u001b[0;34m\"\"\u001b[0m\u001b[0;34m,\u001b[0m \u001b[0mrepr\u001b[0m\u001b[0;34m(\u001b[0m\u001b[0me\u001b[0m\u001b[0;34m)\u001b[0m\u001b[0;34m,\u001b[0m \u001b[0mtb\u001b[0m\u001b[0;34m)\u001b[0m\u001b[0;34m\u001b[0m\u001b[0;34m\u001b[0m\u001b[0m\n\u001b[0;32m--> 197\u001b[0;31m         \u001b[0;32mraise\u001b[0m \u001b[0mValueError\u001b[0m\u001b[0;34m(\u001b[0m\u001b[0mmsg\u001b[0m\u001b[0;34m)\u001b[0m \u001b[0;32mfrom\u001b[0m \u001b[0me\u001b[0m\u001b[0;34m\u001b[0m\u001b[0;34m\u001b[0m\u001b[0m\n\u001b[0m\u001b[1;32m    198\u001b[0m \u001b[0;34m\u001b[0m\u001b[0m\n\u001b[1;32m    199\u001b[0m \u001b[0;34m\u001b[0m\u001b[0m\n",
      "\u001b[0;31mValueError\u001b[0m: Metadata inference failed in `drop_by_shallow_copy`.\n\nYou have supplied a custom function and Dask is unable to \ndetermine the type of output that that function returns. \n\nTo resolve this please provide a meta= keyword.\nThe docstring of the Dask function you ran should have more information.\n\nOriginal error is below:\n------------------------\nKeyError(\"['DATASOURCE' 'PASSENGERS' 'PASSENGERSIN' 'PASSENGERSOUT' 'DISTANCE'\\n 'NOTE'] not found in axis\")\n\nTraceback:\n---------\n  File \"/home/team10/miniconda3/lib/python3.9/site-packages/dask/dataframe/utils.py\", line 176, in raise_on_meta_error\n    yield\n  File \"/home/team10/miniconda3/lib/python3.9/site-packages/dask/dataframe/core.py\", line 5612, in _emulate\n    return func(*_extract_meta(args, True), **_extract_meta(kwargs, True))\n  File \"/home/team10/miniconda3/lib/python3.9/site-packages/dask/dataframe/utils.py\", line 710, in drop_by_shallow_copy\n    df2.drop(columns=columns, inplace=True, errors=errors)\n  File \"/home/team10/miniconda3/lib/python3.9/site-packages/pandas/core/frame.py\", line 4308, in drop\n    return super().drop(\n  File \"/home/team10/miniconda3/lib/python3.9/site-packages/pandas/core/generic.py\", line 4153, in drop\n    obj = obj._drop_axis(labels, axis, level=level, errors=errors)\n  File \"/home/team10/miniconda3/lib/python3.9/site-packages/pandas/core/generic.py\", line 4188, in _drop_axis\n    new_axis = axis.drop(labels, errors=errors)\n  File \"/home/team10/miniconda3/lib/python3.9/site-packages/pandas/core/indexes/base.py\", line 5592, in drop\n    raise KeyError(f\"{labels[mask]} not found in axis\")\n"
     ]
    }
   ],
   "source": [
    "# these items are all empty or constant\n",
    "bus_leavetimes_df = bus_leavetimes_df.drop([\"DATASOURCE\", \"PASSENGERS\", \"PASSENGERSIN\", \"PASSENGERSOUT\", \"DISTANCE\", \"NOTE\"], axis=1)"
   ]
  },
  {
   "cell_type": "code",
   "execution_count": 12,
   "metadata": {},
   "outputs": [
    {
     "data": {
      "text/plain": [
       "DAYOFSERVICE        object\n",
       "TRIPID               int64\n",
       "PROGRNUMBER          int64\n",
       "STOPPOINTID          int64\n",
       "PLANNEDTIME_ARR      int64\n",
       "PLANNEDTIME_DEP      int64\n",
       "ACTUALTIME_ARR       int64\n",
       "ACTUALTIME_DEP       int64\n",
       "VEHICLEID            int64\n",
       "SUPPRESSED         float64\n",
       "JUSTIFICATIONID    float64\n",
       "LASTUPDATE          object\n",
       "dtype: object"
      ]
     },
     "execution_count": 12,
     "metadata": {},
     "output_type": "execute_result"
    }
   ],
   "source": [
    "bus_leavetimes_df.dtypes"
   ]
  },
  {
   "cell_type": "markdown",
   "id": "9540b297",
   "metadata": {},
   "source": [
    "From the calculating the max values we can see that the max value of the features: [ passeengers* , distance , note] are all none, which means that the columns are empty which means that we can remove them.\n",
    "\n",
    "The feature \"datasource\" should be a constant columns as all the data comes form a database.\n",
    "\n",
    "We can split the leavetimes dataset with respect to the route of the bus, so that only the information of each route is displayed. This will make the dataset smaller and easier to maniupulate and work with."
   ]
  },
  {
   "cell_type": "code",
   "execution_count": 17,
   "metadata": {},
   "outputs": [
    {
     "name": "stdout",
     "output_type": "stream",
     "text": [
      "Requirement already satisfied: tqdm in ./comp47360/lib/python3.6/site-packages\r\n"
     ]
    }
   ],
   "source": [
    "import sys\n",
    "!{sys.executable} -m pip install tqdm"
   ]
  },
  {
   "cell_type": "code",
   "execution_count": 33,
   "metadata": {},
   "outputs": [],
   "source": [
    "from tqdm import tqdm"
   ]
  },
  {
   "cell_type": "code",
   "execution_count": null,
   "metadata": {},
   "outputs": [],
   "source": [
    "print(tqdm)"
   ]
  },
  {
   "cell_type": "code",
   "execution_count": null,
   "metadata": {},
   "outputs": [
    {
     "name": "stderr",
     "output_type": "stream",
     "text": [
      "\r",
      "  0%|          | 0/130 [00:00<?, ?it/s]"
     ]
    }
   ],
   "source": [
    "# splitting the data with respect to the lineid, the route id are different versions of the same line\n",
    "filename = \"~/data/leavetimes_split_by_route/route{}.csv\"\n",
    "for i in tqdm(range(130)):\n",
    "    route_leavetimes = bus_leavetimes_df.map_partitions(lambda x: x[x.TRIPID.isin([filter_result[\"LINEID\"] == bus_routes[i]])])\n",
    "    route_leavetimes.to_csv(filename.format(bus_routes[i]))"
   ]
  },
  {
   "cell_type": "markdown",
   "metadata": {},
   "source": [
    "we loop through each route and get the "
   ]
  },
  {
   "cell_type": "code",
   "execution_count": 34,
   "metadata": {},
   "outputs": [
    {
     "name": "stderr",
     "output_type": "stream",
     "text": [
      "\r",
      "  0%|          | 0/130 [00:00<?, ?it/s]"
     ]
    },
    {
     "name": "stdout",
     "output_type": "stream",
     "text": [
      "0\n"
     ]
    },
    {
     "name": "stderr",
     "output_type": "stream",
     "text": [
      "\r",
      "  1%|          | 1/130 [02:44<5:54:36, 164.93s/it]"
     ]
    },
    {
     "name": "stdout",
     "output_type": "stream",
     "text": [
      "1\n"
     ]
    },
    {
     "name": "stderr",
     "output_type": "stream",
     "text": [
      "\r",
      "  2%|▏         | 2/130 [06:35<7:13:38, 203.27s/it]"
     ]
    },
    {
     "name": "stdout",
     "output_type": "stream",
     "text": [
      "2\n"
     ]
    },
    {
     "name": "stderr",
     "output_type": "stream",
     "text": [
      "\r",
      "  2%|▏         | 3/130 [09:11<6:25:21, 182.06s/it]"
     ]
    },
    {
     "name": "stdout",
     "output_type": "stream",
     "text": [
      "3\n"
     ]
    },
    {
     "name": "stderr",
     "output_type": "stream",
     "text": [
      "\r",
      "  3%|▎         | 4/130 [11:54<6:05:55, 174.25s/it]"
     ]
    },
    {
     "name": "stdout",
     "output_type": "stream",
     "text": [
      "4\n"
     ]
    },
    {
     "name": "stderr",
     "output_type": "stream",
     "text": [
      "\r",
      "  4%|▍         | 5/130 [14:33<5:51:28, 168.70s/it]"
     ]
    },
    {
     "name": "stdout",
     "output_type": "stream",
     "text": [
      "5\n"
     ]
    },
    {
     "name": "stderr",
     "output_type": "stream",
     "text": [
      "\r",
      "  5%|▍         | 6/130 [17:24<5:50:54, 169.79s/it]"
     ]
    },
    {
     "name": "stdout",
     "output_type": "stream",
     "text": [
      "6\n"
     ]
    },
    {
     "name": "stderr",
     "output_type": "stream",
     "text": [
      "\r",
      "  5%|▌         | 7/130 [20:02<5:40:06, 165.91s/it]"
     ]
    },
    {
     "name": "stdout",
     "output_type": "stream",
     "text": [
      "7\n"
     ]
    },
    {
     "name": "stderr",
     "output_type": "stream",
     "text": [
      "\r",
      "  6%|▌         | 8/130 [22:37<5:30:17, 162.43s/it]"
     ]
    },
    {
     "name": "stdout",
     "output_type": "stream",
     "text": [
      "8\n"
     ]
    },
    {
     "name": "stderr",
     "output_type": "stream",
     "text": [
      "\r",
      "  7%|▋         | 9/130 [25:32<5:35:10, 166.20s/it]"
     ]
    },
    {
     "name": "stdout",
     "output_type": "stream",
     "text": [
      "9\n"
     ]
    },
    {
     "name": "stderr",
     "output_type": "stream",
     "text": [
      "\r",
      "  8%|▊         | 10/130 [28:05<5:24:33, 162.28s/it]"
     ]
    },
    {
     "name": "stdout",
     "output_type": "stream",
     "text": [
      "10\n"
     ]
    },
    {
     "name": "stderr",
     "output_type": "stream",
     "text": [
      "\r",
      "  8%|▊         | 11/130 [31:13<5:37:21, 170.09s/it]"
     ]
    },
    {
     "name": "stdout",
     "output_type": "stream",
     "text": [
      "11\n"
     ]
    },
    {
     "name": "stderr",
     "output_type": "stream",
     "text": [
      "\r",
      "  9%|▉         | 12/130 [34:31<5:50:54, 178.43s/it]"
     ]
    },
    {
     "name": "stdout",
     "output_type": "stream",
     "text": [
      "12\n"
     ]
    },
    {
     "name": "stderr",
     "output_type": "stream",
     "text": [
      "\r",
      " 10%|█         | 13/130 [38:00<6:06:01, 187.71s/it]"
     ]
    },
    {
     "name": "stdout",
     "output_type": "stream",
     "text": [
      "13\n"
     ]
    },
    {
     "name": "stderr",
     "output_type": "stream",
     "text": [
      "\r",
      " 11%|█         | 14/130 [41:22<6:11:35, 192.21s/it]"
     ]
    },
    {
     "name": "stdout",
     "output_type": "stream",
     "text": [
      "14\n"
     ]
    },
    {
     "name": "stderr",
     "output_type": "stream",
     "text": [
      "\r",
      " 12%|█▏        | 15/130 [44:20<5:59:54, 187.78s/it]"
     ]
    },
    {
     "name": "stdout",
     "output_type": "stream",
     "text": [
      "15\n"
     ]
    },
    {
     "name": "stderr",
     "output_type": "stream",
     "text": [
      "\r",
      " 12%|█▏        | 16/130 [47:21<5:53:00, 185.80s/it]"
     ]
    },
    {
     "name": "stdout",
     "output_type": "stream",
     "text": [
      "16\n"
     ]
    },
    {
     "name": "stderr",
     "output_type": "stream",
     "text": [
      "\r",
      " 13%|█▎        | 17/130 [50:30<5:51:30, 186.64s/it]"
     ]
    },
    {
     "name": "stdout",
     "output_type": "stream",
     "text": [
      "17\n"
     ]
    },
    {
     "name": "stderr",
     "output_type": "stream",
     "text": [
      "\r",
      " 14%|█▍        | 18/130 [54:19<6:12:25, 199.51s/it]"
     ]
    },
    {
     "name": "stdout",
     "output_type": "stream",
     "text": [
      "18\n"
     ]
    },
    {
     "name": "stderr",
     "output_type": "stream",
     "text": [
      "\r",
      " 15%|█▍        | 19/130 [57:44<6:12:04, 201.12s/it]"
     ]
    },
    {
     "name": "stdout",
     "output_type": "stream",
     "text": [
      "19\n"
     ]
    },
    {
     "name": "stderr",
     "output_type": "stream",
     "text": [
      "\r",
      " 15%|█▌        | 20/130 [1:00:48<5:59:36, 196.15s/it]"
     ]
    },
    {
     "name": "stdout",
     "output_type": "stream",
     "text": [
      "20\n"
     ]
    },
    {
     "name": "stderr",
     "output_type": "stream",
     "text": [
      "\r",
      " 16%|█▌        | 21/130 [1:03:56<5:51:49, 193.66s/it]"
     ]
    },
    {
     "name": "stdout",
     "output_type": "stream",
     "text": [
      "21\n"
     ]
    },
    {
     "name": "stderr",
     "output_type": "stream",
     "text": [
      "\r",
      " 17%|█▋        | 22/130 [1:07:08<5:47:19, 192.96s/it]"
     ]
    },
    {
     "name": "stdout",
     "output_type": "stream",
     "text": [
      "22\n"
     ]
    },
    {
     "name": "stderr",
     "output_type": "stream",
     "text": [
      "\r",
      " 18%|█▊        | 23/130 [1:11:23<6:17:43, 211.81s/it]"
     ]
    },
    {
     "name": "stdout",
     "output_type": "stream",
     "text": [
      "23\n"
     ]
    },
    {
     "name": "stderr",
     "output_type": "stream",
     "text": [
      "\r",
      " 18%|█▊        | 24/130 [1:14:32<6:02:07, 204.98s/it]"
     ]
    },
    {
     "name": "stdout",
     "output_type": "stream",
     "text": [
      "24\n"
     ]
    },
    {
     "name": "stderr",
     "output_type": "stream",
     "text": [
      "\r",
      " 19%|█▉        | 25/130 [1:17:58<5:59:10, 205.24s/it]"
     ]
    },
    {
     "name": "stdout",
     "output_type": "stream",
     "text": [
      "25\n"
     ]
    },
    {
     "name": "stderr",
     "output_type": "stream",
     "text": [
      "\r",
      " 20%|██        | 26/130 [1:21:24<5:56:12, 205.51s/it]"
     ]
    },
    {
     "name": "stdout",
     "output_type": "stream",
     "text": [
      "26\n"
     ]
    },
    {
     "name": "stderr",
     "output_type": "stream",
     "text": [
      "\r",
      " 21%|██        | 27/130 [1:24:44<5:49:27, 203.57s/it]"
     ]
    },
    {
     "name": "stdout",
     "output_type": "stream",
     "text": [
      "27\n"
     ]
    },
    {
     "name": "stderr",
     "output_type": "stream",
     "text": [
      "\r",
      " 22%|██▏       | 28/130 [1:28:16<5:50:30, 206.18s/it]"
     ]
    },
    {
     "name": "stdout",
     "output_type": "stream",
     "text": [
      "28\n"
     ]
    },
    {
     "name": "stderr",
     "output_type": "stream",
     "text": [
      "\r",
      " 22%|██▏       | 29/130 [1:31:25<5:38:41, 201.20s/it]"
     ]
    },
    {
     "name": "stdout",
     "output_type": "stream",
     "text": [
      "29\n"
     ]
    },
    {
     "name": "stderr",
     "output_type": "stream",
     "text": [
      "\r",
      " 23%|██▎       | 30/130 [1:35:01<5:42:19, 205.40s/it]"
     ]
    },
    {
     "name": "stdout",
     "output_type": "stream",
     "text": [
      "30\n"
     ]
    },
    {
     "name": "stderr",
     "output_type": "stream",
     "text": [
      "\r",
      " 24%|██▍       | 31/130 [1:37:50<5:21:00, 194.56s/it]"
     ]
    },
    {
     "name": "stdout",
     "output_type": "stream",
     "text": [
      "31\n"
     ]
    },
    {
     "name": "stderr",
     "output_type": "stream",
     "text": [
      "\r",
      " 25%|██▍       | 32/130 [1:41:09<5:20:02, 195.94s/it]"
     ]
    },
    {
     "name": "stdout",
     "output_type": "stream",
     "text": [
      "32\n"
     ]
    },
    {
     "name": "stderr",
     "output_type": "stream",
     "text": [
      "\r",
      " 25%|██▌       | 33/130 [1:44:01<5:05:12, 188.79s/it]"
     ]
    },
    {
     "name": "stdout",
     "output_type": "stream",
     "text": [
      "33\n"
     ]
    },
    {
     "name": "stderr",
     "output_type": "stream",
     "text": [
      "\r",
      " 26%|██▌       | 34/130 [1:47:07<5:00:43, 187.95s/it]"
     ]
    },
    {
     "name": "stdout",
     "output_type": "stream",
     "text": [
      "34\n"
     ]
    },
    {
     "name": "stderr",
     "output_type": "stream",
     "text": [
      "\r",
      " 27%|██▋       | 35/130 [1:50:51<5:14:44, 198.78s/it]"
     ]
    },
    {
     "name": "stdout",
     "output_type": "stream",
     "text": [
      "35\n"
     ]
    },
    {
     "name": "stderr",
     "output_type": "stream",
     "text": [
      "\r",
      " 28%|██▊       | 36/130 [1:55:27<5:47:46, 221.99s/it]"
     ]
    },
    {
     "name": "stdout",
     "output_type": "stream",
     "text": [
      "36\n"
     ]
    },
    {
     "name": "stderr",
     "output_type": "stream",
     "text": [
      "\r",
      " 28%|██▊       | 37/130 [1:58:19<5:20:32, 206.80s/it]"
     ]
    },
    {
     "name": "stdout",
     "output_type": "stream",
     "text": [
      "37\n"
     ]
    },
    {
     "name": "stderr",
     "output_type": "stream",
     "text": [
      "\r",
      " 29%|██▉       | 38/130 [2:01:11<5:01:22, 196.55s/it]"
     ]
    },
    {
     "name": "stdout",
     "output_type": "stream",
     "text": [
      "38\n"
     ]
    },
    {
     "name": "stderr",
     "output_type": "stream",
     "text": [
      "\r",
      " 30%|███       | 39/130 [2:04:10<4:49:53, 191.13s/it]"
     ]
    },
    {
     "name": "stdout",
     "output_type": "stream",
     "text": [
      "39\n"
     ]
    },
    {
     "name": "stderr",
     "output_type": "stream",
     "text": [
      "\r",
      " 31%|███       | 40/130 [2:07:00<4:37:08, 184.77s/it]"
     ]
    },
    {
     "name": "stdout",
     "output_type": "stream",
     "text": [
      "40\n"
     ]
    },
    {
     "name": "stderr",
     "output_type": "stream",
     "text": [
      "\r",
      " 32%|███▏      | 41/130 [2:09:40<4:22:59, 177.30s/it]"
     ]
    },
    {
     "name": "stdout",
     "output_type": "stream",
     "text": [
      "41\n"
     ]
    },
    {
     "name": "stderr",
     "output_type": "stream",
     "text": [
      "\r",
      " 32%|███▏      | 42/130 [2:12:40<4:21:13, 178.11s/it]"
     ]
    },
    {
     "name": "stdout",
     "output_type": "stream",
     "text": [
      "42\n"
     ]
    },
    {
     "name": "stderr",
     "output_type": "stream",
     "text": [
      "\r",
      " 33%|███▎      | 43/130 [2:15:10<4:06:10, 169.77s/it]"
     ]
    },
    {
     "name": "stdout",
     "output_type": "stream",
     "text": [
      "43\n"
     ]
    },
    {
     "name": "stderr",
     "output_type": "stream",
     "text": [
      "\r",
      " 34%|███▍      | 44/130 [2:17:46<3:57:31, 165.72s/it]"
     ]
    },
    {
     "name": "stdout",
     "output_type": "stream",
     "text": [
      "44\n"
     ]
    },
    {
     "name": "stderr",
     "output_type": "stream",
     "text": [
      "\r",
      " 35%|███▍      | 45/130 [2:20:57<4:05:19, 173.17s/it]"
     ]
    },
    {
     "name": "stdout",
     "output_type": "stream",
     "text": [
      "45\n"
     ]
    },
    {
     "name": "stderr",
     "output_type": "stream",
     "text": [
      "\r",
      " 35%|███▌      | 46/130 [2:23:36<3:56:24, 168.86s/it]"
     ]
    },
    {
     "name": "stdout",
     "output_type": "stream",
     "text": [
      "46\n"
     ]
    },
    {
     "name": "stderr",
     "output_type": "stream",
     "text": [
      "\r",
      " 36%|███▌      | 47/130 [2:26:12<3:48:23, 165.11s/it]"
     ]
    },
    {
     "name": "stdout",
     "output_type": "stream",
     "text": [
      "47\n"
     ]
    },
    {
     "name": "stderr",
     "output_type": "stream",
     "text": [
      "\r",
      " 37%|███▋      | 48/130 [2:30:01<4:11:44, 184.20s/it]"
     ]
    },
    {
     "name": "stdout",
     "output_type": "stream",
     "text": [
      "48\n"
     ]
    },
    {
     "name": "stderr",
     "output_type": "stream",
     "text": [
      "\r",
      " 38%|███▊      | 49/130 [2:32:37<3:57:17, 175.77s/it]"
     ]
    },
    {
     "name": "stdout",
     "output_type": "stream",
     "text": [
      "49\n"
     ]
    },
    {
     "name": "stderr",
     "output_type": "stream",
     "text": [
      "\r",
      " 38%|███▊      | 50/130 [2:35:39<3:56:59, 177.75s/it]"
     ]
    },
    {
     "name": "stdout",
     "output_type": "stream",
     "text": [
      "50\n"
     ]
    },
    {
     "name": "stderr",
     "output_type": "stream",
     "text": [
      "\r",
      " 39%|███▉      | 51/130 [2:38:29<3:50:52, 175.34s/it]"
     ]
    },
    {
     "name": "stdout",
     "output_type": "stream",
     "text": [
      "51\n"
     ]
    },
    {
     "name": "stderr",
     "output_type": "stream",
     "text": [
      "\r",
      " 40%|████      | 52/130 [2:41:32<3:50:50, 177.57s/it]"
     ]
    },
    {
     "name": "stdout",
     "output_type": "stream",
     "text": [
      "52\n"
     ]
    },
    {
     "name": "stderr",
     "output_type": "stream",
     "text": [
      "\r",
      " 41%|████      | 53/130 [2:44:21<3:44:48, 175.17s/it]"
     ]
    },
    {
     "name": "stdout",
     "output_type": "stream",
     "text": [
      "53\n"
     ]
    },
    {
     "name": "stderr",
     "output_type": "stream",
     "text": [
      "\r",
      " 42%|████▏     | 54/130 [2:47:07<3:38:21, 172.39s/it]"
     ]
    },
    {
     "name": "stdout",
     "output_type": "stream",
     "text": [
      "54\n"
     ]
    },
    {
     "name": "stderr",
     "output_type": "stream",
     "text": [
      "\r",
      " 42%|████▏     | 55/130 [2:51:03<3:59:28, 191.58s/it]"
     ]
    },
    {
     "name": "stdout",
     "output_type": "stream",
     "text": [
      "55\n"
     ]
    },
    {
     "name": "stderr",
     "output_type": "stream",
     "text": [
      "\r",
      " 43%|████▎     | 56/130 [2:55:25<4:22:09, 212.56s/it]"
     ]
    },
    {
     "name": "stdout",
     "output_type": "stream",
     "text": [
      "56\n"
     ]
    },
    {
     "name": "stderr",
     "output_type": "stream",
     "text": [
      "\r",
      " 44%|████▍     | 57/130 [2:59:30<4:30:24, 222.25s/it]"
     ]
    },
    {
     "name": "stdout",
     "output_type": "stream",
     "text": [
      "57\n"
     ]
    },
    {
     "name": "stderr",
     "output_type": "stream",
     "text": [
      "\r",
      " 45%|████▍     | 58/130 [3:04:28<4:54:09, 245.13s/it]"
     ]
    },
    {
     "name": "stdout",
     "output_type": "stream",
     "text": [
      "58\n"
     ]
    },
    {
     "name": "stderr",
     "output_type": "stream",
     "text": [
      "\r",
      " 45%|████▌     | 59/130 [3:08:41<4:52:35, 247.26s/it]"
     ]
    },
    {
     "name": "stdout",
     "output_type": "stream",
     "text": [
      "59\n"
     ]
    },
    {
     "name": "stderr",
     "output_type": "stream",
     "text": [
      "\r",
      " 46%|████▌     | 60/130 [3:13:20<4:59:32, 256.75s/it]"
     ]
    },
    {
     "name": "stdout",
     "output_type": "stream",
     "text": [
      "60\n"
     ]
    },
    {
     "name": "stderr",
     "output_type": "stream",
     "text": [
      "\r",
      " 47%|████▋     | 61/130 [3:19:19<5:30:50, 287.69s/it]"
     ]
    },
    {
     "name": "stdout",
     "output_type": "stream",
     "text": [
      "61\n"
     ]
    },
    {
     "name": "stderr",
     "output_type": "stream",
     "text": [
      "\r",
      " 48%|████▊     | 62/130 [3:22:58<5:02:33, 266.97s/it]"
     ]
    },
    {
     "name": "stdout",
     "output_type": "stream",
     "text": [
      "62\n"
     ]
    },
    {
     "name": "stderr",
     "output_type": "stream",
     "text": [
      "\r",
      " 48%|████▊     | 63/130 [3:27:11<4:53:33, 262.88s/it]"
     ]
    },
    {
     "name": "stdout",
     "output_type": "stream",
     "text": [
      "63\n"
     ]
    },
    {
     "name": "stderr",
     "output_type": "stream",
     "text": [
      "\r",
      " 49%|████▉     | 64/130 [3:30:31<4:28:21, 243.96s/it]"
     ]
    },
    {
     "name": "stdout",
     "output_type": "stream",
     "text": [
      "64\n"
     ]
    },
    {
     "name": "stderr",
     "output_type": "stream",
     "text": [
      "\r",
      " 50%|█████     | 65/130 [3:33:38<4:05:39, 226.75s/it]"
     ]
    },
    {
     "name": "stdout",
     "output_type": "stream",
     "text": [
      "65\n"
     ]
    },
    {
     "name": "stderr",
     "output_type": "stream",
     "text": [
      "\r",
      " 51%|█████     | 66/130 [3:37:33<4:04:39, 229.37s/it]"
     ]
    },
    {
     "name": "stdout",
     "output_type": "stream",
     "text": [
      "66\n"
     ]
    },
    {
     "name": "stderr",
     "output_type": "stream",
     "text": [
      "\r",
      " 52%|█████▏    | 67/130 [3:40:23<3:42:01, 211.45s/it]"
     ]
    },
    {
     "name": "stdout",
     "output_type": "stream",
     "text": [
      "67\n"
     ]
    },
    {
     "name": "stderr",
     "output_type": "stream",
     "text": [
      "\r",
      " 52%|█████▏    | 68/130 [3:43:11<3:25:03, 198.44s/it]"
     ]
    },
    {
     "name": "stdout",
     "output_type": "stream",
     "text": [
      "68\n"
     ]
    },
    {
     "name": "stderr",
     "output_type": "stream",
     "text": [
      "\r",
      " 53%|█████▎    | 69/130 [3:46:29<3:21:36, 198.30s/it]"
     ]
    },
    {
     "name": "stdout",
     "output_type": "stream",
     "text": [
      "69\n"
     ]
    },
    {
     "name": "stderr",
     "output_type": "stream",
     "text": [
      "\r",
      " 54%|█████▍    | 70/130 [3:50:06<3:23:51, 203.86s/it]"
     ]
    },
    {
     "name": "stdout",
     "output_type": "stream",
     "text": [
      "70\n"
     ]
    },
    {
     "name": "stderr",
     "output_type": "stream",
     "text": [
      "\r",
      " 55%|█████▍    | 71/130 [3:53:42<3:24:10, 207.64s/it]"
     ]
    },
    {
     "name": "stdout",
     "output_type": "stream",
     "text": [
      "71\n"
     ]
    },
    {
     "name": "stderr",
     "output_type": "stream",
     "text": [
      "\r",
      " 55%|█████▌    | 72/130 [3:57:01<3:18:09, 204.98s/it]"
     ]
    },
    {
     "name": "stdout",
     "output_type": "stream",
     "text": [
      "72\n"
     ]
    },
    {
     "name": "stderr",
     "output_type": "stream",
     "text": [
      "\r",
      " 56%|█████▌    | 73/130 [4:00:32<3:16:36, 206.95s/it]"
     ]
    },
    {
     "name": "stdout",
     "output_type": "stream",
     "text": [
      "73\n"
     ]
    },
    {
     "name": "stderr",
     "output_type": "stream",
     "text": [
      "\r",
      " 57%|█████▋    | 74/130 [4:05:01<3:30:22, 225.39s/it]"
     ]
    },
    {
     "name": "stdout",
     "output_type": "stream",
     "text": [
      "74\n"
     ]
    },
    {
     "name": "stderr",
     "output_type": "stream",
     "text": [
      "\r",
      " 58%|█████▊    | 75/130 [4:08:34<3:23:17, 221.77s/it]"
     ]
    },
    {
     "name": "stdout",
     "output_type": "stream",
     "text": [
      "75\n"
     ]
    },
    {
     "name": "stderr",
     "output_type": "stream",
     "text": [
      "\r",
      " 58%|█████▊    | 76/130 [4:11:36<3:08:45, 209.72s/it]"
     ]
    },
    {
     "name": "stdout",
     "output_type": "stream",
     "text": [
      "76\n"
     ]
    },
    {
     "name": "stderr",
     "output_type": "stream",
     "text": [
      "\r",
      " 59%|█████▉    | 77/130 [4:15:15<3:07:47, 212.59s/it]"
     ]
    },
    {
     "name": "stdout",
     "output_type": "stream",
     "text": [
      "77\n"
     ]
    },
    {
     "name": "stderr",
     "output_type": "stream",
     "text": [
      "\r",
      " 60%|██████    | 78/130 [4:19:51<3:20:37, 231.50s/it]"
     ]
    },
    {
     "name": "stdout",
     "output_type": "stream",
     "text": [
      "78\n"
     ]
    },
    {
     "name": "stderr",
     "output_type": "stream",
     "text": [
      "\r",
      " 61%|██████    | 79/130 [4:24:57<3:35:50, 253.94s/it]"
     ]
    },
    {
     "name": "stdout",
     "output_type": "stream",
     "text": [
      "79\n"
     ]
    },
    {
     "name": "stderr",
     "output_type": "stream",
     "text": [
      "\r",
      " 62%|██████▏   | 80/130 [4:27:56<3:12:48, 231.37s/it]"
     ]
    },
    {
     "name": "stdout",
     "output_type": "stream",
     "text": [
      "80\n"
     ]
    },
    {
     "name": "stderr",
     "output_type": "stream",
     "text": [
      "\r",
      " 62%|██████▏   | 81/130 [4:30:30<2:50:05, 208.27s/it]"
     ]
    },
    {
     "name": "stdout",
     "output_type": "stream",
     "text": [
      "81\n"
     ]
    },
    {
     "name": "stderr",
     "output_type": "stream",
     "text": [
      "\r",
      " 63%|██████▎   | 82/130 [4:33:26<2:38:45, 198.46s/it]"
     ]
    },
    {
     "name": "stdout",
     "output_type": "stream",
     "text": [
      "82\n"
     ]
    },
    {
     "name": "stderr",
     "output_type": "stream",
     "text": [
      "\r",
      " 64%|██████▍   | 83/130 [4:36:04<2:26:05, 186.49s/it]"
     ]
    },
    {
     "name": "stdout",
     "output_type": "stream",
     "text": [
      "83\n"
     ]
    },
    {
     "name": "stderr",
     "output_type": "stream",
     "text": [
      "\r",
      " 65%|██████▍   | 84/130 [4:38:45<2:17:09, 178.89s/it]"
     ]
    },
    {
     "name": "stdout",
     "output_type": "stream",
     "text": [
      "84\n"
     ]
    },
    {
     "name": "stderr",
     "output_type": "stream",
     "text": [
      "\r",
      " 65%|██████▌   | 85/130 [4:41:49<2:15:07, 180.16s/it]"
     ]
    },
    {
     "name": "stdout",
     "output_type": "stream",
     "text": [
      "85\n"
     ]
    },
    {
     "name": "stderr",
     "output_type": "stream",
     "text": [
      "\r",
      " 66%|██████▌   | 86/130 [4:44:34<2:08:49, 175.67s/it]"
     ]
    },
    {
     "name": "stdout",
     "output_type": "stream",
     "text": [
      "86\n"
     ]
    },
    {
     "name": "stderr",
     "output_type": "stream",
     "text": [
      "\r",
      " 67%|██████▋   | 87/130 [4:47:39<2:07:55, 178.51s/it]"
     ]
    },
    {
     "name": "stdout",
     "output_type": "stream",
     "text": [
      "87\n"
     ]
    },
    {
     "name": "stderr",
     "output_type": "stream",
     "text": [
      "\r",
      " 68%|██████▊   | 88/130 [4:50:03<1:57:42, 168.16s/it]"
     ]
    },
    {
     "name": "stdout",
     "output_type": "stream",
     "text": [
      "88\n"
     ]
    },
    {
     "name": "stderr",
     "output_type": "stream",
     "text": [
      "\r",
      " 68%|██████▊   | 89/130 [4:52:34<1:51:23, 163.02s/it]"
     ]
    },
    {
     "name": "stdout",
     "output_type": "stream",
     "text": [
      "89\n"
     ]
    },
    {
     "name": "stderr",
     "output_type": "stream",
     "text": [
      "\r",
      " 69%|██████▉   | 90/130 [4:56:16<2:00:32, 180.80s/it]"
     ]
    },
    {
     "name": "stdout",
     "output_type": "stream",
     "text": [
      "90\n"
     ]
    },
    {
     "name": "stderr",
     "output_type": "stream",
     "text": [
      "\r",
      " 70%|███████   | 91/130 [4:59:50<2:04:03, 190.85s/it]"
     ]
    },
    {
     "name": "stdout",
     "output_type": "stream",
     "text": [
      "91\n"
     ]
    },
    {
     "name": "stderr",
     "output_type": "stream",
     "text": [
      "\r",
      " 71%|███████   | 92/130 [5:02:55<1:59:41, 188.99s/it]"
     ]
    },
    {
     "name": "stdout",
     "output_type": "stream",
     "text": [
      "92\n"
     ]
    },
    {
     "name": "stderr",
     "output_type": "stream",
     "text": [
      "\r",
      " 72%|███████▏  | 93/130 [5:05:37<1:51:28, 180.76s/it]"
     ]
    },
    {
     "name": "stdout",
     "output_type": "stream",
     "text": [
      "93\n"
     ]
    },
    {
     "name": "stderr",
     "output_type": "stream",
     "text": [
      "\r",
      " 72%|███████▏  | 94/130 [5:08:24<1:46:01, 176.70s/it]"
     ]
    },
    {
     "name": "stdout",
     "output_type": "stream",
     "text": [
      "94\n"
     ]
    },
    {
     "name": "stderr",
     "output_type": "stream",
     "text": [
      "\r",
      " 73%|███████▎  | 95/130 [5:10:55<1:38:39, 169.14s/it]"
     ]
    },
    {
     "name": "stdout",
     "output_type": "stream",
     "text": [
      "95\n"
     ]
    },
    {
     "name": "stderr",
     "output_type": "stream",
     "text": [
      "\r",
      " 74%|███████▍  | 96/130 [5:13:24<1:32:17, 162.87s/it]"
     ]
    },
    {
     "name": "stdout",
     "output_type": "stream",
     "text": [
      "96\n"
     ]
    },
    {
     "name": "stderr",
     "output_type": "stream",
     "text": [
      "\r",
      " 75%|███████▍  | 97/130 [5:15:58<1:28:07, 160.22s/it]"
     ]
    },
    {
     "name": "stdout",
     "output_type": "stream",
     "text": [
      "97\n"
     ]
    },
    {
     "name": "stderr",
     "output_type": "stream",
     "text": [
      "\r",
      " 75%|███████▌  | 98/130 [5:18:30<1:24:06, 157.71s/it]"
     ]
    },
    {
     "name": "stdout",
     "output_type": "stream",
     "text": [
      "98\n"
     ]
    },
    {
     "name": "stderr",
     "output_type": "stream",
     "text": [
      "\r",
      " 76%|███████▌  | 99/130 [5:21:17<1:22:59, 160.63s/it]"
     ]
    },
    {
     "name": "stdout",
     "output_type": "stream",
     "text": [
      "99\n"
     ]
    },
    {
     "name": "stderr",
     "output_type": "stream",
     "text": [
      "\r",
      " 77%|███████▋  | 100/130 [5:23:52<1:19:26, 158.87s/it]"
     ]
    },
    {
     "name": "stdout",
     "output_type": "stream",
     "text": [
      "100\n"
     ]
    },
    {
     "name": "stderr",
     "output_type": "stream",
     "text": [
      "\r",
      " 78%|███████▊  | 101/130 [5:26:26<1:16:03, 157.38s/it]"
     ]
    },
    {
     "name": "stdout",
     "output_type": "stream",
     "text": [
      "101\n"
     ]
    },
    {
     "name": "stderr",
     "output_type": "stream",
     "text": [
      "\r",
      " 78%|███████▊  | 102/130 [5:29:01<1:13:05, 156.64s/it]"
     ]
    },
    {
     "name": "stdout",
     "output_type": "stream",
     "text": [
      "102\n"
     ]
    },
    {
     "name": "stderr",
     "output_type": "stream",
     "text": [
      "\r",
      " 79%|███████▉  | 103/130 [5:31:46<1:11:38, 159.19s/it]"
     ]
    },
    {
     "name": "stdout",
     "output_type": "stream",
     "text": [
      "103\n"
     ]
    },
    {
     "name": "stderr",
     "output_type": "stream",
     "text": [
      "\r",
      " 80%|████████  | 104/130 [5:34:32<1:09:56, 161.40s/it]"
     ]
    },
    {
     "name": "stdout",
     "output_type": "stream",
     "text": [
      "104\n"
     ]
    },
    {
     "name": "stderr",
     "output_type": "stream",
     "text": [
      "\r",
      " 81%|████████  | 105/130 [5:37:19<1:07:53, 162.95s/it]"
     ]
    },
    {
     "name": "stdout",
     "output_type": "stream",
     "text": [
      "105\n"
     ]
    },
    {
     "name": "stderr",
     "output_type": "stream",
     "text": [
      "\r",
      " 82%|████████▏ | 106/130 [5:39:54<1:04:15, 160.65s/it]"
     ]
    },
    {
     "name": "stdout",
     "output_type": "stream",
     "text": [
      "106\n"
     ]
    },
    {
     "name": "stderr",
     "output_type": "stream",
     "text": [
      "\r",
      " 82%|████████▏ | 107/130 [5:42:38<1:01:56, 161.59s/it]"
     ]
    },
    {
     "name": "stdout",
     "output_type": "stream",
     "text": [
      "107\n"
     ]
    },
    {
     "name": "stderr",
     "output_type": "stream",
     "text": [
      "\r",
      " 83%|████████▎ | 108/130 [5:45:13<58:30, 159.58s/it]  "
     ]
    },
    {
     "name": "stdout",
     "output_type": "stream",
     "text": [
      "108\n"
     ]
    },
    {
     "name": "stderr",
     "output_type": "stream",
     "text": [
      "\r",
      " 84%|████████▍ | 109/130 [5:48:15<58:14, 166.42s/it]"
     ]
    },
    {
     "name": "stdout",
     "output_type": "stream",
     "text": [
      "109\n"
     ]
    },
    {
     "name": "stderr",
     "output_type": "stream",
     "text": [
      "\r",
      " 85%|████████▍ | 110/130 [5:51:22<57:30, 172.54s/it]"
     ]
    },
    {
     "name": "stdout",
     "output_type": "stream",
     "text": [
      "110\n"
     ]
    },
    {
     "name": "stderr",
     "output_type": "stream",
     "text": [
      "\r",
      " 85%|████████▌ | 111/130 [5:54:25<55:36, 175.62s/it]"
     ]
    },
    {
     "name": "stdout",
     "output_type": "stream",
     "text": [
      "111\n"
     ]
    },
    {
     "name": "stderr",
     "output_type": "stream",
     "text": [
      "\r",
      " 86%|████████▌ | 112/130 [5:56:59<50:44, 169.14s/it]"
     ]
    },
    {
     "name": "stdout",
     "output_type": "stream",
     "text": [
      "112\n"
     ]
    },
    {
     "name": "stderr",
     "output_type": "stream",
     "text": [
      "\r",
      " 87%|████████▋ | 113/130 [5:59:54<48:24, 170.86s/it]"
     ]
    },
    {
     "name": "stdout",
     "output_type": "stream",
     "text": [
      "113\n"
     ]
    },
    {
     "name": "stderr",
     "output_type": "stream",
     "text": [
      "\r",
      " 88%|████████▊ | 114/130 [6:02:32<44:34, 167.19s/it]"
     ]
    },
    {
     "name": "stdout",
     "output_type": "stream",
     "text": [
      "114\n"
     ]
    },
    {
     "name": "stderr",
     "output_type": "stream",
     "text": [
      "\r",
      " 88%|████████▊ | 115/130 [6:05:06<40:46, 163.12s/it]"
     ]
    },
    {
     "name": "stdout",
     "output_type": "stream",
     "text": [
      "115\n"
     ]
    },
    {
     "name": "stderr",
     "output_type": "stream",
     "text": [
      "\r",
      " 89%|████████▉ | 116/130 [6:08:08<39:25, 168.94s/it]"
     ]
    },
    {
     "name": "stdout",
     "output_type": "stream",
     "text": [
      "116\n"
     ]
    },
    {
     "name": "stderr",
     "output_type": "stream",
     "text": [
      "\r",
      " 90%|█████████ | 117/130 [6:10:40<35:27, 163.67s/it]"
     ]
    },
    {
     "name": "stdout",
     "output_type": "stream",
     "text": [
      "117\n"
     ]
    },
    {
     "name": "stderr",
     "output_type": "stream",
     "text": [
      "\r",
      " 91%|█████████ | 118/130 [6:13:26<32:51, 164.29s/it]"
     ]
    },
    {
     "name": "stdout",
     "output_type": "stream",
     "text": [
      "118\n"
     ]
    },
    {
     "name": "stderr",
     "output_type": "stream",
     "text": [
      "\r",
      " 92%|█████████▏| 119/130 [6:16:02<29:42, 162.01s/it]"
     ]
    },
    {
     "name": "stdout",
     "output_type": "stream",
     "text": [
      "119\n"
     ]
    },
    {
     "name": "stderr",
     "output_type": "stream",
     "text": [
      "\r",
      " 92%|█████████▏| 120/130 [6:18:37<26:37, 159.79s/it]"
     ]
    },
    {
     "name": "stdout",
     "output_type": "stream",
     "text": [
      "120\n"
     ]
    },
    {
     "name": "stderr",
     "output_type": "stream",
     "text": [
      "\r",
      " 93%|█████████▎| 121/130 [6:21:27<24:26, 162.90s/it]"
     ]
    },
    {
     "name": "stdout",
     "output_type": "stream",
     "text": [
      "121\n"
     ]
    },
    {
     "name": "stderr",
     "output_type": "stream",
     "text": [
      "\r",
      " 94%|█████████▍| 122/130 [6:24:24<22:16, 167.01s/it]"
     ]
    },
    {
     "name": "stdout",
     "output_type": "stream",
     "text": [
      "122\n"
     ]
    },
    {
     "name": "stderr",
     "output_type": "stream",
     "text": [
      "\r",
      " 95%|█████████▍| 123/130 [6:27:26<20:00, 171.48s/it]"
     ]
    },
    {
     "name": "stdout",
     "output_type": "stream",
     "text": [
      "123\n"
     ]
    },
    {
     "name": "stderr",
     "output_type": "stream",
     "text": [
      "\r",
      " 95%|█████████▌| 124/130 [6:30:25<17:23, 173.88s/it]"
     ]
    },
    {
     "name": "stdout",
     "output_type": "stream",
     "text": [
      "124\n"
     ]
    },
    {
     "name": "stderr",
     "output_type": "stream",
     "text": [
      "\r",
      " 96%|█████████▌| 125/130 [6:33:38<14:58, 179.71s/it]"
     ]
    },
    {
     "name": "stdout",
     "output_type": "stream",
     "text": [
      "125\n"
     ]
    },
    {
     "name": "stderr",
     "output_type": "stream",
     "text": [
      "\r",
      " 97%|█████████▋| 126/130 [6:37:05<12:31, 187.78s/it]"
     ]
    },
    {
     "name": "stdout",
     "output_type": "stream",
     "text": [
      "126\n"
     ]
    },
    {
     "name": "stderr",
     "output_type": "stream",
     "text": [
      "\r",
      " 98%|█████████▊| 127/130 [6:40:21<09:30, 190.16s/it]"
     ]
    },
    {
     "name": "stdout",
     "output_type": "stream",
     "text": [
      "127\n"
     ]
    },
    {
     "name": "stderr",
     "output_type": "stream",
     "text": [
      "\r",
      " 98%|█████████▊| 128/130 [6:43:17<06:11, 185.88s/it]"
     ]
    },
    {
     "name": "stdout",
     "output_type": "stream",
     "text": [
      "128\n"
     ]
    },
    {
     "name": "stderr",
     "output_type": "stream",
     "text": [
      "\r",
      " 99%|█████████▉| 129/130 [6:46:14<03:03, 183.31s/it]"
     ]
    },
    {
     "name": "stdout",
     "output_type": "stream",
     "text": [
      "129\n"
     ]
    },
    {
     "name": "stderr",
     "output_type": "stream",
     "text": [
      "100%|██████████| 130/130 [6:49:05<00:00, 188.81s/it]\n"
     ]
    }
   ],
   "source": [
    "filename = \"~/data/leavetimes_split_by_route/route{}.csv\"\n",
    "\n",
    "i = 0\n",
    "for bus in tqdm(bus_routes):\n",
    "    print(i)\n",
    "    i += 1\n",
    "    line_tripid = list(bus_trip_df[\"TRIPID\"][bus_trip_df[\"LINEID\"] == bus].compute())\n",
    "    single_route_df = route_selection(bus_leavetimes_df, line_tripid)\n",
    "    single_route_df.to_csv(filename.format(bus))"
   ]
  },
  {
   "cell_type": "code",
   "execution_count": 24,
   "metadata": {},
   "outputs": [
    {
     "ename": "KeyError",
     "evalue": "False",
     "output_type": "error",
     "traceback": [
      "\u001b[0;31m---------------------------------------------------------------------------\u001b[0m",
      "\u001b[0;31mKeyError\u001b[0m                                  Traceback (most recent call last)",
      "\u001b[0;32m~/miniconda3/lib/python3.9/site-packages/pandas/core/indexes/base.py\u001b[0m in \u001b[0;36mget_loc\u001b[0;34m(self, key, method, tolerance)\u001b[0m\n\u001b[1;32m   3080\u001b[0m             \u001b[0;32mtry\u001b[0m\u001b[0;34m:\u001b[0m\u001b[0;34m\u001b[0m\u001b[0;34m\u001b[0m\u001b[0m\n\u001b[0;32m-> 3081\u001b[0;31m                 \u001b[0;32mreturn\u001b[0m \u001b[0mself\u001b[0m\u001b[0;34m.\u001b[0m\u001b[0m_engine\u001b[0m\u001b[0;34m.\u001b[0m\u001b[0mget_loc\u001b[0m\u001b[0;34m(\u001b[0m\u001b[0mcasted_key\u001b[0m\u001b[0;34m)\u001b[0m\u001b[0;34m\u001b[0m\u001b[0;34m\u001b[0m\u001b[0m\n\u001b[0m\u001b[1;32m   3082\u001b[0m             \u001b[0;32mexcept\u001b[0m \u001b[0mKeyError\u001b[0m \u001b[0;32mas\u001b[0m \u001b[0merr\u001b[0m\u001b[0;34m:\u001b[0m\u001b[0;34m\u001b[0m\u001b[0;34m\u001b[0m\u001b[0m\n",
      "\u001b[0;32mpandas/_libs/index.pyx\u001b[0m in \u001b[0;36mpandas._libs.index.IndexEngine.get_loc\u001b[0;34m()\u001b[0m\n",
      "\u001b[0;32mpandas/_libs/index.pyx\u001b[0m in \u001b[0;36mpandas._libs.index.IndexEngine.get_loc\u001b[0;34m()\u001b[0m\n",
      "\u001b[0;32mpandas/_libs/hashtable_class_helper.pxi\u001b[0m in \u001b[0;36mpandas._libs.hashtable.PyObjectHashTable.get_item\u001b[0;34m()\u001b[0m\n",
      "\u001b[0;32mpandas/_libs/hashtable_class_helper.pxi\u001b[0m in \u001b[0;36mpandas._libs.hashtable.PyObjectHashTable.get_item\u001b[0;34m()\u001b[0m\n",
      "\u001b[0;31mKeyError\u001b[0m: False",
      "\nThe above exception was the direct cause of the following exception:\n",
      "\u001b[0;31mKeyError\u001b[0m                                  Traceback (most recent call last)",
      "\u001b[0;32m<timed eval>\u001b[0m in \u001b[0;36m<module>\u001b[0;34m\u001b[0m\n",
      "\u001b[0;32m~/miniconda3/lib/python3.9/site-packages/dask/dataframe/core.py\u001b[0m in \u001b[0;36m__getitem__\u001b[0;34m(self, key)\u001b[0m\n\u001b[1;32m   3909\u001b[0m \u001b[0;34m\u001b[0m\u001b[0m\n\u001b[1;32m   3910\u001b[0m             \u001b[0;31m# error is raised from pandas\u001b[0m\u001b[0;34m\u001b[0m\u001b[0;34m\u001b[0m\u001b[0;34m\u001b[0m\u001b[0m\n\u001b[0;32m-> 3911\u001b[0;31m             \u001b[0mmeta\u001b[0m \u001b[0;34m=\u001b[0m \u001b[0mself\u001b[0m\u001b[0;34m.\u001b[0m\u001b[0m_meta\u001b[0m\u001b[0;34m[\u001b[0m\u001b[0m_extract_meta\u001b[0m\u001b[0;34m(\u001b[0m\u001b[0mkey\u001b[0m\u001b[0;34m)\u001b[0m\u001b[0;34m]\u001b[0m\u001b[0;34m\u001b[0m\u001b[0;34m\u001b[0m\u001b[0m\n\u001b[0m\u001b[1;32m   3912\u001b[0m             \u001b[0mdsk\u001b[0m \u001b[0;34m=\u001b[0m \u001b[0mpartitionwise_graph\u001b[0m\u001b[0;34m(\u001b[0m\u001b[0moperator\u001b[0m\u001b[0;34m.\u001b[0m\u001b[0mgetitem\u001b[0m\u001b[0;34m,\u001b[0m \u001b[0mname\u001b[0m\u001b[0;34m,\u001b[0m \u001b[0mself\u001b[0m\u001b[0;34m,\u001b[0m \u001b[0mkey\u001b[0m\u001b[0;34m)\u001b[0m\u001b[0;34m\u001b[0m\u001b[0;34m\u001b[0m\u001b[0m\n\u001b[1;32m   3913\u001b[0m             \u001b[0mgraph\u001b[0m \u001b[0;34m=\u001b[0m \u001b[0mHighLevelGraph\u001b[0m\u001b[0;34m.\u001b[0m\u001b[0mfrom_collections\u001b[0m\u001b[0;34m(\u001b[0m\u001b[0mname\u001b[0m\u001b[0;34m,\u001b[0m \u001b[0mdsk\u001b[0m\u001b[0;34m,\u001b[0m \u001b[0mdependencies\u001b[0m\u001b[0;34m=\u001b[0m\u001b[0;34m[\u001b[0m\u001b[0mself\u001b[0m\u001b[0;34m]\u001b[0m\u001b[0;34m)\u001b[0m\u001b[0;34m\u001b[0m\u001b[0;34m\u001b[0m\u001b[0m\n",
      "\u001b[0;32m~/miniconda3/lib/python3.9/site-packages/pandas/core/frame.py\u001b[0m in \u001b[0;36m__getitem__\u001b[0;34m(self, key)\u001b[0m\n\u001b[1;32m   3022\u001b[0m             \u001b[0;32mif\u001b[0m \u001b[0mself\u001b[0m\u001b[0;34m.\u001b[0m\u001b[0mcolumns\u001b[0m\u001b[0;34m.\u001b[0m\u001b[0mnlevels\u001b[0m \u001b[0;34m>\u001b[0m \u001b[0;36m1\u001b[0m\u001b[0;34m:\u001b[0m\u001b[0;34m\u001b[0m\u001b[0;34m\u001b[0m\u001b[0m\n\u001b[1;32m   3023\u001b[0m                 \u001b[0;32mreturn\u001b[0m \u001b[0mself\u001b[0m\u001b[0;34m.\u001b[0m\u001b[0m_getitem_multilevel\u001b[0m\u001b[0;34m(\u001b[0m\u001b[0mkey\u001b[0m\u001b[0;34m)\u001b[0m\u001b[0;34m\u001b[0m\u001b[0;34m\u001b[0m\u001b[0m\n\u001b[0;32m-> 3024\u001b[0;31m             \u001b[0mindexer\u001b[0m \u001b[0;34m=\u001b[0m \u001b[0mself\u001b[0m\u001b[0;34m.\u001b[0m\u001b[0mcolumns\u001b[0m\u001b[0;34m.\u001b[0m\u001b[0mget_loc\u001b[0m\u001b[0;34m(\u001b[0m\u001b[0mkey\u001b[0m\u001b[0;34m)\u001b[0m\u001b[0;34m\u001b[0m\u001b[0;34m\u001b[0m\u001b[0m\n\u001b[0m\u001b[1;32m   3025\u001b[0m             \u001b[0;32mif\u001b[0m \u001b[0mis_integer\u001b[0m\u001b[0;34m(\u001b[0m\u001b[0mindexer\u001b[0m\u001b[0;34m)\u001b[0m\u001b[0;34m:\u001b[0m\u001b[0;34m\u001b[0m\u001b[0;34m\u001b[0m\u001b[0m\n\u001b[1;32m   3026\u001b[0m                 \u001b[0mindexer\u001b[0m \u001b[0;34m=\u001b[0m \u001b[0;34m[\u001b[0m\u001b[0mindexer\u001b[0m\u001b[0;34m]\u001b[0m\u001b[0;34m\u001b[0m\u001b[0;34m\u001b[0m\u001b[0m\n",
      "\u001b[0;32m~/miniconda3/lib/python3.9/site-packages/pandas/core/indexes/base.py\u001b[0m in \u001b[0;36mget_loc\u001b[0;34m(self, key, method, tolerance)\u001b[0m\n\u001b[1;32m   3081\u001b[0m                 \u001b[0;32mreturn\u001b[0m \u001b[0mself\u001b[0m\u001b[0;34m.\u001b[0m\u001b[0m_engine\u001b[0m\u001b[0;34m.\u001b[0m\u001b[0mget_loc\u001b[0m\u001b[0;34m(\u001b[0m\u001b[0mcasted_key\u001b[0m\u001b[0;34m)\u001b[0m\u001b[0;34m\u001b[0m\u001b[0;34m\u001b[0m\u001b[0m\n\u001b[1;32m   3082\u001b[0m             \u001b[0;32mexcept\u001b[0m \u001b[0mKeyError\u001b[0m \u001b[0;32mas\u001b[0m \u001b[0merr\u001b[0m\u001b[0;34m:\u001b[0m\u001b[0;34m\u001b[0m\u001b[0;34m\u001b[0m\u001b[0m\n\u001b[0;32m-> 3083\u001b[0;31m                 \u001b[0;32mraise\u001b[0m \u001b[0mKeyError\u001b[0m\u001b[0;34m(\u001b[0m\u001b[0mkey\u001b[0m\u001b[0;34m)\u001b[0m \u001b[0;32mfrom\u001b[0m \u001b[0merr\u001b[0m\u001b[0;34m\u001b[0m\u001b[0;34m\u001b[0m\u001b[0m\n\u001b[0m\u001b[1;32m   3084\u001b[0m \u001b[0;34m\u001b[0m\u001b[0m\n\u001b[1;32m   3085\u001b[0m         \u001b[0;32mif\u001b[0m \u001b[0mtolerance\u001b[0m \u001b[0;32mis\u001b[0m \u001b[0;32mnot\u001b[0m \u001b[0;32mNone\u001b[0m\u001b[0;34m:\u001b[0m\u001b[0;34m\u001b[0m\u001b[0;34m\u001b[0m\u001b[0m\n",
      "\u001b[0;31mKeyError\u001b[0m: False"
     ]
    }
   ],
   "source": [
    "%time filter_result[\"TRIPID\"][filter_result[\"LINEID\" ==\"102\"]]"
   ]
  },
  {
   "cell_type": "code",
   "execution_count": null,
   "metadata": {},
   "outputs": [],
   "source": []
  },
  {
   "cell_type": "code",
   "execution_count": null,
   "metadata": {},
   "outputs": [],
   "source": []
  },
  {
   "cell_type": "code",
   "execution_count": null,
   "metadata": {},
   "outputs": [],
   "source": []
  },
  {
   "cell_type": "code",
   "execution_count": null,
   "metadata": {},
   "outputs": [],
   "source": []
  }
 ],
 "metadata": {
  "kernelspec": {
   "display_name": "Python 3",
   "language": "python",
   "name": "python3"
  },
  "language_info": {
   "codemirror_mode": {
    "name": "ipython",
    "version": 3
   },
   "file_extension": ".py",
   "mimetype": "text/x-python",
   "name": "python",
   "nbconvert_exporter": "python",
   "pygments_lexer": "ipython3",
   "version": "3.9.1"
  }
 },
 "nbformat": 4,
 "nbformat_minor": 5
}
