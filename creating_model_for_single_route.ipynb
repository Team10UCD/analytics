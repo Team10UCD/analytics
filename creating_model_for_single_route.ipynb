{
 "cells": [
  {
   "cell_type": "code",
   "execution_count": 1,
   "metadata": {},
   "outputs": [],
   "source": [
    "import dask.dataframe as dd\n",
    "import pandas as pd\n",
    "from datetime import datetime, timedelta, time\n",
    "import numpy as np\n",
    "import math\n",
    "import matplotlib.pyplot as plt\n",
    "from sklearn.ensemble import RandomForestRegressor\n",
    "import pickle\n",
    "import joblib"
   ]
  },
  {
   "cell_type": "code",
   "execution_count": 2,
   "metadata": {},
   "outputs": [],
   "source": [
    "# reading the data of a dask directory and converting into a pandas dataframe\n",
    "def read_dd_to_pandas(route):\n",
    "    route_dask_df = dd.read_csv(\"~/data/leavetimes_split_by_route/{}/*.part\".format(route))\n",
    "    route_dask_df = route_dask_df.drop('Unnamed: 0', axis=1)\n",
    "    route_pd_df = route_dask_df.compute()\n",
    "    route_pd_df = route_pd_df.reset_index(drop=True)\n",
    "    route_pd_df[\"DAYOFSERVICE\"] = pd.to_datetime(route_pd_df[\"DAYOFSERVICE\"])\n",
    "    route_pd_df[\"LASTUPDATE\"] = pd.to_datetime(route_pd_df[\"LASTUPDATE\"])\n",
    "    return route_pd_df"
   ]
  },
  {
   "cell_type": "code",
   "execution_count": 3,
   "metadata": {},
   "outputs": [],
   "source": [
    "route_pd_df = read_dd_to_pandas(\"route102\")"
   ]
  },
  {
   "cell_type": "code",
   "execution_count": 4,
   "metadata": {},
   "outputs": [],
   "source": [
    "# datetime things\n",
    "route_pd_df[\"DAYOFSERVICE\"] = pd.to_datetime(route_pd_df[\"DAYOFSERVICE\"])\n",
    "route_pd_df[\"LASTUPDATE\"] = pd.to_datetime(route_pd_df[\"LASTUPDATE\"])\n",
    "\n",
    "# categorical things\n",
    "route_pd_df[\"TRIPID\"] = route_pd_df[\"TRIPID\"].astype(\"category\")\n",
    "route_pd_df[\"VEHICLEID\"] = route_pd_df[\"VEHICLEID\"].astype(\"category\")\n",
    "route_pd_df[\"SUPPRESSED\"] = route_pd_df[\"SUPPRESSED\"].astype(\"category\")\n",
    "route_pd_df[\"STOPPOINTID\"] = route_pd_df[\"STOPPOINTID\"].astype(\"category\")\n",
    "#route_pd_df[\"PROGRNUMBER\"] = route_pd_df[\"PROGRNUMBER\"].astype(\"category\")\n",
    "\n",
    "# NUMBERICAL tings\n",
    "# these are the time features, will keep these the same as before"
   ]
  },
  {
   "cell_type": "code",
   "execution_count": 5,
   "metadata": {},
   "outputs": [],
   "source": [
    "# read weather data\n",
    "weather_df = pd.read_csv(\"~/data/openweatherapi_2018_data_with_columns_removed2021-06-26 01:55:47.555341.csv\")\n",
    "#weather_df = weather_df.drop(\"Unnamed: 0\", axis = 1)\n",
    "\n",
    "# change the dtypes of the weather features\n",
    "weather_df[\"dt\"] = pd.to_datetime(weather_df[\"dt\"]).dt.tz_localize(None)\n",
    "\n",
    "# categorical data\n",
    "weather_df[\"weather_main\"] = weather_df[\"weather_main\"].astype(\"category\")\n",
    "weather_df[\"weather_icon\"] = weather_df[\"weather_icon\"].astype(\"category\")\n"
   ]
  },
  {
   "cell_type": "code",
   "execution_count": 6,
   "metadata": {},
   "outputs": [],
   "source": [
    "# we need to merge the data for the route and the weather data\n",
    "#merge with respect to the time, and eazch hour\n",
    "# for example, 1:30 should be emrged with the data for 1:00 as weather\n",
    "# is on hourly basis\n",
    "\n",
    "# CREATE  a new feature in the routes that contains the hours so that we can \n",
    "# merge with the weather data\n",
    "route_time_planned = route_pd_df[\"PLANNEDTIME_ARR\"]\n",
    "route_time_actual = route_pd_df[\"ACTUALTIME_ARR\"]\n",
    "\n",
    "actual_time_hour = []\n",
    "expected_time_hour = []\n",
    "for i in range(len(route_time_actual)):\n",
    "    actual_time_hour.append(route_time_actual[i] // 3600)\n",
    "    expected_time_hour.append(route_time_planned[i] // 3600)\n",
    "\n",
    "actual_date = route_pd_df[\"DAYOFSERVICE\"]\n",
    "\n",
    "\n",
    "# parse it into datetime with this  any hours\n",
    "date_time = []\n",
    "for i in range(len(actual_time_hour)):\n",
    "    new_datetime = actual_date[i] + timedelta(hours = int(actual_time_hour[i]))\n",
    "    date_time.append(new_datetime)\n",
    "    \n",
    "# add in the new column, \n",
    "# new column means that we can remove the other date column\n",
    "route_pd_df[\"date_and_time\"] = date_time\n",
    "\n",
    "route_pd_df[\"delay_amount\"] = route_pd_df[\"ACTUALTIME_ARR\"] - route_pd_df[\"PLANNEDTIME_ARR\"]\n",
    "\n",
    "#combined_df[\"planned_hour_arr\"]\n",
    "hours = route_pd_df[\"PLANNEDTIME_ARR\"]//3600\n",
    "#combined_df[\"planned_minute_arr\"]\n",
    "\n",
    "minutes= (route_pd_df[\"PLANNEDTIME_ARR\"]%3600) // 60\n",
    "\n",
    "route_pd_df[\"planned_arr_hours\"] = hours\n",
    "route_pd_df[\"planned_arr_minutes\"] = minutes\n",
    "# get the day of the week form the \n",
    "route_pd_df[\"day_of_week\"] = route_pd_df[\"DAYOFSERVICE\"].dt.day_name()"
   ]
  },
  {
   "cell_type": "code",
   "execution_count": 7,
   "metadata": {},
   "outputs": [],
   "source": [
    "def holiday(df):\n",
    "    holiday = [6,7,8, 12]\n",
    "    if df[\"DAYOFSERVICE\"].month in holiday:\n",
    "        return 1\n",
    "    elif df[\"DAYOFSERVICE\"].month == 3 and df[\"DAYOFSERVICE\"].day == 17:\n",
    "        return 1\n",
    "    elif df[\"DAYOFSERVICE\"].month == 1 and df[\"DAYOFSERVICE\"].day == 1:\n",
    "        return 1\n",
    "    elif df[\"DAYOFSERVICE\"].month == 5 and df[\"DAYOFSERVICE\"].day == 1:\n",
    "        return 1\n",
    "    else:\n",
    "        return 0"
   ]
  },
  {
   "cell_type": "code",
   "execution_count": 8,
   "metadata": {},
   "outputs": [],
   "source": [
    "route_pd_df[\"holiday\"] = route_pd_df.apply(holiday, axis = 1)"
   ]
  },
  {
   "cell_type": "code",
   "execution_count": 9,
   "metadata": {},
   "outputs": [
    {
     "data": {
      "text/html": [
       "<div>\n",
       "<style scoped>\n",
       "    .dataframe tbody tr th:only-of-type {\n",
       "        vertical-align: middle;\n",
       "    }\n",
       "\n",
       "    .dataframe tbody tr th {\n",
       "        vertical-align: top;\n",
       "    }\n",
       "\n",
       "    .dataframe thead th {\n",
       "        text-align: right;\n",
       "    }\n",
       "</style>\n",
       "<table border=\"1\" class=\"dataframe\">\n",
       "  <thead>\n",
       "    <tr style=\"text-align: right;\">\n",
       "      <th></th>\n",
       "      <th>DAYOFSERVICE</th>\n",
       "      <th>TRIPID</th>\n",
       "      <th>PROGRNUMBER</th>\n",
       "      <th>STOPPOINTID</th>\n",
       "      <th>PLANNEDTIME_ARR</th>\n",
       "      <th>PLANNEDTIME_DEP</th>\n",
       "      <th>ACTUALTIME_ARR</th>\n",
       "      <th>ACTUALTIME_DEP</th>\n",
       "      <th>VEHICLEID</th>\n",
       "      <th>SUPPRESSED</th>\n",
       "      <th>JUSTIFICATIONID</th>\n",
       "      <th>LASTUPDATE</th>\n",
       "      <th>date_and_time</th>\n",
       "      <th>delay_amount</th>\n",
       "      <th>planned_arr_hours</th>\n",
       "      <th>planned_arr_minutes</th>\n",
       "      <th>day_of_week</th>\n",
       "      <th>holiday</th>\n",
       "    </tr>\n",
       "  </thead>\n",
       "  <tbody>\n",
       "    <tr>\n",
       "      <th>0</th>\n",
       "      <td>2018-01-01</td>\n",
       "      <td>5957731</td>\n",
       "      <td>2</td>\n",
       "      <td>935</td>\n",
       "      <td>77743</td>\n",
       "      <td>77743</td>\n",
       "      <td>77715</td>\n",
       "      <td>77715</td>\n",
       "      <td>2868314</td>\n",
       "      <td>NaN</td>\n",
       "      <td>NaN</td>\n",
       "      <td>2018-01-08 17:21:10</td>\n",
       "      <td>2018-01-01 21:00:00</td>\n",
       "      <td>-28</td>\n",
       "      <td>21</td>\n",
       "      <td>35</td>\n",
       "      <td>Monday</td>\n",
       "      <td>1</td>\n",
       "    </tr>\n",
       "    <tr>\n",
       "      <th>1</th>\n",
       "      <td>2018-01-01</td>\n",
       "      <td>5968222</td>\n",
       "      <td>2</td>\n",
       "      <td>935</td>\n",
       "      <td>82843</td>\n",
       "      <td>82843</td>\n",
       "      <td>82844</td>\n",
       "      <td>82844</td>\n",
       "      <td>2534829</td>\n",
       "      <td>NaN</td>\n",
       "      <td>NaN</td>\n",
       "      <td>2018-01-08 17:21:10</td>\n",
       "      <td>2018-01-01 23:00:00</td>\n",
       "      <td>1</td>\n",
       "      <td>23</td>\n",
       "      <td>0</td>\n",
       "      <td>Monday</td>\n",
       "      <td>1</td>\n",
       "    </tr>\n",
       "    <tr>\n",
       "      <th>2</th>\n",
       "      <td>2018-01-01</td>\n",
       "      <td>5957733</td>\n",
       "      <td>2</td>\n",
       "      <td>935</td>\n",
       "      <td>84643</td>\n",
       "      <td>84643</td>\n",
       "      <td>84643</td>\n",
       "      <td>84643</td>\n",
       "      <td>2868314</td>\n",
       "      <td>NaN</td>\n",
       "      <td>NaN</td>\n",
       "      <td>2018-01-08 17:21:10</td>\n",
       "      <td>2018-01-01 23:00:00</td>\n",
       "      <td>0</td>\n",
       "      <td>23</td>\n",
       "      <td>30</td>\n",
       "      <td>Monday</td>\n",
       "      <td>1</td>\n",
       "    </tr>\n",
       "    <tr>\n",
       "      <th>3</th>\n",
       "      <td>2018-01-01</td>\n",
       "      <td>5968214</td>\n",
       "      <td>1</td>\n",
       "      <td>4381</td>\n",
       "      <td>42300</td>\n",
       "      <td>42300</td>\n",
       "      <td>42326</td>\n",
       "      <td>42326</td>\n",
       "      <td>1001151</td>\n",
       "      <td>NaN</td>\n",
       "      <td>NaN</td>\n",
       "      <td>2018-01-08 17:21:10</td>\n",
       "      <td>2018-01-01 11:00:00</td>\n",
       "      <td>26</td>\n",
       "      <td>11</td>\n",
       "      <td>45</td>\n",
       "      <td>Monday</td>\n",
       "      <td>1</td>\n",
       "    </tr>\n",
       "    <tr>\n",
       "      <th>4</th>\n",
       "      <td>2018-01-01</td>\n",
       "      <td>5957726</td>\n",
       "      <td>1</td>\n",
       "      <td>4381</td>\n",
       "      <td>48300</td>\n",
       "      <td>48300</td>\n",
       "      <td>48298</td>\n",
       "      <td>48298</td>\n",
       "      <td>1000198</td>\n",
       "      <td>NaN</td>\n",
       "      <td>NaN</td>\n",
       "      <td>2018-01-08 17:21:10</td>\n",
       "      <td>2018-01-01 13:00:00</td>\n",
       "      <td>-2</td>\n",
       "      <td>13</td>\n",
       "      <td>25</td>\n",
       "      <td>Monday</td>\n",
       "      <td>1</td>\n",
       "    </tr>\n",
       "  </tbody>\n",
       "</table>\n",
       "</div>"
      ],
      "text/plain": [
       "  DAYOFSERVICE   TRIPID  PROGRNUMBER STOPPOINTID  PLANNEDTIME_ARR  \\\n",
       "0   2018-01-01  5957731            2         935            77743   \n",
       "1   2018-01-01  5968222            2         935            82843   \n",
       "2   2018-01-01  5957733            2         935            84643   \n",
       "3   2018-01-01  5968214            1        4381            42300   \n",
       "4   2018-01-01  5957726            1        4381            48300   \n",
       "\n",
       "   PLANNEDTIME_DEP  ACTUALTIME_ARR  ACTUALTIME_DEP VEHICLEID SUPPRESSED  \\\n",
       "0            77743           77715           77715   2868314        NaN   \n",
       "1            82843           82844           82844   2534829        NaN   \n",
       "2            84643           84643           84643   2868314        NaN   \n",
       "3            42300           42326           42326   1001151        NaN   \n",
       "4            48300           48298           48298   1000198        NaN   \n",
       "\n",
       "   JUSTIFICATIONID          LASTUPDATE       date_and_time  delay_amount  \\\n",
       "0              NaN 2018-01-08 17:21:10 2018-01-01 21:00:00           -28   \n",
       "1              NaN 2018-01-08 17:21:10 2018-01-01 23:00:00             1   \n",
       "2              NaN 2018-01-08 17:21:10 2018-01-01 23:00:00             0   \n",
       "3              NaN 2018-01-08 17:21:10 2018-01-01 11:00:00            26   \n",
       "4              NaN 2018-01-08 17:21:10 2018-01-01 13:00:00            -2   \n",
       "\n",
       "   planned_arr_hours  planned_arr_minutes day_of_week  holiday  \n",
       "0                 21                   35      Monday        1  \n",
       "1                 23                    0      Monday        1  \n",
       "2                 23                   30      Monday        1  \n",
       "3                 11                   45      Monday        1  \n",
       "4                 13                   25      Monday        1  "
      ]
     },
     "execution_count": 9,
     "metadata": {},
     "output_type": "execute_result"
    }
   ],
   "source": [
    "route_pd_df.head()"
   ]
  },
  {
   "cell_type": "code",
   "execution_count": 12,
   "metadata": {},
   "outputs": [
    {
     "data": {
      "text/html": [
       "<div>\n",
       "<style scoped>\n",
       "    .dataframe tbody tr th:only-of-type {\n",
       "        vertical-align: middle;\n",
       "    }\n",
       "\n",
       "    .dataframe tbody tr th {\n",
       "        vertical-align: top;\n",
       "    }\n",
       "\n",
       "    .dataframe thead th {\n",
       "        text-align: right;\n",
       "    }\n",
       "</style>\n",
       "<table border=\"1\" class=\"dataframe\">\n",
       "  <thead>\n",
       "    <tr style=\"text-align: right;\">\n",
       "      <th></th>\n",
       "      <th>DAYOFSERVICE</th>\n",
       "      <th>TRIPID</th>\n",
       "      <th>PROGRNUMBER</th>\n",
       "      <th>STOPPOINTID</th>\n",
       "      <th>PLANNEDTIME_ARR</th>\n",
       "      <th>PLANNEDTIME_DEP</th>\n",
       "      <th>ACTUALTIME_ARR</th>\n",
       "      <th>ACTUALTIME_DEP</th>\n",
       "      <th>VEHICLEID</th>\n",
       "      <th>SUPPRESSED</th>\n",
       "      <th>JUSTIFICATIONID</th>\n",
       "      <th>LASTUPDATE</th>\n",
       "      <th>date_and_time</th>\n",
       "      <th>delay_amount</th>\n",
       "      <th>planned_arr_hours</th>\n",
       "      <th>planned_arr_minutes</th>\n",
       "      <th>day_of_week</th>\n",
       "      <th>holiday</th>\n",
       "    </tr>\n",
       "  </thead>\n",
       "  <tbody>\n",
       "    <tr>\n",
       "      <th>0</th>\n",
       "      <td>2018-01-02</td>\n",
       "      <td>5961428</td>\n",
       "      <td>53</td>\n",
       "      <td>7348</td>\n",
       "      <td>47096</td>\n",
       "      <td>47096</td>\n",
       "      <td>48901</td>\n",
       "      <td>48901</td>\n",
       "      <td>1000204</td>\n",
       "      <td>NaN</td>\n",
       "      <td>NaN</td>\n",
       "      <td>2018-01-09 20:18:05</td>\n",
       "      <td>2018-01-02 13:00:00</td>\n",
       "      <td>1805</td>\n",
       "      <td>13</td>\n",
       "      <td>4</td>\n",
       "      <td>Tuesday</td>\n",
       "      <td>0</td>\n",
       "    </tr>\n",
       "    <tr>\n",
       "      <th>1</th>\n",
       "      <td>2018-01-02</td>\n",
       "      <td>5972140</td>\n",
       "      <td>18</td>\n",
       "      <td>6117</td>\n",
       "      <td>52480</td>\n",
       "      <td>52480</td>\n",
       "      <td>54722</td>\n",
       "      <td>54813</td>\n",
       "      <td>1932349</td>\n",
       "      <td>NaN</td>\n",
       "      <td>NaN</td>\n",
       "      <td>2018-01-09 20:18:05</td>\n",
       "      <td>2018-01-02 15:00:00</td>\n",
       "      <td>2242</td>\n",
       "      <td>14</td>\n",
       "      <td>34</td>\n",
       "      <td>Tuesday</td>\n",
       "      <td>0</td>\n",
       "    </tr>\n",
       "    <tr>\n",
       "      <th>2</th>\n",
       "      <td>2018-01-09</td>\n",
       "      <td>6102162</td>\n",
       "      <td>53</td>\n",
       "      <td>7348</td>\n",
       "      <td>47096</td>\n",
       "      <td>47096</td>\n",
       "      <td>49206</td>\n",
       "      <td>49206</td>\n",
       "      <td>1000198</td>\n",
       "      <td>NaN</td>\n",
       "      <td>NaN</td>\n",
       "      <td>2018-01-17 07:58:19</td>\n",
       "      <td>2018-01-09 13:00:00</td>\n",
       "      <td>2110</td>\n",
       "      <td>13</td>\n",
       "      <td>4</td>\n",
       "      <td>Tuesday</td>\n",
       "      <td>0</td>\n",
       "    </tr>\n",
       "    <tr>\n",
       "      <th>3</th>\n",
       "      <td>2018-01-30</td>\n",
       "      <td>6245294</td>\n",
       "      <td>43</td>\n",
       "      <td>3598</td>\n",
       "      <td>29260</td>\n",
       "      <td>29260</td>\n",
       "      <td>31326</td>\n",
       "      <td>31333</td>\n",
       "      <td>1000186</td>\n",
       "      <td>NaN</td>\n",
       "      <td>NaN</td>\n",
       "      <td>2018-02-08 14:07:43</td>\n",
       "      <td>2018-01-30 08:00:00</td>\n",
       "      <td>2066</td>\n",
       "      <td>8</td>\n",
       "      <td>7</td>\n",
       "      <td>Tuesday</td>\n",
       "      <td>0</td>\n",
       "    </tr>\n",
       "    <tr>\n",
       "      <th>4</th>\n",
       "      <td>2018-01-30</td>\n",
       "      <td>6239883</td>\n",
       "      <td>54</td>\n",
       "      <td>4381</td>\n",
       "      <td>82740</td>\n",
       "      <td>82740</td>\n",
       "      <td>84647</td>\n",
       "      <td>84647</td>\n",
       "      <td>2868363</td>\n",
       "      <td>NaN</td>\n",
       "      <td>NaN</td>\n",
       "      <td>2018-02-08 14:07:43</td>\n",
       "      <td>2018-01-30 23:00:00</td>\n",
       "      <td>1907</td>\n",
       "      <td>22</td>\n",
       "      <td>59</td>\n",
       "      <td>Tuesday</td>\n",
       "      <td>0</td>\n",
       "    </tr>\n",
       "  </tbody>\n",
       "</table>\n",
       "</div>"
      ],
      "text/plain": [
       "  DAYOFSERVICE   TRIPID  PROGRNUMBER STOPPOINTID  PLANNEDTIME_ARR  \\\n",
       "0   2018-01-02  5961428           53        7348            47096   \n",
       "1   2018-01-02  5972140           18        6117            52480   \n",
       "2   2018-01-09  6102162           53        7348            47096   \n",
       "3   2018-01-30  6245294           43        3598            29260   \n",
       "4   2018-01-30  6239883           54        4381            82740   \n",
       "\n",
       "   PLANNEDTIME_DEP  ACTUALTIME_ARR  ACTUALTIME_DEP VEHICLEID SUPPRESSED  \\\n",
       "0            47096           48901           48901   1000204        NaN   \n",
       "1            52480           54722           54813   1932349        NaN   \n",
       "2            47096           49206           49206   1000198        NaN   \n",
       "3            29260           31326           31333   1000186        NaN   \n",
       "4            82740           84647           84647   2868363        NaN   \n",
       "\n",
       "   JUSTIFICATIONID          LASTUPDATE       date_and_time  delay_amount  \\\n",
       "0              NaN 2018-01-09 20:18:05 2018-01-02 13:00:00          1805   \n",
       "1              NaN 2018-01-09 20:18:05 2018-01-02 15:00:00          2242   \n",
       "2              NaN 2018-01-17 07:58:19 2018-01-09 13:00:00          2110   \n",
       "3              NaN 2018-02-08 14:07:43 2018-01-30 08:00:00          2066   \n",
       "4              NaN 2018-02-08 14:07:43 2018-01-30 23:00:00          1907   \n",
       "\n",
       "   planned_arr_hours  planned_arr_minutes day_of_week  holiday  \n",
       "0                 13                    4     Tuesday        0  \n",
       "1                 14                   34     Tuesday        0  \n",
       "2                 13                    4     Tuesday        0  \n",
       "3                  8                    7     Tuesday        0  \n",
       "4                 22                   59     Tuesday        0  "
      ]
     },
     "execution_count": 12,
     "metadata": {},
     "output_type": "execute_result"
    }
   ],
   "source": [
    "outlier_df = route_pd_df[abs(route_pd_df[\"delay_amount\"]) > 1800].reset_index(drop=True)\n",
    "outlier_df.head()"
   ]
  },
  {
   "cell_type": "code",
   "execution_count": 52,
   "metadata": {},
   "outputs": [],
   "source": [
    "# would like to include suppressed, but in the 2021 data,\n",
    "# as this is an indicator that the bus has some fault, or that something is wrong\n",
    "#there may be no way of getting this\n",
    "# so no point yusing features that we cannot use to test\n",
    "suppressed_indicator = []\n",
    "for element in route_pd_df[\"SUPPRESSED\"]:\n",
    "    if math.isnan(element):\n",
    "        suppressed_indicator.append(0)\n",
    "    else:\n",
    "        suppressed_indicator.append(1)\n",
    "route_pd_df[\"suppressed_id\"] = suppressed_indicator"
   ]
  },
  {
   "cell_type": "code",
   "execution_count": 14,
   "metadata": {},
   "outputs": [
    {
     "data": {
      "text/html": [
       "<div>\n",
       "<style scoped>\n",
       "    .dataframe tbody tr th:only-of-type {\n",
       "        vertical-align: middle;\n",
       "    }\n",
       "\n",
       "    .dataframe tbody tr th {\n",
       "        vertical-align: top;\n",
       "    }\n",
       "\n",
       "    .dataframe thead th {\n",
       "        text-align: right;\n",
       "    }\n",
       "</style>\n",
       "<table border=\"1\" class=\"dataframe\">\n",
       "  <thead>\n",
       "    <tr style=\"text-align: right;\">\n",
       "      <th></th>\n",
       "      <th>DAYOFSERVICE</th>\n",
       "      <th>TRIPID</th>\n",
       "      <th>PROGRNUMBER</th>\n",
       "      <th>STOPPOINTID</th>\n",
       "      <th>PLANNEDTIME_ARR</th>\n",
       "      <th>PLANNEDTIME_DEP</th>\n",
       "      <th>ACTUALTIME_ARR</th>\n",
       "      <th>ACTUALTIME_DEP</th>\n",
       "      <th>VEHICLEID</th>\n",
       "      <th>SUPPRESSED</th>\n",
       "      <th>JUSTIFICATIONID</th>\n",
       "      <th>LASTUPDATE</th>\n",
       "      <th>date_and_time</th>\n",
       "      <th>delay_amount</th>\n",
       "      <th>planned_arr_hours</th>\n",
       "      <th>planned_arr_minutes</th>\n",
       "      <th>day_of_week</th>\n",
       "      <th>holiday</th>\n",
       "      <th>suppressed_indicator</th>\n",
       "    </tr>\n",
       "  </thead>\n",
       "  <tbody>\n",
       "    <tr>\n",
       "      <th>0</th>\n",
       "      <td>2018-01-01</td>\n",
       "      <td>5957731</td>\n",
       "      <td>2</td>\n",
       "      <td>935</td>\n",
       "      <td>77743</td>\n",
       "      <td>77743</td>\n",
       "      <td>77715</td>\n",
       "      <td>77715</td>\n",
       "      <td>2868314</td>\n",
       "      <td>NaN</td>\n",
       "      <td>NaN</td>\n",
       "      <td>2018-01-08 17:21:10</td>\n",
       "      <td>2018-01-01 21:00:00</td>\n",
       "      <td>-28</td>\n",
       "      <td>21</td>\n",
       "      <td>35</td>\n",
       "      <td>Monday</td>\n",
       "      <td>1</td>\n",
       "      <td>0</td>\n",
       "    </tr>\n",
       "    <tr>\n",
       "      <th>1</th>\n",
       "      <td>2018-01-01</td>\n",
       "      <td>5968222</td>\n",
       "      <td>2</td>\n",
       "      <td>935</td>\n",
       "      <td>82843</td>\n",
       "      <td>82843</td>\n",
       "      <td>82844</td>\n",
       "      <td>82844</td>\n",
       "      <td>2534829</td>\n",
       "      <td>NaN</td>\n",
       "      <td>NaN</td>\n",
       "      <td>2018-01-08 17:21:10</td>\n",
       "      <td>2018-01-01 23:00:00</td>\n",
       "      <td>1</td>\n",
       "      <td>23</td>\n",
       "      <td>0</td>\n",
       "      <td>Monday</td>\n",
       "      <td>1</td>\n",
       "      <td>0</td>\n",
       "    </tr>\n",
       "    <tr>\n",
       "      <th>2</th>\n",
       "      <td>2018-01-01</td>\n",
       "      <td>5957733</td>\n",
       "      <td>2</td>\n",
       "      <td>935</td>\n",
       "      <td>84643</td>\n",
       "      <td>84643</td>\n",
       "      <td>84643</td>\n",
       "      <td>84643</td>\n",
       "      <td>2868314</td>\n",
       "      <td>NaN</td>\n",
       "      <td>NaN</td>\n",
       "      <td>2018-01-08 17:21:10</td>\n",
       "      <td>2018-01-01 23:00:00</td>\n",
       "      <td>0</td>\n",
       "      <td>23</td>\n",
       "      <td>30</td>\n",
       "      <td>Monday</td>\n",
       "      <td>1</td>\n",
       "      <td>0</td>\n",
       "    </tr>\n",
       "    <tr>\n",
       "      <th>3</th>\n",
       "      <td>2018-01-01</td>\n",
       "      <td>5968214</td>\n",
       "      <td>1</td>\n",
       "      <td>4381</td>\n",
       "      <td>42300</td>\n",
       "      <td>42300</td>\n",
       "      <td>42326</td>\n",
       "      <td>42326</td>\n",
       "      <td>1001151</td>\n",
       "      <td>NaN</td>\n",
       "      <td>NaN</td>\n",
       "      <td>2018-01-08 17:21:10</td>\n",
       "      <td>2018-01-01 11:00:00</td>\n",
       "      <td>26</td>\n",
       "      <td>11</td>\n",
       "      <td>45</td>\n",
       "      <td>Monday</td>\n",
       "      <td>1</td>\n",
       "      <td>0</td>\n",
       "    </tr>\n",
       "    <tr>\n",
       "      <th>4</th>\n",
       "      <td>2018-01-01</td>\n",
       "      <td>5957726</td>\n",
       "      <td>1</td>\n",
       "      <td>4381</td>\n",
       "      <td>48300</td>\n",
       "      <td>48300</td>\n",
       "      <td>48298</td>\n",
       "      <td>48298</td>\n",
       "      <td>1000198</td>\n",
       "      <td>NaN</td>\n",
       "      <td>NaN</td>\n",
       "      <td>2018-01-08 17:21:10</td>\n",
       "      <td>2018-01-01 13:00:00</td>\n",
       "      <td>-2</td>\n",
       "      <td>13</td>\n",
       "      <td>25</td>\n",
       "      <td>Monday</td>\n",
       "      <td>1</td>\n",
       "      <td>0</td>\n",
       "    </tr>\n",
       "  </tbody>\n",
       "</table>\n",
       "</div>"
      ],
      "text/plain": [
       "  DAYOFSERVICE   TRIPID  PROGRNUMBER STOPPOINTID  PLANNEDTIME_ARR  \\\n",
       "0   2018-01-01  5957731            2         935            77743   \n",
       "1   2018-01-01  5968222            2         935            82843   \n",
       "2   2018-01-01  5957733            2         935            84643   \n",
       "3   2018-01-01  5968214            1        4381            42300   \n",
       "4   2018-01-01  5957726            1        4381            48300   \n",
       "\n",
       "   PLANNEDTIME_DEP  ACTUALTIME_ARR  ACTUALTIME_DEP VEHICLEID SUPPRESSED  \\\n",
       "0            77743           77715           77715   2868314        NaN   \n",
       "1            82843           82844           82844   2534829        NaN   \n",
       "2            84643           84643           84643   2868314        NaN   \n",
       "3            42300           42326           42326   1001151        NaN   \n",
       "4            48300           48298           48298   1000198        NaN   \n",
       "\n",
       "   JUSTIFICATIONID          LASTUPDATE       date_and_time  delay_amount  \\\n",
       "0              NaN 2018-01-08 17:21:10 2018-01-01 21:00:00           -28   \n",
       "1              NaN 2018-01-08 17:21:10 2018-01-01 23:00:00             1   \n",
       "2              NaN 2018-01-08 17:21:10 2018-01-01 23:00:00             0   \n",
       "3              NaN 2018-01-08 17:21:10 2018-01-01 11:00:00            26   \n",
       "4              NaN 2018-01-08 17:21:10 2018-01-01 13:00:00            -2   \n",
       "\n",
       "   planned_arr_hours  planned_arr_minutes day_of_week  holiday  \\\n",
       "0                 21                   35      Monday        1   \n",
       "1                 23                    0      Monday        1   \n",
       "2                 23                   30      Monday        1   \n",
       "3                 11                   45      Monday        1   \n",
       "4                 13                   25      Monday        1   \n",
       "\n",
       "   suppressed_indicator  \n",
       "0                     0  \n",
       "1                     0  \n",
       "2                     0  \n",
       "3                     0  \n",
       "4                     0  "
      ]
     },
     "execution_count": 14,
     "metadata": {},
     "output_type": "execute_result"
    }
   ],
   "source": [
    "route_pd_df.head()"
   ]
  },
  {
   "cell_type": "code",
   "execution_count": 16,
   "metadata": {},
   "outputs": [],
   "source": [
    "prog_id = route_pd_df[\"PROGRNUMBER\"].unique()"
   ]
  },
  {
   "cell_type": "code",
   "execution_count": 17,
   "metadata": {},
   "outputs": [
    {
     "data": {
      "text/plain": [
       "array([ 2,  1,  3,  4,  5,  6,  7,  8,  9, 10, 11, 12, 13, 14, 15, 16, 17,\n",
       "       18, 19, 20, 21, 22, 23, 24, 25, 26, 27, 28, 29, 30, 31, 32, 33, 34,\n",
       "       35, 36, 37, 38, 39, 40, 41, 42, 43, 44, 45, 46, 47, 48, 49, 50, 51,\n",
       "       52, 53, 54])"
      ]
     },
     "execution_count": 17,
     "metadata": {},
     "output_type": "execute_result"
    }
   ],
   "source": [
    "prog_id"
   ]
  },
  {
   "cell_type": "markdown",
   "metadata": {},
   "source": [
    "# thoughts on the model\n",
    "\n",
    "## time series\n",
    "\n",
    "if we do not include the weather data, the best thing we cna do is a time series analysis, so what we could do is add the expected arrival time to the date, and use it to predict the delay amount\n",
    "\n",
    "We copuld create another model that uses features frem the dataset and the weather data"
   ]
  },
  {
   "cell_type": "code",
   "execution_count": 10,
   "metadata": {},
   "outputs": [],
   "source": [
    "def seconds_to_time(n):\n",
    "    return timedelta(seconds=n)"
   ]
  },
  {
   "cell_type": "code",
   "execution_count": 11,
   "metadata": {},
   "outputs": [],
   "source": [
    "route_pd_df[ \"datetime_exact\"] = route_pd_df[\"DAYOFSERVICE\"] + pd.Series(map(seconds_to_time, route_pd_df[\"PLANNEDTIME_ARR\"]), name=\"time\")"
   ]
  },
  {
   "cell_type": "code",
   "execution_count": 20,
   "metadata": {},
   "outputs": [
    {
     "data": {
      "text/html": [
       "<div>\n",
       "<style scoped>\n",
       "    .dataframe tbody tr th:only-of-type {\n",
       "        vertical-align: middle;\n",
       "    }\n",
       "\n",
       "    .dataframe tbody tr th {\n",
       "        vertical-align: top;\n",
       "    }\n",
       "\n",
       "    .dataframe thead th {\n",
       "        text-align: right;\n",
       "    }\n",
       "</style>\n",
       "<table border=\"1\" class=\"dataframe\">\n",
       "  <thead>\n",
       "    <tr style=\"text-align: right;\">\n",
       "      <th></th>\n",
       "      <th>DAYOFSERVICE</th>\n",
       "      <th>TRIPID</th>\n",
       "      <th>PROGRNUMBER</th>\n",
       "      <th>STOPPOINTID</th>\n",
       "      <th>PLANNEDTIME_ARR</th>\n",
       "      <th>PLANNEDTIME_DEP</th>\n",
       "      <th>ACTUALTIME_ARR</th>\n",
       "      <th>ACTUALTIME_DEP</th>\n",
       "      <th>VEHICLEID</th>\n",
       "      <th>SUPPRESSED</th>\n",
       "      <th>JUSTIFICATIONID</th>\n",
       "      <th>LASTUPDATE</th>\n",
       "      <th>date_and_time</th>\n",
       "      <th>delay_amount</th>\n",
       "      <th>planned_arr_hours</th>\n",
       "      <th>planned_arr_minutes</th>\n",
       "      <th>day_of_week</th>\n",
       "      <th>holiday</th>\n",
       "      <th>suppressed_indicator</th>\n",
       "      <th>datetime_exact</th>\n",
       "    </tr>\n",
       "  </thead>\n",
       "  <tbody>\n",
       "    <tr>\n",
       "      <th>0</th>\n",
       "      <td>2018-01-01</td>\n",
       "      <td>5957731</td>\n",
       "      <td>2</td>\n",
       "      <td>935</td>\n",
       "      <td>77743</td>\n",
       "      <td>77743</td>\n",
       "      <td>77715</td>\n",
       "      <td>77715</td>\n",
       "      <td>2868314</td>\n",
       "      <td>NaN</td>\n",
       "      <td>NaN</td>\n",
       "      <td>2018-01-08 17:21:10</td>\n",
       "      <td>2018-01-01 21:00:00</td>\n",
       "      <td>-28</td>\n",
       "      <td>21</td>\n",
       "      <td>35</td>\n",
       "      <td>Monday</td>\n",
       "      <td>1</td>\n",
       "      <td>0</td>\n",
       "      <td>2018-01-01 21:35:43</td>\n",
       "    </tr>\n",
       "    <tr>\n",
       "      <th>1</th>\n",
       "      <td>2018-01-01</td>\n",
       "      <td>5968222</td>\n",
       "      <td>2</td>\n",
       "      <td>935</td>\n",
       "      <td>82843</td>\n",
       "      <td>82843</td>\n",
       "      <td>82844</td>\n",
       "      <td>82844</td>\n",
       "      <td>2534829</td>\n",
       "      <td>NaN</td>\n",
       "      <td>NaN</td>\n",
       "      <td>2018-01-08 17:21:10</td>\n",
       "      <td>2018-01-01 23:00:00</td>\n",
       "      <td>1</td>\n",
       "      <td>23</td>\n",
       "      <td>0</td>\n",
       "      <td>Monday</td>\n",
       "      <td>1</td>\n",
       "      <td>0</td>\n",
       "      <td>2018-01-01 23:00:43</td>\n",
       "    </tr>\n",
       "    <tr>\n",
       "      <th>2</th>\n",
       "      <td>2018-01-01</td>\n",
       "      <td>5957733</td>\n",
       "      <td>2</td>\n",
       "      <td>935</td>\n",
       "      <td>84643</td>\n",
       "      <td>84643</td>\n",
       "      <td>84643</td>\n",
       "      <td>84643</td>\n",
       "      <td>2868314</td>\n",
       "      <td>NaN</td>\n",
       "      <td>NaN</td>\n",
       "      <td>2018-01-08 17:21:10</td>\n",
       "      <td>2018-01-01 23:00:00</td>\n",
       "      <td>0</td>\n",
       "      <td>23</td>\n",
       "      <td>30</td>\n",
       "      <td>Monday</td>\n",
       "      <td>1</td>\n",
       "      <td>0</td>\n",
       "      <td>2018-01-01 23:30:43</td>\n",
       "    </tr>\n",
       "    <tr>\n",
       "      <th>3</th>\n",
       "      <td>2018-01-01</td>\n",
       "      <td>5968214</td>\n",
       "      <td>1</td>\n",
       "      <td>4381</td>\n",
       "      <td>42300</td>\n",
       "      <td>42300</td>\n",
       "      <td>42326</td>\n",
       "      <td>42326</td>\n",
       "      <td>1001151</td>\n",
       "      <td>NaN</td>\n",
       "      <td>NaN</td>\n",
       "      <td>2018-01-08 17:21:10</td>\n",
       "      <td>2018-01-01 11:00:00</td>\n",
       "      <td>26</td>\n",
       "      <td>11</td>\n",
       "      <td>45</td>\n",
       "      <td>Monday</td>\n",
       "      <td>1</td>\n",
       "      <td>0</td>\n",
       "      <td>2018-01-01 11:45:00</td>\n",
       "    </tr>\n",
       "    <tr>\n",
       "      <th>4</th>\n",
       "      <td>2018-01-01</td>\n",
       "      <td>5957726</td>\n",
       "      <td>1</td>\n",
       "      <td>4381</td>\n",
       "      <td>48300</td>\n",
       "      <td>48300</td>\n",
       "      <td>48298</td>\n",
       "      <td>48298</td>\n",
       "      <td>1000198</td>\n",
       "      <td>NaN</td>\n",
       "      <td>NaN</td>\n",
       "      <td>2018-01-08 17:21:10</td>\n",
       "      <td>2018-01-01 13:00:00</td>\n",
       "      <td>-2</td>\n",
       "      <td>13</td>\n",
       "      <td>25</td>\n",
       "      <td>Monday</td>\n",
       "      <td>1</td>\n",
       "      <td>0</td>\n",
       "      <td>2018-01-01 13:25:00</td>\n",
       "    </tr>\n",
       "  </tbody>\n",
       "</table>\n",
       "</div>"
      ],
      "text/plain": [
       "  DAYOFSERVICE   TRIPID  PROGRNUMBER STOPPOINTID  PLANNEDTIME_ARR  \\\n",
       "0   2018-01-01  5957731            2         935            77743   \n",
       "1   2018-01-01  5968222            2         935            82843   \n",
       "2   2018-01-01  5957733            2         935            84643   \n",
       "3   2018-01-01  5968214            1        4381            42300   \n",
       "4   2018-01-01  5957726            1        4381            48300   \n",
       "\n",
       "   PLANNEDTIME_DEP  ACTUALTIME_ARR  ACTUALTIME_DEP VEHICLEID SUPPRESSED  \\\n",
       "0            77743           77715           77715   2868314        NaN   \n",
       "1            82843           82844           82844   2534829        NaN   \n",
       "2            84643           84643           84643   2868314        NaN   \n",
       "3            42300           42326           42326   1001151        NaN   \n",
       "4            48300           48298           48298   1000198        NaN   \n",
       "\n",
       "   JUSTIFICATIONID          LASTUPDATE       date_and_time  delay_amount  \\\n",
       "0              NaN 2018-01-08 17:21:10 2018-01-01 21:00:00           -28   \n",
       "1              NaN 2018-01-08 17:21:10 2018-01-01 23:00:00             1   \n",
       "2              NaN 2018-01-08 17:21:10 2018-01-01 23:00:00             0   \n",
       "3              NaN 2018-01-08 17:21:10 2018-01-01 11:00:00            26   \n",
       "4              NaN 2018-01-08 17:21:10 2018-01-01 13:00:00            -2   \n",
       "\n",
       "   planned_arr_hours  planned_arr_minutes day_of_week  holiday  \\\n",
       "0                 21                   35      Monday        1   \n",
       "1                 23                    0      Monday        1   \n",
       "2                 23                   30      Monday        1   \n",
       "3                 11                   45      Monday        1   \n",
       "4                 13                   25      Monday        1   \n",
       "\n",
       "   suppressed_indicator      datetime_exact  \n",
       "0                     0 2018-01-01 21:35:43  \n",
       "1                     0 2018-01-01 23:00:43  \n",
       "2                     0 2018-01-01 23:30:43  \n",
       "3                     0 2018-01-01 11:45:00  \n",
       "4                     0 2018-01-01 13:25:00  "
      ]
     },
     "execution_count": 20,
     "metadata": {},
     "output_type": "execute_result"
    }
   ],
   "source": [
    "route_pd_df.head()"
   ]
  },
  {
   "cell_type": "code",
   "execution_count": 21,
   "metadata": {},
   "outputs": [
    {
     "data": {
      "text/html": [
       "<div>\n",
       "<style scoped>\n",
       "    .dataframe tbody tr th:only-of-type {\n",
       "        vertical-align: middle;\n",
       "    }\n",
       "\n",
       "    .dataframe tbody tr th {\n",
       "        vertical-align: top;\n",
       "    }\n",
       "\n",
       "    .dataframe thead th {\n",
       "        text-align: right;\n",
       "    }\n",
       "</style>\n",
       "<table border=\"1\" class=\"dataframe\">\n",
       "  <thead>\n",
       "    <tr style=\"text-align: right;\">\n",
       "      <th></th>\n",
       "      <th>DAYOFSERVICE</th>\n",
       "      <th>TRIPID</th>\n",
       "      <th>PROGRNUMBER</th>\n",
       "      <th>STOPPOINTID</th>\n",
       "      <th>PLANNEDTIME_ARR</th>\n",
       "      <th>PLANNEDTIME_DEP</th>\n",
       "      <th>ACTUALTIME_ARR</th>\n",
       "      <th>ACTUALTIME_DEP</th>\n",
       "      <th>VEHICLEID</th>\n",
       "      <th>SUPPRESSED</th>\n",
       "      <th>JUSTIFICATIONID</th>\n",
       "      <th>LASTUPDATE</th>\n",
       "      <th>date_and_time</th>\n",
       "      <th>delay_amount</th>\n",
       "      <th>planned_arr_hours</th>\n",
       "      <th>planned_arr_minutes</th>\n",
       "      <th>day_of_week</th>\n",
       "      <th>holiday</th>\n",
       "      <th>suppressed_indicator</th>\n",
       "      <th>datetime_exact</th>\n",
       "    </tr>\n",
       "  </thead>\n",
       "  <tbody>\n",
       "    <tr>\n",
       "      <th>0</th>\n",
       "      <td>2018-01-01</td>\n",
       "      <td>5972116</td>\n",
       "      <td>12</td>\n",
       "      <td>119</td>\n",
       "      <td>48030</td>\n",
       "      <td>48030</td>\n",
       "      <td>48012</td>\n",
       "      <td>48012</td>\n",
       "      <td>2693211</td>\n",
       "      <td>NaN</td>\n",
       "      <td>NaN</td>\n",
       "      <td>2018-01-08 17:21:10</td>\n",
       "      <td>2018-01-01 13:00:00</td>\n",
       "      <td>-18</td>\n",
       "      <td>13</td>\n",
       "      <td>20</td>\n",
       "      <td>Monday</td>\n",
       "      <td>1</td>\n",
       "      <td>0</td>\n",
       "      <td>2018-01-01 13:20:30</td>\n",
       "    </tr>\n",
       "    <tr>\n",
       "      <th>1</th>\n",
       "      <td>2018-01-01</td>\n",
       "      <td>5966674</td>\n",
       "      <td>12</td>\n",
       "      <td>119</td>\n",
       "      <td>54001</td>\n",
       "      <td>54001</td>\n",
       "      <td>54023</td>\n",
       "      <td>54023</td>\n",
       "      <td>2693267</td>\n",
       "      <td>NaN</td>\n",
       "      <td>NaN</td>\n",
       "      <td>2018-01-08 17:21:10</td>\n",
       "      <td>2018-01-01 15:00:00</td>\n",
       "      <td>22</td>\n",
       "      <td>15</td>\n",
       "      <td>0</td>\n",
       "      <td>Monday</td>\n",
       "      <td>1</td>\n",
       "      <td>0</td>\n",
       "      <td>2018-01-01 15:00:01</td>\n",
       "    </tr>\n",
       "    <tr>\n",
       "      <th>2</th>\n",
       "      <td>2018-01-01</td>\n",
       "      <td>5959105</td>\n",
       "      <td>12</td>\n",
       "      <td>119</td>\n",
       "      <td>60001</td>\n",
       "      <td>60001</td>\n",
       "      <td>59955</td>\n",
       "      <td>59955</td>\n",
       "      <td>2693263</td>\n",
       "      <td>NaN</td>\n",
       "      <td>NaN</td>\n",
       "      <td>2018-01-08 17:21:10</td>\n",
       "      <td>2018-01-01 16:00:00</td>\n",
       "      <td>-46</td>\n",
       "      <td>16</td>\n",
       "      <td>40</td>\n",
       "      <td>Monday</td>\n",
       "      <td>1</td>\n",
       "      <td>0</td>\n",
       "      <td>2018-01-01 16:40:01</td>\n",
       "    </tr>\n",
       "    <tr>\n",
       "      <th>3</th>\n",
       "      <td>2018-01-01</td>\n",
       "      <td>5966888</td>\n",
       "      <td>12</td>\n",
       "      <td>119</td>\n",
       "      <td>58801</td>\n",
       "      <td>58801</td>\n",
       "      <td>58771</td>\n",
       "      <td>58771</td>\n",
       "      <td>2693284</td>\n",
       "      <td>NaN</td>\n",
       "      <td>NaN</td>\n",
       "      <td>2018-01-08 17:21:10</td>\n",
       "      <td>2018-01-01 16:00:00</td>\n",
       "      <td>-30</td>\n",
       "      <td>16</td>\n",
       "      <td>20</td>\n",
       "      <td>Monday</td>\n",
       "      <td>1</td>\n",
       "      <td>0</td>\n",
       "      <td>2018-01-01 16:20:01</td>\n",
       "    </tr>\n",
       "    <tr>\n",
       "      <th>4</th>\n",
       "      <td>2018-01-01</td>\n",
       "      <td>5965960</td>\n",
       "      <td>12</td>\n",
       "      <td>119</td>\n",
       "      <td>56401</td>\n",
       "      <td>56401</td>\n",
       "      <td>56309</td>\n",
       "      <td>56323</td>\n",
       "      <td>2693209</td>\n",
       "      <td>NaN</td>\n",
       "      <td>NaN</td>\n",
       "      <td>2018-01-08 17:21:10</td>\n",
       "      <td>2018-01-01 15:00:00</td>\n",
       "      <td>-92</td>\n",
       "      <td>15</td>\n",
       "      <td>40</td>\n",
       "      <td>Monday</td>\n",
       "      <td>1</td>\n",
       "      <td>0</td>\n",
       "      <td>2018-01-01 15:40:01</td>\n",
       "    </tr>\n",
       "  </tbody>\n",
       "</table>\n",
       "</div>"
      ],
      "text/plain": [
       "  DAYOFSERVICE   TRIPID  PROGRNUMBER STOPPOINTID  PLANNEDTIME_ARR  \\\n",
       "0   2018-01-01  5972116           12         119            48030   \n",
       "1   2018-01-01  5966674           12         119            54001   \n",
       "2   2018-01-01  5959105           12         119            60001   \n",
       "3   2018-01-01  5966888           12         119            58801   \n",
       "4   2018-01-01  5965960           12         119            56401   \n",
       "\n",
       "   PLANNEDTIME_DEP  ACTUALTIME_ARR  ACTUALTIME_DEP VEHICLEID SUPPRESSED  \\\n",
       "0            48030           48012           48012   2693211        NaN   \n",
       "1            54001           54023           54023   2693267        NaN   \n",
       "2            60001           59955           59955   2693263        NaN   \n",
       "3            58801           58771           58771   2693284        NaN   \n",
       "4            56401           56309           56323   2693209        NaN   \n",
       "\n",
       "   JUSTIFICATIONID          LASTUPDATE       date_and_time  delay_amount  \\\n",
       "0              NaN 2018-01-08 17:21:10 2018-01-01 13:00:00           -18   \n",
       "1              NaN 2018-01-08 17:21:10 2018-01-01 15:00:00            22   \n",
       "2              NaN 2018-01-08 17:21:10 2018-01-01 16:00:00           -46   \n",
       "3              NaN 2018-01-08 17:21:10 2018-01-01 16:00:00           -30   \n",
       "4              NaN 2018-01-08 17:21:10 2018-01-01 15:00:00           -92   \n",
       "\n",
       "   planned_arr_hours  planned_arr_minutes day_of_week  holiday  \\\n",
       "0                 13                   20      Monday        1   \n",
       "1                 15                    0      Monday        1   \n",
       "2                 16                   40      Monday        1   \n",
       "3                 16                   20      Monday        1   \n",
       "4                 15                   40      Monday        1   \n",
       "\n",
       "   suppressed_indicator      datetime_exact  \n",
       "0                     0 2018-01-01 13:20:30  \n",
       "1                     0 2018-01-01 15:00:01  \n",
       "2                     0 2018-01-01 16:40:01  \n",
       "3                     0 2018-01-01 16:20:01  \n",
       "4                     0 2018-01-01 15:40:01  "
      ]
     },
     "execution_count": 21,
     "metadata": {},
     "output_type": "execute_result"
    }
   ],
   "source": [
    "# remove outliers where the delay amount is restricted to a 30 min interval\n",
    "no_outlier_df = route_pd_df[abs(route_pd_df[\"delay_amount\"]) < 1800].reset_index(drop=True)\n",
    "no_outlier_df.head()"
   ]
  },
  {
   "cell_type": "markdown",
   "metadata": {},
   "source": [
    "# time series analysis\n",
    "\n",
    "using facebook prophet to copnduct time series analysis"
   ]
  },
  {
   "cell_type": "code",
   "execution_count": 44,
   "metadata": {},
   "outputs": [
    {
     "data": {
      "image/png": "[encoded data removed]",
      "text/plain": [
       "<Figure size 432x288 with 1 Axes>"
      ]
     },
     "metadata": {
      "needs_background": "light"
     },
     "output_type": "display_data"
    }
   ],
   "source": [
    "# plot of time series for the sample route chosen\n",
    "plt.plot(route_pd_df[\"datetime_exact\"], route_pd_df[\"delay_amount\"])\n",
    "plt.show()"
   ]
  },
  {
   "cell_type": "code",
   "execution_count": null,
   "metadata": {},
   "outputs": [],
   "source": [
    "# this code crashes the kernel everytime i run it, it should  \n",
    "plt.hist(route_pd_df[\"delay_amount\"])\n",
    "plt.xticks(route_pd_df[\"datetime_exact\"])\n",
    "plt.show()"
   ]
  },
  {
   "cell_type": "code",
   "execution_count": 45,
   "metadata": {},
   "outputs": [],
   "source": [
    "#renaming the columns so that prophet can read them\n",
    "time_series = route_pd_df[[\"datetime_exact\", \"delay_amount\"]] \n",
    "time_series.columns = [\"ds\", \"y\"]"
   ]
  },
  {
   "cell_type": "code",
   "execution_count": 46,
   "metadata": {},
   "outputs": [
    {
     "name": "stderr",
     "output_type": "stream",
     "text": [
      "Importing plotly failed. Interactive plots will not work.\n"
     ]
    }
   ],
   "source": [
    "from prophet import Prophet"
   ]
  },
  {
   "cell_type": "code",
   "execution_count": 47,
   "metadata": {},
   "outputs": [
    {
     "data": {
      "text/plain": [
       "1336960"
      ]
     },
     "execution_count": 47,
     "metadata": {},
     "output_type": "execute_result"
    }
   ],
   "source": [
    "len(time_series)"
   ]
  },
  {
   "cell_type": "code",
   "execution_count": 48,
   "metadata": {},
   "outputs": [
    {
     "name": "stdout",
     "output_type": "stream",
     "text": [
      "CPU times: user 6min 31s, sys: 36.8 s, total: 7min 8s\n",
      "Wall time: 7min 19s\n"
     ]
    },
    {
     "data": {
      "text/plain": [
       "<prophet.forecaster.Prophet at 0x7fa7baa37f40>"
      ]
     },
     "execution_count": 48,
     "metadata": {},
     "output_type": "execute_result"
    }
   ],
   "source": [
    "m = Prophet(yearly_seasonality=True)\n",
    "%time m.fit(time_series)"
   ]
  },
  {
   "cell_type": "code",
   "execution_count": 55,
   "metadata": {},
   "outputs": [],
   "source": [
    "current_time = pd.DataFrame([datetime.now()], columns=[\"ds\"]) "
   ]
  },
  {
   "cell_type": "code",
   "execution_count": 58,
   "metadata": {},
   "outputs": [
    {
     "data": {
      "text/html": [
       "<div>\n",
       "<style scoped>\n",
       "    .dataframe tbody tr th:only-of-type {\n",
       "        vertical-align: middle;\n",
       "    }\n",
       "\n",
       "    .dataframe tbody tr th {\n",
       "        vertical-align: top;\n",
       "    }\n",
       "\n",
       "    .dataframe thead th {\n",
       "        text-align: right;\n",
       "    }\n",
       "</style>\n",
       "<table border=\"1\" class=\"dataframe\">\n",
       "  <thead>\n",
       "    <tr style=\"text-align: right;\">\n",
       "      <th></th>\n",
       "      <th>ds</th>\n",
       "      <th>yhat</th>\n",
       "      <th>yhat_lower</th>\n",
       "      <th>yhat_upper</th>\n",
       "    </tr>\n",
       "  </thead>\n",
       "  <tbody>\n",
       "    <tr>\n",
       "      <th>0</th>\n",
       "      <td>2021-07-06 17:23:53.727602</td>\n",
       "      <td>-8511.387137</td>\n",
       "      <td>-47843.163465</td>\n",
       "      <td>35923.847228</td>\n",
       "    </tr>\n",
       "  </tbody>\n",
       "</table>\n",
       "</div>"
      ],
      "text/plain": [
       "                          ds         yhat    yhat_lower    yhat_upper\n",
       "0 2021-07-06 17:23:53.727602 -8511.387137 -47843.163465  35923.847228"
      ]
     },
     "execution_count": 58,
     "metadata": {},
     "output_type": "execute_result"
    }
   ],
   "source": [
    "forecast = m.predict(current_time)\n",
    "forecast[['ds', 'yhat', 'yhat_lower', 'yhat_upper']].tail()"
   ]
  },
  {
   "cell_type": "code",
   "execution_count": 60,
   "metadata": {},
   "outputs": [
    {
     "name": "stdout",
     "output_type": "stream",
     "text": [
      "CPU times: user 3min 50s, sys: 25.9 s, total: 4min 16s\n",
      "Wall time: 4min 17s\n"
     ]
    },
    {
     "data": {
      "text/plain": [
       "<prophet.forecaster.Prophet at 0x7fa84dad6340>"
      ]
     },
     "execution_count": 60,
     "metadata": {},
     "output_type": "execute_result"
    }
   ],
   "source": [
    "no_out_time_series = no_outlier_df[[\"datetime_exact\", \"delay_amount\"]]\n",
    "no_out_time_series.columns = [\"ds\", \"y\"]\n",
    "m1 = Prophet(yearly_seasonality=True)\n",
    "%time m1.fit(no_out_time_series)"
   ]
  },
  {
   "cell_type": "code",
   "execution_count": 61,
   "metadata": {},
   "outputs": [
    {
     "data": {
      "text/html": [
       "<div>\n",
       "<style scoped>\n",
       "    .dataframe tbody tr th:only-of-type {\n",
       "        vertical-align: middle;\n",
       "    }\n",
       "\n",
       "    .dataframe tbody tr th {\n",
       "        vertical-align: top;\n",
       "    }\n",
       "\n",
       "    .dataframe thead th {\n",
       "        text-align: right;\n",
       "    }\n",
       "</style>\n",
       "<table border=\"1\" class=\"dataframe\">\n",
       "  <thead>\n",
       "    <tr style=\"text-align: right;\">\n",
       "      <th></th>\n",
       "      <th>ds</th>\n",
       "      <th>yhat</th>\n",
       "      <th>yhat_lower</th>\n",
       "      <th>yhat_upper</th>\n",
       "    </tr>\n",
       "  </thead>\n",
       "  <tbody>\n",
       "    <tr>\n",
       "      <th>0</th>\n",
       "      <td>2021-07-06 21:06:19.388043</td>\n",
       "      <td>-14263.160717</td>\n",
       "      <td>-43499.069749</td>\n",
       "      <td>16629.362576</td>\n",
       "    </tr>\n",
       "  </tbody>\n",
       "</table>\n",
       "</div>"
      ],
      "text/plain": [
       "                          ds          yhat    yhat_lower    yhat_upper\n",
       "0 2021-07-06 21:06:19.388043 -14263.160717 -43499.069749  16629.362576"
      ]
     },
     "execution_count": 61,
     "metadata": {},
     "output_type": "execute_result"
    }
   ],
   "source": [
    "current_time = pd.DataFrame([datetime.now()], columns=[\"ds\"]) \n",
    "forecast1 = m1.predict(current_time)\n",
    "forecast1[['ds', 'yhat', 'yhat_lower', 'yhat_upper']].tail()"
   ]
  },
  {
   "cell_type": "markdown",
   "metadata": {},
   "source": [
    "## time series conclusion\n",
    "\n",
    "the model itself is trained on data that is 3 years old and as time goes on the prediction variance will increase as the time of the training data compares to the time of the testing data increases. \n",
    "\n",
    "So for our data we should not use a time sereis model, as the time from the time the model has been collected has elapsed too much so from time series analysis, we know was time grows the variance will grow as well, so the variance of the prediction for 2021 will have very high variance which will cause the prediction to be less accurate"
   ]
  },
  {
   "cell_type": "markdown",
   "metadata": {},
   "source": [
    "#  Choosing a different model\n",
    "\n",
    "There are other regression models that we can choose from, but the issue with those models is that we cannot take a time series into account.\n",
    "\n",
    "## random forest\n",
    "\n",
    "fro random forest i think the best features to use are \n",
    "\n",
    "if it is a holiday\n",
    "\n",
    "day of week\n",
    "\n",
    "hour of day,  minute of day of the expected arrival at the station\n",
    "\n",
    "weather data maybe?\n",
    "\n",
    "I will create two to see the difference. \n",
    "\n",
    "the target will renmain the same as the delay of the bus"
   ]
  },
  {
   "cell_type": "code",
   "execution_count": 35,
   "metadata": {},
   "outputs": [
    {
     "data": {
      "text/html": [
       "<div>\n",
       "<style scoped>\n",
       "    .dataframe tbody tr th:only-of-type {\n",
       "        vertical-align: middle;\n",
       "    }\n",
       "\n",
       "    .dataframe tbody tr th {\n",
       "        vertical-align: top;\n",
       "    }\n",
       "\n",
       "    .dataframe thead th {\n",
       "        text-align: right;\n",
       "    }\n",
       "</style>\n",
       "<table border=\"1\" class=\"dataframe\">\n",
       "  <thead>\n",
       "    <tr style=\"text-align: right;\">\n",
       "      <th></th>\n",
       "      <th>DAYOFSERVICE</th>\n",
       "      <th>TRIPID</th>\n",
       "      <th>PROGRNUMBER</th>\n",
       "      <th>STOPPOINTID</th>\n",
       "      <th>PLANNEDTIME_ARR</th>\n",
       "      <th>PLANNEDTIME_DEP</th>\n",
       "      <th>ACTUALTIME_ARR</th>\n",
       "      <th>ACTUALTIME_DEP</th>\n",
       "      <th>VEHICLEID</th>\n",
       "      <th>SUPPRESSED</th>\n",
       "      <th>JUSTIFICATIONID</th>\n",
       "      <th>LASTUPDATE</th>\n",
       "      <th>date_and_time</th>\n",
       "      <th>delay_amount</th>\n",
       "      <th>planned_arr_hours</th>\n",
       "      <th>planned_arr_minutes</th>\n",
       "      <th>day_of_week</th>\n",
       "      <th>holiday</th>\n",
       "      <th>suppressed_indicator</th>\n",
       "      <th>datetime_exact</th>\n",
       "    </tr>\n",
       "  </thead>\n",
       "  <tbody>\n",
       "    <tr>\n",
       "      <th>0</th>\n",
       "      <td>2018-01-01</td>\n",
       "      <td>5972116</td>\n",
       "      <td>12</td>\n",
       "      <td>119</td>\n",
       "      <td>48030</td>\n",
       "      <td>48030</td>\n",
       "      <td>48012</td>\n",
       "      <td>48012</td>\n",
       "      <td>2693211</td>\n",
       "      <td>NaN</td>\n",
       "      <td>NaN</td>\n",
       "      <td>2018-01-08 17:21:10</td>\n",
       "      <td>2018-01-01 13:00:00</td>\n",
       "      <td>-18</td>\n",
       "      <td>13</td>\n",
       "      <td>20</td>\n",
       "      <td>Monday</td>\n",
       "      <td>1</td>\n",
       "      <td>0</td>\n",
       "      <td>2018-01-01 13:20:30</td>\n",
       "    </tr>\n",
       "    <tr>\n",
       "      <th>1</th>\n",
       "      <td>2018-01-01</td>\n",
       "      <td>5966674</td>\n",
       "      <td>12</td>\n",
       "      <td>119</td>\n",
       "      <td>54001</td>\n",
       "      <td>54001</td>\n",
       "      <td>54023</td>\n",
       "      <td>54023</td>\n",
       "      <td>2693267</td>\n",
       "      <td>NaN</td>\n",
       "      <td>NaN</td>\n",
       "      <td>2018-01-08 17:21:10</td>\n",
       "      <td>2018-01-01 15:00:00</td>\n",
       "      <td>22</td>\n",
       "      <td>15</td>\n",
       "      <td>0</td>\n",
       "      <td>Monday</td>\n",
       "      <td>1</td>\n",
       "      <td>0</td>\n",
       "      <td>2018-01-01 15:00:01</td>\n",
       "    </tr>\n",
       "    <tr>\n",
       "      <th>2</th>\n",
       "      <td>2018-01-01</td>\n",
       "      <td>5959105</td>\n",
       "      <td>12</td>\n",
       "      <td>119</td>\n",
       "      <td>60001</td>\n",
       "      <td>60001</td>\n",
       "      <td>59955</td>\n",
       "      <td>59955</td>\n",
       "      <td>2693263</td>\n",
       "      <td>NaN</td>\n",
       "      <td>NaN</td>\n",
       "      <td>2018-01-08 17:21:10</td>\n",
       "      <td>2018-01-01 16:00:00</td>\n",
       "      <td>-46</td>\n",
       "      <td>16</td>\n",
       "      <td>40</td>\n",
       "      <td>Monday</td>\n",
       "      <td>1</td>\n",
       "      <td>0</td>\n",
       "      <td>2018-01-01 16:40:01</td>\n",
       "    </tr>\n",
       "    <tr>\n",
       "      <th>3</th>\n",
       "      <td>2018-01-01</td>\n",
       "      <td>5966888</td>\n",
       "      <td>12</td>\n",
       "      <td>119</td>\n",
       "      <td>58801</td>\n",
       "      <td>58801</td>\n",
       "      <td>58771</td>\n",
       "      <td>58771</td>\n",
       "      <td>2693284</td>\n",
       "      <td>NaN</td>\n",
       "      <td>NaN</td>\n",
       "      <td>2018-01-08 17:21:10</td>\n",
       "      <td>2018-01-01 16:00:00</td>\n",
       "      <td>-30</td>\n",
       "      <td>16</td>\n",
       "      <td>20</td>\n",
       "      <td>Monday</td>\n",
       "      <td>1</td>\n",
       "      <td>0</td>\n",
       "      <td>2018-01-01 16:20:01</td>\n",
       "    </tr>\n",
       "    <tr>\n",
       "      <th>4</th>\n",
       "      <td>2018-01-01</td>\n",
       "      <td>5965960</td>\n",
       "      <td>12</td>\n",
       "      <td>119</td>\n",
       "      <td>56401</td>\n",
       "      <td>56401</td>\n",
       "      <td>56309</td>\n",
       "      <td>56323</td>\n",
       "      <td>2693209</td>\n",
       "      <td>NaN</td>\n",
       "      <td>NaN</td>\n",
       "      <td>2018-01-08 17:21:10</td>\n",
       "      <td>2018-01-01 15:00:00</td>\n",
       "      <td>-92</td>\n",
       "      <td>15</td>\n",
       "      <td>40</td>\n",
       "      <td>Monday</td>\n",
       "      <td>1</td>\n",
       "      <td>0</td>\n",
       "      <td>2018-01-01 15:40:01</td>\n",
       "    </tr>\n",
       "  </tbody>\n",
       "</table>\n",
       "</div>"
      ],
      "text/plain": [
       "  DAYOFSERVICE   TRIPID  PROGRNUMBER STOPPOINTID  PLANNEDTIME_ARR  \\\n",
       "0   2018-01-01  5972116           12         119            48030   \n",
       "1   2018-01-01  5966674           12         119            54001   \n",
       "2   2018-01-01  5959105           12         119            60001   \n",
       "3   2018-01-01  5966888           12         119            58801   \n",
       "4   2018-01-01  5965960           12         119            56401   \n",
       "\n",
       "   PLANNEDTIME_DEP  ACTUALTIME_ARR  ACTUALTIME_DEP VEHICLEID SUPPRESSED  \\\n",
       "0            48030           48012           48012   2693211        NaN   \n",
       "1            54001           54023           54023   2693267        NaN   \n",
       "2            60001           59955           59955   2693263        NaN   \n",
       "3            58801           58771           58771   2693284        NaN   \n",
       "4            56401           56309           56323   2693209        NaN   \n",
       "\n",
       "   JUSTIFICATIONID          LASTUPDATE       date_and_time  delay_amount  \\\n",
       "0              NaN 2018-01-08 17:21:10 2018-01-01 13:00:00           -18   \n",
       "1              NaN 2018-01-08 17:21:10 2018-01-01 15:00:00            22   \n",
       "2              NaN 2018-01-08 17:21:10 2018-01-01 16:00:00           -46   \n",
       "3              NaN 2018-01-08 17:21:10 2018-01-01 16:00:00           -30   \n",
       "4              NaN 2018-01-08 17:21:10 2018-01-01 15:00:00           -92   \n",
       "\n",
       "   planned_arr_hours  planned_arr_minutes day_of_week  holiday  \\\n",
       "0                 13                   20      Monday        1   \n",
       "1                 15                    0      Monday        1   \n",
       "2                 16                   40      Monday        1   \n",
       "3                 16                   20      Monday        1   \n",
       "4                 15                   40      Monday        1   \n",
       "\n",
       "   suppressed_indicator      datetime_exact  \n",
       "0                     0 2018-01-01 13:20:30  \n",
       "1                     0 2018-01-01 15:00:01  \n",
       "2                     0 2018-01-01 16:40:01  \n",
       "3                     0 2018-01-01 16:20:01  \n",
       "4                     0 2018-01-01 15:40:01  "
      ]
     },
     "execution_count": 35,
     "metadata": {},
     "output_type": "execute_result"
    }
   ],
   "source": [
    "route_pd_df.head()"
   ]
  },
  {
   "cell_type": "code",
   "execution_count": 12,
   "metadata": {},
   "outputs": [],
   "source": [
    "# fget the proportion of the time\n",
    "route_pd_df[\"time_proportion\"] = (route_pd_df[\"datetime_exact\"] - min(route_pd_df[\"datetime_exact\"]))/(max(route_pd_df[\"datetime_exact\"])- min(route_pd_df[\"datetime_exact\"]))"
   ]
  },
  {
   "cell_type": "code",
   "execution_count": 13,
   "metadata": {},
   "outputs": [],
   "source": [
    "# join the direction into the route\n",
    "trips_df = dd.read_csv(\"data/rt_trips_DB_2018.txt\", sep = \";\")\n",
    "trips_direction_df = trips_df[[\"TRIPID\", \"DIRECTION\"]].compute()\n",
    "route_pd_df = pd.merge(route_pd_df ,trips_direction_df ) "
   ]
  },
  {
   "cell_type": "code",
   "execution_count": 55,
   "metadata": {},
   "outputs": [],
   "source": [
    "# train test split with respect to time\n",
    "train_df = route_pd_df[route_pd_df[\"time_proportion\"] <= 0.7]\n",
    "test_df = route_pd_df[route_pd_df[\"time_proportion\"] > 0.7]"
   ]
  },
  {
   "cell_type": "code",
   "execution_count": 24,
   "metadata": {},
   "outputs": [
    {
     "data": {
      "text/html": [
       "<div>\n",
       "<style scoped>\n",
       "    .dataframe tbody tr th:only-of-type {\n",
       "        vertical-align: middle;\n",
       "    }\n",
       "\n",
       "    .dataframe tbody tr th {\n",
       "        vertical-align: top;\n",
       "    }\n",
       "\n",
       "    .dataframe thead th {\n",
       "        text-align: right;\n",
       "    }\n",
       "</style>\n",
       "<table border=\"1\" class=\"dataframe\">\n",
       "  <thead>\n",
       "    <tr style=\"text-align: right;\">\n",
       "      <th></th>\n",
       "      <th>DAYOFSERVICE</th>\n",
       "      <th>TRIPID</th>\n",
       "      <th>PROGRNUMBER</th>\n",
       "      <th>STOPPOINTID</th>\n",
       "      <th>PLANNEDTIME_ARR</th>\n",
       "      <th>PLANNEDTIME_DEP</th>\n",
       "      <th>ACTUALTIME_ARR</th>\n",
       "      <th>ACTUALTIME_DEP</th>\n",
       "      <th>VEHICLEID</th>\n",
       "      <th>SUPPRESSED</th>\n",
       "      <th>...</th>\n",
       "      <th>date_and_time</th>\n",
       "      <th>delay_amount</th>\n",
       "      <th>planned_arr_hours</th>\n",
       "      <th>planned_arr_minutes</th>\n",
       "      <th>day_of_week</th>\n",
       "      <th>holiday</th>\n",
       "      <th>suppressed_indicator</th>\n",
       "      <th>datetime_exact</th>\n",
       "      <th>time_proportion</th>\n",
       "      <th>DIRECTION</th>\n",
       "    </tr>\n",
       "  </thead>\n",
       "  <tbody>\n",
       "    <tr>\n",
       "      <th>0</th>\n",
       "      <td>2018-01-01</td>\n",
       "      <td>5957731</td>\n",
       "      <td>2</td>\n",
       "      <td>935</td>\n",
       "      <td>77743</td>\n",
       "      <td>77743</td>\n",
       "      <td>77715</td>\n",
       "      <td>77715</td>\n",
       "      <td>2868314</td>\n",
       "      <td>NaN</td>\n",
       "      <td>...</td>\n",
       "      <td>2018-01-01 21:00:00</td>\n",
       "      <td>-28</td>\n",
       "      <td>21</td>\n",
       "      <td>35</td>\n",
       "      <td>Monday</td>\n",
       "      <td>1</td>\n",
       "      <td>0</td>\n",
       "      <td>2018-01-01 21:35:43</td>\n",
       "      <td>0.001496</td>\n",
       "      <td>1</td>\n",
       "    </tr>\n",
       "    <tr>\n",
       "      <th>1</th>\n",
       "      <td>2018-01-01</td>\n",
       "      <td>5957731</td>\n",
       "      <td>1</td>\n",
       "      <td>4381</td>\n",
       "      <td>77700</td>\n",
       "      <td>77700</td>\n",
       "      <td>77683</td>\n",
       "      <td>77683</td>\n",
       "      <td>2868314</td>\n",
       "      <td>NaN</td>\n",
       "      <td>...</td>\n",
       "      <td>2018-01-01 21:00:00</td>\n",
       "      <td>-17</td>\n",
       "      <td>21</td>\n",
       "      <td>35</td>\n",
       "      <td>Monday</td>\n",
       "      <td>1</td>\n",
       "      <td>0</td>\n",
       "      <td>2018-01-01 21:35:00</td>\n",
       "      <td>0.001494</td>\n",
       "      <td>1</td>\n",
       "    </tr>\n",
       "    <tr>\n",
       "      <th>2</th>\n",
       "      <td>2018-01-01</td>\n",
       "      <td>5957731</td>\n",
       "      <td>3</td>\n",
       "      <td>936</td>\n",
       "      <td>77765</td>\n",
       "      <td>77765</td>\n",
       "      <td>77727</td>\n",
       "      <td>77727</td>\n",
       "      <td>2868314</td>\n",
       "      <td>NaN</td>\n",
       "      <td>...</td>\n",
       "      <td>2018-01-01 21:00:00</td>\n",
       "      <td>-38</td>\n",
       "      <td>21</td>\n",
       "      <td>36</td>\n",
       "      <td>Monday</td>\n",
       "      <td>1</td>\n",
       "      <td>0</td>\n",
       "      <td>2018-01-01 21:36:05</td>\n",
       "      <td>0.001497</td>\n",
       "      <td>1</td>\n",
       "    </tr>\n",
       "    <tr>\n",
       "      <th>3</th>\n",
       "      <td>2018-01-01</td>\n",
       "      <td>5957731</td>\n",
       "      <td>5</td>\n",
       "      <td>914</td>\n",
       "      <td>77854</td>\n",
       "      <td>77854</td>\n",
       "      <td>77805</td>\n",
       "      <td>77805</td>\n",
       "      <td>2868314</td>\n",
       "      <td>NaN</td>\n",
       "      <td>...</td>\n",
       "      <td>2018-01-01 21:00:00</td>\n",
       "      <td>-49</td>\n",
       "      <td>21</td>\n",
       "      <td>37</td>\n",
       "      <td>Monday</td>\n",
       "      <td>1</td>\n",
       "      <td>0</td>\n",
       "      <td>2018-01-01 21:37:34</td>\n",
       "      <td>0.001500</td>\n",
       "      <td>1</td>\n",
       "    </tr>\n",
       "    <tr>\n",
       "      <th>4</th>\n",
       "      <td>2018-01-01</td>\n",
       "      <td>5957731</td>\n",
       "      <td>6</td>\n",
       "      <td>938</td>\n",
       "      <td>77886</td>\n",
       "      <td>77886</td>\n",
       "      <td>77830</td>\n",
       "      <td>77830</td>\n",
       "      <td>2868314</td>\n",
       "      <td>NaN</td>\n",
       "      <td>...</td>\n",
       "      <td>2018-01-01 21:00:00</td>\n",
       "      <td>-56</td>\n",
       "      <td>21</td>\n",
       "      <td>38</td>\n",
       "      <td>Monday</td>\n",
       "      <td>1</td>\n",
       "      <td>0</td>\n",
       "      <td>2018-01-01 21:38:06</td>\n",
       "      <td>0.001501</td>\n",
       "      <td>1</td>\n",
       "    </tr>\n",
       "  </tbody>\n",
       "</table>\n",
       "<p>5 rows × 22 columns</p>\n",
       "</div>"
      ],
      "text/plain": [
       "  DAYOFSERVICE   TRIPID  PROGRNUMBER STOPPOINTID  PLANNEDTIME_ARR  \\\n",
       "0   2018-01-01  5957731            2         935            77743   \n",
       "1   2018-01-01  5957731            1        4381            77700   \n",
       "2   2018-01-01  5957731            3         936            77765   \n",
       "3   2018-01-01  5957731            5         914            77854   \n",
       "4   2018-01-01  5957731            6         938            77886   \n",
       "\n",
       "   PLANNEDTIME_DEP  ACTUALTIME_ARR  ACTUALTIME_DEP VEHICLEID SUPPRESSED  ...  \\\n",
       "0            77743           77715           77715   2868314        NaN  ...   \n",
       "1            77700           77683           77683   2868314        NaN  ...   \n",
       "2            77765           77727           77727   2868314        NaN  ...   \n",
       "3            77854           77805           77805   2868314        NaN  ...   \n",
       "4            77886           77830           77830   2868314        NaN  ...   \n",
       "\n",
       "        date_and_time delay_amount planned_arr_hours  planned_arr_minutes  \\\n",
       "0 2018-01-01 21:00:00          -28                21                   35   \n",
       "1 2018-01-01 21:00:00          -17                21                   35   \n",
       "2 2018-01-01 21:00:00          -38                21                   36   \n",
       "3 2018-01-01 21:00:00          -49                21                   37   \n",
       "4 2018-01-01 21:00:00          -56                21                   38   \n",
       "\n",
       "   day_of_week  holiday suppressed_indicator      datetime_exact  \\\n",
       "0       Monday        1                    0 2018-01-01 21:35:43   \n",
       "1       Monday        1                    0 2018-01-01 21:35:00   \n",
       "2       Monday        1                    0 2018-01-01 21:36:05   \n",
       "3       Monday        1                    0 2018-01-01 21:37:34   \n",
       "4       Monday        1                    0 2018-01-01 21:38:06   \n",
       "\n",
       "   time_proportion DIRECTION  \n",
       "0         0.001496         1  \n",
       "1         0.001494         1  \n",
       "2         0.001497         1  \n",
       "3         0.001500         1  \n",
       "4         0.001501         1  \n",
       "\n",
       "[5 rows x 22 columns]"
      ]
     },
     "execution_count": 24,
     "metadata": {},
     "output_type": "execute_result"
    }
   ],
   "source": [
    "train_df.head()"
   ]
  },
  {
   "cell_type": "code",
   "execution_count": 66,
   "metadata": {},
   "outputs": [],
   "source": [
    "# this function does not work after many edist still does not work\n",
    "# def function(df):\n",
    "#     try:\n",
    "#         if df[\"PROGRNUMBER\"] > 1:\n",
    "#             return df[\"delay_amount\"][df[\"TRIPID\"] == df[\"TRIPID\"]][df[\"PROGRNUMBER\"] - 1 ]\n",
    "#         else:\n",
    "#             return 0\n",
    "#     except IndexError:\n",
    "#         try:\n",
    "#             return df[\"delay_amount\"][df[\"TRIPID\"] == df[\"TRIPID\"]][df[\"PROGRNUMBER\"] - 2 ]\n",
    "#         except IndexError:\n",
    "#             return df[\"delay_amount\"][df[\"TRIPID\"] == df[\"TRIPID\"]][df[\"PROGRNUMBER\"] - 3]"
   ]
  },
  {
   "cell_type": "code",
   "execution_count": 67,
   "metadata": {
    "collapsed": true
   },
   "outputs": [
    {
     "ename": "TypeError",
     "evalue": "'int' object is not subscriptable",
     "output_type": "error",
     "traceback": [
      "\u001b[0;31m---------------------------------------------------------------------------\u001b[0m",
      "\u001b[0;31mTypeError\u001b[0m                                 Traceback (most recent call last)",
      "\u001b[0;32m<timed exec>\u001b[0m in \u001b[0;36m<module>\u001b[0;34m\u001b[0m\n",
      "\u001b[0;32m~/miniconda3/lib/python3.9/site-packages/pandas/core/frame.py\u001b[0m in \u001b[0;36mapply\u001b[0;34m(self, func, axis, raw, result_type, args, **kwds)\u001b[0m\n\u001b[1;32m   7766\u001b[0m             \u001b[0mkwds\u001b[0m\u001b[0;34m=\u001b[0m\u001b[0mkwds\u001b[0m\u001b[0;34m,\u001b[0m\u001b[0;34m\u001b[0m\u001b[0;34m\u001b[0m\u001b[0m\n\u001b[1;32m   7767\u001b[0m         )\n\u001b[0;32m-> 7768\u001b[0;31m         \u001b[0;32mreturn\u001b[0m \u001b[0mop\u001b[0m\u001b[0;34m.\u001b[0m\u001b[0mget_result\u001b[0m\u001b[0;34m(\u001b[0m\u001b[0;34m)\u001b[0m\u001b[0;34m\u001b[0m\u001b[0;34m\u001b[0m\u001b[0m\n\u001b[0m\u001b[1;32m   7769\u001b[0m \u001b[0;34m\u001b[0m\u001b[0m\n\u001b[1;32m   7770\u001b[0m     \u001b[0;32mdef\u001b[0m \u001b[0mapplymap\u001b[0m\u001b[0;34m(\u001b[0m\u001b[0mself\u001b[0m\u001b[0;34m,\u001b[0m \u001b[0mfunc\u001b[0m\u001b[0;34m,\u001b[0m \u001b[0mna_action\u001b[0m\u001b[0;34m:\u001b[0m \u001b[0mOptional\u001b[0m\u001b[0;34m[\u001b[0m\u001b[0mstr\u001b[0m\u001b[0;34m]\u001b[0m \u001b[0;34m=\u001b[0m \u001b[0;32mNone\u001b[0m\u001b[0;34m)\u001b[0m \u001b[0;34m->\u001b[0m \u001b[0mDataFrame\u001b[0m\u001b[0;34m:\u001b[0m\u001b[0;34m\u001b[0m\u001b[0;34m\u001b[0m\u001b[0m\n",
      "\u001b[0;32m~/miniconda3/lib/python3.9/site-packages/pandas/core/apply.py\u001b[0m in \u001b[0;36mget_result\u001b[0;34m(self)\u001b[0m\n\u001b[1;32m    183\u001b[0m             \u001b[0;32mreturn\u001b[0m \u001b[0mself\u001b[0m\u001b[0;34m.\u001b[0m\u001b[0mapply_raw\u001b[0m\u001b[0;34m(\u001b[0m\u001b[0;34m)\u001b[0m\u001b[0;34m\u001b[0m\u001b[0;34m\u001b[0m\u001b[0m\n\u001b[1;32m    184\u001b[0m \u001b[0;34m\u001b[0m\u001b[0m\n\u001b[0;32m--> 185\u001b[0;31m         \u001b[0;32mreturn\u001b[0m \u001b[0mself\u001b[0m\u001b[0;34m.\u001b[0m\u001b[0mapply_standard\u001b[0m\u001b[0;34m(\u001b[0m\u001b[0;34m)\u001b[0m\u001b[0;34m\u001b[0m\u001b[0;34m\u001b[0m\u001b[0m\n\u001b[0m\u001b[1;32m    186\u001b[0m \u001b[0;34m\u001b[0m\u001b[0m\n\u001b[1;32m    187\u001b[0m     \u001b[0;32mdef\u001b[0m \u001b[0mapply_empty_result\u001b[0m\u001b[0;34m(\u001b[0m\u001b[0mself\u001b[0m\u001b[0;34m)\u001b[0m\u001b[0;34m:\u001b[0m\u001b[0;34m\u001b[0m\u001b[0;34m\u001b[0m\u001b[0m\n",
      "\u001b[0;32m~/miniconda3/lib/python3.9/site-packages/pandas/core/apply.py\u001b[0m in \u001b[0;36mapply_standard\u001b[0;34m(self)\u001b[0m\n\u001b[1;32m    274\u001b[0m \u001b[0;34m\u001b[0m\u001b[0m\n\u001b[1;32m    275\u001b[0m     \u001b[0;32mdef\u001b[0m \u001b[0mapply_standard\u001b[0m\u001b[0;34m(\u001b[0m\u001b[0mself\u001b[0m\u001b[0;34m)\u001b[0m\u001b[0;34m:\u001b[0m\u001b[0;34m\u001b[0m\u001b[0;34m\u001b[0m\u001b[0m\n\u001b[0;32m--> 276\u001b[0;31m         \u001b[0mresults\u001b[0m\u001b[0;34m,\u001b[0m \u001b[0mres_index\u001b[0m \u001b[0;34m=\u001b[0m \u001b[0mself\u001b[0m\u001b[0;34m.\u001b[0m\u001b[0mapply_series_generator\u001b[0m\u001b[0;34m(\u001b[0m\u001b[0;34m)\u001b[0m\u001b[0;34m\u001b[0m\u001b[0;34m\u001b[0m\u001b[0m\n\u001b[0m\u001b[1;32m    277\u001b[0m \u001b[0;34m\u001b[0m\u001b[0m\n\u001b[1;32m    278\u001b[0m         \u001b[0;31m# wrap results\u001b[0m\u001b[0;34m\u001b[0m\u001b[0;34m\u001b[0m\u001b[0;34m\u001b[0m\u001b[0m\n",
      "\u001b[0;32m~/miniconda3/lib/python3.9/site-packages/pandas/core/apply.py\u001b[0m in \u001b[0;36mapply_series_generator\u001b[0;34m(self)\u001b[0m\n\u001b[1;32m    288\u001b[0m             \u001b[0;32mfor\u001b[0m \u001b[0mi\u001b[0m\u001b[0;34m,\u001b[0m \u001b[0mv\u001b[0m \u001b[0;32min\u001b[0m \u001b[0menumerate\u001b[0m\u001b[0;34m(\u001b[0m\u001b[0mseries_gen\u001b[0m\u001b[0;34m)\u001b[0m\u001b[0;34m:\u001b[0m\u001b[0;34m\u001b[0m\u001b[0;34m\u001b[0m\u001b[0m\n\u001b[1;32m    289\u001b[0m                 \u001b[0;31m# ignore SettingWithCopy here in case the user mutates\u001b[0m\u001b[0;34m\u001b[0m\u001b[0;34m\u001b[0m\u001b[0;34m\u001b[0m\u001b[0m\n\u001b[0;32m--> 290\u001b[0;31m                 \u001b[0mresults\u001b[0m\u001b[0;34m[\u001b[0m\u001b[0mi\u001b[0m\u001b[0;34m]\u001b[0m \u001b[0;34m=\u001b[0m \u001b[0mself\u001b[0m\u001b[0;34m.\u001b[0m\u001b[0mf\u001b[0m\u001b[0;34m(\u001b[0m\u001b[0mv\u001b[0m\u001b[0;34m)\u001b[0m\u001b[0;34m\u001b[0m\u001b[0;34m\u001b[0m\u001b[0m\n\u001b[0m\u001b[1;32m    291\u001b[0m                 \u001b[0;32mif\u001b[0m \u001b[0misinstance\u001b[0m\u001b[0;34m(\u001b[0m\u001b[0mresults\u001b[0m\u001b[0;34m[\u001b[0m\u001b[0mi\u001b[0m\u001b[0;34m]\u001b[0m\u001b[0;34m,\u001b[0m \u001b[0mABCSeries\u001b[0m\u001b[0;34m)\u001b[0m\u001b[0;34m:\u001b[0m\u001b[0;34m\u001b[0m\u001b[0;34m\u001b[0m\u001b[0m\n\u001b[1;32m    292\u001b[0m                     \u001b[0;31m# If we have a view on v, we need to make a copy because\u001b[0m\u001b[0;34m\u001b[0m\u001b[0;34m\u001b[0m\u001b[0;34m\u001b[0m\u001b[0m\n",
      "\u001b[0;32m<ipython-input-66-c8c1f231f5b4>\u001b[0m in \u001b[0;36mfunction\u001b[0;34m(df)\u001b[0m\n\u001b[1;32m      4\u001b[0m         \u001b[0;32mif\u001b[0m \u001b[0mdf\u001b[0m\u001b[0;34m[\u001b[0m\u001b[0;34m\"PROGRNUMBER\"\u001b[0m\u001b[0;34m]\u001b[0m \u001b[0;34m>\u001b[0m \u001b[0;36m1\u001b[0m\u001b[0;34m:\u001b[0m\u001b[0;34m\u001b[0m\u001b[0;34m\u001b[0m\u001b[0m\n\u001b[1;32m      5\u001b[0m \u001b[0;34m\u001b[0m\u001b[0m\n\u001b[0;32m----> 6\u001b[0;31m             \u001b[0;32mreturn\u001b[0m \u001b[0mdf\u001b[0m\u001b[0;34m[\u001b[0m\u001b[0;34m\"delay_amount\"\u001b[0m\u001b[0;34m]\u001b[0m\u001b[0;34m[\u001b[0m\u001b[0mdf\u001b[0m\u001b[0;34m[\u001b[0m\u001b[0;34m\"TRIPID\"\u001b[0m\u001b[0;34m]\u001b[0m \u001b[0;34m==\u001b[0m \u001b[0mdf\u001b[0m\u001b[0;34m[\u001b[0m\u001b[0;34m\"TRIPID\"\u001b[0m\u001b[0;34m]\u001b[0m\u001b[0;34m]\u001b[0m\u001b[0;34m[\u001b[0m\u001b[0mdf\u001b[0m\u001b[0;34m[\u001b[0m\u001b[0;34m\"PROGRNUMBER\"\u001b[0m\u001b[0;34m]\u001b[0m \u001b[0;34m-\u001b[0m \u001b[0;36m1\u001b[0m \u001b[0;34m]\u001b[0m\u001b[0;34m\u001b[0m\u001b[0;34m\u001b[0m\u001b[0m\n\u001b[0m\u001b[1;32m      7\u001b[0m         \u001b[0;32melse\u001b[0m\u001b[0;34m:\u001b[0m\u001b[0;34m\u001b[0m\u001b[0;34m\u001b[0m\u001b[0m\n\u001b[1;32m      8\u001b[0m             \u001b[0;32mreturn\u001b[0m \u001b[0;36m0\u001b[0m\u001b[0;34m\u001b[0m\u001b[0;34m\u001b[0m\u001b[0m\n",
      "\u001b[0;31mTypeError\u001b[0m: 'int' object is not subscriptable"
     ]
    }
   ],
   "source": [
    "# %time route_pd_df[\"previous_delay\"] = route_pd_df.apply(function, axis = 1)"
   ]
  },
  {
   "cell_type": "code",
   "execution_count": 56,
   "metadata": {},
   "outputs": [],
   "source": [
    "# outliers for the target, 30 minutes is decent ourlier, any larger, its scary\n",
    "no_outlier_train = train_df[abs(train_df[\"delay_amount\"]) < 1800 ]"
   ]
  },
  {
   "cell_type": "code",
   "execution_count": 71,
   "metadata": {},
   "outputs": [],
   "source": [
    "from sklearn.preprocessing import OneHotEncoder"
   ]
  },
  {
   "cell_type": "code",
   "execution_count": 26,
   "metadata": {},
   "outputs": [
    {
     "data": {
      "text/plain": [
       "OneHotEncoder(handle_unknown='ignore')"
      ]
     },
     "execution_count": 26,
     "metadata": {},
     "output_type": "execute_result"
    }
   ],
   "source": [
    "# one hot encoder\n",
    "day_of_week_ohc = OneHotEncoder(handle_unknown=\"ignore\")\n",
    "day_of_week_ohc.fit(no_outlier_train[\"day_of_week\"].values.reshape(-1,1))"
   ]
  },
  {
   "cell_type": "code",
   "execution_count": 51,
   "metadata": {},
   "outputs": [
    {
     "ename": "KeyError",
     "evalue": "'suppressed_id'",
     "output_type": "error",
     "traceback": [
      "\u001b[0;31m---------------------------------------------------------------------------\u001b[0m",
      "\u001b[0;31mKeyError\u001b[0m                                  Traceback (most recent call last)",
      "\u001b[0;32m~/miniconda3/lib/python3.9/site-packages/pandas/core/indexes/base.py\u001b[0m in \u001b[0;36mget_loc\u001b[0;34m(self, key, method, tolerance)\u001b[0m\n\u001b[1;32m   3080\u001b[0m             \u001b[0;32mtry\u001b[0m\u001b[0;34m:\u001b[0m\u001b[0;34m\u001b[0m\u001b[0;34m\u001b[0m\u001b[0m\n\u001b[0;32m-> 3081\u001b[0;31m                 \u001b[0;32mreturn\u001b[0m \u001b[0mself\u001b[0m\u001b[0;34m.\u001b[0m\u001b[0m_engine\u001b[0m\u001b[0;34m.\u001b[0m\u001b[0mget_loc\u001b[0m\u001b[0;34m(\u001b[0m\u001b[0mcasted_key\u001b[0m\u001b[0;34m)\u001b[0m\u001b[0;34m\u001b[0m\u001b[0;34m\u001b[0m\u001b[0m\n\u001b[0m\u001b[1;32m   3082\u001b[0m             \u001b[0;32mexcept\u001b[0m \u001b[0mKeyError\u001b[0m \u001b[0;32mas\u001b[0m \u001b[0merr\u001b[0m\u001b[0;34m:\u001b[0m\u001b[0;34m\u001b[0m\u001b[0;34m\u001b[0m\u001b[0m\n",
      "\u001b[0;32mpandas/_libs/index.pyx\u001b[0m in \u001b[0;36mpandas._libs.index.IndexEngine.get_loc\u001b[0;34m()\u001b[0m\n",
      "\u001b[0;32mpandas/_libs/index.pyx\u001b[0m in \u001b[0;36mpandas._libs.index.IndexEngine.get_loc\u001b[0;34m()\u001b[0m\n",
      "\u001b[0;32mpandas/_libs/hashtable_class_helper.pxi\u001b[0m in \u001b[0;36mpandas._libs.hashtable.PyObjectHashTable.get_item\u001b[0;34m()\u001b[0m\n",
      "\u001b[0;32mpandas/_libs/hashtable_class_helper.pxi\u001b[0m in \u001b[0;36mpandas._libs.hashtable.PyObjectHashTable.get_item\u001b[0;34m()\u001b[0m\n",
      "\u001b[0;31mKeyError\u001b[0m: 'suppressed_id'",
      "\nThe above exception was the direct cause of the following exception:\n",
      "\u001b[0;31mKeyError\u001b[0m                                  Traceback (most recent call last)",
      "\u001b[0;32m<ipython-input-51-05b373f18d3b>\u001b[0m in \u001b[0;36m<module>\u001b[0;34m\u001b[0m\n\u001b[0;32m----> 1\u001b[0;31m \u001b[0mroute_pd_df\u001b[0m\u001b[0;34m[\u001b[0m\u001b[0;34m\"suppressed_id\"\u001b[0m\u001b[0;34m]\u001b[0m\u001b[0;34m\u001b[0m\u001b[0;34m\u001b[0m\u001b[0m\n\u001b[0m",
      "\u001b[0;32m~/miniconda3/lib/python3.9/site-packages/pandas/core/frame.py\u001b[0m in \u001b[0;36m__getitem__\u001b[0;34m(self, key)\u001b[0m\n\u001b[1;32m   3022\u001b[0m             \u001b[0;32mif\u001b[0m \u001b[0mself\u001b[0m\u001b[0;34m.\u001b[0m\u001b[0mcolumns\u001b[0m\u001b[0;34m.\u001b[0m\u001b[0mnlevels\u001b[0m \u001b[0;34m>\u001b[0m \u001b[0;36m1\u001b[0m\u001b[0;34m:\u001b[0m\u001b[0;34m\u001b[0m\u001b[0;34m\u001b[0m\u001b[0m\n\u001b[1;32m   3023\u001b[0m                 \u001b[0;32mreturn\u001b[0m \u001b[0mself\u001b[0m\u001b[0;34m.\u001b[0m\u001b[0m_getitem_multilevel\u001b[0m\u001b[0;34m(\u001b[0m\u001b[0mkey\u001b[0m\u001b[0;34m)\u001b[0m\u001b[0;34m\u001b[0m\u001b[0;34m\u001b[0m\u001b[0m\n\u001b[0;32m-> 3024\u001b[0;31m             \u001b[0mindexer\u001b[0m \u001b[0;34m=\u001b[0m \u001b[0mself\u001b[0m\u001b[0;34m.\u001b[0m\u001b[0mcolumns\u001b[0m\u001b[0;34m.\u001b[0m\u001b[0mget_loc\u001b[0m\u001b[0;34m(\u001b[0m\u001b[0mkey\u001b[0m\u001b[0;34m)\u001b[0m\u001b[0;34m\u001b[0m\u001b[0;34m\u001b[0m\u001b[0m\n\u001b[0m\u001b[1;32m   3025\u001b[0m             \u001b[0;32mif\u001b[0m \u001b[0mis_integer\u001b[0m\u001b[0;34m(\u001b[0m\u001b[0mindexer\u001b[0m\u001b[0;34m)\u001b[0m\u001b[0;34m:\u001b[0m\u001b[0;34m\u001b[0m\u001b[0;34m\u001b[0m\u001b[0m\n\u001b[1;32m   3026\u001b[0m                 \u001b[0mindexer\u001b[0m \u001b[0;34m=\u001b[0m \u001b[0;34m[\u001b[0m\u001b[0mindexer\u001b[0m\u001b[0;34m]\u001b[0m\u001b[0;34m\u001b[0m\u001b[0;34m\u001b[0m\u001b[0m\n",
      "\u001b[0;32m~/miniconda3/lib/python3.9/site-packages/pandas/core/indexes/base.py\u001b[0m in \u001b[0;36mget_loc\u001b[0;34m(self, key, method, tolerance)\u001b[0m\n\u001b[1;32m   3081\u001b[0m                 \u001b[0;32mreturn\u001b[0m \u001b[0mself\u001b[0m\u001b[0;34m.\u001b[0m\u001b[0m_engine\u001b[0m\u001b[0;34m.\u001b[0m\u001b[0mget_loc\u001b[0m\u001b[0;34m(\u001b[0m\u001b[0mcasted_key\u001b[0m\u001b[0;34m)\u001b[0m\u001b[0;34m\u001b[0m\u001b[0;34m\u001b[0m\u001b[0m\n\u001b[1;32m   3082\u001b[0m             \u001b[0;32mexcept\u001b[0m \u001b[0mKeyError\u001b[0m \u001b[0;32mas\u001b[0m \u001b[0merr\u001b[0m\u001b[0;34m:\u001b[0m\u001b[0;34m\u001b[0m\u001b[0;34m\u001b[0m\u001b[0m\n\u001b[0;32m-> 3083\u001b[0;31m                 \u001b[0;32mraise\u001b[0m \u001b[0mKeyError\u001b[0m\u001b[0;34m(\u001b[0m\u001b[0mkey\u001b[0m\u001b[0;34m)\u001b[0m \u001b[0;32mfrom\u001b[0m \u001b[0merr\u001b[0m\u001b[0;34m\u001b[0m\u001b[0;34m\u001b[0m\u001b[0m\n\u001b[0m\u001b[1;32m   3084\u001b[0m \u001b[0;34m\u001b[0m\u001b[0m\n\u001b[1;32m   3085\u001b[0m         \u001b[0;32mif\u001b[0m \u001b[0mtolerance\u001b[0m \u001b[0;32mis\u001b[0m \u001b[0;32mnot\u001b[0m \u001b[0;32mNone\u001b[0m\u001b[0;34m:\u001b[0m\u001b[0;34m\u001b[0m\u001b[0;34m\u001b[0m\u001b[0m\n",
      "\u001b[0;31mKeyError\u001b[0m: 'suppressed_id'"
     ]
    }
   ],
   "source": [
    "route_pd_df[\"suppressed_id\"]"
   ]
  },
  {
   "cell_type": "code",
   "execution_count": 26,
   "metadata": {},
   "outputs": [
    {
     "data": {
      "text/html": [
       "<div>\n",
       "<style scoped>\n",
       "    .dataframe tbody tr th:only-of-type {\n",
       "        vertical-align: middle;\n",
       "    }\n",
       "\n",
       "    .dataframe tbody tr th {\n",
       "        vertical-align: top;\n",
       "    }\n",
       "\n",
       "    .dataframe thead th {\n",
       "        text-align: right;\n",
       "    }\n",
       "</style>\n",
       "<table border=\"1\" class=\"dataframe\">\n",
       "  <thead>\n",
       "    <tr style=\"text-align: right;\">\n",
       "      <th></th>\n",
       "      <th>DAYOFSERVICE</th>\n",
       "      <th>TRIPID</th>\n",
       "      <th>PROGRNUMBER</th>\n",
       "      <th>STOPPOINTID</th>\n",
       "      <th>PLANNEDTIME_ARR</th>\n",
       "      <th>PLANNEDTIME_DEP</th>\n",
       "      <th>ACTUALTIME_ARR</th>\n",
       "      <th>ACTUALTIME_DEP</th>\n",
       "      <th>VEHICLEID</th>\n",
       "      <th>SUPPRESSED</th>\n",
       "      <th>...</th>\n",
       "      <th>date_and_time</th>\n",
       "      <th>delay_amount</th>\n",
       "      <th>planned_arr_hours</th>\n",
       "      <th>planned_arr_minutes</th>\n",
       "      <th>day_of_week</th>\n",
       "      <th>holiday</th>\n",
       "      <th>suppressed_indicator</th>\n",
       "      <th>datetime_exact</th>\n",
       "      <th>time_proportion</th>\n",
       "      <th>DIRECTION</th>\n",
       "    </tr>\n",
       "  </thead>\n",
       "  <tbody>\n",
       "    <tr>\n",
       "      <th>0</th>\n",
       "      <td>2018-01-01</td>\n",
       "      <td>5972116</td>\n",
       "      <td>12</td>\n",
       "      <td>119</td>\n",
       "      <td>48030</td>\n",
       "      <td>48030</td>\n",
       "      <td>48012</td>\n",
       "      <td>48012</td>\n",
       "      <td>2693211</td>\n",
       "      <td>NaN</td>\n",
       "      <td>...</td>\n",
       "      <td>2018-01-01 13:00:00</td>\n",
       "      <td>-18</td>\n",
       "      <td>13</td>\n",
       "      <td>20</td>\n",
       "      <td>Monday</td>\n",
       "      <td>1</td>\n",
       "      <td>0</td>\n",
       "      <td>2018-01-01 13:20:30</td>\n",
       "      <td>0.000382</td>\n",
       "      <td>1</td>\n",
       "    </tr>\n",
       "    <tr>\n",
       "      <th>1</th>\n",
       "      <td>2018-01-01</td>\n",
       "      <td>5972116</td>\n",
       "      <td>13</td>\n",
       "      <td>44</td>\n",
       "      <td>48079</td>\n",
       "      <td>48079</td>\n",
       "      <td>48058</td>\n",
       "      <td>48058</td>\n",
       "      <td>2693211</td>\n",
       "      <td>NaN</td>\n",
       "      <td>...</td>\n",
       "      <td>2018-01-01 13:00:00</td>\n",
       "      <td>-21</td>\n",
       "      <td>13</td>\n",
       "      <td>21</td>\n",
       "      <td>Monday</td>\n",
       "      <td>1</td>\n",
       "      <td>0</td>\n",
       "      <td>2018-01-01 13:21:19</td>\n",
       "      <td>0.000384</td>\n",
       "      <td>1</td>\n",
       "    </tr>\n",
       "    <tr>\n",
       "      <th>2</th>\n",
       "      <td>2018-01-01</td>\n",
       "      <td>5972116</td>\n",
       "      <td>14</td>\n",
       "      <td>7603</td>\n",
       "      <td>48114</td>\n",
       "      <td>48114</td>\n",
       "      <td>48071</td>\n",
       "      <td>48071</td>\n",
       "      <td>2693211</td>\n",
       "      <td>NaN</td>\n",
       "      <td>...</td>\n",
       "      <td>2018-01-01 13:00:00</td>\n",
       "      <td>-43</td>\n",
       "      <td>13</td>\n",
       "      <td>21</td>\n",
       "      <td>Monday</td>\n",
       "      <td>1</td>\n",
       "      <td>0</td>\n",
       "      <td>2018-01-01 13:21:54</td>\n",
       "      <td>0.000385</td>\n",
       "      <td>1</td>\n",
       "    </tr>\n",
       "    <tr>\n",
       "      <th>3</th>\n",
       "      <td>2018-01-01</td>\n",
       "      <td>5972116</td>\n",
       "      <td>15</td>\n",
       "      <td>45</td>\n",
       "      <td>48155</td>\n",
       "      <td>48155</td>\n",
       "      <td>48089</td>\n",
       "      <td>48100</td>\n",
       "      <td>2693211</td>\n",
       "      <td>NaN</td>\n",
       "      <td>...</td>\n",
       "      <td>2018-01-01 13:00:00</td>\n",
       "      <td>-66</td>\n",
       "      <td>13</td>\n",
       "      <td>22</td>\n",
       "      <td>Monday</td>\n",
       "      <td>1</td>\n",
       "      <td>0</td>\n",
       "      <td>2018-01-01 13:22:35</td>\n",
       "      <td>0.000386</td>\n",
       "      <td>1</td>\n",
       "    </tr>\n",
       "    <tr>\n",
       "      <th>4</th>\n",
       "      <td>2018-01-01</td>\n",
       "      <td>5972116</td>\n",
       "      <td>16</td>\n",
       "      <td>46</td>\n",
       "      <td>48221</td>\n",
       "      <td>48221</td>\n",
       "      <td>48137</td>\n",
       "      <td>48137</td>\n",
       "      <td>2693211</td>\n",
       "      <td>NaN</td>\n",
       "      <td>...</td>\n",
       "      <td>2018-01-01 13:00:00</td>\n",
       "      <td>-84</td>\n",
       "      <td>13</td>\n",
       "      <td>23</td>\n",
       "      <td>Monday</td>\n",
       "      <td>1</td>\n",
       "      <td>0</td>\n",
       "      <td>2018-01-01 13:23:41</td>\n",
       "      <td>0.000388</td>\n",
       "      <td>1</td>\n",
       "    </tr>\n",
       "  </tbody>\n",
       "</table>\n",
       "<p>5 rows × 22 columns</p>\n",
       "</div>"
      ],
      "text/plain": [
       "  DAYOFSERVICE   TRIPID  PROGRNUMBER STOPPOINTID  PLANNEDTIME_ARR  \\\n",
       "0   2018-01-01  5972116           12         119            48030   \n",
       "1   2018-01-01  5972116           13          44            48079   \n",
       "2   2018-01-01  5972116           14        7603            48114   \n",
       "3   2018-01-01  5972116           15          45            48155   \n",
       "4   2018-01-01  5972116           16          46            48221   \n",
       "\n",
       "   PLANNEDTIME_DEP  ACTUALTIME_ARR  ACTUALTIME_DEP VEHICLEID SUPPRESSED  ...  \\\n",
       "0            48030           48012           48012   2693211        NaN  ...   \n",
       "1            48079           48058           48058   2693211        NaN  ...   \n",
       "2            48114           48071           48071   2693211        NaN  ...   \n",
       "3            48155           48089           48100   2693211        NaN  ...   \n",
       "4            48221           48137           48137   2693211        NaN  ...   \n",
       "\n",
       "        date_and_time delay_amount planned_arr_hours  planned_arr_minutes  \\\n",
       "0 2018-01-01 13:00:00          -18                13                   20   \n",
       "1 2018-01-01 13:00:00          -21                13                   21   \n",
       "2 2018-01-01 13:00:00          -43                13                   21   \n",
       "3 2018-01-01 13:00:00          -66                13                   22   \n",
       "4 2018-01-01 13:00:00          -84                13                   23   \n",
       "\n",
       "   day_of_week  holiday suppressed_indicator      datetime_exact  \\\n",
       "0       Monday        1                    0 2018-01-01 13:20:30   \n",
       "1       Monday        1                    0 2018-01-01 13:21:19   \n",
       "2       Monday        1                    0 2018-01-01 13:21:54   \n",
       "3       Monday        1                    0 2018-01-01 13:22:35   \n",
       "4       Monday        1                    0 2018-01-01 13:23:41   \n",
       "\n",
       "   time_proportion DIRECTION  \n",
       "0         0.000382         1  \n",
       "1         0.000384         1  \n",
       "2         0.000385         1  \n",
       "3         0.000386         1  \n",
       "4         0.000388         1  \n",
       "\n",
       "[5 rows x 22 columns]"
      ]
     },
     "execution_count": 26,
     "metadata": {},
     "output_type": "execute_result"
    }
   ],
   "source": [
    "route_pd_df.head()"
   ]
  },
  {
   "cell_type": "code",
   "execution_count": 32,
   "metadata": {},
   "outputs": [],
   "source": [
    "# get the target and the training features\n",
    "train_target = train_df[\"delay_amount\"]\n",
    "test_target = test_df[\"delay_amount\"]\n",
    "training = train_df[[\"PROGRNUMBER\", \"planned_arr_hours\", \"planned_arr_minutes\", \"holiday\",  \"DIRECTION\"]]\n",
    "testing = test_df[[\"PROGRNUMBER\", \"planned_arr_hours\", \"planned_arr_minutes\", \"holiday\",  \"DIRECTION\"]]"
   ]
  },
  {
   "cell_type": "code",
   "execution_count": 29,
   "metadata": {},
   "outputs": [],
   "source": [
    "# save the encoder so that the data encoding is consistent, throughout\n",
    "pickle.dump(day_of_week_ohc, open(\"models/days_of_week_one_hot_encoder.sav\", 'wb'))"
   ]
  },
  {
   "cell_type": "code",
   "execution_count": 26,
   "metadata": {},
   "outputs": [],
   "source": [
    "# load the model from disk\n",
    "loaded_encoder = joblib.load(\"models/days_of_week_one_hot_encoder.sav\")"
   ]
  },
  {
   "cell_type": "code",
   "execution_count": 29,
   "metadata": {},
   "outputs": [
    {
     "data": {
      "text/plain": [
       "[array(['Friday', 'Monday', 'Saturday', 'Sunday', 'Thursday', 'Tuesday',\n",
       "        'Wednesday'], dtype=object)]"
      ]
     },
     "execution_count": 29,
     "metadata": {},
     "output_type": "execute_result"
    }
   ],
   "source": [
    "loaded_encoder.categories_"
   ]
  },
  {
   "cell_type": "code",
   "execution_count": 30,
   "metadata": {},
   "outputs": [],
   "source": [
    "# if we one hot encode the days of the week\n",
    "train_days = loaded_encoder.transform(train_df[\"day_of_week\"].values.reshape(-1,1))\n",
    "test_days = loaded_encoder.transform(test_df[\"day_of_week\"].values.reshape(-1,1))"
   ]
  },
  {
   "cell_type": "code",
   "execution_count": 40,
   "metadata": {},
   "outputs": [],
   "source": [
    "route_pd_df[\"encoded_weekdays\"] = route_pd_df[\"day_of_week\"].replace({\"Monday\":1, \"Tuesday\":2, \"Wednesday\":3, \"Thursday\":4, \"Friday\":5, \"Saturday\":6, \"Sunday\":7})"
   ]
  },
  {
   "cell_type": "code",
   "execution_count": 41,
   "metadata": {},
   "outputs": [
    {
     "data": {
      "text/html": [
       "<div>\n",
       "<style scoped>\n",
       "    .dataframe tbody tr th:only-of-type {\n",
       "        vertical-align: middle;\n",
       "    }\n",
       "\n",
       "    .dataframe tbody tr th {\n",
       "        vertical-align: top;\n",
       "    }\n",
       "\n",
       "    .dataframe thead th {\n",
       "        text-align: right;\n",
       "    }\n",
       "</style>\n",
       "<table border=\"1\" class=\"dataframe\">\n",
       "  <thead>\n",
       "    <tr style=\"text-align: right;\">\n",
       "      <th></th>\n",
       "      <th>DAYOFSERVICE</th>\n",
       "      <th>TRIPID</th>\n",
       "      <th>PROGRNUMBER</th>\n",
       "      <th>STOPPOINTID</th>\n",
       "      <th>PLANNEDTIME_ARR</th>\n",
       "      <th>PLANNEDTIME_DEP</th>\n",
       "      <th>ACTUALTIME_ARR</th>\n",
       "      <th>ACTUALTIME_DEP</th>\n",
       "      <th>VEHICLEID</th>\n",
       "      <th>SUPPRESSED</th>\n",
       "      <th>...</th>\n",
       "      <th>delay_amount</th>\n",
       "      <th>planned_arr_hours</th>\n",
       "      <th>planned_arr_minutes</th>\n",
       "      <th>day_of_week</th>\n",
       "      <th>holiday</th>\n",
       "      <th>suppressed_indicator</th>\n",
       "      <th>datetime_exact</th>\n",
       "      <th>time_proportion</th>\n",
       "      <th>DIRECTION</th>\n",
       "      <th>encoded_weekdays</th>\n",
       "    </tr>\n",
       "  </thead>\n",
       "  <tbody>\n",
       "    <tr>\n",
       "      <th>0</th>\n",
       "      <td>2018-01-01</td>\n",
       "      <td>5972116</td>\n",
       "      <td>12</td>\n",
       "      <td>119</td>\n",
       "      <td>48030</td>\n",
       "      <td>48030</td>\n",
       "      <td>48012</td>\n",
       "      <td>48012</td>\n",
       "      <td>2693211</td>\n",
       "      <td>NaN</td>\n",
       "      <td>...</td>\n",
       "      <td>-18</td>\n",
       "      <td>13</td>\n",
       "      <td>20</td>\n",
       "      <td>Monday</td>\n",
       "      <td>1</td>\n",
       "      <td>0</td>\n",
       "      <td>2018-01-01 13:20:30</td>\n",
       "      <td>0.000382</td>\n",
       "      <td>1</td>\n",
       "      <td>1</td>\n",
       "    </tr>\n",
       "    <tr>\n",
       "      <th>1</th>\n",
       "      <td>2018-01-01</td>\n",
       "      <td>5972116</td>\n",
       "      <td>13</td>\n",
       "      <td>44</td>\n",
       "      <td>48079</td>\n",
       "      <td>48079</td>\n",
       "      <td>48058</td>\n",
       "      <td>48058</td>\n",
       "      <td>2693211</td>\n",
       "      <td>NaN</td>\n",
       "      <td>...</td>\n",
       "      <td>-21</td>\n",
       "      <td>13</td>\n",
       "      <td>21</td>\n",
       "      <td>Monday</td>\n",
       "      <td>1</td>\n",
       "      <td>0</td>\n",
       "      <td>2018-01-01 13:21:19</td>\n",
       "      <td>0.000384</td>\n",
       "      <td>1</td>\n",
       "      <td>1</td>\n",
       "    </tr>\n",
       "    <tr>\n",
       "      <th>2</th>\n",
       "      <td>2018-01-01</td>\n",
       "      <td>5972116</td>\n",
       "      <td>14</td>\n",
       "      <td>7603</td>\n",
       "      <td>48114</td>\n",
       "      <td>48114</td>\n",
       "      <td>48071</td>\n",
       "      <td>48071</td>\n",
       "      <td>2693211</td>\n",
       "      <td>NaN</td>\n",
       "      <td>...</td>\n",
       "      <td>-43</td>\n",
       "      <td>13</td>\n",
       "      <td>21</td>\n",
       "      <td>Monday</td>\n",
       "      <td>1</td>\n",
       "      <td>0</td>\n",
       "      <td>2018-01-01 13:21:54</td>\n",
       "      <td>0.000385</td>\n",
       "      <td>1</td>\n",
       "      <td>1</td>\n",
       "    </tr>\n",
       "    <tr>\n",
       "      <th>3</th>\n",
       "      <td>2018-01-01</td>\n",
       "      <td>5972116</td>\n",
       "      <td>15</td>\n",
       "      <td>45</td>\n",
       "      <td>48155</td>\n",
       "      <td>48155</td>\n",
       "      <td>48089</td>\n",
       "      <td>48100</td>\n",
       "      <td>2693211</td>\n",
       "      <td>NaN</td>\n",
       "      <td>...</td>\n",
       "      <td>-66</td>\n",
       "      <td>13</td>\n",
       "      <td>22</td>\n",
       "      <td>Monday</td>\n",
       "      <td>1</td>\n",
       "      <td>0</td>\n",
       "      <td>2018-01-01 13:22:35</td>\n",
       "      <td>0.000386</td>\n",
       "      <td>1</td>\n",
       "      <td>1</td>\n",
       "    </tr>\n",
       "    <tr>\n",
       "      <th>4</th>\n",
       "      <td>2018-01-01</td>\n",
       "      <td>5972116</td>\n",
       "      <td>16</td>\n",
       "      <td>46</td>\n",
       "      <td>48221</td>\n",
       "      <td>48221</td>\n",
       "      <td>48137</td>\n",
       "      <td>48137</td>\n",
       "      <td>2693211</td>\n",
       "      <td>NaN</td>\n",
       "      <td>...</td>\n",
       "      <td>-84</td>\n",
       "      <td>13</td>\n",
       "      <td>23</td>\n",
       "      <td>Monday</td>\n",
       "      <td>1</td>\n",
       "      <td>0</td>\n",
       "      <td>2018-01-01 13:23:41</td>\n",
       "      <td>0.000388</td>\n",
       "      <td>1</td>\n",
       "      <td>1</td>\n",
       "    </tr>\n",
       "  </tbody>\n",
       "</table>\n",
       "<p>5 rows × 23 columns</p>\n",
       "</div>"
      ],
      "text/plain": [
       "  DAYOFSERVICE   TRIPID  PROGRNUMBER STOPPOINTID  PLANNEDTIME_ARR  \\\n",
       "0   2018-01-01  5972116           12         119            48030   \n",
       "1   2018-01-01  5972116           13          44            48079   \n",
       "2   2018-01-01  5972116           14        7603            48114   \n",
       "3   2018-01-01  5972116           15          45            48155   \n",
       "4   2018-01-01  5972116           16          46            48221   \n",
       "\n",
       "   PLANNEDTIME_DEP  ACTUALTIME_ARR  ACTUALTIME_DEP VEHICLEID SUPPRESSED  ...  \\\n",
       "0            48030           48012           48012   2693211        NaN  ...   \n",
       "1            48079           48058           48058   2693211        NaN  ...   \n",
       "2            48114           48071           48071   2693211        NaN  ...   \n",
       "3            48155           48089           48100   2693211        NaN  ...   \n",
       "4            48221           48137           48137   2693211        NaN  ...   \n",
       "\n",
       "   delay_amount planned_arr_hours planned_arr_minutes  day_of_week  holiday  \\\n",
       "0           -18                13                  20       Monday        1   \n",
       "1           -21                13                  21       Monday        1   \n",
       "2           -43                13                  21       Monday        1   \n",
       "3           -66                13                  22       Monday        1   \n",
       "4           -84                13                  23       Monday        1   \n",
       "\n",
       "   suppressed_indicator      datetime_exact  time_proportion  DIRECTION  \\\n",
       "0                     0 2018-01-01 13:20:30         0.000382          1   \n",
       "1                     0 2018-01-01 13:21:19         0.000384          1   \n",
       "2                     0 2018-01-01 13:21:54         0.000385          1   \n",
       "3                     0 2018-01-01 13:22:35         0.000386          1   \n",
       "4                     0 2018-01-01 13:23:41         0.000388          1   \n",
       "\n",
       "  encoded_weekdays  \n",
       "0                1  \n",
       "1                1  \n",
       "2                1  \n",
       "3                1  \n",
       "4                1  \n",
       "\n",
       "[5 rows x 23 columns]"
      ]
     },
     "execution_count": 41,
     "metadata": {},
     "output_type": "execute_result"
    }
   ],
   "source": [
    "route_pd_df.head()"
   ]
  },
  {
   "cell_type": "markdown",
   "metadata": {},
   "source": [
    "The columns of the training data for the model with no weather are,\n",
    "\n",
    "expected time of arrival hours, expected time ofg arrivals minutes, holiday index, suppressed indicator, day of weeks\n",
    "\n",
    "day of weeks are in the order of friday, monday, saturday, sunday, thursday, tuesday, wednesday"
   ]
  },
  {
   "cell_type": "code",
   "execution_count": 44,
   "metadata": {},
   "outputs": [],
   "source": [
    "# no weather rf\n",
    "# target = no_outlier_df[\"delay_amount\"]\n",
    "# design_matrix_1 = no_outlier_df[[\"planned_arr_hours\", \"planned_arr_minutes\",\"PROGRNUMBER\", \"holiday\", \"suppressed_indicator\"]]\n",
    "# days_of_week_encoded = day_of_week_ohc.transform(no_outlier_df[\"day_of_week\"].values.reshape(-1,1)).toarray()\n",
    "# train_X = np.concatenate((design_matrix_1.values,days_of_week_encoded), axis = 1)"
   ]
  },
  {
   "cell_type": "code",
   "execution_count": 33,
   "metadata": {},
   "outputs": [],
   "source": [
    "# training the model\n",
    "design_matrix_1 = np.concatenate((training.values, train_days.toarray()), axis = 1)\n",
    "test_matrix_1 = np.concatenate((testing.values, test_days.toarray()), axis = 1)"
   ]
  },
  {
   "cell_type": "code",
   "execution_count": 43,
   "metadata": {},
   "outputs": [],
   "source": [
    "# if we do not  one hot encode the weekdays for random forest\n",
    "train_matrix_2 = train_df[[\"PROGRNUMBER\", \"planned_arr_hours\", \"planned_arr_minutes\", \"holiday\",  \"DIRECTION\"]]\n",
    "test_matrix_2 = test_df[[\"PROGRNUMBER\", \"planned_arr_hours\", \"planned_arr_minutes\", \"holiday\",  \"DIRECTION\"]]"
   ]
  },
  {
   "cell_type": "code",
   "execution_count": 34,
   "metadata": {},
   "outputs": [
    {
     "data": {
      "text/plain": [
       "RandomForestRegressor(max_depth=5, n_jobs=-1)"
      ]
     },
     "execution_count": 34,
     "metadata": {},
     "output_type": "execute_result"
    }
   ],
   "source": [
    "# training the model\n",
    "rf_no_weather = RandomForestRegressor(n_estimators = 100,max_depth = 5, n_jobs = -1)\n",
    "rf_no_weather.fit(design_matrix_1, train_target)"
   ]
  },
  {
   "cell_type": "code",
   "execution_count": 44,
   "metadata": {},
   "outputs": [
    {
     "data": {
      "text/plain": [
       "RandomForestRegressor(max_depth=5, n_jobs=-1)"
      ]
     },
     "execution_count": 44,
     "metadata": {},
     "output_type": "execute_result"
    }
   ],
   "source": [
    "# training the model\n",
    "rf_no_weather2 = RandomForestRegressor(n_estimators = 100,max_depth = 5, n_jobs = -1)\n",
    "rf_no_weather2.fit(train_matrix_2, train_target)"
   ]
  },
  {
   "cell_type": "code",
   "execution_count": 23,
   "metadata": {},
   "outputs": [],
   "source": [
    "from sklearn.metrics import mean_absolute_error\n",
    "from sklearn.metrics import mean_squared_error"
   ]
  },
  {
   "cell_type": "code",
   "execution_count": 36,
   "metadata": {},
   "outputs": [
    {
     "name": "stdout",
     "output_type": "stream",
     "text": [
      "208.03291090758745\n"
     ]
    }
   ],
   "source": [
    "# testiung the model\n",
    "predicted_values =  rf_no_weather.predict(test_matrix_1)\n",
    "mae_error = mean_absolute_error(test_target, predicted_values)\n",
    "print(mae_error)"
   ]
  },
  {
   "cell_type": "code",
   "execution_count": 45,
   "metadata": {},
   "outputs": [
    {
     "name": "stdout",
     "output_type": "stream",
     "text": [
      "207.9699624469228\n"
     ]
    }
   ],
   "source": [
    "# testiung the model\n",
    "predicted_values2 =  rf_no_weather2.predict(test_matrix_2)\n",
    "mae_error2 = mean_absolute_error(test_target, predicted_values2)\n",
    "print(mae_error2)"
   ]
  },
  {
   "cell_type": "code",
   "execution_count": 46,
   "metadata": {},
   "outputs": [
    {
     "name": "stdout",
     "output_type": "stream",
     "text": [
      "352.5696361952799\n"
     ]
    }
   ],
   "source": [
    "mse_error2 = mean_squared_error(test_target, predicted_values2, squared = False)\n",
    "print(mse_error2)"
   ]
  },
  {
   "cell_type": "markdown",
   "metadata": {},
   "source": [
    "The error for no weather has an mean absolute error of 210 seconds which is around 3:40 minutes. \n",
    "\n",
    "The mean squared error is around 5-6 minutes"
   ]
  },
  {
   "cell_type": "code",
   "execution_count": 38,
   "metadata": {},
   "outputs": [
    {
     "data": {
      "text/plain": [
       "array([6.37989524e-01, 4.21093682e-02, 3.01133355e-03, 1.92715191e-02,\n",
       "       9.32073362e-03, 2.33354561e-02, 1.66472709e-01, 0.00000000e+00,\n",
       "       9.49959467e-05, 0.00000000e+00, 9.83943600e-02, 0.00000000e+00])"
      ]
     },
     "execution_count": 38,
     "metadata": {},
     "output_type": "execute_result"
    }
   ],
   "source": [
    "rf_no_weather.feature_importances_"
   ]
  },
  {
   "cell_type": "code",
   "execution_count": 47,
   "metadata": {},
   "outputs": [
    {
     "data": {
      "text/plain": [
       "array([0.80173075, 0.10702854, 0.04643663, 0.0296339 , 0.01517018])"
      ]
     },
     "execution_count": 47,
     "metadata": {},
     "output_type": "execute_result"
    }
   ],
   "source": [
    "rf_no_weather2.feature_importances_"
   ]
  },
  {
   "cell_type": "code",
   "execution_count": 67,
   "metadata": {},
   "outputs": [],
   "source": [
    "from sklearn.linear_model import LinearRegression"
   ]
  },
  {
   "cell_type": "code",
   "execution_count": 51,
   "metadata": {},
   "outputs": [
    {
     "data": {
      "text/plain": [
       "LinearRegression()"
      ]
     },
     "execution_count": 51,
     "metadata": {},
     "output_type": "execute_result"
    }
   ],
   "source": [
    "# fit a linear regression model\n",
    "lin_reg_no_weather = LinearRegression()\n",
    "lin_reg_no_weather.fit(design_matrix_1, train_target)"
   ]
  },
  {
   "cell_type": "code",
   "execution_count": 52,
   "metadata": {},
   "outputs": [
    {
     "name": "stdout",
     "output_type": "stream",
     "text": [
      "210.72648555582177\n",
      "351.8608638048394\n"
     ]
    }
   ],
   "source": [
    "predicted_lin = lin_reg_no_weather.predict(test_matrix_1)\n",
    "lin_reg_mae_error = mean_absolute_error(test_target, predicted_lin)\n",
    "lin_reg_mse_error = mean_squared_error(test_target, predicted_lin, squared = False)\n",
    "\n",
    "print(lin_reg_mae_error)\n",
    "print(lin_reg_mse_error)"
   ]
  },
  {
   "cell_type": "markdown",
   "metadata": {},
   "source": [
    "Looking at the feature importance, we see that some of the features dont m ean very much since the weights are given as 0. which means the feature is not very important.\n",
    "\n"
   ]
  },
  {
   "cell_type": "code",
   "execution_count": 73,
   "metadata": {},
   "outputs": [],
   "source": [
    "filename = 'models/rf_noweather_{}.sav'.format(\"route1\")"
   ]
  },
  {
   "cell_type": "code",
   "execution_count": 74,
   "metadata": {},
   "outputs": [],
   "source": [
    "# save the model as a pickel file\n",
    "pickle.dump(rf_no_weather, open(filename, 'wb'))"
   ]
  },
  {
   "cell_type": "code",
   "execution_count": 63,
   "metadata": {},
   "outputs": [],
   "source": [
    "# load the model from disk\n",
    "# loaded_model = joblib.load(filename)"
   ]
  },
  {
   "cell_type": "code",
   "execution_count": 24,
   "metadata": {
    "collapsed": true
   },
   "outputs": [
    {
     "data": {
      "text/html": [
       "<div>\n",
       "<style scoped>\n",
       "    .dataframe tbody tr th:only-of-type {\n",
       "        vertical-align: middle;\n",
       "    }\n",
       "\n",
       "    .dataframe tbody tr th {\n",
       "        vertical-align: top;\n",
       "    }\n",
       "\n",
       "    .dataframe thead th {\n",
       "        text-align: right;\n",
       "    }\n",
       "</style>\n",
       "<table border=\"1\" class=\"dataframe\">\n",
       "  <thead>\n",
       "    <tr style=\"text-align: right;\">\n",
       "      <th></th>\n",
       "      <th>dt</th>\n",
       "      <th>dt_iso</th>\n",
       "      <th>timezone</th>\n",
       "      <th>temp</th>\n",
       "      <th>feels_like</th>\n",
       "      <th>temp_min</th>\n",
       "      <th>temp_max</th>\n",
       "      <th>pressure</th>\n",
       "      <th>humidity</th>\n",
       "      <th>wind_speed</th>\n",
       "      <th>wind_deg</th>\n",
       "      <th>rain_1h</th>\n",
       "      <th>snow_1h</th>\n",
       "      <th>clouds_all</th>\n",
       "      <th>weather_id</th>\n",
       "      <th>weather_main</th>\n",
       "      <th>weather_description</th>\n",
       "      <th>weather_icon</th>\n",
       "    </tr>\n",
       "  </thead>\n",
       "  <tbody>\n",
       "    <tr>\n",
       "      <th>0</th>\n",
       "      <td>2017-12-31 00:00:00</td>\n",
       "      <td>2017-12-31 00:00:00 +0000 UTC</td>\n",
       "      <td>0</td>\n",
       "      <td>283.06</td>\n",
       "      <td>279.56</td>\n",
       "      <td>281.150</td>\n",
       "      <td>285.150</td>\n",
       "      <td>983</td>\n",
       "      <td>93</td>\n",
       "      <td>4.63</td>\n",
       "      <td>140</td>\n",
       "      <td>NaN</td>\n",
       "      <td>NaN</td>\n",
       "      <td>75</td>\n",
       "      <td>803</td>\n",
       "      <td>Clouds</td>\n",
       "      <td>broken clouds</td>\n",
       "      <td>04n</td>\n",
       "    </tr>\n",
       "    <tr>\n",
       "      <th>1</th>\n",
       "      <td>2017-12-31 01:00:00</td>\n",
       "      <td>2017-12-31 01:00:00 +0000 UTC</td>\n",
       "      <td>0</td>\n",
       "      <td>284.24</td>\n",
       "      <td>274.44</td>\n",
       "      <td>284.150</td>\n",
       "      <td>284.716</td>\n",
       "      <td>983</td>\n",
       "      <td>82</td>\n",
       "      <td>13.38</td>\n",
       "      <td>230</td>\n",
       "      <td>NaN</td>\n",
       "      <td>NaN</td>\n",
       "      <td>75</td>\n",
       "      <td>803</td>\n",
       "      <td>Clouds</td>\n",
       "      <td>broken clouds</td>\n",
       "      <td>04n</td>\n",
       "    </tr>\n",
       "    <tr>\n",
       "      <th>2</th>\n",
       "      <td>2017-12-31 02:00:00</td>\n",
       "      <td>2017-12-31 02:00:00 +0000 UTC</td>\n",
       "      <td>0</td>\n",
       "      <td>284.16</td>\n",
       "      <td>275.52</td>\n",
       "      <td>283.662</td>\n",
       "      <td>284.669</td>\n",
       "      <td>982</td>\n",
       "      <td>76</td>\n",
       "      <td>11.32</td>\n",
       "      <td>220</td>\n",
       "      <td>NaN</td>\n",
       "      <td>NaN</td>\n",
       "      <td>75</td>\n",
       "      <td>803</td>\n",
       "      <td>Clouds</td>\n",
       "      <td>broken clouds</td>\n",
       "      <td>04n</td>\n",
       "    </tr>\n",
       "    <tr>\n",
       "      <th>3</th>\n",
       "      <td>2017-12-31 03:00:00</td>\n",
       "      <td>2017-12-31 03:00:00 +0000 UTC</td>\n",
       "      <td>0</td>\n",
       "      <td>283.14</td>\n",
       "      <td>271.20</td>\n",
       "      <td>282.423</td>\n",
       "      <td>283.726</td>\n",
       "      <td>983</td>\n",
       "      <td>62</td>\n",
       "      <td>14.92</td>\n",
       "      <td>240</td>\n",
       "      <td>NaN</td>\n",
       "      <td>NaN</td>\n",
       "      <td>75</td>\n",
       "      <td>803</td>\n",
       "      <td>Clouds</td>\n",
       "      <td>broken clouds</td>\n",
       "      <td>04n</td>\n",
       "    </tr>\n",
       "    <tr>\n",
       "      <th>4</th>\n",
       "      <td>2017-12-31 04:00:00</td>\n",
       "      <td>2017-12-31 04:00:00 +0000 UTC</td>\n",
       "      <td>0</td>\n",
       "      <td>281.75</td>\n",
       "      <td>268.11</td>\n",
       "      <td>281.150</td>\n",
       "      <td>282.742</td>\n",
       "      <td>984</td>\n",
       "      <td>61</td>\n",
       "      <td>16.98</td>\n",
       "      <td>240</td>\n",
       "      <td>NaN</td>\n",
       "      <td>NaN</td>\n",
       "      <td>75</td>\n",
       "      <td>803</td>\n",
       "      <td>Clouds</td>\n",
       "      <td>broken clouds</td>\n",
       "      <td>04n</td>\n",
       "    </tr>\n",
       "  </tbody>\n",
       "</table>\n",
       "</div>"
      ],
      "text/plain": [
       "                   dt                         dt_iso  timezone    temp  \\\n",
       "0 2017-12-31 00:00:00  2017-12-31 00:00:00 +0000 UTC         0  283.06   \n",
       "1 2017-12-31 01:00:00  2017-12-31 01:00:00 +0000 UTC         0  284.24   \n",
       "2 2017-12-31 02:00:00  2017-12-31 02:00:00 +0000 UTC         0  284.16   \n",
       "3 2017-12-31 03:00:00  2017-12-31 03:00:00 +0000 UTC         0  283.14   \n",
       "4 2017-12-31 04:00:00  2017-12-31 04:00:00 +0000 UTC         0  281.75   \n",
       "\n",
       "   feels_like  temp_min  temp_max  pressure  humidity  wind_speed  wind_deg  \\\n",
       "0      279.56   281.150   285.150       983        93        4.63       140   \n",
       "1      274.44   284.150   284.716       983        82       13.38       230   \n",
       "2      275.52   283.662   284.669       982        76       11.32       220   \n",
       "3      271.20   282.423   283.726       983        62       14.92       240   \n",
       "4      268.11   281.150   282.742       984        61       16.98       240   \n",
       "\n",
       "   rain_1h  snow_1h  clouds_all  weather_id weather_main weather_description  \\\n",
       "0      NaN      NaN          75         803       Clouds       broken clouds   \n",
       "1      NaN      NaN          75         803       Clouds       broken clouds   \n",
       "2      NaN      NaN          75         803       Clouds       broken clouds   \n",
       "3      NaN      NaN          75         803       Clouds       broken clouds   \n",
       "4      NaN      NaN          75         803       Clouds       broken clouds   \n",
       "\n",
       "  weather_icon  \n",
       "0          04n  \n",
       "1          04n  \n",
       "2          04n  \n",
       "3          04n  \n",
       "4          04n  "
      ]
     },
     "execution_count": 24,
     "metadata": {},
     "output_type": "execute_result"
    }
   ],
   "source": [
    "weather_df.head()"
   ]
  },
  {
   "cell_type": "code",
   "execution_count": 25,
   "metadata": {},
   "outputs": [
    {
     "data": {
      "text/plain": [
       "(1336960, 20)"
      ]
     },
     "execution_count": 25,
     "metadata": {},
     "output_type": "execute_result"
    }
   ],
   "source": [
    "route_pd_df.shape"
   ]
  },
  {
   "cell_type": "code",
   "execution_count": 57,
   "metadata": {},
   "outputs": [],
   "source": [
    "total_df = pd.merge(route_pd_df, weather_df, left_on = \"date_and_time\", right_on = \"dt\")"
   ]
  },
  {
   "cell_type": "code",
   "execution_count": 31,
   "metadata": {},
   "outputs": [
    {
     "data": {
      "text/plain": [
       "(998581, 40)"
      ]
     },
     "execution_count": 31,
     "metadata": {},
     "output_type": "execute_result"
    }
   ],
   "source": [
    "total_df.shape"
   ]
  },
  {
   "cell_type": "code",
   "execution_count": 30,
   "metadata": {},
   "outputs": [],
   "source": [
    "total_df = total_df.drop_duplicates([\"TRIPID\", \"datetime_exact\"])"
   ]
  },
  {
   "cell_type": "markdown",
   "metadata": {},
   "source": [
    "From the features the trip features that we want to select are the same as the previous model,\n",
    "\n",
    "The weather data that we should extract would be temperature, rain_1h, weather_main,humidity"
   ]
  },
  {
   "cell_type": "code",
   "execution_count": 47,
   "metadata": {},
   "outputs": [
    {
     "data": {
      "text/plain": [
       "Index(['DAYOFSERVICE', 'TRIPID', 'PROGRNUMBER', 'STOPPOINTID',\n",
       "       'PLANNEDTIME_ARR', 'PLANNEDTIME_DEP', 'ACTUALTIME_ARR',\n",
       "       'ACTUALTIME_DEP', 'VEHICLEID', 'SUPPRESSED', 'JUSTIFICATIONID',\n",
       "       'LASTUPDATE', 'date_and_time', 'delay_amount', 'planned_arr_hours',\n",
       "       'planned_arr_minutes', 'day_of_week', 'holiday', 'suppressed_indicator',\n",
       "       'datetime_exact', 'dt', 'dt_iso', 'timezone', 'temp', 'feels_like',\n",
       "       'temp_min', 'temp_max', 'pressure', 'humidity', 'wind_speed',\n",
       "       'wind_deg', 'rain_1h', 'snow_1h', 'clouds_all', 'weather_id',\n",
       "       'weather_main', 'weather_description', 'weather_icon'],\n",
       "      dtype='object')"
      ]
     },
     "execution_count": 47,
     "metadata": {},
     "output_type": "execute_result"
    }
   ],
   "source": [
    "total_df.columns"
   ]
  },
  {
   "cell_type": "code",
   "execution_count": 34,
   "metadata": {},
   "outputs": [
    {
     "data": {
      "image/png": "[encoded data removed]",
      "text/plain": [
       "<Figure size 1080x1080 with 1 Axes>"
      ]
     },
     "metadata": {
      "needs_background": "light"
     },
     "output_type": "display_data"
    }
   ],
   "source": [
    "plt.figure(figsize = (15,15))\n",
    "plt.scatter(total_df[\"temp\"],total_df[\"delay_amount\"])\n",
    "plt.title(\"temperature against delay time\")\n",
    "plt.show()"
   ]
  },
  {
   "cell_type": "code",
   "execution_count": 35,
   "metadata": {},
   "outputs": [
    {
     "data": {
      "image/png": "[encoded data removed]",
      "text/plain": [
       "<Figure size 1080x1080 with 1 Axes>"
      ]
     },
     "metadata": {
      "needs_background": "light"
     },
     "output_type": "display_data"
    }
   ],
   "source": [
    "plt.figure(figsize = (15,15))\n",
    "plt.scatter(total_df[\"rain_1h\"],total_df[\"delay_amount\"])\n",
    "plt.title(\"rainfall against delay time\")\n",
    "plt.show()"
   ]
  },
  {
   "cell_type": "code",
   "execution_count": 36,
   "metadata": {},
   "outputs": [
    {
     "data": {
      "image/png": "[encoded data removed]",
      "text/plain": [
       "<Figure size 1080x1080 with 1 Axes>"
      ]
     },
     "metadata": {
      "needs_background": "light"
     },
     "output_type": "display_data"
    }
   ],
   "source": [
    "plt.figure(figsize = (15,15))\n",
    "plt.scatter(total_df[\"wind_speed\"],total_df[\"delay_amount\"])\n",
    "plt.title(\"wind speed against delay time\")\n",
    "plt.show()"
   ]
  },
  {
   "cell_type": "code",
   "execution_count": 16,
   "metadata": {},
   "outputs": [],
   "source": [
    "# load the encoders from disk\n",
    "loaded_encoder = joblib.load(\"models/days_of_week_one_hot_encoder.sav\")\n",
    "weather_encoder = joblib.load(\"models/weather_encoder.sav\")"
   ]
  },
  {
   "cell_type": "code",
   "execution_count": 37,
   "metadata": {},
   "outputs": [],
   "source": [
    "types_of_weather = list(total_df[\"weather_main\"].unique())"
   ]
  },
  {
   "cell_type": "code",
   "execution_count": 33,
   "metadata": {},
   "outputs": [
    {
     "data": {
      "image/png": "[encoded data removed]",
      "text/plain": [
       "<Figure size 1080x11520 with 8 Axes>"
      ]
     },
     "metadata": {
      "needs_background": "light"
     },
     "output_type": "display_data"
    }
   ],
   "source": [
    "fig, ax = plt.subplots(8, figsize = (15, 20*8))\n",
    "index = 0\n",
    "for element in types_of_weather:\n",
    "    data = total_df[total_df[\"weather_main\"] == element]\n",
    "    ax[index].hist(data[\"delay_amount\"], bins = 25, density = True)\n",
    "    ax[index].set_title(\"delay distribution with weather {}\".format(element))\n",
    "    index += 1\n",
    "\n",
    "fig.savefig(\"data/weather_distribution\")"
   ]
  },
  {
   "cell_type": "code",
   "execution_count": 38,
   "metadata": {},
   "outputs": [
    {
     "data": {
      "image/png": "[encoded data removed]",
      "text/plain": [
       "<Figure size 1080x1080 with 1 Axes>"
      ]
     },
     "metadata": {
      "needs_background": "light"
     },
     "output_type": "display_data"
    }
   ],
   "source": [
    "plt.figure(figsize = (15,15))\n",
    "plt.scatter(total_df[\"pressure\"],total_df[\"delay_amount\"])\n",
    "plt.title(\"pressure against delay time\")\n",
    "plt.show()"
   ]
  },
  {
   "cell_type": "code",
   "execution_count": 39,
   "metadata": {},
   "outputs": [
    {
     "data": {
      "image/png": "[encoded data removed]",
      "text/plain": [
       "<Figure size 1080x1080 with 1 Axes>"
      ]
     },
     "metadata": {
      "needs_background": "light"
     },
     "output_type": "display_data"
    }
   ],
   "source": [
    "plt.figure(figsize = (15,15))\n",
    "plt.scatter(total_df[\"humidity\"],total_df[\"delay_amount\"])\n",
    "plt.title(\"humidity against delay time\")\n",
    "plt.show()"
   ]
  },
  {
   "cell_type": "code",
   "execution_count": 77,
   "metadata": {},
   "outputs": [
    {
     "data": {
      "text/plain": [
       "['Rain', 'Clouds', 'Drizzle', 'Clear', 'Fog', 'Mist', 'Snow', 'Smoke']"
      ]
     },
     "execution_count": 77,
     "metadata": {},
     "output_type": "execute_result"
    }
   ],
   "source": [
    "types_of_weather"
   ]
  },
  {
   "cell_type": "code",
   "execution_count": 80,
   "metadata": {},
   "outputs": [
    {
     "data": {
      "text/plain": [
       "OneHotEncoder(handle_unknown='ignore')"
      ]
     },
     "execution_count": 80,
     "metadata": {},
     "output_type": "execute_result"
    }
   ],
   "source": [
    "# save the weather encoder\n",
    "weather_ohc = OneHotEncoder(handle_unknown=\"ignore\")\n",
    "weather_ohc.fit(np.array(types_of_weather).reshape(-1,1))\n",
    "pickle.dump(weather_ohc, open(\"models/weather_encoder.sav\", 'wb'))"
   ]
  },
  {
   "cell_type": "code",
   "execution_count": 81,
   "metadata": {},
   "outputs": [],
   "source": [
    "pickle.dump(weather_ohc, open(\"models/weather_encoder.sav\", 'wb'))"
   ]
  },
  {
   "cell_type": "code",
   "execution_count": 101,
   "metadata": {
    "collapsed": true
   },
   "outputs": [
    {
     "name": "stdout",
     "output_type": "stream",
     "text": [
      "<class 'pandas.core.frame.DataFrame'>\n",
      "RangeIndex: 8848 entries, 0 to 8847\n",
      "Data columns (total 18 columns):\n",
      " #   Column               Non-Null Count  Dtype         \n",
      "---  ------               --------------  -----         \n",
      " 0   dt                   8848 non-null   datetime64[ns]\n",
      " 1   dt_iso               8848 non-null   object        \n",
      " 2   timezone             8848 non-null   int64         \n",
      " 3   temp                 8848 non-null   float64       \n",
      " 4   feels_like           8848 non-null   float64       \n",
      " 5   temp_min             8848 non-null   float64       \n",
      " 6   temp_max             8848 non-null   float64       \n",
      " 7   pressure             8848 non-null   int64         \n",
      " 8   humidity             8848 non-null   int64         \n",
      " 9   wind_speed           8848 non-null   float64       \n",
      " 10  wind_deg             8848 non-null   int64         \n",
      " 11  rain_1h              1327 non-null   float64       \n",
      " 12  snow_1h              65 non-null     float64       \n",
      " 13  clouds_all           8848 non-null   int64         \n",
      " 14  weather_id           8848 non-null   int64         \n",
      " 15  weather_main         8848 non-null   category      \n",
      " 16  weather_description  8848 non-null   object        \n",
      " 17  weather_icon         8848 non-null   category      \n",
      "dtypes: category(2), datetime64[ns](1), float64(7), int64(6), object(2)\n",
      "memory usage: 1.1+ MB\n"
     ]
    }
   ],
   "source": [
    "weather_df.info()"
   ]
  },
  {
   "cell_type": "code",
   "execution_count": 113,
   "metadata": {},
   "outputs": [
    {
     "data": {
      "text/plain": [
       "count    8848.000000\n",
       "mean        0.090674\n",
       "std         0.295046\n",
       "min         0.000000\n",
       "25%         0.000000\n",
       "50%         0.000000\n",
       "75%         0.000000\n",
       "max         5.080000\n",
       "Name: rain_1h, dtype: float64"
      ]
     },
     "execution_count": 113,
     "metadata": {},
     "output_type": "execute_result"
    }
   ],
   "source": [
    "weather_df[\"rain_1h\"].describe()"
   ]
  },
  {
   "cell_type": "code",
   "execution_count": 59,
   "metadata": {},
   "outputs": [],
   "source": [
    "weather_train_df = total_df[total_df[\"time_proportion\"] <= 0.7]\n",
    "weather_test_df = total_df[total_df[\"time_proportion\"] > 0.7]\n",
    "\n",
    "weather_train_no_out = weather_train_df[weather_train_df[\"delay_amount\"] < 1800]"
   ]
  },
  {
   "cell_type": "code",
   "execution_count": 60,
   "metadata": {},
   "outputs": [
    {
     "name": "stderr",
     "output_type": "stream",
     "text": [
      "<ipython-input-60-bca53b7ecfc2>:3: SettingWithCopyWarning: \n",
      "A value is trying to be set on a copy of a slice from a DataFrame.\n",
      "Try using .loc[row_indexer,col_indexer] = value instead\n",
      "\n",
      "See the caveats in the documentation: https://pandas.pydata.org/pandas-docs/stable/user_guide/indexing.html#returning-a-view-versus-a-copy\n",
      "  weather_train_no_out[\"encoded_weekdays\"] = weather_train_no_out[\"day_of_week\"].replace({\"Monday\":1, \"Tuesday\":2, \"Wednesday\":3, \"Thursday\":4, \"Friday\":5, \"Saturday\":6, \"Sunday\":7})\n",
      "<ipython-input-60-bca53b7ecfc2>:4: SettingWithCopyWarning: \n",
      "A value is trying to be set on a copy of a slice from a DataFrame.\n",
      "Try using .loc[row_indexer,col_indexer] = value instead\n",
      "\n",
      "See the caveats in the documentation: https://pandas.pydata.org/pandas-docs/stable/user_guide/indexing.html#returning-a-view-versus-a-copy\n",
      "  weather_test_df[\"encoded_weekdays\"] = weather_test_df[\"day_of_week\"].replace({\"Monday\":1, \"Tuesday\":2, \"Wednesday\":3, \"Thursday\":4, \"Friday\":5, \"Saturday\":6, \"Sunday\":7})\n"
     ]
    }
   ],
   "source": [
    "# extract the features we want\n",
    "\n",
    "weather_train_no_out[\"encoded_weekdays\"] = weather_train_no_out[\"day_of_week\"].replace({\"Monday\":1, \"Tuesday\":2, \"Wednesday\":3, \"Thursday\":4, \"Friday\":5, \"Saturday\":6, \"Sunday\":7})\n",
    "weather_test_df[\"encoded_weekdays\"] = weather_test_df[\"day_of_week\"].replace({\"Monday\":1, \"Tuesday\":2, \"Wednesday\":3, \"Thursday\":4, \"Friday\":5, \"Saturday\":6, \"Sunday\":7})\n",
    "\n",
    "weather_train_target = weather_train_no_out[\"delay_amount\"]\n",
    "weather_test_target = weather_test_df[\"delay_amount\"]\n",
    "training = weather_train_no_out[[\"PROGRNUMBER\", \"planned_arr_hours\", \"planned_arr_minutes\", \"holiday\",  \"DIRECTION\",\"rain_1h\", \"encoded_weekdays\", \"suppressed_id\"]]\n",
    "testing = weather_test_df[[\"PROGRNUMBER\", \"planned_arr_hours\", \"planned_arr_minutes\", \"holiday\",  \"DIRECTION\", \"rain_1h\", \"encoded_weekdays\", \"suppressed_id\"]]\n",
    "\n",
    "# load the model from disk\n",
    "loaded_encoder = joblib.load(\"models/days_of_week_one_hot_encoder.sav\")\n",
    "\n",
    "# if we one hot encode the days of the week\n",
    "train_days = loaded_encoder.transform(weather_train_no_out[\"day_of_week\"].values.reshape(-1,1))\n",
    "test_days = loaded_encoder.transform(weather_test_df[\"day_of_week\"].values.reshape(-1,1))\n",
    "\n",
    "\n",
    "\n",
    "# load the model from disk\n",
    "weather_encoder = joblib.load(\"models/days_of_week_one_hot_encoder.sav\")\n",
    "weather_train = weather_encoder.transform(np.array(list(weather_train_no_out[\"weather_main\"])).reshape(-1,1))\n",
    "weather_test = weather_encoder.transform(np.array(list(weather_test_df[\"weather_main\"])).reshape(-1,1))\n",
    "\n",
    "\n",
    "# creating the models training the model\n",
    "design_matrix_1 = np.concatenate((training.values, train_days.toarray(), weather_train.toarray()), axis = 1)\n",
    "test_matrix_1 = np.concatenate((testing.values, test_days.toarray(), weather_test.toarray()), axis = 1)\n",
    "\n",
    "design_matrix_2 = np.concatenate((training.values, weather_train.toarray()), axis = 1)\n",
    "test_matrix_2 = np.concatenate((testing.values, weather_test.toarray()), axis = 1)\n",
    "\n"
   ]
  },
  {
   "cell_type": "code",
   "execution_count": 61,
   "metadata": {},
   "outputs": [
    {
     "data": {
      "text/plain": [
       "(4444933, 22)"
      ]
     },
     "execution_count": 61,
     "metadata": {},
     "output_type": "execute_result"
    }
   ],
   "source": [
    "design_matrix_1.shape"
   ]
  },
  {
   "cell_type": "code",
   "execution_count": 35,
   "metadata": {},
   "outputs": [
    {
     "data": {
      "text/plain": [
       "(4121726, 14)"
      ]
     },
     "execution_count": 35,
     "metadata": {},
     "output_type": "execute_result"
    }
   ],
   "source": [
    "design_matrix_2.shape"
   ]
  },
  {
   "cell_type": "code",
   "execution_count": 47,
   "metadata": {},
   "outputs": [
    {
     "data": {
      "text/plain": [
       "0.0727135819595031"
      ]
     },
     "execution_count": 47,
     "metadata": {},
     "output_type": "execute_result"
    }
   ],
   "source": [
    "(-4121726 + 4444933)/4444933"
   ]
  },
  {
   "cell_type": "code",
   "execution_count": 62,
   "metadata": {},
   "outputs": [
    {
     "data": {
      "text/plain": [
       "RandomForestRegressor(max_depth=5, n_estimators=200, n_jobs=-1, oob_score=True)"
      ]
     },
     "execution_count": 62,
     "metadata": {},
     "output_type": "execute_result"
    }
   ],
   "source": [
    "rf_weather = RandomForestRegressor(n_estimators = 200, max_depth = 5, n_jobs = -1, oob_score = True)\n",
    "rf_weather.fit(design_matrix_1, weather_train_target)"
   ]
  },
  {
   "cell_type": "code",
   "execution_count": 65,
   "metadata": {},
   "outputs": [
    {
     "ename": "AttributeError",
     "evalue": "'RandomForestRegressor' object has no attribute 'feature_importance'",
     "output_type": "error",
     "traceback": [
      "\u001b[0;31m---------------------------------------------------------------------------\u001b[0m",
      "\u001b[0;31mAttributeError\u001b[0m                            Traceback (most recent call last)",
      "\u001b[0;32m<ipython-input-65-8e7eb2fd1aac>\u001b[0m in \u001b[0;36m<module>\u001b[0;34m\u001b[0m\n\u001b[0;32m----> 1\u001b[0;31m \u001b[0mrf_weather\u001b[0m\u001b[0;34m.\u001b[0m\u001b[0mfeature_importance\u001b[0m\u001b[0;34m\u001b[0m\u001b[0;34m\u001b[0m\u001b[0m\n\u001b[0m",
      "\u001b[0;31mAttributeError\u001b[0m: 'RandomForestRegressor' object has no attribute 'feature_importance'"
     ]
    }
   ],
   "source": [
    "rf_weather.feature_importance"
   ]
  },
  {
   "cell_type": "code",
   "execution_count": 54,
   "metadata": {},
   "outputs": [
    {
     "data": {
      "text/plain": [
       "RandomForestRegressor(max_depth=5, n_estimators=200, n_jobs=-1, oob_score=True)"
      ]
     },
     "execution_count": 54,
     "metadata": {},
     "output_type": "execute_result"
    }
   ],
   "source": [
    "rf_weather2 = RandomForestRegressor(n_estimators = 200, max_depth = 5, n_jobs = -1, oob_score = True)\n",
    "rf_weather2.fit(design_matrix_2, weather_train_target)"
   ]
  },
  {
   "cell_type": "code",
   "execution_count": 63,
   "metadata": {},
   "outputs": [
    {
     "name": "stdout",
     "output_type": "stream",
     "text": [
      "210.34724280338912\n",
      "302.10831939441175\n"
     ]
    }
   ],
   "source": [
    "predicted_values = rf_weather.predict(test_matrix_1)\n",
    "mae_error = mean_absolute_error(weather_test_target, predicted_values)\n",
    "print(mae_error)\n",
    "mse_error = mean_squared_error(weather_test_target, predicted_values, squared = False)\n",
    "print(mse_error)"
   ]
  },
  {
   "cell_type": "code",
   "execution_count": 64,
   "metadata": {},
   "outputs": [
    {
     "name": "stdout",
     "output_type": "stream",
     "text": [
      "132.98044920078414\n"
     ]
    }
   ],
   "source": [
    "print(predicted_values.mean())"
   ]
  },
  {
   "cell_type": "code",
   "execution_count": 78,
   "metadata": {},
   "outputs": [
    {
     "name": "stdout",
     "output_type": "stream",
     "text": [
      "150.16596758677477\n"
     ]
    }
   ],
   "source": [
    "print(weather_test_target.mean())"
   ]
  },
  {
   "cell_type": "code",
   "execution_count": 82,
   "metadata": {},
   "outputs": [
    {
     "data": {
      "text/plain": [
       "(array([2.16644933e-08, 0.00000000e+00, 0.00000000e+00, 1.08322467e-08,\n",
       "        0.00000000e+00, 2.16644933e-08, 8.23250746e-07, 3.14135153e-07,\n",
       "        2.38309426e-07, 4.23974134e-06, 3.45851971e-05, 2.14549977e-04,\n",
       "        1.32221436e-03, 1.38780794e-03, 5.82902690e-04, 2.60504700e-04,\n",
       "        9.78498505e-05, 3.72001015e-05, 1.46885265e-05, 7.13411765e-06]),\n",
       " array([-3245. , -2992.8, -2740.6, -2488.4, -2236.2, -1984. , -1731.8,\n",
       "        -1479.6, -1227.4,  -975.2,  -723. ,  -470.8,  -218.6,    33.6,\n",
       "          285.8,   538. ,   790.2,  1042.4,  1294.6,  1546.8,  1799. ]),\n",
       " <BarContainer object of 20 artists>)"
      ]
     },
     "execution_count": 82,
     "metadata": {},
     "output_type": "execute_result"
    },
    {
     "data": {
      "image/png": "[encoded data removed]",
      "text/plain": [
       "<Figure size 432x288 with 1 Axes>"
      ]
     },
     "metadata": {
      "needs_background": "light"
     },
     "output_type": "display_data"
    }
   ],
   "source": [
    "plt.hist(weather_test_target[weather_test_target < 1800], bins = 20, density = True)"
   ]
  },
  {
   "cell_type": "code",
   "execution_count": 40,
   "metadata": {},
   "outputs": [
    {
     "data": {
      "text/plain": [
       "(array([ 11817.,      0.,      0.,      0.,      0.,  13961.,   2404.,\n",
       "         11641.,  20248.,  28969.,   3624.,  12020., 109529.,  56435.,\n",
       "        501326., 810086.,  21882.,  80484., 141333.,   6888.]),\n",
       " array([-265.82847731, -242.67811481, -219.52775231, -196.37738981,\n",
       "        -173.22702731, -150.07666481, -126.92630231, -103.77593981,\n",
       "         -80.62557731,  -57.47521481,  -34.32485231,  -11.17448981,\n",
       "          11.97587268,   35.12623518,   58.27659768,   81.42696018,\n",
       "         104.57732268,  127.72768518,  150.87804768,  174.02841018,\n",
       "         197.17877268]),\n",
       " <BarContainer object of 20 artists>)"
      ]
     },
     "execution_count": 40,
     "metadata": {},
     "output_type": "execute_result"
    },
    {
     "data": {
      "image/png": "[encoded data removed]",
      "text/plain": [
       "<Figure size 432x288 with 1 Axes>"
      ]
     },
     "metadata": {
      "needs_background": "light"
     },
     "output_type": "display_data"
    }
   ],
   "source": [
    "import matplotlib.pyplot as plt\n",
    "plt.hist(predicted_values, bins = 20)"
   ]
  },
  {
   "cell_type": "code",
   "execution_count": 56,
   "metadata": {},
   "outputs": [
    {
     "name": "stdout",
     "output_type": "stream",
     "text": [
      "209.4288634361546\n",
      "304.4014695123909\n"
     ]
    }
   ],
   "source": [
    "predicted_values = rf_weather2.predict(test_matrix_2)\n",
    "mae_error = mean_absolute_error(weather_test_target, predicted_values)\n",
    "print(mae_error)\n",
    "mse_error = mean_squared_error(weather_test_target, predicted_values, squared = False)\n",
    "print(mse_error)"
   ]
  },
  {
   "cell_type": "code",
   "execution_count": 68,
   "metadata": {},
   "outputs": [
    {
     "data": {
      "text/plain": [
       "LinearRegression()"
      ]
     },
     "execution_count": 68,
     "metadata": {},
     "output_type": "execute_result"
    }
   ],
   "source": [
    "lin_reg_weather1 = LinearRegression()\n",
    "lin_reg_weather1.fit(design_matrix_1, weather_train_target)\n",
    "\n",
    "# lin_reg_weather2 = LinearRegression()\n",
    "# lin_reg_weather2.fit(design_matrix_2, weather_train_target)"
   ]
  },
  {
   "cell_type": "code",
   "execution_count": 69,
   "metadata": {},
   "outputs": [
    {
     "name": "stdout",
     "output_type": "stream",
     "text": [
      "217.2001788841863\n",
      "310.945711170025\n"
     ]
    }
   ],
   "source": [
    "lin_values1 = lin_reg_weather1.predict(test_matrix_1)\n",
    "mae_error = mean_absolute_error(weather_test_target, lin_values1)\n",
    "print(mae_error)\n",
    "mse_error = mean_squared_error(weather_test_target, lin_values1, squared = False)\n",
    "print(mse_error)"
   ]
  },
  {
   "cell_type": "code",
   "execution_count": 80,
   "metadata": {},
   "outputs": [
    {
     "name": "stdout",
     "output_type": "stream",
     "text": [
      "132.5401178596435\n"
     ]
    }
   ],
   "source": [
    "print(lin_values1.mean())"
   ]
  },
  {
   "cell_type": "code",
   "execution_count": 77,
   "metadata": {},
   "outputs": [
    {
     "data": {
      "image/png": "[encoded data removed]",
      "text/plain": [
       "<Figure size 432x288 with 1 Axes>"
      ]
     },
     "metadata": {
      "needs_background": "light"
     },
     "output_type": "display_data"
    }
   ],
   "source": [
    "plt.hist(lin_values1, bins = 20, density = True)\n",
    "plt.show()"
   ]
  },
  {
   "cell_type": "code",
   "execution_count": 75,
   "metadata": {},
   "outputs": [
    {
     "data": {
      "image/png": "[encoded data removed]",
      "text/plain": [
       "<Figure size 432x288 with 1 Axes>"
      ]
     },
     "metadata": {
      "needs_background": "light"
     },
     "output_type": "display_data"
    }
   ],
   "source": [
    "plt.hist(predicted_values, bins = 20, density = True)\n",
    "plt.show()"
   ]
  },
  {
   "cell_type": "code",
   "execution_count": 76,
   "metadata": {},
   "outputs": [
    {
     "data": {
      "image/png": "[encoded data removed]",
      "text/plain": [
       "<Figure size 432x288 with 1 Axes>"
      ]
     },
     "metadata": {
      "needs_background": "light"
     },
     "output_type": "display_data"
    }
   ],
   "source": [
    "plt.hist(weather_test_target, bins = 20, density = True)\n",
    "plt.show()"
   ]
  },
  {
   "cell_type": "code",
   "execution_count": 50,
   "metadata": {},
   "outputs": [
    {
     "name": "stdout",
     "output_type": "stream",
     "text": [
      "213.5566561167923\n",
      "310.18946379658104\n"
     ]
    }
   ],
   "source": [
    "lin_values2 = lin_reg_weather2.predict(test_matrix_2)\n",
    "mae_error = mean_absolute_error(weather_test_target, lin_values2)\n",
    "print(mae_error)\n",
    "mse_error = mean_squared_error(weather_test_target, lin_values2, squared = False)\n",
    "print(mse_error)"
   ]
  },
  {
   "cell_type": "code",
   "execution_count": 178,
   "metadata": {},
   "outputs": [],
   "source": [
    "from sklearn.linear_model import Ridge"
   ]
  },
  {
   "cell_type": "code",
   "execution_count": 179,
   "metadata": {},
   "outputs": [
    {
     "data": {
      "text/plain": [
       "Ridge(alpha=0.5)"
      ]
     },
     "execution_count": 179,
     "metadata": {},
     "output_type": "execute_result"
    }
   ],
   "source": [
    "ridge1 = Ridge(alpha = 0.5)\n",
    "ridge1.fit(design_matrix_1, weather_train_target)\n",
    "\n",
    "ridge2 = Ridge(alpha = 0.5)\n",
    "ridge2.fit(design_matrix_2, weather_train_target)"
   ]
  },
  {
   "cell_type": "code",
   "execution_count": 181,
   "metadata": {},
   "outputs": [
    {
     "name": "stdout",
     "output_type": "stream",
     "text": [
      "212.61148800440714\n",
      "349.2363176319028\n"
     ]
    }
   ],
   "source": [
    "predicted_values = ridge1.predict(test_matrix_1)\n",
    "mae_error = mean_absolute_error(weather_test_target, predicted_values)\n",
    "print(mae_error)\n",
    "mse_error = mean_squared_error(weather_test_target, predicted_values, squared = False)\n",
    "print(mse_error)"
   ]
  },
  {
   "cell_type": "code",
   "execution_count": 180,
   "metadata": {},
   "outputs": [
    {
     "name": "stdout",
     "output_type": "stream",
     "text": [
      "213.5280712097019\n",
      "352.30610737637136\n"
     ]
    }
   ],
   "source": [
    "predicted_values = ridge2.predict(test_matrix_2)\n",
    "mae_error = mean_absolute_error(weather_test_target, predicted_values)\n",
    "print(mae_error)\n",
    "mse_error = mean_squared_error(weather_test_target, predicted_values, squared = False)\n",
    "print(mse_error)"
   ]
  },
  {
   "cell_type": "code",
   "execution_count": null,
   "metadata": {},
   "outputs": [],
   "source": [
    "from sklearn import svm"
   ]
  },
  {
   "cell_type": "code",
   "execution_count": null,
   "metadata": {},
   "outputs": [],
   "source": [
    "# we could also use a svm for the regression task at hand.\n",
    "# but due to the large number of datapoints\n",
    "# the model may niot be such a good idea as it may crash in the training process.\n",
    "svm1 = svm.SVR(verbose = True)\n",
    "svm1.fit(design_matrix_1, weather_train_target)\n",
    "\n",
    "svm2 = svm.SVR(verbose = True)\n",
    "svm2.fit(design_matrix_2, weather_train_target)"
   ]
  },
  {
   "cell_type": "code",
   "execution_count": null,
   "metadata": {},
   "outputs": [],
   "source": []
  }
 ],
 "metadata": {
  "kernelspec": {
   "display_name": "Python 3",
   "language": "python",
   "name": "python3"
  },
  "language_info": {
   "codemirror_mode": {
    "name": "ipython",
    "version": 3
   },
   "file_extension": ".py",
   "mimetype": "text/x-python",
   "name": "python",
   "nbconvert_exporter": "python",
   "pygments_lexer": "ipython3",
   "version": "3.9.1"
  }
 },
 "nbformat": 4,
 "nbformat_minor": 4
}
