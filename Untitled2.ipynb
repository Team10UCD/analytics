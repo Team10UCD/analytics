{
 "cells": [
  {
   "cell_type": "code",
   "execution_count": 1,
   "metadata": {},
   "outputs": [],
   "source": [
    "import shutil, os"
   ]
  },
  {
   "cell_type": "code",
   "execution_count": 5,
   "metadata": {},
   "outputs": [],
   "source": [
    "for filename in os.listdir('./data'):\n",
    "    if filename[-3::] in ['png', 'pdf']:\n",
    "        f='./data/{}'.format(filename)\n",
    "        shutil.move(f, 'dest_folder')\n",
    "        "
   ]
  },
  {
   "cell_type": "code",
   "execution_count": 23,
   "metadata": {},
   "outputs": [
    {
     "data": {
      "text/plain": [
       "128"
      ]
     },
     "execution_count": 23,
     "metadata": {},
     "output_type": "execute_result"
    }
   ],
   "source": [
    "len([filename for filename in os.listdir('./data') if filename[-6::]=='pickle'])"
   ]
  },
  {
   "cell_type": "code",
   "execution_count": 16,
   "metadata": {},
   "outputs": [
    {
     "name": "stdout",
     "output_type": "stream",
     "text": [
      "Filesystem      Size  Used Avail Use% Mounted on\r\n",
      "udev             32G     0   32G   0% /dev\r\n",
      "tmpfs           6.3G  1.8M  6.3G   1% /run\r\n",
      "/dev/sda2       2.7T  2.5T  146G  95% /\r\n",
      "tmpfs            32G   72K   32G   1% /dev/shm\r\n",
      "tmpfs           5.0M     0  5.0M   0% /run/lock\r\n",
      "tmpfs            32G     0   32G   0% /sys/fs/cgroup\r\n",
      "/dev/sda1       511M  6.7M  505M   2% /boot/efi\r\n",
      "tmpfs           6.3G     0  6.3G   0% /run/user/1014\r\n",
      "tmpfs           6.3G     0  6.3G   0% /run/user/1020\r\n",
      "tmpfs           6.3G     0  6.3G   0% /run/user/1025\r\n",
      "tmpfs           6.3G     0  6.3G   0% /run/user/1030\r\n",
      "tmpfs           6.3G     0  6.3G   0% /run/user/1029\r\n",
      "tmpfs           6.3G     0  6.3G   0% /run/user/1022\r\n",
      "tmpfs           6.3G     0  6.3G   0% /run/user/1019\r\n",
      "tmpfs           6.3G     0  6.3G   0% /run/user/1027\r\n"
     ]
    }
   ],
   "source": [
    "!df -h"
   ]
  },
  {
   "cell_type": "code",
   "execution_count": null,
   "metadata": {},
   "outputs": [],
   "source": []
  }
 ],
 "metadata": {
  "kernelspec": {
   "display_name": "Python 3",
   "language": "python",
   "name": "python3"
  },
  "language_info": {
   "codemirror_mode": {
    "name": "ipython",
    "version": 3
   },
   "file_extension": ".py",
   "mimetype": "text/x-python",
   "name": "python",
   "nbconvert_exporter": "python",
   "pygments_lexer": "ipython3",
   "version": "3.9.1"
  }
 },
 "nbformat": 4,
 "nbformat_minor": 4
}
