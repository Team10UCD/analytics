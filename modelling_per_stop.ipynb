{
 "cells": [
  {
   "cell_type": "code",
   "execution_count": 57,
   "metadata": {},
   "outputs": [],
   "source": [
    "from dask import dataframe\n",
    "import pandas as pd\n",
    "from datetime import datetime, timedelta\n",
    "import matplotlib.pyplot as plt"
   ]
  },
  {
   "cell_type": "code",
   "execution_count": 2,
   "metadata": {},
   "outputs": [],
   "source": [
    "big_df = dataframe.read_csv(\"data/rt_leavetimes_DB_2018.txt\", sep = \";\")"
   ]
  },
  {
   "cell_type": "code",
   "execution_count": 26,
   "metadata": {},
   "outputs": [
    {
     "data": {
      "text/plain": [
       "4774"
      ]
     },
     "execution_count": 26,
     "metadata": {},
     "output_type": "execute_result"
    }
   ],
   "source": [
    "big_df[\"STOPPOINTID\"].nunique().compute()"
   ]
  },
  {
   "cell_type": "markdown",
   "metadata": {},
   "source": [
    "There are 4774 bus stops in this dataset. The dataset includes routes that are now hosted by go ahead ireland and dublin bus so might be an issue."
   ]
  },
  {
   "cell_type": "code",
   "execution_count": 27,
   "metadata": {},
   "outputs": [
    {
     "data": {
      "text/html": [
       "<div>\n",
       "<style scoped>\n",
       "    .dataframe tbody tr th:only-of-type {\n",
       "        vertical-align: middle;\n",
       "    }\n",
       "\n",
       "    .dataframe tbody tr th {\n",
       "        vertical-align: top;\n",
       "    }\n",
       "\n",
       "    .dataframe thead th {\n",
       "        text-align: right;\n",
       "    }\n",
       "</style>\n",
       "<table border=\"1\" class=\"dataframe\">\n",
       "  <thead>\n",
       "    <tr style=\"text-align: right;\">\n",
       "      <th></th>\n",
       "      <th>DATASOURCE</th>\n",
       "      <th>DAYOFSERVICE</th>\n",
       "      <th>TRIPID</th>\n",
       "      <th>PROGRNUMBER</th>\n",
       "      <th>STOPPOINTID</th>\n",
       "      <th>PLANNEDTIME_ARR</th>\n",
       "      <th>PLANNEDTIME_DEP</th>\n",
       "      <th>ACTUALTIME_ARR</th>\n",
       "      <th>ACTUALTIME_DEP</th>\n",
       "      <th>VEHICLEID</th>\n",
       "      <th>PASSENGERS</th>\n",
       "      <th>PASSENGERSIN</th>\n",
       "      <th>PASSENGERSOUT</th>\n",
       "      <th>DISTANCE</th>\n",
       "      <th>SUPPRESSED</th>\n",
       "      <th>JUSTIFICATIONID</th>\n",
       "      <th>LASTUPDATE</th>\n",
       "      <th>NOTE</th>\n",
       "    </tr>\n",
       "  </thead>\n",
       "  <tbody>\n",
       "    <tr>\n",
       "      <th>0</th>\n",
       "      <td>DB</td>\n",
       "      <td>01-JAN-18 00:00:00</td>\n",
       "      <td>5972116</td>\n",
       "      <td>12</td>\n",
       "      <td>119</td>\n",
       "      <td>48030</td>\n",
       "      <td>48030</td>\n",
       "      <td>48012</td>\n",
       "      <td>48012</td>\n",
       "      <td>2693211</td>\n",
       "      <td>NaN</td>\n",
       "      <td>NaN</td>\n",
       "      <td>NaN</td>\n",
       "      <td>NaN</td>\n",
       "      <td>NaN</td>\n",
       "      <td>NaN</td>\n",
       "      <td>08-JAN-18 17:21:10</td>\n",
       "      <td>NaN</td>\n",
       "    </tr>\n",
       "    <tr>\n",
       "      <th>1</th>\n",
       "      <td>DB</td>\n",
       "      <td>01-JAN-18 00:00:00</td>\n",
       "      <td>5966674</td>\n",
       "      <td>12</td>\n",
       "      <td>119</td>\n",
       "      <td>54001</td>\n",
       "      <td>54001</td>\n",
       "      <td>54023</td>\n",
       "      <td>54023</td>\n",
       "      <td>2693267</td>\n",
       "      <td>NaN</td>\n",
       "      <td>NaN</td>\n",
       "      <td>NaN</td>\n",
       "      <td>NaN</td>\n",
       "      <td>NaN</td>\n",
       "      <td>NaN</td>\n",
       "      <td>08-JAN-18 17:21:10</td>\n",
       "      <td>NaN</td>\n",
       "    </tr>\n",
       "    <tr>\n",
       "      <th>2</th>\n",
       "      <td>DB</td>\n",
       "      <td>01-JAN-18 00:00:00</td>\n",
       "      <td>5959105</td>\n",
       "      <td>12</td>\n",
       "      <td>119</td>\n",
       "      <td>60001</td>\n",
       "      <td>60001</td>\n",
       "      <td>59955</td>\n",
       "      <td>59955</td>\n",
       "      <td>2693263</td>\n",
       "      <td>NaN</td>\n",
       "      <td>NaN</td>\n",
       "      <td>NaN</td>\n",
       "      <td>NaN</td>\n",
       "      <td>NaN</td>\n",
       "      <td>NaN</td>\n",
       "      <td>08-JAN-18 17:21:10</td>\n",
       "      <td>NaN</td>\n",
       "    </tr>\n",
       "    <tr>\n",
       "      <th>3</th>\n",
       "      <td>DB</td>\n",
       "      <td>01-JAN-18 00:00:00</td>\n",
       "      <td>5966888</td>\n",
       "      <td>12</td>\n",
       "      <td>119</td>\n",
       "      <td>58801</td>\n",
       "      <td>58801</td>\n",
       "      <td>58771</td>\n",
       "      <td>58771</td>\n",
       "      <td>2693284</td>\n",
       "      <td>NaN</td>\n",
       "      <td>NaN</td>\n",
       "      <td>NaN</td>\n",
       "      <td>NaN</td>\n",
       "      <td>NaN</td>\n",
       "      <td>NaN</td>\n",
       "      <td>08-JAN-18 17:21:10</td>\n",
       "      <td>NaN</td>\n",
       "    </tr>\n",
       "    <tr>\n",
       "      <th>4</th>\n",
       "      <td>DB</td>\n",
       "      <td>01-JAN-18 00:00:00</td>\n",
       "      <td>5965960</td>\n",
       "      <td>12</td>\n",
       "      <td>119</td>\n",
       "      <td>56401</td>\n",
       "      <td>56401</td>\n",
       "      <td>56309</td>\n",
       "      <td>56323</td>\n",
       "      <td>2693209</td>\n",
       "      <td>NaN</td>\n",
       "      <td>NaN</td>\n",
       "      <td>NaN</td>\n",
       "      <td>NaN</td>\n",
       "      <td>NaN</td>\n",
       "      <td>NaN</td>\n",
       "      <td>08-JAN-18 17:21:10</td>\n",
       "      <td>NaN</td>\n",
       "    </tr>\n",
       "  </tbody>\n",
       "</table>\n",
       "</div>"
      ],
      "text/plain": [
       "  DATASOURCE        DAYOFSERVICE   TRIPID  PROGRNUMBER  STOPPOINTID  \\\n",
       "0         DB  01-JAN-18 00:00:00  5972116           12          119   \n",
       "1         DB  01-JAN-18 00:00:00  5966674           12          119   \n",
       "2         DB  01-JAN-18 00:00:00  5959105           12          119   \n",
       "3         DB  01-JAN-18 00:00:00  5966888           12          119   \n",
       "4         DB  01-JAN-18 00:00:00  5965960           12          119   \n",
       "\n",
       "   PLANNEDTIME_ARR  PLANNEDTIME_DEP  ACTUALTIME_ARR  ACTUALTIME_DEP  \\\n",
       "0            48030            48030           48012           48012   \n",
       "1            54001            54001           54023           54023   \n",
       "2            60001            60001           59955           59955   \n",
       "3            58801            58801           58771           58771   \n",
       "4            56401            56401           56309           56323   \n",
       "\n",
       "   VEHICLEID  PASSENGERS  PASSENGERSIN  PASSENGERSOUT  DISTANCE  SUPPRESSED  \\\n",
       "0    2693211         NaN           NaN            NaN       NaN         NaN   \n",
       "1    2693267         NaN           NaN            NaN       NaN         NaN   \n",
       "2    2693263         NaN           NaN            NaN       NaN         NaN   \n",
       "3    2693284         NaN           NaN            NaN       NaN         NaN   \n",
       "4    2693209         NaN           NaN            NaN       NaN         NaN   \n",
       "\n",
       "   JUSTIFICATIONID          LASTUPDATE  NOTE  \n",
       "0              NaN  08-JAN-18 17:21:10   NaN  \n",
       "1              NaN  08-JAN-18 17:21:10   NaN  \n",
       "2              NaN  08-JAN-18 17:21:10   NaN  \n",
       "3              NaN  08-JAN-18 17:21:10   NaN  \n",
       "4              NaN  08-JAN-18 17:21:10   NaN  "
      ]
     },
     "execution_count": 27,
     "metadata": {},
     "output_type": "execute_result"
    }
   ],
   "source": [
    "big_df.head()"
   ]
  },
  {
   "cell_type": "markdown",
   "metadata": {},
   "source": [
    "# if we use the first stop in the list"
   ]
  },
  {
   "cell_type": "code",
   "execution_count": 28,
   "metadata": {},
   "outputs": [],
   "source": [
    "stop_119_df = big_df[big_df[\"STOPPOINTID\"] == 119]"
   ]
  },
  {
   "cell_type": "code",
   "execution_count": 65,
   "metadata": {},
   "outputs": [],
   "source": [
    "stop_119_pd_df = stop_119_df.compute()\n",
    "stop_119_pd_df = stop_119_pd_df.reset_index(drop = True)"
   ]
  },
  {
   "cell_type": "code",
   "execution_count": 66,
   "metadata": {},
   "outputs": [
    {
     "data": {
      "text/plain": [
       "(104165, 18)"
      ]
     },
     "execution_count": 66,
     "metadata": {},
     "output_type": "execute_result"
    }
   ],
   "source": [
    "stop_119_pd_df.shape"
   ]
  },
  {
   "cell_type": "code",
   "execution_count": 67,
   "metadata": {},
   "outputs": [
    {
     "data": {
      "text/html": [
       "<div>\n",
       "<style scoped>\n",
       "    .dataframe tbody tr th:only-of-type {\n",
       "        vertical-align: middle;\n",
       "    }\n",
       "\n",
       "    .dataframe tbody tr th {\n",
       "        vertical-align: top;\n",
       "    }\n",
       "\n",
       "    .dataframe thead th {\n",
       "        text-align: right;\n",
       "    }\n",
       "</style>\n",
       "<table border=\"1\" class=\"dataframe\">\n",
       "  <thead>\n",
       "    <tr style=\"text-align: right;\">\n",
       "      <th></th>\n",
       "      <th>DATASOURCE</th>\n",
       "      <th>DAYOFSERVICE</th>\n",
       "      <th>TRIPID</th>\n",
       "      <th>PROGRNUMBER</th>\n",
       "      <th>STOPPOINTID</th>\n",
       "      <th>PLANNEDTIME_ARR</th>\n",
       "      <th>PLANNEDTIME_DEP</th>\n",
       "      <th>ACTUALTIME_ARR</th>\n",
       "      <th>ACTUALTIME_DEP</th>\n",
       "      <th>VEHICLEID</th>\n",
       "      <th>PASSENGERS</th>\n",
       "      <th>PASSENGERSIN</th>\n",
       "      <th>PASSENGERSOUT</th>\n",
       "      <th>DISTANCE</th>\n",
       "      <th>SUPPRESSED</th>\n",
       "      <th>JUSTIFICATIONID</th>\n",
       "      <th>LASTUPDATE</th>\n",
       "      <th>NOTE</th>\n",
       "    </tr>\n",
       "  </thead>\n",
       "  <tbody>\n",
       "    <tr>\n",
       "      <th>0</th>\n",
       "      <td>DB</td>\n",
       "      <td>01-JAN-18 00:00:00</td>\n",
       "      <td>5972116</td>\n",
       "      <td>12</td>\n",
       "      <td>119</td>\n",
       "      <td>48030</td>\n",
       "      <td>48030</td>\n",
       "      <td>48012</td>\n",
       "      <td>48012</td>\n",
       "      <td>2693211</td>\n",
       "      <td>NaN</td>\n",
       "      <td>NaN</td>\n",
       "      <td>NaN</td>\n",
       "      <td>NaN</td>\n",
       "      <td>NaN</td>\n",
       "      <td>NaN</td>\n",
       "      <td>08-JAN-18 17:21:10</td>\n",
       "      <td>NaN</td>\n",
       "    </tr>\n",
       "    <tr>\n",
       "      <th>1</th>\n",
       "      <td>DB</td>\n",
       "      <td>01-JAN-18 00:00:00</td>\n",
       "      <td>5966674</td>\n",
       "      <td>12</td>\n",
       "      <td>119</td>\n",
       "      <td>54001</td>\n",
       "      <td>54001</td>\n",
       "      <td>54023</td>\n",
       "      <td>54023</td>\n",
       "      <td>2693267</td>\n",
       "      <td>NaN</td>\n",
       "      <td>NaN</td>\n",
       "      <td>NaN</td>\n",
       "      <td>NaN</td>\n",
       "      <td>NaN</td>\n",
       "      <td>NaN</td>\n",
       "      <td>08-JAN-18 17:21:10</td>\n",
       "      <td>NaN</td>\n",
       "    </tr>\n",
       "    <tr>\n",
       "      <th>2</th>\n",
       "      <td>DB</td>\n",
       "      <td>01-JAN-18 00:00:00</td>\n",
       "      <td>5959105</td>\n",
       "      <td>12</td>\n",
       "      <td>119</td>\n",
       "      <td>60001</td>\n",
       "      <td>60001</td>\n",
       "      <td>59955</td>\n",
       "      <td>59955</td>\n",
       "      <td>2693263</td>\n",
       "      <td>NaN</td>\n",
       "      <td>NaN</td>\n",
       "      <td>NaN</td>\n",
       "      <td>NaN</td>\n",
       "      <td>NaN</td>\n",
       "      <td>NaN</td>\n",
       "      <td>08-JAN-18 17:21:10</td>\n",
       "      <td>NaN</td>\n",
       "    </tr>\n",
       "    <tr>\n",
       "      <th>3</th>\n",
       "      <td>DB</td>\n",
       "      <td>01-JAN-18 00:00:00</td>\n",
       "      <td>5966888</td>\n",
       "      <td>12</td>\n",
       "      <td>119</td>\n",
       "      <td>58801</td>\n",
       "      <td>58801</td>\n",
       "      <td>58771</td>\n",
       "      <td>58771</td>\n",
       "      <td>2693284</td>\n",
       "      <td>NaN</td>\n",
       "      <td>NaN</td>\n",
       "      <td>NaN</td>\n",
       "      <td>NaN</td>\n",
       "      <td>NaN</td>\n",
       "      <td>NaN</td>\n",
       "      <td>08-JAN-18 17:21:10</td>\n",
       "      <td>NaN</td>\n",
       "    </tr>\n",
       "    <tr>\n",
       "      <th>4</th>\n",
       "      <td>DB</td>\n",
       "      <td>01-JAN-18 00:00:00</td>\n",
       "      <td>5965960</td>\n",
       "      <td>12</td>\n",
       "      <td>119</td>\n",
       "      <td>56401</td>\n",
       "      <td>56401</td>\n",
       "      <td>56309</td>\n",
       "      <td>56323</td>\n",
       "      <td>2693209</td>\n",
       "      <td>NaN</td>\n",
       "      <td>NaN</td>\n",
       "      <td>NaN</td>\n",
       "      <td>NaN</td>\n",
       "      <td>NaN</td>\n",
       "      <td>NaN</td>\n",
       "      <td>08-JAN-18 17:21:10</td>\n",
       "      <td>NaN</td>\n",
       "    </tr>\n",
       "  </tbody>\n",
       "</table>\n",
       "</div>"
      ],
      "text/plain": [
       "  DATASOURCE        DAYOFSERVICE   TRIPID  PROGRNUMBER  STOPPOINTID  \\\n",
       "0         DB  01-JAN-18 00:00:00  5972116           12          119   \n",
       "1         DB  01-JAN-18 00:00:00  5966674           12          119   \n",
       "2         DB  01-JAN-18 00:00:00  5959105           12          119   \n",
       "3         DB  01-JAN-18 00:00:00  5966888           12          119   \n",
       "4         DB  01-JAN-18 00:00:00  5965960           12          119   \n",
       "\n",
       "   PLANNEDTIME_ARR  PLANNEDTIME_DEP  ACTUALTIME_ARR  ACTUALTIME_DEP  \\\n",
       "0            48030            48030           48012           48012   \n",
       "1            54001            54001           54023           54023   \n",
       "2            60001            60001           59955           59955   \n",
       "3            58801            58801           58771           58771   \n",
       "4            56401            56401           56309           56323   \n",
       "\n",
       "   VEHICLEID  PASSENGERS  PASSENGERSIN  PASSENGERSOUT  DISTANCE  SUPPRESSED  \\\n",
       "0    2693211         NaN           NaN            NaN       NaN         NaN   \n",
       "1    2693267         NaN           NaN            NaN       NaN         NaN   \n",
       "2    2693263         NaN           NaN            NaN       NaN         NaN   \n",
       "3    2693284         NaN           NaN            NaN       NaN         NaN   \n",
       "4    2693209         NaN           NaN            NaN       NaN         NaN   \n",
       "\n",
       "   JUSTIFICATIONID          LASTUPDATE  NOTE  \n",
       "0              NaN  08-JAN-18 17:21:10   NaN  \n",
       "1              NaN  08-JAN-18 17:21:10   NaN  \n",
       "2              NaN  08-JAN-18 17:21:10   NaN  \n",
       "3              NaN  08-JAN-18 17:21:10   NaN  \n",
       "4              NaN  08-JAN-18 17:21:10   NaN  "
      ]
     },
     "execution_count": 67,
     "metadata": {},
     "output_type": "execute_result"
    }
   ],
   "source": [
    "stop_119_pd_df.head()"
   ]
  },
  {
   "cell_type": "code",
   "execution_count": 68,
   "metadata": {},
   "outputs": [],
   "source": [
    "stop_119_pd_df = stop_119_pd_df.drop([\"PASSENGERS\", \"PASSENGERSIN\", \"PASSENGERSOUT\", \"DISTANCE\", \"NOTE\"], axis = 1)"
   ]
  },
  {
   "cell_type": "code",
   "execution_count": 69,
   "metadata": {},
   "outputs": [
    {
     "data": {
      "text/html": [
       "<div>\n",
       "<style scoped>\n",
       "    .dataframe tbody tr th:only-of-type {\n",
       "        vertical-align: middle;\n",
       "    }\n",
       "\n",
       "    .dataframe tbody tr th {\n",
       "        vertical-align: top;\n",
       "    }\n",
       "\n",
       "    .dataframe thead th {\n",
       "        text-align: right;\n",
       "    }\n",
       "</style>\n",
       "<table border=\"1\" class=\"dataframe\">\n",
       "  <thead>\n",
       "    <tr style=\"text-align: right;\">\n",
       "      <th></th>\n",
       "      <th>DATASOURCE</th>\n",
       "      <th>DAYOFSERVICE</th>\n",
       "      <th>TRIPID</th>\n",
       "      <th>PROGRNUMBER</th>\n",
       "      <th>STOPPOINTID</th>\n",
       "      <th>PLANNEDTIME_ARR</th>\n",
       "      <th>PLANNEDTIME_DEP</th>\n",
       "      <th>ACTUALTIME_ARR</th>\n",
       "      <th>ACTUALTIME_DEP</th>\n",
       "      <th>VEHICLEID</th>\n",
       "      <th>SUPPRESSED</th>\n",
       "      <th>JUSTIFICATIONID</th>\n",
       "      <th>LASTUPDATE</th>\n",
       "    </tr>\n",
       "  </thead>\n",
       "  <tbody>\n",
       "    <tr>\n",
       "      <th>0</th>\n",
       "      <td>DB</td>\n",
       "      <td>01-JAN-18 00:00:00</td>\n",
       "      <td>5972116</td>\n",
       "      <td>12</td>\n",
       "      <td>119</td>\n",
       "      <td>48030</td>\n",
       "      <td>48030</td>\n",
       "      <td>48012</td>\n",
       "      <td>48012</td>\n",
       "      <td>2693211</td>\n",
       "      <td>NaN</td>\n",
       "      <td>NaN</td>\n",
       "      <td>08-JAN-18 17:21:10</td>\n",
       "    </tr>\n",
       "    <tr>\n",
       "      <th>1</th>\n",
       "      <td>DB</td>\n",
       "      <td>01-JAN-18 00:00:00</td>\n",
       "      <td>5966674</td>\n",
       "      <td>12</td>\n",
       "      <td>119</td>\n",
       "      <td>54001</td>\n",
       "      <td>54001</td>\n",
       "      <td>54023</td>\n",
       "      <td>54023</td>\n",
       "      <td>2693267</td>\n",
       "      <td>NaN</td>\n",
       "      <td>NaN</td>\n",
       "      <td>08-JAN-18 17:21:10</td>\n",
       "    </tr>\n",
       "    <tr>\n",
       "      <th>2</th>\n",
       "      <td>DB</td>\n",
       "      <td>01-JAN-18 00:00:00</td>\n",
       "      <td>5959105</td>\n",
       "      <td>12</td>\n",
       "      <td>119</td>\n",
       "      <td>60001</td>\n",
       "      <td>60001</td>\n",
       "      <td>59955</td>\n",
       "      <td>59955</td>\n",
       "      <td>2693263</td>\n",
       "      <td>NaN</td>\n",
       "      <td>NaN</td>\n",
       "      <td>08-JAN-18 17:21:10</td>\n",
       "    </tr>\n",
       "    <tr>\n",
       "      <th>3</th>\n",
       "      <td>DB</td>\n",
       "      <td>01-JAN-18 00:00:00</td>\n",
       "      <td>5966888</td>\n",
       "      <td>12</td>\n",
       "      <td>119</td>\n",
       "      <td>58801</td>\n",
       "      <td>58801</td>\n",
       "      <td>58771</td>\n",
       "      <td>58771</td>\n",
       "      <td>2693284</td>\n",
       "      <td>NaN</td>\n",
       "      <td>NaN</td>\n",
       "      <td>08-JAN-18 17:21:10</td>\n",
       "    </tr>\n",
       "    <tr>\n",
       "      <th>4</th>\n",
       "      <td>DB</td>\n",
       "      <td>01-JAN-18 00:00:00</td>\n",
       "      <td>5965960</td>\n",
       "      <td>12</td>\n",
       "      <td>119</td>\n",
       "      <td>56401</td>\n",
       "      <td>56401</td>\n",
       "      <td>56309</td>\n",
       "      <td>56323</td>\n",
       "      <td>2693209</td>\n",
       "      <td>NaN</td>\n",
       "      <td>NaN</td>\n",
       "      <td>08-JAN-18 17:21:10</td>\n",
       "    </tr>\n",
       "  </tbody>\n",
       "</table>\n",
       "</div>"
      ],
      "text/plain": [
       "  DATASOURCE        DAYOFSERVICE   TRIPID  PROGRNUMBER  STOPPOINTID  \\\n",
       "0         DB  01-JAN-18 00:00:00  5972116           12          119   \n",
       "1         DB  01-JAN-18 00:00:00  5966674           12          119   \n",
       "2         DB  01-JAN-18 00:00:00  5959105           12          119   \n",
       "3         DB  01-JAN-18 00:00:00  5966888           12          119   \n",
       "4         DB  01-JAN-18 00:00:00  5965960           12          119   \n",
       "\n",
       "   PLANNEDTIME_ARR  PLANNEDTIME_DEP  ACTUALTIME_ARR  ACTUALTIME_DEP  \\\n",
       "0            48030            48030           48012           48012   \n",
       "1            54001            54001           54023           54023   \n",
       "2            60001            60001           59955           59955   \n",
       "3            58801            58801           58771           58771   \n",
       "4            56401            56401           56309           56323   \n",
       "\n",
       "   VEHICLEID  SUPPRESSED  JUSTIFICATIONID          LASTUPDATE  \n",
       "0    2693211         NaN              NaN  08-JAN-18 17:21:10  \n",
       "1    2693267         NaN              NaN  08-JAN-18 17:21:10  \n",
       "2    2693263         NaN              NaN  08-JAN-18 17:21:10  \n",
       "3    2693284         NaN              NaN  08-JAN-18 17:21:10  \n",
       "4    2693209         NaN              NaN  08-JAN-18 17:21:10  "
      ]
     },
     "execution_count": 69,
     "metadata": {},
     "output_type": "execute_result"
    }
   ],
   "source": [
    "stop_119_pd_df.head()"
   ]
  },
  {
   "cell_type": "code",
   "execution_count": 70,
   "metadata": {},
   "outputs": [],
   "source": [
    "stop_119_pd_df[\"DAYOFSERVICE\"] = pd.to_datetime(stop_119_pd_df[\"DAYOFSERVICE\"])\n",
    "stop_119_pd_df[\"LASTUPDATE\"] = pd.to_datetime(stop_119_pd_df[\"LASTUPDATE\"])\n",
    "\n",
    "# categorical things\n",
    "stop_119_pd_df[\"TRIPID\"] = stop_119_pd_df[\"TRIPID\"].astype(\"category\")\n",
    "stop_119_pd_df[\"VEHICLEID\"] = stop_119_pd_df[\"VEHICLEID\"].astype(\"category\")\n",
    "stop_119_pd_df[\"SUPPRESSED\"] = stop_119_pd_df[\"SUPPRESSED\"].astype(\"category\")\n",
    "stop_119_pd_df[\"STOPPOINTID\"] = stop_119_pd_df[\"STOPPOINTID\"].astype(\"category\")"
   ]
  },
  {
   "cell_type": "code",
   "execution_count": 71,
   "metadata": {},
   "outputs": [
    {
     "data": {
      "text/plain": [
       "RangeIndex(start=0, stop=104165, step=1)"
      ]
     },
     "execution_count": 71,
     "metadata": {},
     "output_type": "execute_result"
    }
   ],
   "source": [
    "stop_119_pd_df.index"
   ]
  },
  {
   "cell_type": "code",
   "execution_count": 72,
   "metadata": {
    "scrolled": true
   },
   "outputs": [],
   "source": [
    "# we need to merge the data for the route and the weather data\n",
    "#merge with respect to the time, and eazch hour\n",
    "# for example, 1:30 should be emrged with the data for 1:00 as weather\n",
    "# is on hourly basis\n",
    "\n",
    "# CREATE  a new feature in the routes that contains the hours so that we can \n",
    "# merge with the weather data\n",
    "route_time_planned = stop_119_pd_df[\"PLANNEDTIME_ARR\"]\n",
    "route_time_actual = stop_119_pd_df[\"ACTUALTIME_ARR\"]\n",
    "\n",
    "actual_time_hour = []\n",
    "expected_time_hour = []\n",
    "for i in range(len(route_time_actual)):\n",
    "    actual_time_hour.append(route_time_actual[i] // 3600)\n",
    "    expected_time_hour.append(route_time_planned[i] // 3600)\n",
    "\n",
    "actual_date = stop_119_pd_df[\"DAYOFSERVICE\"]\n",
    "\n",
    "# parse it into datetime with this  any hours\n",
    "date_time = []\n",
    "for i in range(len(actual_time_hour)):\n",
    "    new_datetime = actual_date[i] + timedelta(hours = int(actual_time_hour[i]))\n",
    "    date_time.append(new_datetime)\n",
    "    \n",
    "# add in the new column, \n",
    "# new column means that we can remove the other date column\n",
    "stop_119_pd_df[\"date_and_time\"] = date_time\n",
    "\n",
    "stop_119_pd_df[\"delay_amount\"] = stop_119_pd_df[\"ACTUALTIME_ARR\"] - stop_119_pd_df[\"PLANNEDTIME_ARR\"]\n",
    "\n",
    "#combined_df[\"planned_hour_arr\"]\n",
    "hours = stop_119_pd_df[\"PLANNEDTIME_ARR\"]//3600\n",
    "#combined_df[\"planned_minute_arr\"]\n",
    "\n",
    "minutes= (stop_119_pd_df[\"PLANNEDTIME_ARR\"]%3600) // 60\n",
    "\n",
    "stop_119_pd_df[\"planned_arr_hours\"] = hours\n",
    "stop_119_pd_df[\"planned_arr_minutes\"] = minutes\n",
    "# get the day of the week form the \n",
    "stop_119_pd_df[\"day_of_week\"] = stop_119_pd_df[\"DAYOFSERVICE\"].dt.day_name()"
   ]
  },
  {
   "cell_type": "code",
   "execution_count": 73,
   "metadata": {},
   "outputs": [],
   "source": [
    "def holiday(df):\n",
    "    holiday = [6,7,8, 12]\n",
    "    if df[\"DAYOFSERVICE\"].month in holiday:\n",
    "        return 1\n",
    "    elif df[\"DAYOFSERVICE\"].month == 3 and df[\"DAYOFSERVICE\"].day == 17:\n",
    "        return 1\n",
    "    elif df[\"DAYOFSERVICE\"].month == 1 and df[\"DAYOFSERVICE\"].day == 1:\n",
    "        return 1\n",
    "    elif df[\"DAYOFSERVICE\"].month == 5 and df[\"DAYOFSERVICE\"].day == 1:\n",
    "        return 1\n",
    "    else:\n",
    "        return 0\n",
    "    \n",
    "stop_119_pd_df[\"holiday\"] = stop_119_pd_df.apply(holiday, axis = 1)"
   ]
  },
  {
   "cell_type": "code",
   "execution_count": 74,
   "metadata": {},
   "outputs": [],
   "source": [
    "def seconds_to_time(n):\n",
    "    return timedelta(seconds=n)\n",
    "stop_119_pd_df[ \"datetime_exact\"] = stop_119_pd_df[\"DAYOFSERVICE\"] + pd.Series(map(seconds_to_time, stop_119_pd_df[\"PLANNEDTIME_ARR\"]), name=\"time\")"
   ]
  },
  {
   "cell_type": "code",
   "execution_count": 75,
   "metadata": {},
   "outputs": [],
   "source": [
    "trips_df = dataframe.read_csv(\"data/rt_trips_DB_2018.txt\", sep = \";\")\n",
    "trips_direction_df = trips_df[[\"TRIPID\", \"DIRECTION\"]].compute()\n",
    "stop_119_pd_df = pd.merge(stop_119_pd_df ,trips_direction_df ) "
   ]
  },
  {
   "cell_type": "code",
   "execution_count": 76,
   "metadata": {},
   "outputs": [
    {
     "data": {
      "text/plain": [
       "611859"
      ]
     },
     "execution_count": 76,
     "metadata": {},
     "output_type": "execute_result"
    }
   ],
   "source": [
    "len(stop_119_pd_df)"
   ]
  },
  {
   "cell_type": "code",
   "execution_count": 85,
   "metadata": {},
   "outputs": [],
   "source": [
    "stop_119_pd_df = stop_119_pd_df.drop_duplicates([\"TRIPID\", \"DAYOFSERVICE\"]).reset_index(drop=True)"
   ]
  },
  {
   "cell_type": "code",
   "execution_count": 94,
   "metadata": {},
   "outputs": [],
   "source": [
    "stop_119_pd_df[\"time_proportion\"] = (stop_119_pd_df[\"datetime_exact\"] - min(stop_119_pd_df[\"datetime_exact\"]))/(max(stop_119_pd_df[\"datetime_exact\"])- min(stop_119_pd_df[\"datetime_exact\"]))"
   ]
  },
  {
   "cell_type": "code",
   "execution_count": 95,
   "metadata": {},
   "outputs": [
    {
     "data": {
      "text/html": [
       "<div>\n",
       "<style scoped>\n",
       "    .dataframe tbody tr th:only-of-type {\n",
       "        vertical-align: middle;\n",
       "    }\n",
       "\n",
       "    .dataframe tbody tr th {\n",
       "        vertical-align: top;\n",
       "    }\n",
       "\n",
       "    .dataframe thead th {\n",
       "        text-align: right;\n",
       "    }\n",
       "</style>\n",
       "<table border=\"1\" class=\"dataframe\">\n",
       "  <thead>\n",
       "    <tr style=\"text-align: right;\">\n",
       "      <th></th>\n",
       "      <th>DATASOURCE</th>\n",
       "      <th>DAYOFSERVICE</th>\n",
       "      <th>TRIPID</th>\n",
       "      <th>PROGRNUMBER</th>\n",
       "      <th>STOPPOINTID</th>\n",
       "      <th>PLANNEDTIME_ARR</th>\n",
       "      <th>PLANNEDTIME_DEP</th>\n",
       "      <th>ACTUALTIME_ARR</th>\n",
       "      <th>ACTUALTIME_DEP</th>\n",
       "      <th>VEHICLEID</th>\n",
       "      <th>...</th>\n",
       "      <th>LASTUPDATE</th>\n",
       "      <th>date_and_time</th>\n",
       "      <th>delay_amount</th>\n",
       "      <th>planned_arr_hours</th>\n",
       "      <th>planned_arr_minutes</th>\n",
       "      <th>day_of_week</th>\n",
       "      <th>holiday</th>\n",
       "      <th>datetime_exact</th>\n",
       "      <th>DIRECTION</th>\n",
       "      <th>time_proportion</th>\n",
       "    </tr>\n",
       "  </thead>\n",
       "  <tbody>\n",
       "    <tr>\n",
       "      <th>0</th>\n",
       "      <td>DB</td>\n",
       "      <td>2018-01-01</td>\n",
       "      <td>5972116</td>\n",
       "      <td>12</td>\n",
       "      <td>119</td>\n",
       "      <td>48030</td>\n",
       "      <td>48030</td>\n",
       "      <td>48012</td>\n",
       "      <td>48012</td>\n",
       "      <td>2693211</td>\n",
       "      <td>...</td>\n",
       "      <td>2018-01-08 17:21:10</td>\n",
       "      <td>2018-01-01 13:00:00</td>\n",
       "      <td>-18</td>\n",
       "      <td>13</td>\n",
       "      <td>20</td>\n",
       "      <td>Monday</td>\n",
       "      <td>1</td>\n",
       "      <td>2018-01-01 13:20:30</td>\n",
       "      <td>1</td>\n",
       "      <td>0.000665</td>\n",
       "    </tr>\n",
       "    <tr>\n",
       "      <th>1</th>\n",
       "      <td>DB</td>\n",
       "      <td>2018-01-01</td>\n",
       "      <td>5966674</td>\n",
       "      <td>12</td>\n",
       "      <td>119</td>\n",
       "      <td>54001</td>\n",
       "      <td>54001</td>\n",
       "      <td>54023</td>\n",
       "      <td>54023</td>\n",
       "      <td>2693267</td>\n",
       "      <td>...</td>\n",
       "      <td>2018-01-08 17:21:10</td>\n",
       "      <td>2018-01-01 15:00:00</td>\n",
       "      <td>22</td>\n",
       "      <td>15</td>\n",
       "      <td>0</td>\n",
       "      <td>Monday</td>\n",
       "      <td>1</td>\n",
       "      <td>2018-01-01 15:00:01</td>\n",
       "      <td>1</td>\n",
       "      <td>0.000854</td>\n",
       "    </tr>\n",
       "    <tr>\n",
       "      <th>2</th>\n",
       "      <td>DB</td>\n",
       "      <td>2018-01-01</td>\n",
       "      <td>5959105</td>\n",
       "      <td>12</td>\n",
       "      <td>119</td>\n",
       "      <td>60001</td>\n",
       "      <td>60001</td>\n",
       "      <td>59955</td>\n",
       "      <td>59955</td>\n",
       "      <td>2693263</td>\n",
       "      <td>...</td>\n",
       "      <td>2018-01-08 17:21:10</td>\n",
       "      <td>2018-01-01 16:00:00</td>\n",
       "      <td>-46</td>\n",
       "      <td>16</td>\n",
       "      <td>40</td>\n",
       "      <td>Monday</td>\n",
       "      <td>1</td>\n",
       "      <td>2018-01-01 16:40:01</td>\n",
       "      <td>1</td>\n",
       "      <td>0.001045</td>\n",
       "    </tr>\n",
       "    <tr>\n",
       "      <th>3</th>\n",
       "      <td>DB</td>\n",
       "      <td>2018-01-01</td>\n",
       "      <td>5966888</td>\n",
       "      <td>12</td>\n",
       "      <td>119</td>\n",
       "      <td>58801</td>\n",
       "      <td>58801</td>\n",
       "      <td>58771</td>\n",
       "      <td>58771</td>\n",
       "      <td>2693284</td>\n",
       "      <td>...</td>\n",
       "      <td>2018-01-08 17:21:10</td>\n",
       "      <td>2018-01-01 16:00:00</td>\n",
       "      <td>-30</td>\n",
       "      <td>16</td>\n",
       "      <td>20</td>\n",
       "      <td>Monday</td>\n",
       "      <td>1</td>\n",
       "      <td>2018-01-01 16:20:01</td>\n",
       "      <td>1</td>\n",
       "      <td>0.001007</td>\n",
       "    </tr>\n",
       "    <tr>\n",
       "      <th>4</th>\n",
       "      <td>DB</td>\n",
       "      <td>2018-01-01</td>\n",
       "      <td>5965960</td>\n",
       "      <td>12</td>\n",
       "      <td>119</td>\n",
       "      <td>56401</td>\n",
       "      <td>56401</td>\n",
       "      <td>56309</td>\n",
       "      <td>56323</td>\n",
       "      <td>2693209</td>\n",
       "      <td>...</td>\n",
       "      <td>2018-01-08 17:21:10</td>\n",
       "      <td>2018-01-01 15:00:00</td>\n",
       "      <td>-92</td>\n",
       "      <td>15</td>\n",
       "      <td>40</td>\n",
       "      <td>Monday</td>\n",
       "      <td>1</td>\n",
       "      <td>2018-01-01 15:40:01</td>\n",
       "      <td>1</td>\n",
       "      <td>0.000931</td>\n",
       "    </tr>\n",
       "  </tbody>\n",
       "</table>\n",
       "<p>5 rows × 22 columns</p>\n",
       "</div>"
      ],
      "text/plain": [
       "  DATASOURCE DAYOFSERVICE   TRIPID  PROGRNUMBER STOPPOINTID  PLANNEDTIME_ARR  \\\n",
       "0         DB   2018-01-01  5972116           12         119            48030   \n",
       "1         DB   2018-01-01  5966674           12         119            54001   \n",
       "2         DB   2018-01-01  5959105           12         119            60001   \n",
       "3         DB   2018-01-01  5966888           12         119            58801   \n",
       "4         DB   2018-01-01  5965960           12         119            56401   \n",
       "\n",
       "   PLANNEDTIME_DEP  ACTUALTIME_ARR  ACTUALTIME_DEP VEHICLEID  ...  \\\n",
       "0            48030           48012           48012   2693211  ...   \n",
       "1            54001           54023           54023   2693267  ...   \n",
       "2            60001           59955           59955   2693263  ...   \n",
       "3            58801           58771           58771   2693284  ...   \n",
       "4            56401           56309           56323   2693209  ...   \n",
       "\n",
       "           LASTUPDATE       date_and_time delay_amount planned_arr_hours  \\\n",
       "0 2018-01-08 17:21:10 2018-01-01 13:00:00          -18                13   \n",
       "1 2018-01-08 17:21:10 2018-01-01 15:00:00           22                15   \n",
       "2 2018-01-08 17:21:10 2018-01-01 16:00:00          -46                16   \n",
       "3 2018-01-08 17:21:10 2018-01-01 16:00:00          -30                16   \n",
       "4 2018-01-08 17:21:10 2018-01-01 15:00:00          -92                15   \n",
       "\n",
       "   planned_arr_minutes  day_of_week  holiday      datetime_exact  DIRECTION  \\\n",
       "0                   20       Monday        1 2018-01-01 13:20:30          1   \n",
       "1                    0       Monday        1 2018-01-01 15:00:01          1   \n",
       "2                   40       Monday        1 2018-01-01 16:40:01          1   \n",
       "3                   20       Monday        1 2018-01-01 16:20:01          1   \n",
       "4                   40       Monday        1 2018-01-01 15:40:01          1   \n",
       "\n",
       "  time_proportion  \n",
       "0        0.000665  \n",
       "1        0.000854  \n",
       "2        0.001045  \n",
       "3        0.001007  \n",
       "4        0.000931  \n",
       "\n",
       "[5 rows x 22 columns]"
      ]
     },
     "execution_count": 95,
     "metadata": {},
     "output_type": "execute_result"
    }
   ],
   "source": [
    "stop_119_pd_df.head()"
   ]
  },
  {
   "cell_type": "code",
   "execution_count": 87,
   "metadata": {},
   "outputs": [
    {
     "data": {
      "text/plain": [
       "(104165, 21)"
      ]
     },
     "execution_count": 87,
     "metadata": {},
     "output_type": "execute_result"
    }
   ],
   "source": [
    "stop_119_pd_df.shape"
   ]
  },
  {
   "cell_type": "code",
   "execution_count": 102,
   "metadata": {},
   "outputs": [],
   "source": [
    "import numpy as np\n",
    "from sklearn.ensemble import RandomForestRegressor\n",
    "import pickle\n",
    "import joblib"
   ]
  },
  {
   "cell_type": "code",
   "execution_count": 91,
   "metadata": {},
   "outputs": [
    {
     "data": {
      "image/png": "[encoded data removed]",
      "text/plain": [
       "<Figure size 432x288 with 1 Axes>"
      ]
     },
     "metadata": {
      "needs_background": "light"
     },
     "output_type": "display_data"
    }
   ],
   "source": [
    "plt.hist(stop_119_pd_df[\"delay_amount\"], bins = 20)\n",
    "plt.title(\"histogram of delay times on stop 119\")\n",
    "plt.ylabel(\"count/frequency\")\n",
    "plt.xlabel(\"delay amount\")\n",
    "plt.show()"
   ]
  },
  {
   "cell_type": "code",
   "execution_count": 139,
   "metadata": {},
   "outputs": [],
   "source": [
    "# train test split with respect to time\n",
    "train_df = stop_119_pd_df[stop_119_pd_df[\"time_proportion\"] <= 0.7]\n",
    "test_df = stop_119_pd_df[stop_119_pd_df[\"time_proportion\"] > 0.7]"
   ]
  },
  {
   "cell_type": "code",
   "execution_count": 140,
   "metadata": {},
   "outputs": [],
   "source": [
    "# get the target and the training features\n",
    "train_target = train_df[\"delay_amount\"]\n",
    "test_target = test_df[\"delay_amount\"]\n",
    "training = train_df[[\"PROGRNUMBER\", \"planned_arr_hours\", \"planned_arr_minutes\", \"holiday\",  \"DIRECTION\"]]\n",
    "testing = test_df[[\"PROGRNUMBER\", \"planned_arr_hours\", \"planned_arr_minutes\", \"holiday\",  \"DIRECTION\"]]"
   ]
  },
  {
   "cell_type": "code",
   "execution_count": 141,
   "metadata": {},
   "outputs": [],
   "source": [
    "loaded_encoder = joblib.load(\"models/days_of_week_one_hot_encoder.sav\")"
   ]
  },
  {
   "cell_type": "code",
   "execution_count": 142,
   "metadata": {},
   "outputs": [],
   "source": [
    "# if we one hot encode the days of the week\n",
    "train_days = loaded_encoder.transform(train_df[\"day_of_week\"].values.reshape(-1,1))\n",
    "test_days = loaded_encoder.transform(test_df[\"day_of_week\"].values.reshape(-1,1))"
   ]
  },
  {
   "cell_type": "code",
   "execution_count": 143,
   "metadata": {},
   "outputs": [
    {
     "data": {
      "text/plain": [
       "RandomForestRegressor(max_depth=5, n_jobs=-1)"
      ]
     },
     "execution_count": 143,
     "metadata": {},
     "output_type": "execute_result"
    }
   ],
   "source": [
    "# training the model\n",
    "design_matrix_1 = np.concatenate((training.values, train_days.toarray()), axis = 1)\n",
    "test_matrix_1 = np.concatenate((testing.values, test_days.toarray()), axis = 1)\n",
    "\n",
    "# training the model\n",
    "stop_119_rf = RandomForestRegressor(n_estimators = 100,max_depth = 5, n_jobs = -1)\n",
    "stop_119_rf.fit(design_matrix_1, train_target)"
   ]
  },
  {
   "cell_type": "code",
   "execution_count": 144,
   "metadata": {},
   "outputs": [],
   "source": [
    "from sklearn.metrics import mean_absolute_error\n",
    "from sklearn.metrics import mean_squared_error"
   ]
  },
  {
   "cell_type": "code",
   "execution_count": 145,
   "metadata": {},
   "outputs": [
    {
     "name": "stdout",
     "output_type": "stream",
     "text": [
      "264.1720511470554\n"
     ]
    }
   ],
   "source": [
    "# testiung the model\n",
    "predicted_values =  stop_119_rf.predict(test_matrix_1)\n",
    "mae_error = mean_absolute_error(test_target, predicted_values)\n",
    "print(mae_error)"
   ]
  },
  {
   "cell_type": "code",
   "execution_count": 149,
   "metadata": {},
   "outputs": [
    {
     "data": {
      "image/png": "[encoded data removed]",
      "text/plain": [
       "<Figure size 432x288 with 1 Axes>"
      ]
     },
     "metadata": {
      "needs_background": "light"
     },
     "output_type": "display_data"
    }
   ],
   "source": [
    "plt.plot(test_df[\"datetime_exact\"], predicted_values)\n",
    "plt.show()"
   ]
  },
  {
   "cell_type": "code",
   "execution_count": 107,
   "metadata": {},
   "outputs": [
    {
     "name": "stdout",
     "output_type": "stream",
     "text": [
      "403.3817518595324\n"
     ]
    }
   ],
   "source": [
    "mse_error = mean_squared_error(test_target, predicted_values, squared = False)\n",
    "print(mse_error)"
   ]
  },
  {
   "cell_type": "code",
   "execution_count": 110,
   "metadata": {},
   "outputs": [
    {
     "data": {
      "text/plain": [
       "RandomForestRegressor(max_depth=5, n_jobs=-1)"
      ]
     },
     "execution_count": 110,
     "metadata": {},
     "output_type": "execute_result"
    }
   ],
   "source": [
    "# outliers for the target, 30 minutes is decent ourlier, any larger, its scary\n",
    "no_outlier_train = train_df[abs(train_df[\"delay_amount\"]) < 1800 ].reset_index(drop=True)\n",
    "\n",
    "# get the target and the training features\n",
    "train_target = no_outlier_train[\"delay_amount\"]\n",
    "test_target = test_df[\"delay_amount\"]\n",
    "training = no_outlier_train[[\"PROGRNUMBER\", \"planned_arr_hours\", \"planned_arr_minutes\", \"holiday\",  \"DIRECTION\"]]\n",
    "testing = test_df[[\"PROGRNUMBER\", \"planned_arr_hours\", \"planned_arr_minutes\", \"holiday\",  \"DIRECTION\"]]\n",
    "\n",
    "# if we one hot encode the days of the week\n",
    "train_days = loaded_encoder.transform(no_outlier_train[\"day_of_week\"].values.reshape(-1,1))\n",
    "test_days = loaded_encoder.transform(test_df[\"day_of_week\"].values.reshape(-1,1))\n",
    "\n",
    "# training the model\n",
    "design_matrix_1 = np.concatenate((training.values, train_days.toarray()), axis = 1)\n",
    "test_matrix_1 = np.concatenate((testing.values, test_days.toarray()), axis = 1)\n",
    "\n",
    "# training the model\n",
    "stop_119_rf_no_out = RandomForestRegressor(n_estimators = 100,max_depth = 5, n_jobs = -1)\n",
    "stop_119_rf_no_out.fit(design_matrix_1, train_target)"
   ]
  },
  {
   "cell_type": "code",
   "execution_count": 118,
   "metadata": {},
   "outputs": [
    {
     "name": "stdout",
     "output_type": "stream",
     "text": [
      "264.2399686485842\n"
     ]
    }
   ],
   "source": [
    "# testiung the model\n",
    "predicted_values =  stop_119_rf_no_out.predict(test_matrix_1)\n",
    "mae_error = mean_absolute_error(test_target, predicted_values)\n",
    "print(mae_error)"
   ]
  },
  {
   "cell_type": "code",
   "execution_count": 119,
   "metadata": {},
   "outputs": [
    {
     "data": {
      "image/png": "[encoded data removed]",
      "text/plain": [
       "<Figure size 432x288 with 1 Axes>"
      ]
     },
     "metadata": {
      "needs_background": "light"
     },
     "output_type": "display_data"
    }
   ],
   "source": [
    "plt.hist(train_target)\n",
    "plt.title(\"values for the delay time\")\n",
    "plt.show()"
   ]
  },
  {
   "cell_type": "code",
   "execution_count": 121,
   "metadata": {},
   "outputs": [
    {
     "data": {
      "image/png": "[encoded data removed]",
      "text/plain": [
       "<Figure size 432x288 with 1 Axes>"
      ]
     },
     "metadata": {
      "needs_background": "light"
     },
     "output_type": "display_data"
    }
   ],
   "source": [
    "plt.hist(predicted_values)\n",
    "plt.title(\"predicted values for the delay time\")\n",
    "plt.show()"
   ]
  },
  {
   "cell_type": "code",
   "execution_count": 129,
   "metadata": {},
   "outputs": [],
   "source": [
    "stop_35_df = big_df[big_df[\"STOPPOINTID\"] == 35]"
   ]
  },
  {
   "cell_type": "code",
   "execution_count": 130,
   "metadata": {},
   "outputs": [],
   "source": [
    "stop_35_pd_df = stop_35_df.compute()\n",
    "stop_35_pd_df = stop_35_pd_df.reset_index(drop = True)"
   ]
  },
  {
   "cell_type": "code",
   "execution_count": 132,
   "metadata": {},
   "outputs": [],
   "source": [
    "stop_35_pd_df = stop_35_pd_df.drop([\"PASSENGERS\", \"PASSENGERSIN\", \"PASSENGERSOUT\", \"DISTANCE\", \"NOTE\"], axis = 1)\n",
    "\n",
    "stop_35_pd_df[\"DAYOFSERVICE\"] = pd.to_datetime(stop_35_pd_df[\"DAYOFSERVICE\"])\n",
    "stop_35_pd_df[\"LASTUPDATE\"] = pd.to_datetime(stop_35_pd_df[\"LASTUPDATE\"])\n",
    "\n",
    "# categorical things\n",
    "stop_35_pd_df[\"TRIPID\"] = stop_35_pd_df[\"TRIPID\"].astype(\"category\")\n",
    "stop_35_pd_df[\"VEHICLEID\"] = stop_35_pd_df[\"VEHICLEID\"].astype(\"category\")\n",
    "stop_35_pd_df[\"SUPPRESSED\"] = stop_35_pd_df[\"SUPPRESSED\"].astype(\"category\")\n",
    "stop_35_pd_df[\"STOPPOINTID\"] = stop_35_pd_df[\"STOPPOINTID\"].astype(\"category\")\n",
    "\n",
    "# we need to merge the data for the route and the weather data\n",
    "#merge with respect to the time, and eazch hour\n",
    "# for example, 1:30 should be emrged with the data for 1:00 as weather\n",
    "# is on hourly basis\n",
    "\n",
    "# CREATE  a new feature in the routes that contains the hours so that we can \n",
    "# merge with the weather data\n",
    "route_time_planned = stop_35_pd_df[\"PLANNEDTIME_ARR\"]\n",
    "route_time_actual = stop_35_pd_df[\"ACTUALTIME_ARR\"]\n",
    "\n",
    "actual_time_hour = []\n",
    "expected_time_hour = []\n",
    "for i in range(len(route_time_actual)):\n",
    "    actual_time_hour.append(route_time_actual[i] // 3600)\n",
    "    expected_time_hour.append(route_time_planned[i] // 3600)\n",
    "\n",
    "actual_date = stop_35_pd_df[\"DAYOFSERVICE\"]\n",
    "\n",
    "# parse it into datetime with this  any hours\n",
    "date_time = []\n",
    "for i in range(len(actual_time_hour)):\n",
    "    new_datetime = actual_date[i] + timedelta(hours = int(actual_time_hour[i]))\n",
    "    date_time.append(new_datetime)\n",
    "    \n",
    "# add in the new column, \n",
    "# new column means that we can remove the other date column\n",
    "stop_35_pd_df[\"date_and_time\"] = date_time\n",
    "\n",
    "stop_35_pd_df[\"delay_amount\"] = stop_35_pd_df[\"ACTUALTIME_ARR\"] - stop_35_pd_df[\"PLANNEDTIME_ARR\"]\n",
    "\n",
    "#combined_df[\"planned_hour_arr\"]\n",
    "hours = stop_35_pd_df[\"PLANNEDTIME_ARR\"]//3600\n",
    "#combined_df[\"planned_minute_arr\"]\n",
    "\n",
    "minutes= (stop_35_pd_df[\"PLANNEDTIME_ARR\"]%3600) // 60\n",
    "\n",
    "stop_35_pd_df[\"planned_arr_hours\"] = hours\n",
    "stop_35_pd_df[\"planned_arr_minutes\"] = minutes\n",
    "# get the day of the week form the \n",
    "stop_35_pd_df[\"day_of_week\"] = stop_35_pd_df[\"DAYOFSERVICE\"].dt.day_name()\n",
    "\n",
    "stop_35_pd_df[\"holiday\"] = stop_35_pd_df.apply(holiday, axis = 1)\n",
    "\n",
    "stop_35_pd_df[ \"datetime_exact\"] = stop_35_pd_df[\"DAYOFSERVICE\"] + pd.Series(map(seconds_to_time, stop_35_pd_df[\"PLANNEDTIME_ARR\"]), name=\"time\")\n",
    "\n",
    "stop_35_pd_df = pd.merge(stop_35_pd_df ,trips_direction_df ) \n",
    "\n",
    "stop_35_pd_df = stop_35_pd_df.drop_duplicates([\"TRIPID\", \"DAYOFSERVICE\"]).reset_index(drop=True)\n",
    "\n",
    "stop_35_pd_df[\"time_proportion\"] = (stop_35_pd_df[\"datetime_exact\"] - min(stop_35_pd_df[\"datetime_exact\"]))/(max(stop_35_pd_df[\"datetime_exact\"])- min(stop_35_pd_df[\"datetime_exact\"]))\n",
    "\n",
    "\n",
    "\n",
    "\n"
   ]
  },
  {
   "cell_type": "code",
   "execution_count": 136,
   "metadata": {},
   "outputs": [
    {
     "data": {
      "text/plain": [
       "RandomForestRegressor(max_depth=5, n_jobs=-1)"
      ]
     },
     "execution_count": 136,
     "metadata": {},
     "output_type": "execute_result"
    }
   ],
   "source": [
    "# train test split with respect to time\n",
    "train35_df = stop_35_pd_df[stop_35_pd_df[\"time_proportion\"] <= 0.7]\n",
    "test35_df = stop_35_pd_df[stop_35_pd_df[\"time_proportion\"] > 0.7]\n",
    "\n",
    "# get the target and the training features\n",
    "# train_target = train35_df[\"delay_amount\"]\n",
    "# test_target = test_df[\"delay_amount\"]\n",
    "# training = train35_df[[\"PROGRNUMBER\", \"planned_arr_hours\", \"planned_arr_minutes\", \"holiday\",  \"DIRECTION\"]]\n",
    "# testing = test_df[[\"PROGRNUMBER\", \"planned_arr_hours\", \"planned_arr_minutes\", \"holiday\",  \"DIRECTION\"]]\n",
    "\n",
    "\n",
    "\n",
    "\n",
    "\n",
    "# outliers for the target, 30 minutes is decent ourlier, any larger, its scary\n",
    "no_outlier_train = train35_df[abs(train35_df[\"delay_amount\"]) < 1800 ].reset_index(drop=True)\n",
    "\n",
    "# get the target and the training features\n",
    "train_target = no_outlier_train[\"delay_amount\"]\n",
    "test_target = test35_df[\"delay_amount\"]\n",
    "training = no_outlier_train[[\"PROGRNUMBER\", \"planned_arr_hours\", \"planned_arr_minutes\", \"holiday\",  \"DIRECTION\"]]\n",
    "testing = test35_df[[\"PROGRNUMBER\", \"planned_arr_hours\", \"planned_arr_minutes\", \"holiday\",  \"DIRECTION\"]]\n",
    "\n",
    "# if we one hot encode the days of the week\n",
    "train_days = loaded_encoder.transform(no_outlier_train[\"day_of_week\"].values.reshape(-1,1))\n",
    "test_days = loaded_encoder.transform(test35_df[\"day_of_week\"].values.reshape(-1,1))\n",
    "\n",
    "# training the model\n",
    "design_matrix_1 = np.concatenate((training.values, train_days.toarray()), axis = 1)\n",
    "test_matrix_1 = np.concatenate((testing.values, test_days.toarray()), axis = 1)\n",
    "\n",
    "# training the model\n",
    "stop_35_rf_no_out = RandomForestRegressor(n_estimators = 100,max_depth = 5, n_jobs = -1)\n",
    "stop_35_rf_no_out.fit(design_matrix_1, train_target)\n",
    "\n",
    "\n",
    "\n",
    "\n",
    "\n",
    "\n",
    "\n",
    "\n"
   ]
  },
  {
   "cell_type": "code",
   "execution_count": 137,
   "metadata": {},
   "outputs": [
    {
     "name": "stdout",
     "output_type": "stream",
     "text": [
      "65.05788998971191\n"
     ]
    }
   ],
   "source": [
    "# testiung the model\n",
    "predicted_values =  stop_35_rf_no_out.predict(test_matrix_1)\n",
    "mae_error = mean_absolute_error(test_target, predicted_values)\n",
    "print(mae_error)"
   ]
  },
  {
   "cell_type": "code",
   "execution_count": 138,
   "metadata": {},
   "outputs": [
    {
     "data": {
      "text/plain": [
       "(12680, 22)"
      ]
     },
     "execution_count": 138,
     "metadata": {},
     "output_type": "execute_result"
    }
   ],
   "source": [
    "stop_35_pd_df.shape"
   ]
  },
  {
   "cell_type": "code",
   "execution_count": null,
   "metadata": {},
   "outputs": [],
   "source": []
  }
 ],
 "metadata": {
  "kernelspec": {
   "display_name": "Python 3",
   "language": "python",
   "name": "python3"
  },
  "language_info": {
   "codemirror_mode": {
    "name": "ipython",
    "version": 3
   },
   "file_extension": ".py",
   "mimetype": "text/x-python",
   "name": "python",
   "nbconvert_exporter": "python",
   "pygments_lexer": "ipython3",
   "version": "3.9.1"
  }
 },
 "nbformat": 4,
 "nbformat_minor": 4
}
